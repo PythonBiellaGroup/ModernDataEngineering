{
  "nbformat": 4,
  "nbformat_minor": 0,
  "metadata": {
    "colab": {
      "name": "Sanità Lombardia.ipynb",
      "provenance": [],
      "toc_visible": true
    },
    "kernelspec": {
      "name": "python3",
      "display_name": "Python 3"
    },
    "language_info": {
      "name": "python"
    },
    "widgets": {
      "application/vnd.jupyter.widget-state+json": {
        "32f1314317074379868598e2daa761fe": {
          "model_module": "@jupyter-widgets/controls",
          "model_name": "HBoxModel",
          "model_module_version": "1.5.0",
          "state": {
            "_view_name": "HBoxView",
            "_dom_classes": [],
            "_model_name": "HBoxModel",
            "_view_module": "@jupyter-widgets/controls",
            "_model_module_version": "1.5.0",
            "_view_count": null,
            "_view_module_version": "1.5.0",
            "box_style": "",
            "layout": "IPY_MODEL_a97e1993dcf34fb09a73bf18258a4578",
            "_model_module": "@jupyter-widgets/controls",
            "children": [
              "IPY_MODEL_f06fe94e27ff4e919757b450b2472164",
              "IPY_MODEL_a6ba1e78751e43c29e887985d0340acf",
              "IPY_MODEL_2c129e5e13a14286a992b35f42734055"
            ]
          }
        },
        "a97e1993dcf34fb09a73bf18258a4578": {
          "model_module": "@jupyter-widgets/base",
          "model_name": "LayoutModel",
          "model_module_version": "1.2.0",
          "state": {
            "_view_name": "LayoutView",
            "grid_template_rows": null,
            "right": null,
            "justify_content": null,
            "_view_module": "@jupyter-widgets/base",
            "overflow": null,
            "_model_module_version": "1.2.0",
            "_view_count": null,
            "flex_flow": null,
            "width": null,
            "min_width": null,
            "border": null,
            "align_items": null,
            "bottom": null,
            "_model_module": "@jupyter-widgets/base",
            "top": null,
            "grid_column": null,
            "overflow_y": null,
            "overflow_x": null,
            "grid_auto_flow": null,
            "grid_area": null,
            "grid_template_columns": null,
            "flex": null,
            "_model_name": "LayoutModel",
            "justify_items": null,
            "grid_row": null,
            "max_height": null,
            "align_content": null,
            "visibility": null,
            "align_self": null,
            "height": null,
            "min_height": null,
            "padding": null,
            "grid_auto_rows": null,
            "grid_gap": null,
            "max_width": null,
            "order": null,
            "_view_module_version": "1.2.0",
            "grid_template_areas": null,
            "object_position": null,
            "object_fit": null,
            "grid_auto_columns": null,
            "margin": null,
            "display": null,
            "left": null
          }
        },
        "f06fe94e27ff4e919757b450b2472164": {
          "model_module": "@jupyter-widgets/controls",
          "model_name": "HTMLModel",
          "model_module_version": "1.5.0",
          "state": {
            "_view_name": "HTMLView",
            "style": "IPY_MODEL_26bdf084dcb24cafb67f130c8b028840",
            "_dom_classes": [],
            "description": "",
            "_model_name": "HTMLModel",
            "placeholder": "​",
            "_view_module": "@jupyter-widgets/controls",
            "_model_module_version": "1.5.0",
            "value": "100%",
            "_view_count": null,
            "_view_module_version": "1.5.0",
            "description_tooltip": null,
            "_model_module": "@jupyter-widgets/controls",
            "layout": "IPY_MODEL_870e894c125f4541b5eb4aa8f006fc91"
          }
        },
        "a6ba1e78751e43c29e887985d0340acf": {
          "model_module": "@jupyter-widgets/controls",
          "model_name": "FloatProgressModel",
          "model_module_version": "1.5.0",
          "state": {
            "_view_name": "ProgressView",
            "style": "IPY_MODEL_6e003ffe8f0244b3ba8fe9660416ebef",
            "_dom_classes": [],
            "description": "",
            "_model_name": "FloatProgressModel",
            "bar_style": "success",
            "max": 17,
            "_view_module": "@jupyter-widgets/controls",
            "_model_module_version": "1.5.0",
            "value": 17,
            "_view_count": null,
            "_view_module_version": "1.5.0",
            "orientation": "horizontal",
            "min": 0,
            "description_tooltip": null,
            "_model_module": "@jupyter-widgets/controls",
            "layout": "IPY_MODEL_30160ddae9ca49faab8bb1db51d320a9"
          }
        },
        "2c129e5e13a14286a992b35f42734055": {
          "model_module": "@jupyter-widgets/controls",
          "model_name": "HTMLModel",
          "model_module_version": "1.5.0",
          "state": {
            "_view_name": "HTMLView",
            "style": "IPY_MODEL_f98e1d19b1b341e0b48fa5080dede714",
            "_dom_classes": [],
            "description": "",
            "_model_name": "HTMLModel",
            "placeholder": "​",
            "_view_module": "@jupyter-widgets/controls",
            "_model_module_version": "1.5.0",
            "value": " 17/17 [00:04&lt;00:00,  3.73it/s]",
            "_view_count": null,
            "_view_module_version": "1.5.0",
            "description_tooltip": null,
            "_model_module": "@jupyter-widgets/controls",
            "layout": "IPY_MODEL_0e3a663852f849caad1604e19f7e48be"
          }
        },
        "26bdf084dcb24cafb67f130c8b028840": {
          "model_module": "@jupyter-widgets/controls",
          "model_name": "DescriptionStyleModel",
          "model_module_version": "1.5.0",
          "state": {
            "_view_name": "StyleView",
            "_model_name": "DescriptionStyleModel",
            "description_width": "",
            "_view_module": "@jupyter-widgets/base",
            "_model_module_version": "1.5.0",
            "_view_count": null,
            "_view_module_version": "1.2.0",
            "_model_module": "@jupyter-widgets/controls"
          }
        },
        "870e894c125f4541b5eb4aa8f006fc91": {
          "model_module": "@jupyter-widgets/base",
          "model_name": "LayoutModel",
          "model_module_version": "1.2.0",
          "state": {
            "_view_name": "LayoutView",
            "grid_template_rows": null,
            "right": null,
            "justify_content": null,
            "_view_module": "@jupyter-widgets/base",
            "overflow": null,
            "_model_module_version": "1.2.0",
            "_view_count": null,
            "flex_flow": null,
            "width": null,
            "min_width": null,
            "border": null,
            "align_items": null,
            "bottom": null,
            "_model_module": "@jupyter-widgets/base",
            "top": null,
            "grid_column": null,
            "overflow_y": null,
            "overflow_x": null,
            "grid_auto_flow": null,
            "grid_area": null,
            "grid_template_columns": null,
            "flex": null,
            "_model_name": "LayoutModel",
            "justify_items": null,
            "grid_row": null,
            "max_height": null,
            "align_content": null,
            "visibility": null,
            "align_self": null,
            "height": null,
            "min_height": null,
            "padding": null,
            "grid_auto_rows": null,
            "grid_gap": null,
            "max_width": null,
            "order": null,
            "_view_module_version": "1.2.0",
            "grid_template_areas": null,
            "object_position": null,
            "object_fit": null,
            "grid_auto_columns": null,
            "margin": null,
            "display": null,
            "left": null
          }
        },
        "6e003ffe8f0244b3ba8fe9660416ebef": {
          "model_module": "@jupyter-widgets/controls",
          "model_name": "ProgressStyleModel",
          "model_module_version": "1.5.0",
          "state": {
            "_view_name": "StyleView",
            "_model_name": "ProgressStyleModel",
            "description_width": "",
            "_view_module": "@jupyter-widgets/base",
            "_model_module_version": "1.5.0",
            "_view_count": null,
            "_view_module_version": "1.2.0",
            "bar_color": null,
            "_model_module": "@jupyter-widgets/controls"
          }
        },
        "30160ddae9ca49faab8bb1db51d320a9": {
          "model_module": "@jupyter-widgets/base",
          "model_name": "LayoutModel",
          "model_module_version": "1.2.0",
          "state": {
            "_view_name": "LayoutView",
            "grid_template_rows": null,
            "right": null,
            "justify_content": null,
            "_view_module": "@jupyter-widgets/base",
            "overflow": null,
            "_model_module_version": "1.2.0",
            "_view_count": null,
            "flex_flow": null,
            "width": null,
            "min_width": null,
            "border": null,
            "align_items": null,
            "bottom": null,
            "_model_module": "@jupyter-widgets/base",
            "top": null,
            "grid_column": null,
            "overflow_y": null,
            "overflow_x": null,
            "grid_auto_flow": null,
            "grid_area": null,
            "grid_template_columns": null,
            "flex": null,
            "_model_name": "LayoutModel",
            "justify_items": null,
            "grid_row": null,
            "max_height": null,
            "align_content": null,
            "visibility": null,
            "align_self": null,
            "height": null,
            "min_height": null,
            "padding": null,
            "grid_auto_rows": null,
            "grid_gap": null,
            "max_width": null,
            "order": null,
            "_view_module_version": "1.2.0",
            "grid_template_areas": null,
            "object_position": null,
            "object_fit": null,
            "grid_auto_columns": null,
            "margin": null,
            "display": null,
            "left": null
          }
        },
        "f98e1d19b1b341e0b48fa5080dede714": {
          "model_module": "@jupyter-widgets/controls",
          "model_name": "DescriptionStyleModel",
          "model_module_version": "1.5.0",
          "state": {
            "_view_name": "StyleView",
            "_model_name": "DescriptionStyleModel",
            "description_width": "",
            "_view_module": "@jupyter-widgets/base",
            "_model_module_version": "1.5.0",
            "_view_count": null,
            "_view_module_version": "1.2.0",
            "_model_module": "@jupyter-widgets/controls"
          }
        },
        "0e3a663852f849caad1604e19f7e48be": {
          "model_module": "@jupyter-widgets/base",
          "model_name": "LayoutModel",
          "model_module_version": "1.2.0",
          "state": {
            "_view_name": "LayoutView",
            "grid_template_rows": null,
            "right": null,
            "justify_content": null,
            "_view_module": "@jupyter-widgets/base",
            "overflow": null,
            "_model_module_version": "1.2.0",
            "_view_count": null,
            "flex_flow": null,
            "width": null,
            "min_width": null,
            "border": null,
            "align_items": null,
            "bottom": null,
            "_model_module": "@jupyter-widgets/base",
            "top": null,
            "grid_column": null,
            "overflow_y": null,
            "overflow_x": null,
            "grid_auto_flow": null,
            "grid_area": null,
            "grid_template_columns": null,
            "flex": null,
            "_model_name": "LayoutModel",
            "justify_items": null,
            "grid_row": null,
            "max_height": null,
            "align_content": null,
            "visibility": null,
            "align_self": null,
            "height": null,
            "min_height": null,
            "padding": null,
            "grid_auto_rows": null,
            "grid_gap": null,
            "max_width": null,
            "order": null,
            "_view_module_version": "1.2.0",
            "grid_template_areas": null,
            "object_position": null,
            "object_fit": null,
            "grid_auto_columns": null,
            "margin": null,
            "display": null,
            "left": null
          }
        }
      }
    }
  },
  "cells": [
    {
      "cell_type": "markdown",
      "metadata": {
        "id": "WEPbTLbK4srs"
      },
      "source": [
        "Dataset\n",
        "\n",
        "https://www.dati.lombardia.it/Sanit-/Dataset-SDO-Regione-Lombardia/jv9t-c6q6\n",
        "\n",
        "https://www.dati.lombardia.it/Sanit-/Dataset-condizioni-di-salute-per-provincia-e-gener/92eu-vwkf\n",
        "\n",
        "https://www.dati.lombardia.it/Sanit-/Georeferenziazione-strutture/6n7g-5p5e\n",
        "\n",
        "https://www.dati.lombardia.it/Sanit-/Dataset-Assistenza-Ospedaliera-per-ACC-e-ATS/3rtw-8p48\n",
        "\n",
        "https://www.dati.lombardia.it/Sanit-/dati-ospedali/avsh-7tmk"
      ]
    },
    {
      "cell_type": "markdown",
      "metadata": {
        "id": "seCXIwPh5J0d"
      },
      "source": [
        "##Configurazione"
      ]
    },
    {
      "cell_type": "code",
      "metadata": {
        "id": "neUcQwbf40Z5"
      },
      "source": [
        "!pip install sodapy -U -q\n",
        "!pip install azure-storage-blob -U -q\n",
        "!pip install selenium\n",
        "!apt-get update\n",
        "!pip install SQLAlchemy\n",
        "!pip install pyodbc\n",
        "!apt install chromium-chromedriver\n",
        "!cp /usr/lib/chromium-browser/chromedriver /usr/bin"
      ],
      "execution_count": null,
      "outputs": []
    },
    {
      "cell_type": "code",
      "metadata": {
        "id": "I6JaAbGomBwg"
      },
      "source": [
        "%%sh\n",
        "curl https://packages.microsoft.com/keys/microsoft.asc | apt-key add -\n",
        "curl https://packages.microsoft.com/config/ubuntu/16.04/prod.list > /etc/apt/sources.list.d/mssql-release.list\n",
        "sudo apt-get update\n",
        "sudo ACCEPT_EULA=Y apt-get -q -y install msodbcsql17"
      ],
      "execution_count": null,
      "outputs": []
    },
    {
      "cell_type": "code",
      "metadata": {
        "id": "tyf8sndG5Wqt",
        "colab": {
          "base_uri": "https://localhost:8080/"
        },
        "outputId": "0b09a9b6-c652-41d2-b411-28b43a53d4df"
      },
      "source": [
        "import requests\n",
        "import numpy as np\n",
        "import os\n",
        "import sys\n",
        "from tqdm import tqdm_notebook as tqdm\n",
        "import datetime as dt\n",
        "import warnings\n",
        "import json\n",
        "import urllib\n",
        "import pandas as pd\n",
        "import urllib.parse\n",
        "from sqlalchemy import create_engine\n",
        "import matplotlib.pyplot as plt\n",
        "import matplotlib.image as mpimg\n",
        "sys.path.insert(0,'/usr/lib/chromium-browser/chromedriver')\n",
        "from selenium import webdriver\n",
        "from selenium.webdriver.common.by import By\n",
        "from selenium.webdriver.support.ui import WebDriverWait\n",
        "from selenium.webdriver.support import expected_conditions as EC\n",
        "import time\n",
        "from azure.storage.blob import BlobServiceClient\n",
        "from sodapy import Socrata\n",
        "warnings.filterwarnings(\"ignore\")"
      ],
      "execution_count": null,
      "outputs": [
        {
          "output_type": "stream",
          "name": "stderr",
          "text": [
            "/usr/local/lib/python3.7/dist-packages/requests/__init__.py:91: RequestsDependencyWarning: urllib3 (1.26.7) or chardet (3.0.4) doesn't match a supported version!\n",
            "  RequestsDependencyWarning)\n"
          ]
        }
      ]
    },
    {
      "cell_type": "code",
      "metadata": {
        "id": "hIYo3YPC9xy-"
      },
      "source": [
        "# getting automatic reloading and inline plotting for the entire notebook\n",
        "%reload_ext autoreload\n",
        "%autoreload 2\n",
        "%matplotlib inline\n",
        "%load_ext google.colab.data_table"
      ],
      "execution_count": null,
      "outputs": []
    },
    {
      "cell_type": "markdown",
      "metadata": {
        "id": "nvV-Uhov96Tk"
      },
      "source": [
        "## Dataset SDO Regione Lombardia - Source: Azure Blob Storage"
      ]
    },
    {
      "cell_type": "code",
      "metadata": {
        "id": "r3FA9ctE-BzH"
      },
      "source": [
        "# Create a local directory to hold blob data\n",
        "current_dir = os.getcwd()\n",
        "os.mkdir(local_path)\n",
        "local_path = os.path.join(current_dir,'SDO_regione_lombardia')\n",
        "os.mkdir(local_path)"
      ],
      "execution_count": null,
      "outputs": []
    },
    {
      "cell_type": "code",
      "metadata": {
        "id": "oqDC1Uv8AvEn"
      },
      "source": [
        "connect_str = 'DefaultEndpointsProtocol=https;AccountName=storagesanita;AccountKey=m+PjppnyYxioaXrB/j9FCiaRezITnlBlwKlzQA1MnAaOgejnCT/aPjIbrFbNRDu7cycT84br51Y1iIaLPfLFyg==;EndpointSuffix=core.windows.net'"
      ],
      "execution_count": null,
      "outputs": []
    },
    {
      "cell_type": "code",
      "metadata": {
        "id": "5OJgV_Qz_S7M"
      },
      "source": [
        "def download_file_from_Azure(local_path,conn_str):\n",
        "\n",
        "  # Create the BlobServiceClient object which will be used to create a container client\n",
        "  blob_service_client = BlobServiceClient.from_connection_string(connect_str)\n",
        "  \n",
        "  # Create a blob client using the local file name as the name for the blob\n",
        "  blob_client = blob_service_client.get_blob_client(container='storage-sanita-lombardia',blob='Dataset_SDO_Regione_Lombardia.csv')\n",
        "\n",
        "  try:\n",
        "      download_file_path = os.path.join(local_path,'dowload.csv')\n",
        "      print(\"\\nDownloading blob to \\n\\t\" + download_file_path)\n",
        "      with open(download_file_path, \"wb\") as download_file:\n",
        "        download_file.write(blob_client.download_blob().readall())\n",
        "  except Exception as e:\n",
        "      print(e)"
      ],
      "execution_count": null,
      "outputs": []
    },
    {
      "cell_type": "code",
      "metadata": {
        "id": "jo6yioKa-boH"
      },
      "source": [
        "download_file_from_Azure(local_path,conn_str)"
      ],
      "execution_count": null,
      "outputs": []
    },
    {
      "cell_type": "markdown",
      "metadata": {
        "id": "PDt6G5Pj-HSX"
      },
      "source": [
        "## Georeferenziazione strutture - HTTP Open data request"
      ]
    },
    {
      "cell_type": "code",
      "metadata": {
        "id": "6pWzRgJX6W2m",
        "colab": {
          "base_uri": "https://localhost:8080/"
        },
        "outputId": "1a415522-6899-47ad-a753-5c8ea09cff50"
      },
      "source": [
        "url = 'https://www.dati.lombardia.it/resource/6n7g-5p5e.json'\n",
        "response = requests.get(url)\n",
        "response.status_code"
      ],
      "execution_count": null,
      "outputs": [
        {
          "output_type": "execute_result",
          "data": {
            "text/plain": [
              "200"
            ]
          },
          "metadata": {},
          "execution_count": 22
        }
      ]
    },
    {
      "cell_type": "code",
      "metadata": {
        "colab": {
          "base_uri": "https://localhost:8080/",
          "height": 450
        },
        "id": "-j5_KzTQptPA",
        "outputId": "8a47c98e-601d-429b-aecf-8c9f6e701e27"
      },
      "source": [
        "df = pd.DataFrame(json.loads(response.content))\n",
        "df.head()"
      ],
      "execution_count": null,
      "outputs": [
        {
          "output_type": "execute_result",
          "data": {
            "application/vnd.google.colaboratory.module+javascript": "\n      import \"https://ssl.gstatic.com/colaboratory/data_table/a6224c040fa35dcf/data_table.js\";\n\n      window.createDataTable({\n        data: [[{\n            'v': 0,\n            'f': \"0\",\n        },\n\"OSPEDALE UBOLDO - CERNUSCO S/NAVIGLIO\",\n\"321 - ATS DELLA CITTA' METROPOLITANA DI MILANO\",\n\"030085-00\",\n\"VIA UBOLDO 21\",\n\"20063\",\n\"CERNUSCO SUL NAVIGLIO\",\n\"45.52331438\",\n\"9.328467624\",\n\"{'latitude': '45.52331438', 'longitude': '9.328467624'}\",\n\"4\",\n\"4\",\n\"8\"],\n [{\n            'v': 1,\n            'f': \"1\",\n        },\n\"CASA DI CURA BEATO L.TALAMONI-LECCO\",\n\"324 - ATS DELLA BRIANZA\",\n\"030033-00\",\n\"VIA SAN NICOLO' 12\",\n\"23900\",\n\"LECCO\",\n\"45.85685986\",\n\"9.390429409\",\n\"{'latitude': '45.85685986', 'longitude': '9.390429409'}\",\n\"10\",\n\"10\",\n\"5\"],\n [{\n            'v': 2,\n            'f': \"2\",\n        },\n\"OSPEDALE M. MELLONI - MILANO\",\n\"321 - ATS DELLA CITTA' METROPOLITANA DI MILANO\",\n\"030057-00\",\n\"VIA MACEDONIO MELLONI 52\",\n\"20129\",\n\"MILANO\",\n\"45.4666791\",\n\"9.219506903\",\n\"{'latitude': '45.4666791', 'longitude': '9.219506903'}\",\n\"4\",\n\"4\",\n\"8\"],\n [{\n            'v': 3,\n            'f': \"3\",\n        },\n\"CASA DI CURA SANTA MARIA - CASTELLANZA\",\n\"322 - ATS DELL'INSUBRIA\",\n\"030015-00\",\n\"VIALE PIEMONTE, 70\",\n\"21053\",\n\"CASTELLANZA\",\n\"45.5994841\",\n\"8.87237785\",\n\"{'latitude': '45.5994841', 'longitude': '8.87237785'}\",\n\"1\",\n\"1\",\n\"3\"],\n [{\n            'v': 4,\n            'f': \"4\",\n        },\n\"OSPEDALE MORELLI - SONDALO\",\n\"323 - ATS DELLA MONTAGNA\",\n\"030904-00\",\n\"VIA ZUBIANI 33\",\n\"23039\",\n\"SONDALO\",\n\"46.33431031\",\n\"10.32968894\",\n\"{'latitude': '46.33431031', 'longitude': '10.32968894'}\",\n\"3\",\n\"3\",\n\"7\"]],\n        columns: [[\"number\", \"index\"], [\"string\", \"descrizione_struttura_di\"], [\"string\", \"ats_struttura\"], [\"string\", \"codice_struttura_di_ricovero\"], [\"string\", \"indirizzo\"], [\"string\", \"cap\"], [\"string\", \"localita\"], [\"string\", \"coordinata_geografica_x\"], [\"string\", \"coordinata_geografica_y\"], [\"string\", \"geocoded_column\"], [\"string\", \":@computed_region_ttgh_9sm5\"], [\"string\", \":@computed_region_6hky_swhk\"], [\"string\", \":@computed_region_uypf_y6ry\"]],\n        columnOptions: [{\"width\": \"1px\", \"className\": \"index_column\"}],\n        rowsPerPage: 25,\n        helpUrl: \"https://colab.research.google.com/notebooks/data_table.ipynb\",\n        suppressOutputScrolling: true,\n        minimumWidth: undefined,\n      });\n    ",
            "text/html": [
              "<div>\n",
              "<style scoped>\n",
              "    .dataframe tbody tr th:only-of-type {\n",
              "        vertical-align: middle;\n",
              "    }\n",
              "\n",
              "    .dataframe tbody tr th {\n",
              "        vertical-align: top;\n",
              "    }\n",
              "\n",
              "    .dataframe thead th {\n",
              "        text-align: right;\n",
              "    }\n",
              "</style>\n",
              "<table border=\"1\" class=\"dataframe\">\n",
              "  <thead>\n",
              "    <tr style=\"text-align: right;\">\n",
              "      <th></th>\n",
              "      <th>descrizione_struttura_di</th>\n",
              "      <th>ats_struttura</th>\n",
              "      <th>codice_struttura_di_ricovero</th>\n",
              "      <th>indirizzo</th>\n",
              "      <th>cap</th>\n",
              "      <th>localita</th>\n",
              "      <th>coordinata_geografica_x</th>\n",
              "      <th>coordinata_geografica_y</th>\n",
              "      <th>geocoded_column</th>\n",
              "      <th>:@computed_region_ttgh_9sm5</th>\n",
              "      <th>:@computed_region_6hky_swhk</th>\n",
              "      <th>:@computed_region_uypf_y6ry</th>\n",
              "    </tr>\n",
              "  </thead>\n",
              "  <tbody>\n",
              "    <tr>\n",
              "      <th>0</th>\n",
              "      <td>OSPEDALE UBOLDO - CERNUSCO S/NAVIGLIO</td>\n",
              "      <td>321 - ATS DELLA CITTA' METROPOLITANA DI MILANO</td>\n",
              "      <td>030085-00</td>\n",
              "      <td>VIA UBOLDO 21</td>\n",
              "      <td>20063</td>\n",
              "      <td>CERNUSCO SUL NAVIGLIO</td>\n",
              "      <td>45.52331438</td>\n",
              "      <td>9.328467624</td>\n",
              "      <td>{'latitude': '45.52331438', 'longitude': '9.32...</td>\n",
              "      <td>4</td>\n",
              "      <td>4</td>\n",
              "      <td>8</td>\n",
              "    </tr>\n",
              "    <tr>\n",
              "      <th>1</th>\n",
              "      <td>CASA DI CURA BEATO L.TALAMONI-LECCO</td>\n",
              "      <td>324 - ATS DELLA BRIANZA</td>\n",
              "      <td>030033-00</td>\n",
              "      <td>VIA SAN NICOLO' 12</td>\n",
              "      <td>23900</td>\n",
              "      <td>LECCO</td>\n",
              "      <td>45.85685986</td>\n",
              "      <td>9.390429409</td>\n",
              "      <td>{'latitude': '45.85685986', 'longitude': '9.39...</td>\n",
              "      <td>10</td>\n",
              "      <td>10</td>\n",
              "      <td>5</td>\n",
              "    </tr>\n",
              "    <tr>\n",
              "      <th>2</th>\n",
              "      <td>OSPEDALE M. MELLONI - MILANO</td>\n",
              "      <td>321 - ATS DELLA CITTA' METROPOLITANA DI MILANO</td>\n",
              "      <td>030057-00</td>\n",
              "      <td>VIA MACEDONIO MELLONI 52</td>\n",
              "      <td>20129</td>\n",
              "      <td>MILANO</td>\n",
              "      <td>45.4666791</td>\n",
              "      <td>9.219506903</td>\n",
              "      <td>{'latitude': '45.4666791', 'longitude': '9.219...</td>\n",
              "      <td>4</td>\n",
              "      <td>4</td>\n",
              "      <td>8</td>\n",
              "    </tr>\n",
              "    <tr>\n",
              "      <th>3</th>\n",
              "      <td>CASA DI CURA SANTA MARIA - CASTELLANZA</td>\n",
              "      <td>322 - ATS DELL'INSUBRIA</td>\n",
              "      <td>030015-00</td>\n",
              "      <td>VIALE PIEMONTE, 70</td>\n",
              "      <td>21053</td>\n",
              "      <td>CASTELLANZA</td>\n",
              "      <td>45.5994841</td>\n",
              "      <td>8.87237785</td>\n",
              "      <td>{'latitude': '45.5994841', 'longitude': '8.872...</td>\n",
              "      <td>1</td>\n",
              "      <td>1</td>\n",
              "      <td>3</td>\n",
              "    </tr>\n",
              "    <tr>\n",
              "      <th>4</th>\n",
              "      <td>OSPEDALE MORELLI - SONDALO</td>\n",
              "      <td>323 - ATS DELLA MONTAGNA</td>\n",
              "      <td>030904-00</td>\n",
              "      <td>VIA ZUBIANI 33</td>\n",
              "      <td>23039</td>\n",
              "      <td>SONDALO</td>\n",
              "      <td>46.33431031</td>\n",
              "      <td>10.32968894</td>\n",
              "      <td>{'latitude': '46.33431031', 'longitude': '10.3...</td>\n",
              "      <td>3</td>\n",
              "      <td>3</td>\n",
              "      <td>7</td>\n",
              "    </tr>\n",
              "  </tbody>\n",
              "</table>\n",
              "</div>"
            ],
            "text/plain": [
              "                 descrizione_struttura_di  ... :@computed_region_uypf_y6ry\n",
              "0   OSPEDALE UBOLDO - CERNUSCO S/NAVIGLIO  ...                           8\n",
              "1     CASA DI CURA BEATO L.TALAMONI-LECCO  ...                           5\n",
              "2            OSPEDALE M. MELLONI - MILANO  ...                           8\n",
              "3  CASA DI CURA SANTA MARIA - CASTELLANZA  ...                           3\n",
              "4              OSPEDALE MORELLI - SONDALO  ...                           7\n",
              "\n",
              "[5 rows x 12 columns]"
            ]
          },
          "metadata": {},
          "execution_count": 23
        }
      ]
    },
    {
      "cell_type": "markdown",
      "metadata": {
        "id": "_U2S55v5TTy7"
      },
      "source": [
        "## Dataset condizioni di salute per provincia -Web Scraping with Selenium"
      ]
    },
    {
      "cell_type": "code",
      "metadata": {
        "id": "lp0LCAsVlMPQ"
      },
      "source": [
        "chrome_options = webdriver.ChromeOptions()\n",
        "chrome_options.add_argument('--headless')\n",
        "chrome_options.add_argument('--no-sandbox')\n",
        "chrome_options.add_argument('--disable-dev-shm-usage')"
      ],
      "execution_count": null,
      "outputs": []
    },
    {
      "cell_type": "code",
      "metadata": {
        "id": "9xRhhUk6lMSO"
      },
      "source": [
        "linkweb = 'https://www.dati.lombardia.it/Sanit-/Dataset-condizioni-di-salute-per-provincia-e-gener/92eu-vwkf'\n",
        "scrWidth = 1920\n",
        "scrHeight = 1080\n",
        "delay = 10"
      ],
      "execution_count": null,
      "outputs": []
    },
    {
      "cell_type": "code",
      "metadata": {
        "id": "4_gpmcUwlMU3"
      },
      "source": [
        "def webpage_shot():\n",
        "    wd.save_screenshot('screenshot.png')\n",
        "    %pylab inline\n",
        "    img=mpimg.imread('/content/screenshot.png')\n",
        "    imgplot = plt.imshow(img)\n",
        "    print(wd.title)\n",
        "    return plt.show()"
      ],
      "execution_count": null,
      "outputs": []
    },
    {
      "cell_type": "code",
      "metadata": {
        "id": "ML-Hs9MJlMXa"
      },
      "source": [
        "wd = webdriver.Chrome('chromedriver',chrome_options=chrome_options)\n",
        "wd.set_window_size(scrWidth, scrHeight)\n",
        "wd.get(linkweb)"
      ],
      "execution_count": null,
      "outputs": []
    },
    {
      "cell_type": "code",
      "metadata": {
        "colab": {
          "base_uri": "https://localhost:8080/",
          "height": 274
        },
        "id": "L1a77A0ZlMZ1",
        "outputId": "807366dd-35f5-4ec8-8863-8c7b7644cfb2"
      },
      "source": [
        "webpage_shot()"
      ],
      "execution_count": null,
      "outputs": [
        {
          "output_type": "stream",
          "name": "stdout",
          "text": [
            "Populating the interactive namespace from numpy and matplotlib\n",
            "Dataset condizioni di salute per provincia e genere | Open Data Regione Lombardia\n"
          ]
        },
        {
          "output_type": "display_data",
          "data": {
            "image/png": "[encoded data removed]",
            "text/plain": [
              "<Figure size 432x288 with 1 Axes>"
            ]
          },
          "metadata": {
            "needs_background": "light"
          }
        }
      ]
    },
    {
      "cell_type": "code",
      "metadata": {
        "id": "p4-m4NVMlMcW"
      },
      "source": [
        "def extract_table_values(row):\n",
        "  anno = \"\"\n",
        "  provincia = \"\"\n",
        "  genere = \"\"\n",
        "  coordinata_x = \"\"\n",
        "  coordinata_y = \"\"\n",
        "  speranza_vita_nascita = \"\"\n",
        "  tasso_mortalita = \"\"\n",
        "  tasso_mortalita_infantile = \"\"\n",
        "  posizione = \"\"\n",
        "  tms_loading = dt.datetime.now()\n",
        "\n",
        "  elm = row.split(\"\\n\")\n",
        "\n",
        "  try:\n",
        "    anno = elm[0]\n",
        "    provincia = elm[1]\n",
        "    genere = elm[2]\n",
        "    coordinata_x = elm[3]\n",
        "    coordinata_y = elm[4]\n",
        "    speranza_vita_nascita = elm[5]\n",
        "    tasso_mortalita = elm[6]\n",
        "    tasso_mortalita_infantile = elm[7]\n",
        "    posizione = elm[8]        \n",
        "  except:\n",
        "    pass\n",
        "  return {'tms_loading': tms_loading,\n",
        "          'anno': anno,\n",
        "          'provincia': provincia,\n",
        "          'genere': genere,\n",
        "          'coordinata_x': coordinata_x,\n",
        "          'coordinata_y': coordinata_y,\n",
        "          'speranza_vita_nascita': speranza_vita_nascita,\n",
        "          'tasso_mortalita': tasso_mortalita,\n",
        "          'tasso_mortalita_infantile': tasso_mortalita_infantile,\n",
        "          'posizione':posizione\n",
        "          }"
      ],
      "execution_count": null,
      "outputs": []
    },
    {
      "cell_type": "code",
      "metadata": {
        "colab": {
          "base_uri": "https://localhost:8080/"
        },
        "id": "jyhJ1SXulMes",
        "outputId": "44918f2f-ec52-4d93-d840-a5601d11a13b"
      },
      "source": [
        "rows_to_scrape = wd.find_element_by_css_selector('div > div > dl > div:nth-child(1) > dd')\n",
        "num_rows = int(rows_to_scrape.text)\n",
        "print('Total rows to scrape: ' + str(num_rows)) "
      ],
      "execution_count": null,
      "outputs": [
        {
          "output_type": "stream",
          "name": "stdout",
          "text": [
            "Total rows to scrape: 210\n"
          ]
        }
      ]
    },
    {
      "cell_type": "code",
      "metadata": {
        "colab": {
          "base_uri": "https://localhost:8080/",
          "height": 49,
          "referenced_widgets": [
            "32f1314317074379868598e2daa761fe",
            "a97e1993dcf34fb09a73bf18258a4578",
            "f06fe94e27ff4e919757b450b2472164",
            "a6ba1e78751e43c29e887985d0340acf",
            "2c129e5e13a14286a992b35f42734055",
            "26bdf084dcb24cafb67f130c8b028840",
            "870e894c125f4541b5eb4aa8f006fc91",
            "6e003ffe8f0244b3ba8fe9660416ebef",
            "30160ddae9ca49faab8bb1db51d320a9",
            "f98e1d19b1b341e0b48fa5080dede714",
            "0e3a663852f849caad1604e19f7e48be"
          ]
        },
        "id": "xdujoB7FltJt",
        "outputId": "39e58a71-f5ee-4dcc-d32e-4a65daaa3213"
      },
      "source": [
        "dataset_condizioni_salute_prov = []\n",
        "\n",
        "num_pages = math.ceil(num_rows/13)\n",
        "\n",
        "for num in tqdm(range(1,num_pages + 1)):\n",
        "  table_socr = wd.find_element_by_css_selector(\"div.socrata-visualization-chart-container > div > table > tbody\")\n",
        "  t_cond_salute = table_socr.find_elements_by_tag_name(\"tr\")\n",
        "  for s in t_cond_salute:\n",
        "    dataset_condizioni_salute_prov.append(extract_table_values(s.text))\n",
        "  WebDriverWait(wd, delay).until(EC.element_to_be_clickable((By.CLASS_NAME, \"pager-button-next\")))"
      ],
      "execution_count": null,
      "outputs": [
        {
          "output_type": "display_data",
          "data": {
            "application/vnd.jupyter.widget-view+json": {
              "model_id": "32f1314317074379868598e2daa761fe",
              "version_minor": 0,
              "version_major": 2
            },
            "text/plain": [
              "  0%|          | 0/17 [00:00<?, ?it/s]"
            ]
          },
          "metadata": {}
        }
      ]
    },
    {
      "cell_type": "code",
      "metadata": {
        "colab": {
          "base_uri": "https://localhost:8080/",
          "height": 290
        },
        "id": "fZdZPaIBlu4d",
        "outputId": "cfc51f83-f542-427c-8604-f2e5025c063f"
      },
      "source": [
        "df_condizioni_salute_prov = pd.DataFrame(dataset_condizioni_salute_prov)\n",
        "df_condizioni_salute_prov.head()"
      ],
      "execution_count": null,
      "outputs": [
        {
          "output_type": "execute_result",
          "data": {
            "application/vnd.google.colaboratory.module+javascript": "\n      import \"https://ssl.gstatic.com/colaboratory/data_table/a6224c040fa35dcf/data_table.js\";\n\n      window.createDataTable({\n        data: [[{\n            'v': 0,\n            'f': \"0\",\n        },\n\"2021-11-07 22:57:05.587387\",\n\"2012\",\n\"BERGAMO\",\n\"F\",\n\"9,63853045\",\n\"45,68012929\",\n\"84,5\",\n\"8,381804761882657\",\n\"3,73\",\n\"(45.68012929\\u00b0, 9.63853045\\u00b0)\"],\n [{\n            'v': 1,\n            'f': \"1\",\n        },\n\"2021-11-07 22:57:05.610041\",\n\"2012\",\n\"BRESCIA\",\n\"F\",\n\"10,18167955\",\n\"45,51939749\",\n\"85\",\n\"8,654399715669228\",\n\"4,1\",\n\"(45.51939749\\u00b0, 10.18167955\\u00b0)\"],\n [{\n            'v': 2,\n            'f': \"2\",\n        },\n\"2021-11-07 22:57:05.633095\",\n\"2012\",\n\"COMO\",\n\"F\",\n\"9,039360974\",\n\"45,80216962\",\n\"85,7\",\n\"9,290944196983311\",\n\"3,85\",\n\"(45.80216962\\u00b0, 9.039360974\\u00b0)\"],\n [{\n            'v': 3,\n            'f': \"3\",\n        },\n\"2021-11-07 22:57:05.655742\",\n\"2012\",\n\"CREMONA\",\n\"F\",\n\"10,0131151\",\n\"45,13644491\",\n\"84\",\n\"10,691872186630041\",\n\"1,84\",\n\"(45.13644491\\u00b0, 10.0131151\\u00b0)\"],\n [{\n            'v': 4,\n            'f': \"4\",\n        },\n\"2021-11-07 22:57:05.678526\",\n\"2012\",\n\"ITALIA\",\n\"F\",\n\"84,4\",\n\"10,24902789486484\",\n\"3,15\",\n\"\",\n\"\",\n\"\"]],\n        columns: [[\"number\", \"index\"], [\"string\", \"tms_loading\"], [\"string\", \"anno\"], [\"string\", \"provincia\"], [\"string\", \"genere\"], [\"string\", \"coordinata_x\"], [\"string\", \"coordinata_y\"], [\"string\", \"speranza_vita_nascita\"], [\"string\", \"tasso_mortalita\"], [\"string\", \"tasso_mortalita_infantile\"], [\"string\", \"posizione\"]],\n        columnOptions: [{\"width\": \"1px\", \"className\": \"index_column\"}],\n        rowsPerPage: 25,\n        helpUrl: \"https://colab.research.google.com/notebooks/data_table.ipynb\",\n        suppressOutputScrolling: true,\n        minimumWidth: undefined,\n      });\n    ",
            "text/html": [
              "<div>\n",
              "<style scoped>\n",
              "    .dataframe tbody tr th:only-of-type {\n",
              "        vertical-align: middle;\n",
              "    }\n",
              "\n",
              "    .dataframe tbody tr th {\n",
              "        vertical-align: top;\n",
              "    }\n",
              "\n",
              "    .dataframe thead th {\n",
              "        text-align: right;\n",
              "    }\n",
              "</style>\n",
              "<table border=\"1\" class=\"dataframe\">\n",
              "  <thead>\n",
              "    <tr style=\"text-align: right;\">\n",
              "      <th></th>\n",
              "      <th>tms_loading</th>\n",
              "      <th>anno</th>\n",
              "      <th>provincia</th>\n",
              "      <th>genere</th>\n",
              "      <th>coordinata_x</th>\n",
              "      <th>coordinata_y</th>\n",
              "      <th>speranza_vita_nascita</th>\n",
              "      <th>tasso_mortalita</th>\n",
              "      <th>tasso_mortalita_infantile</th>\n",
              "      <th>posizione</th>\n",
              "    </tr>\n",
              "  </thead>\n",
              "  <tbody>\n",
              "    <tr>\n",
              "      <th>0</th>\n",
              "      <td>2021-11-07 22:57:05.587387</td>\n",
              "      <td>2012</td>\n",
              "      <td>BERGAMO</td>\n",
              "      <td>F</td>\n",
              "      <td>9,63853045</td>\n",
              "      <td>45,68012929</td>\n",
              "      <td>84,5</td>\n",
              "      <td>8,381804761882657</td>\n",
              "      <td>3,73</td>\n",
              "      <td>(45.68012929°, 9.63853045°)</td>\n",
              "    </tr>\n",
              "    <tr>\n",
              "      <th>1</th>\n",
              "      <td>2021-11-07 22:57:05.610041</td>\n",
              "      <td>2012</td>\n",
              "      <td>BRESCIA</td>\n",
              "      <td>F</td>\n",
              "      <td>10,18167955</td>\n",
              "      <td>45,51939749</td>\n",
              "      <td>85</td>\n",
              "      <td>8,654399715669228</td>\n",
              "      <td>4,1</td>\n",
              "      <td>(45.51939749°, 10.18167955°)</td>\n",
              "    </tr>\n",
              "    <tr>\n",
              "      <th>2</th>\n",
              "      <td>2021-11-07 22:57:05.633095</td>\n",
              "      <td>2012</td>\n",
              "      <td>COMO</td>\n",
              "      <td>F</td>\n",
              "      <td>9,039360974</td>\n",
              "      <td>45,80216962</td>\n",
              "      <td>85,7</td>\n",
              "      <td>9,290944196983311</td>\n",
              "      <td>3,85</td>\n",
              "      <td>(45.80216962°, 9.039360974°)</td>\n",
              "    </tr>\n",
              "    <tr>\n",
              "      <th>3</th>\n",
              "      <td>2021-11-07 22:57:05.655742</td>\n",
              "      <td>2012</td>\n",
              "      <td>CREMONA</td>\n",
              "      <td>F</td>\n",
              "      <td>10,0131151</td>\n",
              "      <td>45,13644491</td>\n",
              "      <td>84</td>\n",
              "      <td>10,691872186630041</td>\n",
              "      <td>1,84</td>\n",
              "      <td>(45.13644491°, 10.0131151°)</td>\n",
              "    </tr>\n",
              "    <tr>\n",
              "      <th>4</th>\n",
              "      <td>2021-11-07 22:57:05.678526</td>\n",
              "      <td>2012</td>\n",
              "      <td>ITALIA</td>\n",
              "      <td>F</td>\n",
              "      <td>84,4</td>\n",
              "      <td>10,24902789486484</td>\n",
              "      <td>3,15</td>\n",
              "      <td></td>\n",
              "      <td></td>\n",
              "      <td></td>\n",
              "    </tr>\n",
              "  </tbody>\n",
              "</table>\n",
              "</div>"
            ],
            "text/plain": [
              "                 tms_loading  ...                     posizione\n",
              "0 2021-11-07 22:57:05.587387  ...   (45.68012929°, 9.63853045°)\n",
              "1 2021-11-07 22:57:05.610041  ...  (45.51939749°, 10.18167955°)\n",
              "2 2021-11-07 22:57:05.633095  ...  (45.80216962°, 9.039360974°)\n",
              "3 2021-11-07 22:57:05.655742  ...   (45.13644491°, 10.0131151°)\n",
              "4 2021-11-07 22:57:05.678526  ...                              \n",
              "\n",
              "[5 rows x 10 columns]"
            ]
          },
          "metadata": {},
          "execution_count": 16
        }
      ]
    },
    {
      "cell_type": "code",
      "metadata": {
        "id": "HXlOVB5glwka"
      },
      "source": [
        "wd.close()"
      ],
      "execution_count": null,
      "outputs": []
    },
    {
      "cell_type": "markdown",
      "metadata": {
        "id": "I24G1yU1-fnd"
      },
      "source": [
        "## Dataset assistenza ospedaliera - Source: API Socrata"
      ]
    },
    {
      "cell_type": "code",
      "metadata": {
        "id": "ruAWrZWb-0cY"
      },
      "source": [
        "data_url = 'dati.lombardia.it'                        # The Host Name for the API endpoint (the https:// part will be added automatically)\n",
        "data_set = '3rtw-8p48'                                # The data set at the API endpoint\n",
        "app_token = os.getenv('qEei2HKE5SldzRBJyNJqp9Wjw')    # The app token\n",
        "limit_rows = 100000"
      ],
      "execution_count": null,
      "outputs": []
    },
    {
      "cell_type": "code",
      "metadata": {
        "id": "8O5mwftM-jCn"
      },
      "source": [
        "client = Socrata(data_url,app_token)\n",
        "# Set the timeout to 60 seconds    \n",
        "client.timeout = 60\n",
        "# The SoDaPy library converts this CSV object to a Python list of dictionaries\n",
        "results = client.get(data_set,limit=limit_rows)\n",
        "# Convert the list of dictionaries to a Pandas data frame\n",
        "df_hospital_assistance = pd.DataFrame.from_records(results)"
      ],
      "execution_count": null,
      "outputs": []
    },
    {
      "cell_type": "code",
      "metadata": {
        "colab": {
          "base_uri": "https://localhost:8080/",
          "height": 450
        },
        "id": "VLO2VnHBSpeZ",
        "outputId": "290ced04-3baf-42ef-eb16-0fea65deb972"
      },
      "source": [
        "df_hospital_assistance.head()"
      ],
      "execution_count": null,
      "outputs": [
        {
          "output_type": "execute_result",
          "data": {
            "application/vnd.google.colaboratory.module+javascript": "\n      import \"https://ssl.gstatic.com/colaboratory/data_table/a6224c040fa35dcf/data_table.js\";\n\n      window.createDataTable({\n        data: [[{\n            'v': 0,\n            'f': \"0\",\n        },\n\"2014\",\n\"324\",\n\"ATS DELLA BRIANZA\",\n\"9.298423314\",\n\"45.69919245\",\n\"{'type': 'Point', 'coordinates': [9.298423314, 45.69919245]}\",\n\"128\",\n\"ASMA\",\n\"0.0\",\n\"0.36892458483520535\",\n\"10\",\n\"10\",\n\"5\"],\n [{\n            'v': 1,\n            'f': \"1\",\n        },\n\"2013\",\n\"323\",\n\"ATS DELLA MONTAGNA\",\n\"10.32968894\",\n\"46.33431031\",\n\"{'type': 'Point', 'coordinates': [10.32968894, 46.33431031]}\",\n\"4\",\n\"MICOSI\",\n\"0.0\",\n\"0.035604716438104166\",\n\"3\",\n\"3\",\n\"7\"],\n [{\n            'v': 2,\n            'f': \"2\",\n        },\n\"2015\",\n\"325\",\n\"ATS DI BERGAMO\",\n\"9.63853045\",\n\"45.68701679\",\n\"{'type': 'Point', 'coordinates': [9.63853045, 45.68701679]}\",\n\"88\",\n\"GLAUCOMA\",\n\"0.0\",\n\"0.11092543375902847\",\n\"5\",\n\"5\",\n\"1\"],\n [{\n            'v': 3,\n            'f': \"3\",\n        },\n\"2015\",\n\"326\",\n\"ATS DI BRESCIA\",\n\"10.25368782\",\n\"45.65171815\",\n\"{'type': 'Point', 'coordinates': [10.25368782, 45.65171815]}\",\n\"39\",\n\"LEUCEMIE\",\n\"0.0\",\n\"0.17010908459834068\",\n\"6\",\n\"6\",\n\"2\"],\n [{\n            'v': 4,\n            'f': \"4\",\n        },\n\"2012\",\n\"325\",\n\"ATS DI BERGAMO\",\n\"9.63853045\",\n\"45.68701679\",\n\"{'type': 'Point', 'coordinates': [9.63853045, 45.68701679]}\",\n\"123\",\n\"INFLUENZA\",\n\"0.0\",\n\"0.0174810698414743\",\n\"5\",\n\"5\",\n\"1\"]],\n        columns: [[\"number\", \"index\"], [\"string\", \"anno\"], [\"string\", \"codice_ats_residenza\"], [\"string\", \"descrizione_ats_residenza\"], [\"string\", \"coordinata_geografica_x\"], [\"string\", \"coordinata_geografica_y\"], [\"string\", \"posizione_ats\"], [\"string\", \"codice_acc_di_diagnosi\"], [\"string\", \"descrizione_acc_di_diagnosi\"], [\"string\", \"tasso_ricoveri_stessa_ats\"], [\"string\", \"tasso_ricoveri_altra_ats\"], [\"string\", \":@computed_region_ttgh_9sm5\"], [\"string\", \":@computed_region_6hky_swhk\"], [\"string\", \":@computed_region_af5v_nc64\"]],\n        columnOptions: [{\"width\": \"1px\", \"className\": \"index_column\"}],\n        rowsPerPage: 25,\n        helpUrl: \"https://colab.research.google.com/notebooks/data_table.ipynb\",\n        suppressOutputScrolling: true,\n        minimumWidth: undefined,\n      });\n    ",
            "text/html": [
              "<div>\n",
              "<style scoped>\n",
              "    .dataframe tbody tr th:only-of-type {\n",
              "        vertical-align: middle;\n",
              "    }\n",
              "\n",
              "    .dataframe tbody tr th {\n",
              "        vertical-align: top;\n",
              "    }\n",
              "\n",
              "    .dataframe thead th {\n",
              "        text-align: right;\n",
              "    }\n",
              "</style>\n",
              "<table border=\"1\" class=\"dataframe\">\n",
              "  <thead>\n",
              "    <tr style=\"text-align: right;\">\n",
              "      <th></th>\n",
              "      <th>anno</th>\n",
              "      <th>codice_ats_residenza</th>\n",
              "      <th>descrizione_ats_residenza</th>\n",
              "      <th>coordinata_geografica_x</th>\n",
              "      <th>coordinata_geografica_y</th>\n",
              "      <th>posizione_ats</th>\n",
              "      <th>codice_acc_di_diagnosi</th>\n",
              "      <th>descrizione_acc_di_diagnosi</th>\n",
              "      <th>tasso_ricoveri_stessa_ats</th>\n",
              "      <th>tasso_ricoveri_altra_ats</th>\n",
              "      <th>:@computed_region_ttgh_9sm5</th>\n",
              "      <th>:@computed_region_6hky_swhk</th>\n",
              "      <th>:@computed_region_af5v_nc64</th>\n",
              "    </tr>\n",
              "  </thead>\n",
              "  <tbody>\n",
              "    <tr>\n",
              "      <th>0</th>\n",
              "      <td>2014</td>\n",
              "      <td>324</td>\n",
              "      <td>ATS DELLA BRIANZA</td>\n",
              "      <td>9.298423314</td>\n",
              "      <td>45.69919245</td>\n",
              "      <td>{'type': 'Point', 'coordinates': [9.298423314,...</td>\n",
              "      <td>128</td>\n",
              "      <td>ASMA</td>\n",
              "      <td>0.0</td>\n",
              "      <td>0.36892458483520535</td>\n",
              "      <td>10</td>\n",
              "      <td>10</td>\n",
              "      <td>5</td>\n",
              "    </tr>\n",
              "    <tr>\n",
              "      <th>1</th>\n",
              "      <td>2013</td>\n",
              "      <td>323</td>\n",
              "      <td>ATS DELLA MONTAGNA</td>\n",
              "      <td>10.32968894</td>\n",
              "      <td>46.33431031</td>\n",
              "      <td>{'type': 'Point', 'coordinates': [10.32968894,...</td>\n",
              "      <td>4</td>\n",
              "      <td>MICOSI</td>\n",
              "      <td>0.0</td>\n",
              "      <td>0.035604716438104166</td>\n",
              "      <td>3</td>\n",
              "      <td>3</td>\n",
              "      <td>7</td>\n",
              "    </tr>\n",
              "    <tr>\n",
              "      <th>2</th>\n",
              "      <td>2015</td>\n",
              "      <td>325</td>\n",
              "      <td>ATS DI BERGAMO</td>\n",
              "      <td>9.63853045</td>\n",
              "      <td>45.68701679</td>\n",
              "      <td>{'type': 'Point', 'coordinates': [9.63853045, ...</td>\n",
              "      <td>88</td>\n",
              "      <td>GLAUCOMA</td>\n",
              "      <td>0.0</td>\n",
              "      <td>0.11092543375902847</td>\n",
              "      <td>5</td>\n",
              "      <td>5</td>\n",
              "      <td>1</td>\n",
              "    </tr>\n",
              "    <tr>\n",
              "      <th>3</th>\n",
              "      <td>2015</td>\n",
              "      <td>326</td>\n",
              "      <td>ATS DI BRESCIA</td>\n",
              "      <td>10.25368782</td>\n",
              "      <td>45.65171815</td>\n",
              "      <td>{'type': 'Point', 'coordinates': [10.25368782,...</td>\n",
              "      <td>39</td>\n",
              "      <td>LEUCEMIE</td>\n",
              "      <td>0.0</td>\n",
              "      <td>0.17010908459834068</td>\n",
              "      <td>6</td>\n",
              "      <td>6</td>\n",
              "      <td>2</td>\n",
              "    </tr>\n",
              "    <tr>\n",
              "      <th>4</th>\n",
              "      <td>2012</td>\n",
              "      <td>325</td>\n",
              "      <td>ATS DI BERGAMO</td>\n",
              "      <td>9.63853045</td>\n",
              "      <td>45.68701679</td>\n",
              "      <td>{'type': 'Point', 'coordinates': [9.63853045, ...</td>\n",
              "      <td>123</td>\n",
              "      <td>INFLUENZA</td>\n",
              "      <td>0.0</td>\n",
              "      <td>0.0174810698414743</td>\n",
              "      <td>5</td>\n",
              "      <td>5</td>\n",
              "      <td>1</td>\n",
              "    </tr>\n",
              "  </tbody>\n",
              "</table>\n",
              "</div>"
            ],
            "text/plain": [
              "   anno  ... :@computed_region_af5v_nc64\n",
              "0  2014  ...                           5\n",
              "1  2013  ...                           7\n",
              "2  2015  ...                           1\n",
              "3  2015  ...                           2\n",
              "4  2012  ...                           1\n",
              "\n",
              "[5 rows x 13 columns]"
            ]
          },
          "metadata": {},
          "execution_count": 22
        }
      ]
    },
    {
      "cell_type": "markdown",
      "metadata": {
        "id": "dS7YqHalO8Ku"
      },
      "source": [
        "## Performance degli Ospedali - Source: Azure SQL Database"
      ]
    },
    {
      "cell_type": "code",
      "metadata": {
        "id": "P-5oRoRTGQDI"
      },
      "source": [
        "server = \"airadav-work.database.windows.net\"\n",
        "database = \"hospitalization-lombardy\"\n",
        "username = \"admindav\"\n",
        "password = \"Password01\"\n",
        "\n",
        "driver = '{ODBC Driver 17 for SQL Server}'\n",
        "\n",
        "odbc_str = 'DRIVER='+driver+';SERVER='+server+';PORT=1433;UID='+username+';DATABASE='+ database + ';PWD='+ password\n",
        "connect_str = 'mssql+pyodbc:///?odbc_connect=' + urllib.parse.quote(odbc_str)\n",
        "\n",
        "engine = create_engine(connect_str)\n",
        "\n",
        "df_performance_hospital = pd.read_sql_query(\"SELECT * FROM dbo.WRH_PERFORMANCE_HOSPITAL\",con=engine)\n",
        "\n",
        "engine.dispose()"
      ],
      "execution_count": null,
      "outputs": []
    },
    {
      "cell_type": "code",
      "metadata": {
        "colab": {
          "base_uri": "https://localhost:8080/",
          "height": 290
        },
        "id": "lhlfrBSUQ4hm",
        "outputId": "33a2edfb-bc4f-46ac-c9e5-494649566a7f"
      },
      "source": [
        "df_performance_hospital.head()"
      ],
      "execution_count": null,
      "outputs": [
        {
          "output_type": "execute_result",
          "data": {
            "application/vnd.google.colaboratory.module+javascript": "\n      import \"https://ssl.gstatic.com/colaboratory/data_table/a6224c040fa35dcf/data_table.js\";\n\n      window.createDataTable({\n        data: [[{\n            'v': 0,\n            'f': \"0\",\n        },\n{\n            'v': 2010,\n            'f': \"2010\",\n        },\n\"030004-00\",\n\"OSPEDALE DI CIRCOLO - BUSTO ARSIZIO\",\n{\n            'v': 23103,\n            'f': \"23103\",\n        },\n{\n            'v': 38,\n            'f': \"38\",\n        },\n{\n            'v': 8348,\n            'f': \"8348\",\n        },\n{\n            'v': 22,\n            'f': \"22\",\n        },\n{\n            'v': 862,\n            'f': \"862\",\n        },\n{\n            'v': 49.0,\n            'f': \"49.0\",\n        },\n{\n            'v': 3706,\n            'f': \"3706\",\n        }],\n [{\n            'v': 1,\n            'f': \"1\",\n        },\n{\n            'v': 2010,\n            'f': \"2010\",\n        },\n\"030006-00\",\n\"OSP. S. ANTONIO ABATE - GALLARATE\",\n{\n            'v': 18719,\n            'f': \"18719\",\n        },\n{\n            'v': 83,\n            'f': \"83\",\n        },\n{\n            'v': 7416,\n            'f': \"7416\",\n        },\n{\n            'v': 55,\n            'f': \"55\",\n        },\n{\n            'v': 566,\n            'f': \"566\",\n        },\n{\n            'v': 30.0,\n            'f': \"30.0\",\n        },\n{\n            'v': 2662,\n            'f': \"2662\",\n        }],\n [{\n            'v': 2,\n            'f': \"2\",\n        },\n{\n            'v': 2010,\n            'f': \"2010\",\n        },\n\"030008-00\",\n\"OSP. GENERALE PROVINCIALE - SARONNO\",\n{\n            'v': 15559,\n            'f': \"15559\",\n        },\n{\n            'v': 71,\n            'f': \"71\",\n        },\n{\n            'v': 7006,\n            'f': \"7006\",\n        },\n{\n            'v': 24,\n            'f': \"24\",\n        },\n{\n            'v': 645,\n            'f': \"645\",\n        },\n{\n            'v': 50.0,\n            'f': \"50.0\",\n        },\n{\n            'v': 2501,\n            'f': \"2501\",\n        }],\n [{\n            'v': 3,\n            'f': \"3\",\n        },\n{\n            'v': 2010,\n            'f': \"2010\",\n        },\n\"030009-00\",\n\"OSP. CIRCOLO A.BELLINI - SOMMA LOMBARDO\",\n{\n            'v': 2858,\n            'f': \"2858\",\n        },\n{\n            'v': 14,\n            'f': \"14\",\n        },\n{\n            'v': 1012,\n            'f': \"1012\",\n        },\n{\n            'v': 4,\n            'f': \"4\",\n        },\n{\n            'v': 35,\n            'f': \"35\",\n        },\n{\n            'v': 0.0,\n            'f': \"0.0\",\n        },\n{\n            'v': 2,\n            'f': \"2\",\n        }],\n [{\n            'v': 4,\n            'f': \"4\",\n        },\n{\n            'v': 2010,\n            'f': \"2010\",\n        },\n\"030010-00\",\n\"OSPEDALE DI CIRCOLO GALMARINI - TRADATE\",\n{\n            'v': 10640,\n            'f': \"10640\",\n        },\n{\n            'v': 22,\n            'f': \"22\",\n        },\n{\n            'v': 4124,\n            'f': \"4124\",\n        },\n{\n            'v': 18,\n            'f': \"18\",\n        },\n{\n            'v': 326,\n            'f': \"326\",\n        },\n{\n            'v': 11.0,\n            'f': \"11.0\",\n        },\n{\n            'v': 2049,\n            'f': \"2049\",\n        }]],\n        columns: [[\"number\", \"index\"], [\"number\", \"PERIODO\"], [\"string\", \"CODICE_STRUTTURA\"], [\"string\", \"DENOMINAZIONE_STRUTTURA\"], [\"number\", \"NUM_TOTALE_RICOVERI\"], [\"number\", \"NUM_DIMISSIONI_VOLONTARIE\"], [\"number\", \"NUM_TOTALE_DIMISSIONI\"], [\"number\", \"NUM_TRASFERIMENTI_FRA_STRUTTURE\"], [\"number\", \"NUM_RICOVERI_RIPETUTI\"], [\"number\", \"NUM_RITORNI_IN_SALA_OPERATORIA\"], [\"number\", \"NUM_DI_RICOVERI_DI_TIPO_CHIRURGICO\"]],\n        columnOptions: [{\"width\": \"1px\", \"className\": \"index_column\"}],\n        rowsPerPage: 25,\n        helpUrl: \"https://colab.research.google.com/notebooks/data_table.ipynb\",\n        suppressOutputScrolling: true,\n        minimumWidth: undefined,\n      });\n    ",
            "text/html": [
              "<div>\n",
              "<style scoped>\n",
              "    .dataframe tbody tr th:only-of-type {\n",
              "        vertical-align: middle;\n",
              "    }\n",
              "\n",
              "    .dataframe tbody tr th {\n",
              "        vertical-align: top;\n",
              "    }\n",
              "\n",
              "    .dataframe thead th {\n",
              "        text-align: right;\n",
              "    }\n",
              "</style>\n",
              "<table border=\"1\" class=\"dataframe\">\n",
              "  <thead>\n",
              "    <tr style=\"text-align: right;\">\n",
              "      <th></th>\n",
              "      <th>PERIODO</th>\n",
              "      <th>CODICE_STRUTTURA</th>\n",
              "      <th>DENOMINAZIONE_STRUTTURA</th>\n",
              "      <th>NUM_TOTALE_RICOVERI</th>\n",
              "      <th>NUM_DIMISSIONI_VOLONTARIE</th>\n",
              "      <th>NUM_TOTALE_DIMISSIONI</th>\n",
              "      <th>NUM_TRASFERIMENTI_FRA_STRUTTURE</th>\n",
              "      <th>NUM_RICOVERI_RIPETUTI</th>\n",
              "      <th>NUM_RITORNI_IN_SALA_OPERATORIA</th>\n",
              "      <th>NUM_DI_RICOVERI_DI_TIPO_CHIRURGICO</th>\n",
              "    </tr>\n",
              "  </thead>\n",
              "  <tbody>\n",
              "    <tr>\n",
              "      <th>0</th>\n",
              "      <td>2010</td>\n",
              "      <td>030004-00</td>\n",
              "      <td>OSPEDALE DI CIRCOLO - BUSTO ARSIZIO</td>\n",
              "      <td>23103</td>\n",
              "      <td>38</td>\n",
              "      <td>8348</td>\n",
              "      <td>22</td>\n",
              "      <td>862</td>\n",
              "      <td>49.0</td>\n",
              "      <td>3706</td>\n",
              "    </tr>\n",
              "    <tr>\n",
              "      <th>1</th>\n",
              "      <td>2010</td>\n",
              "      <td>030006-00</td>\n",
              "      <td>OSP. S. ANTONIO ABATE - GALLARATE</td>\n",
              "      <td>18719</td>\n",
              "      <td>83</td>\n",
              "      <td>7416</td>\n",
              "      <td>55</td>\n",
              "      <td>566</td>\n",
              "      <td>30.0</td>\n",
              "      <td>2662</td>\n",
              "    </tr>\n",
              "    <tr>\n",
              "      <th>2</th>\n",
              "      <td>2010</td>\n",
              "      <td>030008-00</td>\n",
              "      <td>OSP. GENERALE PROVINCIALE - SARONNO</td>\n",
              "      <td>15559</td>\n",
              "      <td>71</td>\n",
              "      <td>7006</td>\n",
              "      <td>24</td>\n",
              "      <td>645</td>\n",
              "      <td>50.0</td>\n",
              "      <td>2501</td>\n",
              "    </tr>\n",
              "    <tr>\n",
              "      <th>3</th>\n",
              "      <td>2010</td>\n",
              "      <td>030009-00</td>\n",
              "      <td>OSP. CIRCOLO A.BELLINI - SOMMA LOMBARDO</td>\n",
              "      <td>2858</td>\n",
              "      <td>14</td>\n",
              "      <td>1012</td>\n",
              "      <td>4</td>\n",
              "      <td>35</td>\n",
              "      <td>0.0</td>\n",
              "      <td>2</td>\n",
              "    </tr>\n",
              "    <tr>\n",
              "      <th>4</th>\n",
              "      <td>2010</td>\n",
              "      <td>030010-00</td>\n",
              "      <td>OSPEDALE DI CIRCOLO GALMARINI - TRADATE</td>\n",
              "      <td>10640</td>\n",
              "      <td>22</td>\n",
              "      <td>4124</td>\n",
              "      <td>18</td>\n",
              "      <td>326</td>\n",
              "      <td>11.0</td>\n",
              "      <td>2049</td>\n",
              "    </tr>\n",
              "  </tbody>\n",
              "</table>\n",
              "</div>"
            ],
            "text/plain": [
              "   PERIODO  ... NUM_DI_RICOVERI_DI_TIPO_CHIRURGICO\n",
              "0     2010  ...                               3706\n",
              "1     2010  ...                               2662\n",
              "2     2010  ...                               2501\n",
              "3     2010  ...                                  2\n",
              "4     2010  ...                               2049\n",
              "\n",
              "[5 rows x 10 columns]"
            ]
          },
          "metadata": {},
          "execution_count": 21
        }
      ]
    }
  ]
}