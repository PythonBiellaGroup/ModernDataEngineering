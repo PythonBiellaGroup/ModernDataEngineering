{
  "nbformat": 4,
  "nbformat_minor": 0,
  "metadata": {
    "colab": {
      "name": "Sanità Lombardia.ipynb",
      "provenance": [],
      "collapsed_sections": [],
      "toc_visible": true
    },
    "kernelspec": {
      "name": "python3",
      "display_name": "Python 3"
    },
    "language_info": {
      "name": "python"
    },
    "widgets": {
      "application/vnd.jupyter.widget-state+json": {
        "2c539f2dd4e24777ac23a1372d275a1b": {
          "model_module": "@jupyter-widgets/controls",
          "model_name": "HBoxModel",
          "model_module_version": "1.5.0",
          "state": {
            "_view_name": "HBoxView",
            "_dom_classes": [],
            "_model_name": "HBoxModel",
            "_view_module": "@jupyter-widgets/controls",
            "_model_module_version": "1.5.0",
            "_view_count": null,
            "_view_module_version": "1.5.0",
            "box_style": "",
            "layout": "IPY_MODEL_d405e0f4d43f4105acad820086031bb1",
            "_model_module": "@jupyter-widgets/controls",
            "children": [
              "IPY_MODEL_1f3436aee0bb42c6a3706379d20ec230",
              "IPY_MODEL_5b8e40174d1a441aa86219a5474e5bf3",
              "IPY_MODEL_da9dad72361b415cb206a16454caa38b"
            ]
          }
        },
        "d405e0f4d43f4105acad820086031bb1": {
          "model_module": "@jupyter-widgets/base",
          "model_name": "LayoutModel",
          "model_module_version": "1.2.0",
          "state": {
            "_view_name": "LayoutView",
            "grid_template_rows": null,
            "right": null,
            "justify_content": null,
            "_view_module": "@jupyter-widgets/base",
            "overflow": null,
            "_model_module_version": "1.2.0",
            "_view_count": null,
            "flex_flow": null,
            "width": null,
            "min_width": null,
            "border": null,
            "align_items": null,
            "bottom": null,
            "_model_module": "@jupyter-widgets/base",
            "top": null,
            "grid_column": null,
            "overflow_y": null,
            "overflow_x": null,
            "grid_auto_flow": null,
            "grid_area": null,
            "grid_template_columns": null,
            "flex": null,
            "_model_name": "LayoutModel",
            "justify_items": null,
            "grid_row": null,
            "max_height": null,
            "align_content": null,
            "visibility": null,
            "align_self": null,
            "height": null,
            "min_height": null,
            "padding": null,
            "grid_auto_rows": null,
            "grid_gap": null,
            "max_width": null,
            "order": null,
            "_view_module_version": "1.2.0",
            "grid_template_areas": null,
            "object_position": null,
            "object_fit": null,
            "grid_auto_columns": null,
            "margin": null,
            "display": null,
            "left": null
          }
        },
        "1f3436aee0bb42c6a3706379d20ec230": {
          "model_module": "@jupyter-widgets/controls",
          "model_name": "HTMLModel",
          "model_module_version": "1.5.0",
          "state": {
            "_view_name": "HTMLView",
            "style": "IPY_MODEL_0f9a0373301e4a5fac3e82ad01af92d7",
            "_dom_classes": [],
            "description": "",
            "_model_name": "HTMLModel",
            "placeholder": "​",
            "_view_module": "@jupyter-widgets/controls",
            "_model_module_version": "1.5.0",
            "value": "100%",
            "_view_count": null,
            "_view_module_version": "1.5.0",
            "description_tooltip": null,
            "_model_module": "@jupyter-widgets/controls",
            "layout": "IPY_MODEL_34c6d5197a3e4a19b5dd45a758a88456"
          }
        },
        "5b8e40174d1a441aa86219a5474e5bf3": {
          "model_module": "@jupyter-widgets/controls",
          "model_name": "FloatProgressModel",
          "model_module_version": "1.5.0",
          "state": {
            "_view_name": "ProgressView",
            "style": "IPY_MODEL_e0b530df49cf4ba2a8d12edb0f8117e1",
            "_dom_classes": [],
            "description": "",
            "_model_name": "FloatProgressModel",
            "bar_style": "success",
            "max": 17,
            "_view_module": "@jupyter-widgets/controls",
            "_model_module_version": "1.5.0",
            "value": 17,
            "_view_count": null,
            "_view_module_version": "1.5.0",
            "orientation": "horizontal",
            "min": 0,
            "description_tooltip": null,
            "_model_module": "@jupyter-widgets/controls",
            "layout": "IPY_MODEL_3c6b71d5e82342e99131c9f830f9c2e1"
          }
        },
        "da9dad72361b415cb206a16454caa38b": {
          "model_module": "@jupyter-widgets/controls",
          "model_name": "HTMLModel",
          "model_module_version": "1.5.0",
          "state": {
            "_view_name": "HTMLView",
            "style": "IPY_MODEL_b78aeec6fc76443591e510f4d415ba81",
            "_dom_classes": [],
            "description": "",
            "_model_name": "HTMLModel",
            "placeholder": "​",
            "_view_module": "@jupyter-widgets/controls",
            "_model_module_version": "1.5.0",
            "value": " 17/17 [03:45&lt;00:00, 10.02s/it]",
            "_view_count": null,
            "_view_module_version": "1.5.0",
            "description_tooltip": null,
            "_model_module": "@jupyter-widgets/controls",
            "layout": "IPY_MODEL_6bd2a695817546089b85f6a3e03020d3"
          }
        },
        "0f9a0373301e4a5fac3e82ad01af92d7": {
          "model_module": "@jupyter-widgets/controls",
          "model_name": "DescriptionStyleModel",
          "model_module_version": "1.5.0",
          "state": {
            "_view_name": "StyleView",
            "_model_name": "DescriptionStyleModel",
            "description_width": "",
            "_view_module": "@jupyter-widgets/base",
            "_model_module_version": "1.5.0",
            "_view_count": null,
            "_view_module_version": "1.2.0",
            "_model_module": "@jupyter-widgets/controls"
          }
        },
        "34c6d5197a3e4a19b5dd45a758a88456": {
          "model_module": "@jupyter-widgets/base",
          "model_name": "LayoutModel",
          "model_module_version": "1.2.0",
          "state": {
            "_view_name": "LayoutView",
            "grid_template_rows": null,
            "right": null,
            "justify_content": null,
            "_view_module": "@jupyter-widgets/base",
            "overflow": null,
            "_model_module_version": "1.2.0",
            "_view_count": null,
            "flex_flow": null,
            "width": null,
            "min_width": null,
            "border": null,
            "align_items": null,
            "bottom": null,
            "_model_module": "@jupyter-widgets/base",
            "top": null,
            "grid_column": null,
            "overflow_y": null,
            "overflow_x": null,
            "grid_auto_flow": null,
            "grid_area": null,
            "grid_template_columns": null,
            "flex": null,
            "_model_name": "LayoutModel",
            "justify_items": null,
            "grid_row": null,
            "max_height": null,
            "align_content": null,
            "visibility": null,
            "align_self": null,
            "height": null,
            "min_height": null,
            "padding": null,
            "grid_auto_rows": null,
            "grid_gap": null,
            "max_width": null,
            "order": null,
            "_view_module_version": "1.2.0",
            "grid_template_areas": null,
            "object_position": null,
            "object_fit": null,
            "grid_auto_columns": null,
            "margin": null,
            "display": null,
            "left": null
          }
        },
        "e0b530df49cf4ba2a8d12edb0f8117e1": {
          "model_module": "@jupyter-widgets/controls",
          "model_name": "ProgressStyleModel",
          "model_module_version": "1.5.0",
          "state": {
            "_view_name": "StyleView",
            "_model_name": "ProgressStyleModel",
            "description_width": "",
            "_view_module": "@jupyter-widgets/base",
            "_model_module_version": "1.5.0",
            "_view_count": null,
            "_view_module_version": "1.2.0",
            "bar_color": null,
            "_model_module": "@jupyter-widgets/controls"
          }
        },
        "3c6b71d5e82342e99131c9f830f9c2e1": {
          "model_module": "@jupyter-widgets/base",
          "model_name": "LayoutModel",
          "model_module_version": "1.2.0",
          "state": {
            "_view_name": "LayoutView",
            "grid_template_rows": null,
            "right": null,
            "justify_content": null,
            "_view_module": "@jupyter-widgets/base",
            "overflow": null,
            "_model_module_version": "1.2.0",
            "_view_count": null,
            "flex_flow": null,
            "width": null,
            "min_width": null,
            "border": null,
            "align_items": null,
            "bottom": null,
            "_model_module": "@jupyter-widgets/base",
            "top": null,
            "grid_column": null,
            "overflow_y": null,
            "overflow_x": null,
            "grid_auto_flow": null,
            "grid_area": null,
            "grid_template_columns": null,
            "flex": null,
            "_model_name": "LayoutModel",
            "justify_items": null,
            "grid_row": null,
            "max_height": null,
            "align_content": null,
            "visibility": null,
            "align_self": null,
            "height": null,
            "min_height": null,
            "padding": null,
            "grid_auto_rows": null,
            "grid_gap": null,
            "max_width": null,
            "order": null,
            "_view_module_version": "1.2.0",
            "grid_template_areas": null,
            "object_position": null,
            "object_fit": null,
            "grid_auto_columns": null,
            "margin": null,
            "display": null,
            "left": null
          }
        },
        "b78aeec6fc76443591e510f4d415ba81": {
          "model_module": "@jupyter-widgets/controls",
          "model_name": "DescriptionStyleModel",
          "model_module_version": "1.5.0",
          "state": {
            "_view_name": "StyleView",
            "_model_name": "DescriptionStyleModel",
            "description_width": "",
            "_view_module": "@jupyter-widgets/base",
            "_model_module_version": "1.5.0",
            "_view_count": null,
            "_view_module_version": "1.2.0",
            "_model_module": "@jupyter-widgets/controls"
          }
        },
        "6bd2a695817546089b85f6a3e03020d3": {
          "model_module": "@jupyter-widgets/base",
          "model_name": "LayoutModel",
          "model_module_version": "1.2.0",
          "state": {
            "_view_name": "LayoutView",
            "grid_template_rows": null,
            "right": null,
            "justify_content": null,
            "_view_module": "@jupyter-widgets/base",
            "overflow": null,
            "_model_module_version": "1.2.0",
            "_view_count": null,
            "flex_flow": null,
            "width": null,
            "min_width": null,
            "border": null,
            "align_items": null,
            "bottom": null,
            "_model_module": "@jupyter-widgets/base",
            "top": null,
            "grid_column": null,
            "overflow_y": null,
            "overflow_x": null,
            "grid_auto_flow": null,
            "grid_area": null,
            "grid_template_columns": null,
            "flex": null,
            "_model_name": "LayoutModel",
            "justify_items": null,
            "grid_row": null,
            "max_height": null,
            "align_content": null,
            "visibility": null,
            "align_self": null,
            "height": null,
            "min_height": null,
            "padding": null,
            "grid_auto_rows": null,
            "grid_gap": null,
            "max_width": null,
            "order": null,
            "_view_module_version": "1.2.0",
            "grid_template_areas": null,
            "object_position": null,
            "object_fit": null,
            "grid_auto_columns": null,
            "margin": null,
            "display": null,
            "left": null
          }
        }
      }
    }
  },
  "cells": [
    {
      "cell_type": "markdown",
      "metadata": {
        "id": "WEPbTLbK4srs"
      },
      "source": [
        "Dataset\n",
        "\n",
        "https://www.dati.lombardia.it/Sanit-/Dataset-SDO-Regione-Lombardia/jv9t-c6q6\n",
        "\n",
        "https://www.dati.lombardia.it/Sanit-/Dataset-condizioni-di-salute-per-provincia-e-gener/92eu-vwkf\n",
        "\n",
        "https://www.dati.lombardia.it/Sanit-/Georeferenziazione-strutture/6n7g-5p5e\n",
        "\n",
        "https://www.dati.lombardia.it/Sanit-/Dataset-Assistenza-Ospedaliera-per-ACC-e-ATS/3rtw-8p48\n",
        "\n",
        "https://www.dati.lombardia.it/Sanit-/dati-ospedali/avsh-7tmk"
      ]
    },
    {
      "cell_type": "markdown",
      "metadata": {
        "id": "seCXIwPh5J0d"
      },
      "source": [
        "##Configurazione"
      ]
    },
    {
      "cell_type": "code",
      "metadata": {
        "id": "neUcQwbf40Z5"
      },
      "source": [
        "!pip install sodapy -U -q\n",
        "!pip install tensorflow-data-validation\n",
        "!pip install azure-storage-blob -U -q\n",
        "!pip install selenium\n",
        "!apt-get update\n",
        "!pip install SQLAlchemy\n",
        "!pip install pyodbc\n",
        "!apt install chromium-chromedriver\n",
        "!cp /usr/lib/chromium-browser/chromedriver /usr/bin"
      ],
      "execution_count": null,
      "outputs": []
    },
    {
      "cell_type": "code",
      "metadata": {
        "id": "I6JaAbGomBwg"
      },
      "source": [
        "%%sh\n",
        "curl https://packages.microsoft.com/keys/microsoft.asc | apt-key add -\n",
        "curl https://packages.microsoft.com/config/ubuntu/16.04/prod.list > /etc/apt/sources.list.d/mssql-release.list\n",
        "sudo apt-get update\n",
        "sudo ACCEPT_EULA=Y apt-get -q -y install msodbcsql17"
      ],
      "execution_count": null,
      "outputs": []
    },
    {
      "cell_type": "code",
      "metadata": {
        "id": "tyf8sndG5Wqt"
      },
      "source": [
        "import requests\n",
        "import numpy as np\n",
        "import os\n",
        "import sys\n",
        "from tqdm import tqdm_notebook as tqdm\n",
        "import datetime as dt\n",
        "import tensorflow_datasets as tfds\n",
        "import warnings\n",
        "import json\n",
        "import tensorflow_data_validation as tfdv\n",
        "import urllib\n",
        "import re\n",
        "import pandas as pd\n",
        "import urllib.parse\n",
        "from sqlalchemy import create_engine\n",
        "import matplotlib.pyplot as plt\n",
        "import matplotlib.image as mpimg\n",
        "sys.path.insert(0,'/usr/lib/chromium-browser/chromedriver')\n",
        "from selenium import webdriver\n",
        "from selenium.webdriver.common.by import By\n",
        "from selenium.webdriver.support.ui import WebDriverWait\n",
        "from selenium.webdriver.support import expected_conditions as EC\n",
        "import time\n",
        "from datetime import date\n",
        "from azure.storage.blob import BlobServiceClient\n",
        "from sodapy import Socrata\n",
        "warnings.filterwarnings(\"ignore\")"
      ],
      "execution_count": 299,
      "outputs": []
    },
    {
      "cell_type": "code",
      "metadata": {
        "id": "hIYo3YPC9xy-"
      },
      "source": [
        "# getting automatic reloading and inline plotting for the entire notebook\n",
        "%reload_ext autoreload\n",
        "%autoreload 2\n",
        "%matplotlib inline\n",
        "%load_ext google.colab.data_table"
      ],
      "execution_count": 9,
      "outputs": []
    },
    {
      "cell_type": "markdown",
      "metadata": {
        "id": "nvV-Uhov96Tk"
      },
      "source": [
        "## Dataset SDO (Scheda Dimissione Ospedaliera) Regione Lombardia - Source: Azure Blob Storage"
      ]
    },
    {
      "cell_type": "code",
      "metadata": {
        "id": "r3FA9ctE-BzH"
      },
      "source": [
        "# Create a local directory to hold blob data\n",
        "current_dir = os.getcwd()\n",
        "os.mkdir(local_path)\n",
        "local_path = os.path.join(current_dir,'SDO_regione_lombardia')\n",
        "os.mkdir(local_path)"
      ],
      "execution_count": null,
      "outputs": []
    },
    {
      "cell_type": "code",
      "metadata": {
        "id": "oqDC1Uv8AvEn"
      },
      "source": [
        "connect_str = 'DefaultEndpointsProtocol=https;AccountName=storagesanita;AccountKey=m+PjppnyYxioaXrB/j9FCiaRezITnlBlwKlzQA1MnAaOgejnCT/aPjIbrFbNRDu7cycT84br51Y1iIaLPfLFyg==;EndpointSuffix=core.windows.net'"
      ],
      "execution_count": null,
      "outputs": []
    },
    {
      "cell_type": "code",
      "metadata": {
        "id": "5OJgV_Qz_S7M"
      },
      "source": [
        "def download_file_from_Azure(local_path,conn_str):\n",
        "\n",
        "  # Create the BlobServiceClient object which will be used to create a container client\n",
        "  blob_service_client = BlobServiceClient.from_connection_string(connect_str)\n",
        "  \n",
        "  # Create a blob client using the local file name as the name for the blob\n",
        "  blob_client = blob_service_client.get_blob_client(container='storage-sanita-lombardia',blob='Dataset_SDO_Regione_Lombardia.csv')\n",
        "\n",
        "  try:\n",
        "      download_file_path = os.path.join(local_path,'dowload.csv')\n",
        "      print(\"\\nDownloading blob to \\n\\t\" + download_file_path)\n",
        "      with open(download_file_path, \"wb\") as download_file:\n",
        "        download_file.write(blob_client.download_blob().readall())\n",
        "  except Exception as e:\n",
        "      print(e)"
      ],
      "execution_count": null,
      "outputs": []
    },
    {
      "cell_type": "code",
      "metadata": {
        "id": "jo6yioKa-boH"
      },
      "source": [
        "download_file_from_Azure(local_path,conn_str)"
      ],
      "execution_count": null,
      "outputs": []
    },
    {
      "cell_type": "markdown",
      "metadata": {
        "id": "PDt6G5Pj-HSX"
      },
      "source": [
        "## Georeferenziazione strutture - HTTP Open data request"
      ]
    },
    {
      "cell_type": "markdown",
      "metadata": {
        "id": "mp2ljZk5wyLT"
      },
      "source": [
        "### Data ingestion"
      ]
    },
    {
      "cell_type": "code",
      "metadata": {
        "id": "6pWzRgJX6W2m",
        "colab": {
          "base_uri": "https://localhost:8080/"
        },
        "outputId": "fcc43442-e3e8-4ade-92d1-c3c9d7680448"
      },
      "source": [
        "url = 'https://www.dati.lombardia.it/resource/6n7g-5p5e.json'\n",
        "response = requests.get(url)\n",
        "response.status_code"
      ],
      "execution_count": 121,
      "outputs": [
        {
          "output_type": "execute_result",
          "data": {
            "text/plain": [
              "200"
            ]
          },
          "metadata": {},
          "execution_count": 121
        }
      ]
    },
    {
      "cell_type": "code",
      "metadata": {
        "colab": {
          "base_uri": "https://localhost:8080/",
          "height": 452
        },
        "id": "-j5_KzTQptPA",
        "outputId": "6742b355-e88c-435c-8976-291376f8a96a"
      },
      "source": [
        "df_georef_strutture = pd.DataFrame(json.loads(response.content))\n",
        "df_georef_strutture.head()"
      ],
      "execution_count": 172,
      "outputs": [
        {
          "output_type": "execute_result",
          "data": {
            "application/vnd.google.colaboratory.module+javascript": "\n      import \"https://ssl.gstatic.com/colaboratory/data_table/a6224c040fa35dcf/data_table.js\";\n\n      window.createDataTable({\n        data: [[{\n            'v': 0,\n            'f': \"0\",\n        },\n\"OSPEDALE UBOLDO - CERNUSCO S/NAVIGLIO\",\n\"321 - ATS DELLA CITTA' METROPOLITANA DI MILANO\",\n\"030085-00\",\n\"VIA UBOLDO 21\",\n\"20063\",\n\"CERNUSCO SUL NAVIGLIO\",\n\"45.52331438\",\n\"9.328467624\",\n\"{'latitude': '45.52331438', 'longitude': '9.328467624'}\",\n\"4\",\n\"4\",\n\"8\"],\n [{\n            'v': 1,\n            'f': \"1\",\n        },\n\"CASA DI CURA BEATO L.TALAMONI-LECCO\",\n\"324 - ATS DELLA BRIANZA\",\n\"030033-00\",\n\"VIA SAN NICOLO' 12\",\n\"23900\",\n\"LECCO\",\n\"45.85685986\",\n\"9.390429409\",\n\"{'latitude': '45.85685986', 'longitude': '9.390429409'}\",\n\"10\",\n\"10\",\n\"5\"],\n [{\n            'v': 2,\n            'f': \"2\",\n        },\n\"OSPEDALE M. MELLONI - MILANO\",\n\"321 - ATS DELLA CITTA' METROPOLITANA DI MILANO\",\n\"030057-00\",\n\"VIA MACEDONIO MELLONI 52\",\n\"20129\",\n\"MILANO\",\n\"45.4666791\",\n\"9.219506903\",\n\"{'latitude': '45.4666791', 'longitude': '9.219506903'}\",\n\"4\",\n\"4\",\n\"8\"],\n [{\n            'v': 3,\n            'f': \"3\",\n        },\n\"CASA DI CURA SANTA MARIA - CASTELLANZA\",\n\"322 - ATS DELL'INSUBRIA\",\n\"030015-00\",\n\"VIALE PIEMONTE, 70\",\n\"21053\",\n\"CASTELLANZA\",\n\"45.5994841\",\n\"8.87237785\",\n\"{'latitude': '45.5994841', 'longitude': '8.87237785'}\",\n\"1\",\n\"1\",\n\"3\"],\n [{\n            'v': 4,\n            'f': \"4\",\n        },\n\"OSPEDALE MORELLI - SONDALO\",\n\"323 - ATS DELLA MONTAGNA\",\n\"030904-00\",\n\"VIA ZUBIANI 33\",\n\"23039\",\n\"SONDALO\",\n\"46.33431031\",\n\"10.32968894\",\n\"{'latitude': '46.33431031', 'longitude': '10.32968894'}\",\n\"3\",\n\"3\",\n\"7\"]],\n        columns: [[\"number\", \"index\"], [\"string\", \"descrizione_struttura_di\"], [\"string\", \"ats_struttura\"], [\"string\", \"codice_struttura_di_ricovero\"], [\"string\", \"indirizzo\"], [\"string\", \"cap\"], [\"string\", \"localita\"], [\"string\", \"coordinata_geografica_x\"], [\"string\", \"coordinata_geografica_y\"], [\"string\", \"geocoded_column\"], [\"string\", \":@computed_region_ttgh_9sm5\"], [\"string\", \":@computed_region_6hky_swhk\"], [\"string\", \":@computed_region_uypf_y6ry\"]],\n        columnOptions: [{\"width\": \"1px\", \"className\": \"index_column\"}],\n        rowsPerPage: 25,\n        helpUrl: \"https://colab.research.google.com/notebooks/data_table.ipynb\",\n        suppressOutputScrolling: true,\n        minimumWidth: undefined,\n      });\n    ",
            "text/html": [
              "<div>\n",
              "<style scoped>\n",
              "    .dataframe tbody tr th:only-of-type {\n",
              "        vertical-align: middle;\n",
              "    }\n",
              "\n",
              "    .dataframe tbody tr th {\n",
              "        vertical-align: top;\n",
              "    }\n",
              "\n",
              "    .dataframe thead th {\n",
              "        text-align: right;\n",
              "    }\n",
              "</style>\n",
              "<table border=\"1\" class=\"dataframe\">\n",
              "  <thead>\n",
              "    <tr style=\"text-align: right;\">\n",
              "      <th></th>\n",
              "      <th>descrizione_struttura_di</th>\n",
              "      <th>ats_struttura</th>\n",
              "      <th>codice_struttura_di_ricovero</th>\n",
              "      <th>indirizzo</th>\n",
              "      <th>cap</th>\n",
              "      <th>localita</th>\n",
              "      <th>coordinata_geografica_x</th>\n",
              "      <th>coordinata_geografica_y</th>\n",
              "      <th>geocoded_column</th>\n",
              "      <th>:@computed_region_ttgh_9sm5</th>\n",
              "      <th>:@computed_region_6hky_swhk</th>\n",
              "      <th>:@computed_region_uypf_y6ry</th>\n",
              "    </tr>\n",
              "  </thead>\n",
              "  <tbody>\n",
              "    <tr>\n",
              "      <th>0</th>\n",
              "      <td>OSPEDALE UBOLDO - CERNUSCO S/NAVIGLIO</td>\n",
              "      <td>321 - ATS DELLA CITTA' METROPOLITANA DI MILANO</td>\n",
              "      <td>030085-00</td>\n",
              "      <td>VIA UBOLDO 21</td>\n",
              "      <td>20063</td>\n",
              "      <td>CERNUSCO SUL NAVIGLIO</td>\n",
              "      <td>45.52331438</td>\n",
              "      <td>9.328467624</td>\n",
              "      <td>{'latitude': '45.52331438', 'longitude': '9.328467624'}</td>\n",
              "      <td>4</td>\n",
              "      <td>4</td>\n",
              "      <td>8</td>\n",
              "    </tr>\n",
              "    <tr>\n",
              "      <th>1</th>\n",
              "      <td>CASA DI CURA BEATO L.TALAMONI-LECCO</td>\n",
              "      <td>324 - ATS DELLA BRIANZA</td>\n",
              "      <td>030033-00</td>\n",
              "      <td>VIA SAN NICOLO' 12</td>\n",
              "      <td>23900</td>\n",
              "      <td>LECCO</td>\n",
              "      <td>45.85685986</td>\n",
              "      <td>9.390429409</td>\n",
              "      <td>{'latitude': '45.85685986', 'longitude': '9.390429409'}</td>\n",
              "      <td>10</td>\n",
              "      <td>10</td>\n",
              "      <td>5</td>\n",
              "    </tr>\n",
              "    <tr>\n",
              "      <th>2</th>\n",
              "      <td>OSPEDALE M. MELLONI - MILANO</td>\n",
              "      <td>321 - ATS DELLA CITTA' METROPOLITANA DI MILANO</td>\n",
              "      <td>030057-00</td>\n",
              "      <td>VIA MACEDONIO MELLONI 52</td>\n",
              "      <td>20129</td>\n",
              "      <td>MILANO</td>\n",
              "      <td>45.4666791</td>\n",
              "      <td>9.219506903</td>\n",
              "      <td>{'latitude': '45.4666791', 'longitude': '9.219506903'}</td>\n",
              "      <td>4</td>\n",
              "      <td>4</td>\n",
              "      <td>8</td>\n",
              "    </tr>\n",
              "    <tr>\n",
              "      <th>3</th>\n",
              "      <td>CASA DI CURA SANTA MARIA - CASTELLANZA</td>\n",
              "      <td>322 - ATS DELL'INSUBRIA</td>\n",
              "      <td>030015-00</td>\n",
              "      <td>VIALE PIEMONTE, 70</td>\n",
              "      <td>21053</td>\n",
              "      <td>CASTELLANZA</td>\n",
              "      <td>45.5994841</td>\n",
              "      <td>8.87237785</td>\n",
              "      <td>{'latitude': '45.5994841', 'longitude': '8.87237785'}</td>\n",
              "      <td>1</td>\n",
              "      <td>1</td>\n",
              "      <td>3</td>\n",
              "    </tr>\n",
              "    <tr>\n",
              "      <th>4</th>\n",
              "      <td>OSPEDALE MORELLI - SONDALO</td>\n",
              "      <td>323 - ATS DELLA MONTAGNA</td>\n",
              "      <td>030904-00</td>\n",
              "      <td>VIA ZUBIANI 33</td>\n",
              "      <td>23039</td>\n",
              "      <td>SONDALO</td>\n",
              "      <td>46.33431031</td>\n",
              "      <td>10.32968894</td>\n",
              "      <td>{'latitude': '46.33431031', 'longitude': '10.32968894'}</td>\n",
              "      <td>3</td>\n",
              "      <td>3</td>\n",
              "      <td>7</td>\n",
              "    </tr>\n",
              "  </tbody>\n",
              "</table>\n",
              "</div>"
            ],
            "text/plain": [
              "                 descrizione_struttura_di  ... :@computed_region_uypf_y6ry\n",
              "0   OSPEDALE UBOLDO - CERNUSCO S/NAVIGLIO  ...                           8\n",
              "1     CASA DI CURA BEATO L.TALAMONI-LECCO  ...                           5\n",
              "2            OSPEDALE M. MELLONI - MILANO  ...                           8\n",
              "3  CASA DI CURA SANTA MARIA - CASTELLANZA  ...                           3\n",
              "4              OSPEDALE MORELLI - SONDALO  ...                           7\n",
              "\n",
              "[5 rows x 12 columns]"
            ]
          },
          "metadata": {},
          "execution_count": 172
        }
      ]
    },
    {
      "cell_type": "code",
      "metadata": {
        "colab": {
          "base_uri": "https://localhost:8080/"
        },
        "id": "xtqJHJzMx12o",
        "outputId": "fe84a9ac-c3f4-455d-de50-cd576ccbf5cd"
      },
      "source": [
        "df_georef_strutture.info()"
      ],
      "execution_count": null,
      "outputs": [
        {
          "output_type": "stream",
          "name": "stdout",
          "text": [
            "<class 'pandas.core.frame.DataFrame'>\n",
            "RangeIndex: 212 entries, 0 to 211\n",
            "Data columns (total 12 columns):\n",
            " #   Column                        Non-Null Count  Dtype \n",
            "---  ------                        --------------  ----- \n",
            " 0   descrizione_struttura_di      212 non-null    object\n",
            " 1   ats_struttura                 212 non-null    object\n",
            " 2   codice_struttura_di_ricovero  212 non-null    object\n",
            " 3   indirizzo                     212 non-null    object\n",
            " 4   cap                           212 non-null    object\n",
            " 5   localita                      212 non-null    object\n",
            " 6   coordinata_geografica_x       212 non-null    object\n",
            " 7   coordinata_geografica_y       212 non-null    object\n",
            " 8   geocoded_column               212 non-null    object\n",
            " 9   :@computed_region_ttgh_9sm5   212 non-null    object\n",
            " 10  :@computed_region_6hky_swhk   212 non-null    object\n",
            " 11  :@computed_region_uypf_y6ry   212 non-null    object\n",
            "dtypes: object(12)\n",
            "memory usage: 20.0+ KB\n"
          ]
        }
      ]
    },
    {
      "cell_type": "markdown",
      "metadata": {
        "id": "LbFGZ1xs8AN9"
      },
      "source": [
        "### Transformations to perform on the data"
      ]
    },
    {
      "cell_type": "markdown",
      "metadata": {
        "id": "yTQ_mxbr7-yi"
      },
      "source": [
        "1.   Drop Columns :\n",
        "\n",
        "*  :@computed_region_ttgh_9sm5\n",
        "*  :@computed_region_6hky_swhk\n",
        "*  :@computed_region_uypf_y6ry\n",
        "*  descrizione_struttura_di\n",
        "*  ats_struttura\n",
        "*  indirizzo\n",
        "*  cap\n",
        "*  localita\n",
        "\n",
        "2.   Rename columns\n",
        "\n",
        "*  codice_struttura_ricovero --> codice_struttura\n"
      ]
    },
    {
      "cell_type": "code",
      "metadata": {
        "id": "6dtVsQx4xc8r"
      },
      "source": [
        "def drop_columns(df):\n",
        "  df.drop(columns = ['geocoded_column',\n",
        "                     ':@computed_region_ttgh_9sm5',\n",
        "                     ':@computed_region_6hky_swhk',\n",
        "                     ':@computed_region_uypf_y6ry',\n",
        "                     'localita',\n",
        "                     'cap',\n",
        "                     'ats_struttura',\n",
        "                     'descrizione_struttura_di',\n",
        "                     'indirizzo'],inplace=True\n",
        "          )\n",
        "  return df"
      ],
      "execution_count": 173,
      "outputs": []
    },
    {
      "cell_type": "code",
      "metadata": {
        "id": "G0D2SUC4Nfiz"
      },
      "source": [
        "def rename_columns(df):\n",
        "  df.rename(columns={'codice_struttura_di_ricovero': 'COD_STRUTTURA',\n",
        "                     'coordinata_geografica_x': 'COORDINATA_X',\n",
        "                     'coordinata_geografica_y' : 'COORDINATA_Y',\n",
        "                     'cod_ats': 'COD_ATS',\n",
        "                     'descr_ats': 'DESCR_ATS'\n",
        "                     },inplace=True)\n",
        "  return df"
      ],
      "execution_count": 174,
      "outputs": []
    },
    {
      "cell_type": "code",
      "metadata": {
        "id": "Z5DLH29lNpH5"
      },
      "source": [
        "def get_ats_code(df):\n",
        "  df['cod_ats'] = df['ats_struttura'].apply(lambda x: re.search(r'^.*?(?= -)',str(x),re.IGNORECASE).group())\n",
        "  return df"
      ],
      "execution_count": 175,
      "outputs": []
    },
    {
      "cell_type": "code",
      "metadata": {
        "id": "jOJ7ZmO2TUM-"
      },
      "source": [
        "def get_ats_descr(df):\n",
        "  df['descr_ats'] =  df['ats_struttura'].apply(lambda x: re.search(r'[^-]*$',str(x),re.IGNORECASE).group())\n",
        "  return df"
      ],
      "execution_count": 176,
      "outputs": []
    },
    {
      "cell_type": "code",
      "metadata": {
        "colab": {
          "base_uri": "https://localhost:8080/",
          "height": 623
        },
        "id": "YQwrPeEqPY4v",
        "outputId": "384d706a-b1b5-44b1-ee0c-c7769454cbd9"
      },
      "source": [
        "get_ats_code(df_georef_strutture)\n",
        "get_ats_descr(df_georef_strutture)\n",
        "rename_columns(df_georef_strutture)\n",
        "drop_columns(df_georef_strutture)"
      ],
      "execution_count": 177,
      "outputs": [
        {
          "output_type": "execute_result",
          "data": {
            "application/vnd.google.colaboratory.module+javascript": "\n      import \"https://ssl.gstatic.com/colaboratory/data_table/a6224c040fa35dcf/data_table.js\";\n\n      window.createDataTable({\n        data: [[{\n            'v': 0,\n            'f': \"0\",\n        },\n\"030085-00\",\n\"45.52331438\",\n\"9.328467624\",\n\"321\",\n\" ATS DELLA CITTA' METROPOLITANA DI MILANO\"],\n [{\n            'v': 1,\n            'f': \"1\",\n        },\n\"030033-00\",\n\"45.85685986\",\n\"9.390429409\",\n\"324\",\n\" ATS DELLA BRIANZA\"],\n [{\n            'v': 2,\n            'f': \"2\",\n        },\n\"030057-00\",\n\"45.4666791\",\n\"9.219506903\",\n\"321\",\n\" ATS DELLA CITTA' METROPOLITANA DI MILANO\"],\n [{\n            'v': 3,\n            'f': \"3\",\n        },\n\"030015-00\",\n\"45.5994841\",\n\"8.87237785\",\n\"322\",\n\" ATS DELL'INSUBRIA\"],\n [{\n            'v': 4,\n            'f': \"4\",\n        },\n\"030904-00\",\n\"46.33431031\",\n\"10.32968894\",\n\"323\",\n\" ATS DELLA MONTAGNA\"],\n [{\n            'v': 5,\n            'f': \"5\",\n        },\n\"030352-00\",\n\"45.55780008\",\n\"9.238266444\",\n\"321\",\n\" ATS DELLA CITTA' METROPOLITANA DI MILANO\"],\n [{\n            'v': 6,\n            'f': \"6\",\n        },\n\"030078-00\",\n\"45.6084494\",\n\"9.3580982\",\n\"324\",\n\" ATS DELLA BRIANZA\"],\n [{\n            'v': 7,\n            'f': \"7\",\n        },\n\"030905-00\",\n\"45.68701679\",\n\"9.63853045\",\n\"325\",\n\" ATS DI BERGAMO\"],\n [{\n            'v': 8,\n            'f': \"8\",\n        },\n\"030192-00\",\n\"44.82440094\",\n\"9.190364258\",\n\"328\",\n\" ATS DI PAVIA\"],\n [{\n            'v': 9,\n            'f': \"9\",\n        },\n\"030196-00\",\n\"45.18407925\",\n\"9.15002725\",\n\"328\",\n\" ATS DI PAVIA\"],\n [{\n            'v': 10,\n            'f': \"10\",\n        },\n\"030924-00\",\n\"45.19564231\",\n\"9.147460893\",\n\"328\",\n\" ATS DI PAVIA\"],\n [{\n            'v': 11,\n            'f': \"11\",\n        },\n\"030144-00\",\n\"45.68012929\",\n\"9.661748158\",\n\"325\",\n\" ATS DI BERGAMO\"],\n [{\n            'v': 12,\n            'f': \"12\",\n        },\n\"030136-00\",\n\"45.79402833\",\n\"9.828039911\",\n\"325\",\n\" ATS DI BERGAMO\"],\n [{\n            'v': 13,\n            'f': \"13\",\n        },\n\"030191-00\",\n\"45.0916877\",\n\"8.730877198\",\n\"328\",\n\" ATS DI PAVIA\"],\n [{\n            'v': 14,\n            'f': \"14\",\n        },\n\"030056-00\",\n\"45.48653779\",\n\"9.167108499\",\n\"321\",\n\" ATS DELLA CITTA' METROPOLITANA DI MILANO\"],\n [{\n            'v': 15,\n            'f': \"15\",\n        },\n\"030199-00\",\n\"44.98670424\",\n\"8.99151061\",\n\"328\",\n\" ATS DI PAVIA\"],\n [{\n            'v': 16,\n            'f': \"16\",\n        },\n\"030936-01\",\n\"45.47160018\",\n\"9.145039766\",\n\"321\",\n\" ATS DELLA CITTA' METROPOLITANA DI MILANO\"],\n [{\n            'v': 17,\n            'f': \"17\",\n        },\n\"030032-00\",\n\"45.82321774\",\n\"9.060654411\",\n\"322\",\n\" ATS DELL'INSUBRIA\"],\n [{\n            'v': 18,\n            'f': \"18\",\n        },\n\"030074-00\",\n\"45.46739569\",\n\"8.892487975\",\n\"321\",\n\" ATS DELLA CITTA' METROPOLITANA DI MILANO\"],\n [{\n            'v': 19,\n            'f': \"19\",\n        },\n\"030916-00\",\n\"45.51662275\",\n\"9.121078554\",\n\"321\",\n\" ATS DELLA CITTA' METROPOLITANA DI MILANO\"],\n [{\n            'v': 20,\n            'f': \"20\",\n        },\n\"030176-00\",\n\"45.55381415\",\n\"10.18167955\",\n\"326\",\n\" ATS DI BRESCIA\"],\n [{\n            'v': 21,\n            'f': \"21\",\n        },\n\"030947-00\",\n\"45.41238569\",\n\"9.274941749\",\n\"321\",\n\" ATS DELLA CITTA' METROPOLITANA DI MILANO\"],\n [{\n            'v': 22,\n            'f': \"22\",\n        },\n\"030933-00\",\n\"45.30043391\",\n\"10.4802584\",\n\"327\",\n\" ATS DELLA VAL PADANA\"],\n [{\n            'v': 23,\n            'f': \"23\",\n        },\n\"030368-00\",\n\"45.5639585\",\n\"9.996236977\",\n\"326\",\n\" ATS DI BRESCIA\"],\n [{\n            'v': 24,\n            'f': \"24\",\n        },\n\"030198-00\",\n\"45.30665545\",\n\"8.869449753\",\n\"328\",\n\" ATS DI PAVIA\"],\n [{\n            'v': 25,\n            'f': \"25\",\n        },\n\"030138-00\",\n\"45.51886562\",\n\"9.751925604\",\n\"325\",\n\" ATS DI BERGAMO\"],\n [{\n            'v': 26,\n            'f': \"26\",\n        },\n\"030103-00\",\n\"45.48919423\",\n\"9.1450127\",\n\"321\",\n\" ATS DELLA CITTA' METROPOLITANA DI MILANO\"],\n [{\n            'v': 27,\n            'f': \"27\",\n        },\n\"030129-00\",\n\"45.53421646\",\n\"9.4136148\",\n\"321\",\n\" ATS DELLA CITTA' METROPOLITANA DI MILANO\"],\n [{\n            'v': 28,\n            'f': \"28\",\n        },\n\"030003-00\",\n\"45.83678354\",\n\"8.80650544\",\n\"322\",\n\" ATS DELL'INSUBRIA\"],\n [{\n            'v': 29,\n            'f': \"29\",\n        },\n\"030925-00\",\n\"45.460597\",\n\"9.196309144\",\n\"321\",\n\" ATS DELLA CITTA' METROPOLITANA DI MILANO\"],\n [{\n            'v': 30,\n            'f': \"30\",\n        },\n\"030146-00\",\n\"45.69772083\",\n\"9.655796731\",\n\"325\",\n\" ATS DI BERGAMO\"],\n [{\n            'v': 31,\n            'f': \"31\",\n        },\n\"030154-01\",\n\"45.539109\",\n\"9.933542695\",\n\"326\",\n\" ATS DI BRESCIA\"],\n [{\n            'v': 32,\n            'f': \"32\",\n        },\n\"030073-00\",\n\"45.5331359\",\n\"9.034592146\",\n\"321\",\n\" ATS DELLA CITTA' METROPOLITANA DI MILANO\"],\n [{\n            'v': 33,\n            'f': \"33\",\n        },\n\"030148-00\",\n\"45.6979818\",\n\"9.574934371\",\n\"325\",\n\" ATS DI BERGAMO\"],\n [{\n            'v': 34,\n            'f': \"34\",\n        },\n\"030125-00\",\n\"45.44920934\",\n\"9.093293168\",\n\"321\",\n\" ATS DELLA CITTA' METROPOLITANA DI MILANO\"],\n [{\n            'v': 35,\n            'f': \"35\",\n        },\n\"030353-00\",\n\"45.33844531\",\n\"10.66900052\",\n\"327\",\n\" ATS DELLA VAL PADANA\"],\n [{\n            'v': 36,\n            'f': \"36\",\n        },\n\"030084-00\",\n\"45.5226276\",\n\"9.51504404\",\n\"321\",\n\" ATS DELLA CITTA' METROPOLITANA DI MILANO\"],\n [{\n            'v': 37,\n            'f': \"37\",\n        },\n\"030337-00\",\n\"45.71416325\",\n\"9.679333503\",\n\"325\",\n\" ATS DI BERGAMO\"],\n [{\n            'v': 38,\n            'f': \"38\",\n        },\n\"030912-00\",\n\"45.5258802\",\n\"9.21380214\",\n\"321\",\n\" ATS DELLA CITTA' METROPOLITANA DI MILANO\"],\n [{\n            'v': 39,\n            'f': \"39\",\n        },\n\"030104-00\",\n\"45.50028554\",\n\"9.22872216\",\n\"321\",\n\" ATS DELLA CITTA' METROPOLITANA DI MILANO\"],\n [{\n            'v': 40,\n            'f': \"40\",\n        },\n\"030367-00\",\n\"45.46292624\",\n\"9.171718482\",\n\"321\",\n\" ATS DELLA CITTA' METROPOLITANA DI MILANO\"],\n [{\n            'v': 41,\n            'f': \"41\",\n        },\n\"030269-00\",\n\"45.45542779\",\n\"9.19174516\",\n\"321\",\n\" ATS DELLA CITTA' METROPOLITANA DI MILANO\"],\n [{\n            'v': 42,\n            'f': \"42\",\n        },\n\"030011-00\",\n\"45.90636846\",\n\"8.86029249\",\n\"322\",\n\" ATS DELL'INSUBRIA\"],\n [{\n            'v': 43,\n            'f': \"43\",\n        },\n\"030920-00\",\n\"45.69919245\",\n\"9.298423314\",\n\"324\",\n\" ATS DELLA BRIANZA\"],\n [{\n            'v': 44,\n            'f': \"44\",\n        },\n\"030381-00\",\n\"45.60018518\",\n\"9.258430902\",\n\"324\",\n\" ATS DELLA BRIANZA\"],\n [{\n            'v': 45,\n            'f': \"45\",\n        },\n\"030110-00\",\n\"45.47465199\",\n\"9.12919628\",\n\"321\",\n\" ATS DELLA CITTA' METROPOLITANA DI MILANO\"],\n [{\n            'v': 46,\n            'f': \"46\",\n        },\n\"030156-00\",\n\"45.4098217\",\n\"10.56462005\",\n\"326\",\n\" ATS DI BRESCIA\"],\n [{\n            'v': 47,\n            'f': \"47\",\n        },\n\"030355-00\",\n\"44.98886566\",\n\"10.75395036\",\n\"327\",\n\" ATS DELLA VAL PADANA\"],\n [{\n            'v': 48,\n            'f': \"48\",\n        },\n\"030133-00\",\n\"45.73066614\",\n\"9.725890902\",\n\"325\",\n\" ATS DI BERGAMO\"],\n [{\n            'v': 49,\n            'f': \"49\",\n        },\n\"030388-00\",\n\"45.59495258\",\n\"8.760134527\",\n\"322\",\n\" ATS DELL'INSUBRIA\"],\n [{\n            'v': 50,\n            'f': \"50\",\n        },\n\"030219-00\",\n\"45.14605997\",\n\"10.0131151\",\n\"327\",\n\" ATS DELLA VAL PADANA\"],\n [{\n            'v': 51,\n            'f': \"51\",\n        },\n\"030080-00\",\n\"45.16973747\",\n\"9.653457016\",\n\"321\",\n\" ATS DELLA CITTA' METROPOLITANA DI MILANO\"],\n [{\n            'v': 52,\n            'f': \"52\",\n        },\n\"030945-00\",\n\"45.18918498\",\n\"9.152949575\",\n\"328\",\n\" ATS DI PAVIA\"],\n [{\n            'v': 53,\n            'f': \"53\",\n        },\n\"030075-00\",\n\"45.39521424\",\n\"8.914139623\",\n\"321\",\n\" ATS DELLA CITTA' METROPOLITANA DI MILANO\"],\n [{\n            'v': 54,\n            'f': \"54\",\n        },\n\"030171-00\",\n\"45.53447545\",\n\"10.21629149\",\n\"326\",\n\" ATS DI BRESCIA\"],\n [{\n            'v': 55,\n            'f': \"55\",\n        },\n\"030177-00\",\n\"45.62633479\",\n\"10.58519616\",\n\"326\",\n\" ATS DI BRESCIA\"],\n [{\n            'v': 56,\n            'f': \"56\",\n        },\n\"030209-00\",\n\"45.35443602\",\n\"9.681217036\",\n\"327\",\n\" ATS DELLA VAL PADANA\"],\n [{\n            'v': 57,\n            'f': \"57\",\n        },\n\"030914-00\",\n\"45.43323243\",\n\"9.15820984\",\n\"321\",\n\" ATS DELLA CITTA' METROPOLITANA DI MILANO\"],\n [{\n            'v': 58,\n            'f': \"58\",\n        },\n\"030190-00\",\n\"45.31085767\",\n\"9.01807765\",\n\"328\",\n\" ATS DI PAVIA\"],\n [{\n            'v': 59,\n            'f': \"59\",\n        },\n\"030131-00\",\n\"45.5109663\",\n\"9.610034385\",\n\"325\",\n\" ATS DI BERGAMO\"],\n [{\n            'v': 60,\n            'f': \"60\",\n        },\n\"030380-00\",\n\"44.92676023\",\n\"10.52220607\",\n\"327\",\n\" ATS DELLA VAL PADANA\"],\n [{\n            'v': 61,\n            'f': \"61\",\n        },\n\"030042-00\",\n\"46.1707552\",\n\"9.879429303\",\n\"323\",\n\" ATS DELLA MONTAGNA\"],\n [{\n            'v': 62,\n            'f': \"62\",\n        },\n\"030107-00\",\n\"45.58576523\",\n\"9.272675642\",\n\"324\",\n\" ATS DELLA BRIANZA\"],\n [{\n            'v': 63,\n            'f': \"63\",\n        },\n\"030137-00\",\n\"45.81879185\",\n\"10.07513227\",\n\"325\",\n\" ATS DI BERGAMO\"],\n [{\n            'v': 64,\n            'f': \"64\",\n        },\n\"030145-00\",\n\"45.69587292\",\n\"9.656151701\",\n\"325\",\n\" ATS DI BERGAMO\"],\n [{\n            'v': 65,\n            'f': \"65\",\n        },\n\"030274-01\",\n\"45.92683281\",\n\"10.24320324\",\n\"323\",\n\" ATS DELLA MONTAGNA\"],\n [{\n            'v': 66,\n            'f': \"66\",\n        },\n\"030273-00\",\n\"44.97344044\",\n\"10.46574666\",\n\"327\",\n\" ATS DELLA VAL PADANA\"],\n [{\n            'v': 67,\n            'f': \"67\",\n        },\n\"030112-00\",\n\"45.48443334\",\n\"9.153678061\",\n\"321\",\n\" ATS DELLA CITTA' METROPOLITANA DI MILANO\"],\n [{\n            'v': 68,\n            'f': \"68\",\n        },\n\"030907-00\",\n\"45.14135331\",\n\"10.77189591\",\n\"327\",\n\" ATS DELLA VAL PADANA\"],\n [{\n            'v': 69,\n            'f': \"69\",\n        },\n\"030347-00\",\n\"45.76190356\",\n\"9.200639519\",\n\"322\",\n\" ATS DELL'INSUBRIA\"],\n [{\n            'v': 70,\n            'f': \"70\",\n        },\n\"030281-01\",\n\"45.57377537\",\n\"8.9059185\",\n\"321\",\n\" ATS DELLA CITTA' METROPOLITANA DI MILANO\"],\n [{\n            'v': 71,\n            'f': \"71\",\n        },\n\"030936-02\",\n\"45.46946465\",\n\"9.165852793\",\n\"321\",\n\" ATS DELLA CITTA' METROPOLITANA DI MILANO\"],\n [{\n            'v': 72,\n            'f': \"72\",\n        },\n\"030915-00\",\n\"45.47021245\",\n\"9.113101303\",\n\"321\",\n\" ATS DELLA CITTA' METROPOLITANA DI MILANO\"],\n [{\n            'v': 73,\n            'f': \"73\",\n        },\n\"030362-00\",\n\"45.5131176\",\n\"10.32973403\",\n\"326\",\n\" ATS DI BRESCIA\"],\n [{\n            'v': 74,\n            'f': \"74\",\n        },\n\"030281-02\",\n\"45.51029539\",\n\"8.821298057\",\n\"321\",\n\" ATS DELLA CITTA' METROPOLITANA DI MILANO\"],\n [{\n            'v': 75,\n            'f': \"75\",\n        },\n\"030946-00\",\n\"45.52260386\",\n\"9.173701975\",\n\"321\",\n\" ATS DELLA CITTA' METROPOLITANA DI MILANO\"],\n [{\n            'v': 76,\n            'f': \"76\",\n        },\n\"030035-00\",\n\"45.99845593\",\n\"9.0548113\",\n\"323\",\n\" ATS DELLA MONTAGNA\"],\n [{\n            'v': 77,\n            'f': \"77\",\n        },\n\"030097-00\",\n\"45.48448443\",\n\"9.224677218\",\n\"321\",\n\" ATS DELLA CITTA' METROPOLITANA DI MILANO\"],\n [{\n            'v': 78,\n            'f': \"78\",\n        },\n\"030366-00\",\n\"45.36592235\",\n\"10.21740019\",\n\"326\",\n\" ATS DI BRESCIA\"],\n [{\n            'v': 79,\n            'f': \"79\",\n        },\n\"030939-00\",\n\"45.20086141\",\n\"9.14034225\",\n\"328\",\n\" ATS DI PAVIA\"],\n [{\n            'v': 80,\n            'f': \"80\",\n        },\n\"030158-00\",\n\"45.36592235\",\n\"10.21740019\",\n\"326\",\n\" ATS DI BRESCIA\"],\n [{\n            'v': 81,\n            'f': \"81\",\n        },\n\"030922-00\",\n\"45.4742834\",\n\"9.231360095\",\n\"321\",\n\" ATS DELLA CITTA' METROPOLITANA DI MILANO\"],\n [{\n            'v': 82,\n            'f': \"82\",\n        },\n\"030389-02\",\n\"45.45542036\",\n\"9.190935479\",\n\"321\",\n\" ATS DELLA CITTA' METROPOLITANA DI MILANO\"],\n [{\n            'v': 83,\n            'f': \"83\",\n        },\n\"030004-00\",\n\"45.6213059\",\n\"8.847283842\",\n\"322\",\n\" ATS DELL'INSUBRIA\"],\n [{\n            'v': 84,\n            'f': \"84\",\n        },\n\"030077-00\",\n\"45.57461911\",\n\"9.52741623\",\n\"321\",\n\" ATS DELLA CITTA' METROPOLITANA DI MILANO\"],\n [{\n            'v': 85,\n            'f': \"85\",\n        },\n\"030068-00\",\n\"45.62966255\",\n\"9.197498905\",\n\"324\",\n\" ATS DELLA BRIANZA\"],\n [{\n            'v': 86,\n            'f': \"86\",\n        },\n\"030083-00\",\n\"45.23084464\",\n\"9.429143644\",\n\"321\",\n\" ATS DELLA CITTA' METROPOLITANA DI MILANO\"],\n [{\n            'v': 87,\n            'f': \"87\",\n        },\n\"030134-00\",\n\"45.61966765\",\n\"9.79832181\",\n\"325\",\n\" ATS DI BERGAMO\"],\n [{\n            'v': 88,\n            'f': \"88\",\n        },\n\"030184-00\",\n\"45.35666995\",\n\"10.14405823\",\n\"326\",\n\" ATS DI BRESCIA\"],\n [{\n            'v': 89,\n            'f': \"89\",\n        },\n\"030101-00\",\n\"45.46377832\",\n\"9.205142833\",\n\"321\",\n\" ATS DELLA CITTA' METROPOLITANA DI MILANO\"],\n [{\n            'v': 90,\n            'f': \"90\",\n        },\n\"030284-00\",\n\"45.7718207\",\n\"9.271440181\",\n\"324\",\n\" ATS DELLA BRIANZA\"],\n [{\n            'v': 91,\n            'f': \"91\",\n        },\n\"030026-00\",\n\"46.01845912\",\n\"9.226188677\",\n\"323\",\n\" ATS DELLA MONTAGNA\"],\n [{\n            'v': 92,\n            'f': \"92\",\n        },\n\"030228-00\",\n\"45.10602987\",\n\"10.47646734\",\n\"327\",\n\" ATS DELLA VAL PADANA\"],\n [{\n            'v': 93,\n            'f': \"93\",\n        },\n\"030932-00\",\n\"45.65171815\",\n\"10.25368782\",\n\"326\",\n\" ATS DI BRESCIA\"],\n [{\n            'v': 94,\n            'f': \"94\",\n        },\n\"030239-00\",\n\"45.03582107\",\n\"11.11733222\",\n\"327\",\n\" ATS DELLA VAL PADANA\"],\n [{\n            'v': 95,\n            'f': \"95\",\n        },\n\"030942-00\",\n\"45.52393715\",\n\"10.20232918\",\n\"326\",\n\" ATS DI BRESCIA\"],\n [{\n            'v': 96,\n            'f': \"96\",\n        },\n\"030194-00\",\n\"44.99301965\",\n\"9.014096301\",\n\"328\",\n\" ATS DI PAVIA\"],\n [{\n            'v': 97,\n            'f': \"97\",\n        },\n\"030045-00\",\n\"46.13375722\",\n\"9.57394838\",\n\"323\",\n\" ATS DELLA MONTAGNA\"],\n [{\n            'v': 98,\n            'f': \"98\",\n        },\n\"030908-00\",\n\"45.1439181\",\n\"10.02604335\",\n\"327\",\n\" ATS DELLA VAL PADANA\"],\n [{\n            'v': 99,\n            'f': \"99\",\n        },\n\"030940-00\",\n\"45.03166562\",\n\"9.286187499\",\n\"328\",\n\" ATS DI PAVIA\"],\n [{\n            'v': 100,\n            'f': \"100\",\n        },\n\"030109-00\",\n\"45.60538019\",\n\"9.116211842\",\n\"324\",\n\" ATS DELLA BRIANZA\"],\n [{\n            'v': 101,\n            'f': \"101\",\n        },\n\"030361-00\",\n\"45.61712957\",\n\"9.592991167\",\n\"325\",\n\" ATS DI BERGAMO\"],\n [{\n            'v': 102,\n            'f': \"102\",\n        },\n\"030147-00\",\n\"45.60120225\",\n\"9.594341049\",\n\"325\",\n\" ATS DI BERGAMO\"],\n [{\n            'v': 103,\n            'f': \"103\",\n        },\n\"030030-00\",\n\"45.810159\",\n\"9.087697664\",\n\"322\",\n\" ATS DELL'INSUBRIA\"],\n [{\n            'v': 104,\n            'f': \"104\",\n        },\n\"030072-00\",\n\"45.35900581\",\n\"9.33587163\",\n\"321\",\n\" ATS DELLA CITTA' METROPOLITANA DI MILANO\"],\n [{\n            'v': 105,\n            'f': \"105\",\n        },\n\"030910-00\",\n\"45.47932558\",\n\"9.192429067\",\n\"321\",\n\" ATS DELLA CITTA' METROPOLITANA DI MILANO\"],\n [{\n            'v': 106,\n            'f': \"106\",\n        },\n\"030038-00\",\n\"45.73037775\",\n\"8.997195928\",\n\"322\",\n\" ATS DELL'INSUBRIA\"],\n [{\n            'v': 107,\n            'f': \"107\",\n        },\n\"030943-00\",\n\"45.37243983\",\n\"9.168254354\",\n\"321\",\n\" ATS DELLA CITTA' METROPOLITANA DI MILANO\"],\n [{\n            'v': 108,\n            'f': \"108\",\n        },\n\"030923-00\",\n\"45.4769406\",\n\"9.233322154\",\n\"321\",\n\" ATS DELLA CITTA' METROPOLITANA DI MILANO\"],\n [{\n            'v': 109,\n            'f': \"109\",\n        },\n\"030143-00\",\n\"45.68890477\",\n\"9.678665493\",\n\"325\",\n\" ATS DI BERGAMO\"],\n [{\n            'v': 110,\n            'f': \"110\",\n        },\n\"030121-00\",\n\"45.495239\",\n\"9.189485346\",\n\"321\",\n\" ATS DELLA CITTA' METROPOLITANA DI MILANO\"],\n [{\n            'v': 111,\n            'f': \"111\",\n        },\n\"030023-00\",\n\"46.0479647\",\n\"9.306877097\",\n\"324\",\n\" ATS DELLA BRIANZA\"],\n [{\n            'v': 112,\n            'f': \"112\",\n        },\n\"030283-00\",\n\"45.54875995\",\n\"9.049537047\",\n\"321\",\n\" ATS DELLA CITTA' METROPOLITANA DI MILANO\"],\n [{\n            'v': 113,\n            'f': \"113\",\n        },\n\"030389-01\",\n\"45.45355635\",\n\"9.208149892\",\n\"321\",\n\" ATS DELLA CITTA' METROPOLITANA DI MILANO\"],\n [{\n            'v': 114,\n            'f': \"114\",\n        },\n\"030017-00\",\n\"45.60998685\",\n\"8.906731831\",\n\"322\",\n\" ATS DELL'INSUBRIA\"],\n [{\n            'v': 115,\n            'f': \"115\",\n        },\n\"030931-00\",\n\"45.79546639\",\n\"9.286068367\",\n\"324\",\n\" ATS DELLA BRIANZA\"],\n [{\n            'v': 116,\n            'f': \"116\",\n        },\n\"030944-00\",\n\"45.61997557\",\n\"9.237478378\",\n\"324\",\n\" ATS DELLA BRIANZA\"],\n [{\n            'v': 117,\n            'f': \"117\",\n        },\n\"030105-00\",\n\"45.48161464\",\n\"9.204373629\",\n\"321\",\n\" ATS DELLA CITTA' METROPOLITANA DI MILANO\"],\n [{\n            'v': 118,\n            'f': \"118\",\n        },\n\"030275-00\",\n\"45.61653884\",\n\"10.11297177\",\n\"326\",\n\" ATS DI BRESCIA\"],\n [{\n            'v': 119,\n            'f': \"119\",\n        },\n\"030124-00\",\n\"45.45765179\",\n\"9.203453718\",\n\"321\",\n\" ATS DELLA CITTA' METROPOLITANA DI MILANO\"],\n [{\n            'v': 120,\n            'f': \"120\",\n        },\n\"030193-00\",\n\"45.32134211\",\n\"8.865051428\",\n\"328\",\n\" ATS DI PAVIA\"],\n [{\n            'v': 121,\n            'f': \"121\",\n        },\n\"030902-00\",\n\"45.80216962\",\n\"9.039360974\",\n\"322\",\n\" ATS DELL'INSUBRIA\"],\n [{\n            'v': 122,\n            'f': \"122\",\n        },\n\"030029-00\",\n\"45.81547075\",\n\"9.225044427\",\n\"322\",\n\" ATS DELL'INSUBRIA\"],\n [{\n            'v': 123,\n            'f': \"123\",\n        },\n\"030159-00\",\n\"45.412634\",\n\"10.40115173\",\n\"326\",\n\" ATS DI BRESCIA\"],\n [{\n            'v': 124,\n            'f': \"124\",\n        },\n\"030113-00\",\n\"45.45417026\",\n\"9.194804869\",\n\"321\",\n\" ATS DELLA CITTA' METROPOLITANA DI MILANO\"],\n [{\n            'v': 125,\n            'f': \"125\",\n        },\n\"030911-00\",\n\"45.45538453\",\n\"9.192742914\",\n\"321\",\n\" ATS DELLA CITTA' METROPOLITANA DI MILANO\"],\n [{\n            'v': 126,\n            'f': \"126\",\n        },\n\"030201-00\",\n\"45.05091539\",\n\"8.805685195\",\n\"328\",\n\" ATS DI PAVIA\"],\n [{\n            'v': 127,\n            'f': \"127\",\n        },\n\"030167-00\",\n\"45.55518065\",\n\"10.23255305\",\n\"326\",\n\" ATS DI BRESCIA\"],\n [{\n            'v': 128,\n            'f': \"128\",\n        },\n\"030100-00\",\n\"45.4640911\",\n\"9.219350473\",\n\"321\",\n\" ATS DELLA CITTA' METROPOLITANA DI MILANO\"],\n [{\n            'v': 129,\n            'f': \"129\",\n        },\n\"030169-00\",\n\"45.58889471\",\n\"10.15343799\",\n\"326\",\n\" ATS DI BRESCIA\"],\n [{\n            'v': 130,\n            'f': \"130\",\n        },\n\"030354-00\",\n\"45.68364972\",\n\"9.716990446\",\n\"325\",\n\" ATS DI BERGAMO\"],\n [{\n            'v': 131,\n            'f': \"131\",\n        },\n\"030203-00\",\n\"45.24991992\",\n\"8.754204769\",\n\"328\",\n\" ATS DI PAVIA\"],\n [{\n            'v': 132,\n            'f': \"132\",\n        },\n\"030369-00\",\n\"45.60021856\",\n\"9.885831465\",\n\"326\",\n\" ATS DI BRESCIA\"],\n [{\n            'v': 133,\n            'f': \"133\",\n        },\n\"030178-00\",\n\"45.55340624\",\n\"10.22787895\",\n\"326\",\n\" ATS DI BRESCIA\"],\n [{\n            'v': 134,\n            'f': \"134\",\n        },\n\"030031-00\",\n\"46.14307916\",\n\"9.300444741\",\n\"323\",\n\" ATS DELLA MONTAGNA\"],\n [{\n            'v': 135,\n            'f': \"135\",\n        },\n\"030364-00\",\n\"45.83602167\",\n\"8.659244286\",\n\"322\",\n\" ATS DELL'INSUBRIA\"],\n [{\n            'v': 136,\n            'f': \"136\",\n        },\n\"030282-02\",\n\"45.9965612\",\n\"8.745255601\",\n\"322\",\n\" ATS DELL'INSUBRIA\"],\n [{\n            'v': 137,\n            'f': \"137\",\n        },\n\"030357-00\",\n\"45.38879004\",\n\"10.49276831\",\n\"327\",\n\" ATS DELLA VAL PADANA\"],\n [{\n            'v': 138,\n            'f': \"138\",\n        },\n\"030215-00\",\n\"45.46840379\",\n\"9.514121032\",\n\"327\",\n\" ATS DELLA VAL PADANA\"],\n [{\n            'v': 139,\n            'f': \"139\",\n        },\n\"030949-00\",\n\"45.43526531\",\n\"9.266278113\",\n\"321\",\n\" ATS DELLA CITTA' METROPOLITANA DI MILANO\"],\n [{\n            'v': 140,\n            'f': \"140\",\n        },\n\"030108-00\",\n\"45.67668378\",\n\"9.239329931\",\n\"324\",\n\" ATS DELLA BRIANZA\"],\n [{\n            'v': 141,\n            'f': \"141\",\n        },\n\"030934-00\",\n\"45.44412644\",\n\"9.263140328\",\n\"321\",\n\" ATS DELLA CITTA' METROPOLITANA DI MILANO\"],\n [{\n            'v': 142,\n            'f': \"142\",\n        },\n\"030189-00\",\n\"45.06946449\",\n\"9.24543775\",\n\"328\",\n\" ATS DI PAVIA\"],\n [{\n            'v': 143,\n            'f': \"143\",\n        },\n\"030082-00\",\n\"45.66160686\",\n\"9.203187921\",\n\"324\",\n\" ATS DELLA BRIANZA\"],\n [{\n            'v': 144,\n            'f': \"144\",\n        },\n\"030058-00\",\n\"45.54412325\",\n\"9.218377646\",\n\"321\",\n\" ATS DELLA CITTA' METROPOLITANA DI MILANO\"],\n [{\n            'v': 145,\n            'f': \"145\",\n        },\n\"030024-00\",\n\"45.69980844\",\n\"9.4174883\",\n\"324\",\n\" ATS DELLA BRIANZA\"],\n [{\n            'v': 146,\n            'f': \"146\",\n        },\n\"030066-00\",\n\"45.58301974\",\n\"9.08975596\",\n\"321\",\n\" ATS DELLA CITTA' METROPOLITANA DI MILANO\"],\n [{\n            'v': 147,\n            'f': \"147\",\n        },\n\"030227-00\",\n\"45.22356119\",\n\"10.41218691\",\n\"327\",\n\" ATS DELLA VAL PADANA\"],\n [{\n            'v': 148,\n            'f': \"148\",\n        },\n\"030010-00\",\n\"45.7230613\",\n\"8.900866269\",\n\"322\",\n\" ATS DELL'INSUBRIA\"],\n [{\n            'v': 149,\n            'f': \"149\",\n        },\n\"030903-00\",\n\"45.85324969\",\n\"9.412681005\",\n\"324\",\n\" ATS DELLA BRIANZA\"],\n [{\n            'v': 150,\n            'f': \"150\",\n        },\n\"030087-00\",\n\"45.54139149\",\n\"9.117475812\",\n\"321\",\n\" ATS DELLA CITTA' METROPOLITANA DI MILANO\"],\n [{\n            'v': 151,\n            'f': \"151\",\n        },\n\"030025-00\",\n\"45.69120797\",\n\"9.185809933\",\n\"322\",\n\" ATS DELL'INSUBRIA\"],\n [{\n            'v': 152,\n            'f': \"152\",\n        },\n\"030359-00\",\n\"45.52357064\",\n\"9.329148846\",\n\"321\",\n\" ATS DELLA CITTA' METROPOLITANA DI MILANO\"],\n [{\n            'v': 153,\n            'f': \"153\",\n        },\n\"030183-00\",\n\"45.45536361\",\n\"10.50011777\",\n\"326\",\n\" ATS DI BRESCIA\"],\n [{\n            'v': 154,\n            'f': \"154\",\n        },\n\"030132-00\",\n\"45.87095258\",\n\"9.654290137\",\n\"325\",\n\" ATS DI BERGAMO\"],\n [{\n            'v': 155,\n            'f': \"155\",\n        },\n\"030044-00\",\n\"46.3222526\",\n\"9.398922312\",\n\"323\",\n\" ATS DELLA MONTAGNA\"],\n [{\n            'v': 156,\n            'f': \"156\",\n        },\n\"030259-00\",\n\"45.14613146\",\n\"10.77086348\",\n\"327\",\n\" ATS DELLA VAL PADANA\"],\n [{\n            'v': 157,\n            'f': \"157\",\n        },\n\"030162-00\",\n\"45.67627003\",\n\"10.18404631\",\n\"326\",\n\" ATS DI BRESCIA\"],\n [{\n            'v': 158,\n            'f': \"158\",\n        },\n\"030022-00\",\n\"45.73895486\",\n\"9.13994796\",\n\"322\",\n\" ATS DELL'INSUBRIA\"],\n [{\n            'v': 159,\n            'f': \"159\",\n        },\n\"030119-00\",\n\"45.4760442\",\n\"9.13871815\",\n\"321\",\n\" ATS DELLA CITTA' METROPOLITANA DI MILANO\"],\n [{\n            'v': 160,\n            'f': \"160\",\n        },\n\"030930-00\",\n\"45.71972605\",\n\"8.910916596\",\n\"322\",\n\" ATS DELL'INSUBRIA\"],\n [{\n            'v': 161,\n            'f': \"161\",\n        },\n\"030071-00\",\n\"45.5075716\",\n\"9.427667797\",\n\"321\",\n\" ATS DELLA CITTA' METROPOLITANA DI MILANO\"],\n [{\n            'v': 162,\n            'f': \"162\",\n        },\n\"030067-00\",\n\"45.31535435\",\n\"9.510140481\",\n\"321\",\n\" ATS DELLA CITTA' METROPOLITANA DI MILANO\"],\n [{\n            'v': 163,\n            'f': \"163\",\n        },\n\"030282-01\",\n\"45.89454799\",\n\"8.667453032\",\n\"322\",\n\" ATS DELL'INSUBRIA\"],\n [{\n            'v': 164,\n            'f': \"164\",\n        },\n\"030909-00\",\n\"45.60018518\",\n\"9.258430902\",\n\"324\",\n\" ATS DELLA BRIANZA\"],\n [{\n            'v': 165,\n            'f': \"165\",\n        },\n\"030154-02\",\n\"45.40203167\",\n\"9.926643819\",\n\"326\",\n\" ATS DI BRESCIA\"],\n [{\n            'v': 166,\n            'f': \"166\",\n        },\n\"030397-00\",\n\"45.93499796\",\n\"8.807148252\",\n\"322\",\n\" ATS DELL'INSUBRIA\"],\n [{\n            'v': 167,\n            'f': \"167\",\n        },\n\"030295-00\",\n\"45.51939749\",\n\"10.23594122\",\n\"326\",\n\" ATS DI BRESCIA\"],\n [{\n            'v': 168,\n            'f': \"168\",\n        },\n\"030935-00\",\n\"45.50615215\",\n\"9.267120553\",\n\"321\",\n\" ATS DELLA CITTA' METROPOLITANA DI MILANO\"],\n [{\n            'v': 169,\n            'f': \"169\",\n        },\n\"030051-00\",\n\"45.53549772\",\n\"9.224931236\",\n\"321\",\n\" ATS DELLA CITTA' METROPOLITANA DI MILANO\"],\n [{\n            'v': 170,\n            'f': \"170\",\n        },\n\"030197-00\",\n\"44.90760216\",\n\"9.031818908\",\n\"328\",\n\" ATS DI PAVIA\"],\n [{\n            'v': 171,\n            'f': \"171\",\n        },\n\"030948-00\",\n\"45.53648246\",\n\"9.218253071\",\n\"321\",\n\" ATS DELLA CITTA' METROPOLITANA DI MILANO\"],\n [{\n            'v': 172,\n            'f': \"172\",\n        },\n\"030274-02\",\n\"46.17850585\",\n\"10.33062365\",\n\"323\",\n\" ATS DELLA MONTAGNA\"],\n [{\n            'v': 173,\n            'f': \"173\",\n        },\n\"030378-00\",\n\"45.50915842\",\n\"9.188869233\",\n\"321\",\n\" ATS DELLA CITTA' METROPOLITANA DI MILANO\"],\n [{\n            'v': 174,\n            'f': \"174\",\n        },\n\"030356-00\",\n\"45.59055267\",\n\"9.6057062\",\n\"325\",\n\" ATS DI BERGAMO\"],\n [{\n            'v': 175,\n            'f': \"175\",\n        },\n\"030006-00\",\n\"45.6556815\",\n\"8.792407598\",\n\"322\",\n\" ATS DELL'INSUBRIA\"],\n [{\n            'v': 176,\n            'f': \"176\",\n        },\n\"030938-00\",\n\"45.20076006\",\n\"9.165603754\",\n\"328\",\n\" ATS DI PAVIA\"],\n [{\n            'v': 177,\n            'f': \"177\",\n        },\n\"030140-00\",\n\"45.68364972\",\n\"9.716990446\",\n\"325\",\n\" ATS DI BERGAMO\"],\n [{\n            'v': 178,\n            'f': \"178\",\n        },\n\"030202-00\",\n\"45.19256062\",\n\"9.167915475\",\n\"328\",\n\" ATS DI PAVIA\"],\n [{\n            'v': 179,\n            'f': \"179\",\n        },\n\"030379-00\",\n\"45.67198341\",\n\"9.97022195\",\n\"325\",\n\" ATS DI BERGAMO\"],\n [{\n            'v': 180,\n            'f': \"180\",\n        },\n\"030936-03\",\n\"45.28218\",\n\"9.871034\",\n\"321\",\n\" ATS DELLA CITTA' METROPOLITANA DI MILANO\"],\n [{\n            'v': 181,\n            'f': \"181\",\n        },\n\"030079-00\",\n\"45.1597709\",\n\"9.711137741\",\n\"321\",\n\" ATS DELLA CITTA' METROPOLITANA DI MILANO\"],\n [{\n            'v': 182,\n            'f': \"182\",\n        },\n\"030937-00\",\n\"45.4728564\",\n\"9.127758799\",\n\"321\",\n\" ATS DELLA CITTA' METROPOLITANA DI MILANO\"],\n [{\n            'v': 183,\n            'f': \"183\",\n        },\n\"030901-00\",\n\"45.80802245\",\n\"8.837196022\",\n\"322\",\n\" ATS DELL'INSUBRIA\"],\n [{\n            'v': 184,\n            'f': \"184\",\n        },\n\"030348-00\",\n\"45.61338653\",\n\"10.55269281\",\n\"326\",\n\" ATS DI BRESCIA\"],\n [{\n            'v': 185,\n            'f': \"185\",\n        },\n\"030009-00\",\n\"45.685279\",\n\"8.712203554\",\n\"322\",\n\" ATS DELL'INSUBRIA\"],\n [{\n            'v': 186,\n            'f': \"186\",\n        },\n\"030096-00\",\n\"45.45959714\",\n\"9.162037254\",\n\"321\",\n\" ATS DELLA CITTA' METROPOLITANA DI MILANO\"],\n [{\n            'v': 187,\n            'f': \"187\",\n        },\n\"030008-00\",\n\"45.62782133\",\n\"9.040169373\",\n\"322\",\n\" ATS DELL'INSUBRIA\"],\n [{\n            'v': 188,\n            'f': \"188\",\n        },\n\"030037-00\",\n\"45.79699056\",\n\"9.164084401\",\n\"322\",\n\" ATS DELL'INSUBRIA\"],\n [{\n            'v': 189,\n            'f': \"189\",\n        },\n\"030217-00\",\n\"45.13644491\",\n\"10.02550985\",\n\"327\",\n\" ATS DELLA VAL PADANA\"],\n [{\n            'v': 190,\n            'f': \"190\",\n        },\n\"030382-00\",\n\"45.89167965\",\n\"9.92275865\",\n\"325\",\n\" ATS DI BERGAMO\"],\n [{\n            'v': 191,\n            'f': \"191\",\n        },\n\"030384-00\",\n\"45.7292714\",\n\"9.70974934\",\n\"325\",\n\" ATS DI BERGAMO\"],\n [{\n            'v': 192,\n            'f': \"192\",\n        },\n\"030012-00\",\n\"45.77504281\",\n\"8.577891688\",\n\"322\",\n\" ATS DELL'INSUBRIA\"],\n [{\n            'v': 193,\n            'f': \"193\",\n        },\n\"030163-00\",\n\"45.66237981\",\n\"10.0510524\",\n\"326\",\n\" ATS DI BRESCIA\"],\n [{\n            'v': 194,\n            'f': \"194\",\n        },\n\"030218-00\",\n\"45.13781315\",\n\"10.03993266\",\n\"327\",\n\" ATS DELLA VAL PADANA\"],\n [{\n            'v': 195,\n            'f': \"195\",\n        },\n\"030294-00\",\n\"45.55521411\",\n\"10.23723847\",\n\"326\",\n\" ATS DI BRESCIA\"],\n [{\n            'v': 196,\n            'f': \"196\",\n        },\n\"030157-00\",\n\"45.58732834\",\n\"10.43793264\",\n\"326\",\n\" ATS DI BRESCIA\"],\n [{\n            'v': 197,\n            'f': \"197\",\n        },\n\"030360-00\",\n\"45.79402833\",\n\"9.828039911\",\n\"325\",\n\" ATS DI BERGAMO\"],\n [{\n            'v': 198,\n            'f': \"198\",\n        },\n\"030383-00\",\n\"45.07642589\",\n\"9.287853551\",\n\"328\",\n\" ATS DI PAVIA\"],\n [{\n            'v': 199,\n            'f': \"199\",\n        },\n\"030941-00\",\n\"45.44410928\",\n\"9.198811423\",\n\"321\",\n\" ATS DELLA CITTA' METROPOLITANA DI MILANO\"],\n [{\n            'v': 200,\n            'f': \"200\",\n        },\n\"030070-00\",\n\"45.67195975\",\n\"9.243645448\",\n\"324\",\n\" ATS DELLA BRIANZA\"],\n [{\n            'v': 201,\n            'f': \"201\",\n        },\n\"030906-00\",\n\"45.55518065\",\n\"10.23255305\",\n\"326\",\n\" ATS DI BRESCIA\"],\n [{\n            'v': 202,\n            'f': \"202\",\n        },\n\"030175-00\",\n\"45.54046465\",\n\"10.23159436\",\n\"326\",\n\" ATS DI BRESCIA\"],\n [{\n            'v': 203,\n            'f': \"203\",\n        },\n\"030081-00\",\n\"45.69189986\",\n\"9.206542795\",\n\"324\",\n\" ATS DELLA BRIANZA\"],\n [{\n            'v': 204,\n            'f': \"204\",\n        },\n\"030913-00\",\n\"45.50915842\",\n\"9.188869233\",\n\"321\",\n\" ATS DELLA CITTA' METROPOLITANA DI MILANO\"],\n [{\n            'v': 205,\n            'f': \"205\",\n        },\n\"030034-00\",\n\"45.85028614\",\n\"9.388156645\",\n\"324\",\n\" ATS DELLA BRIANZA\"],\n [{\n            'v': 206,\n            'f': \"206\",\n        },\n\"030363-00\",\n\"45.39348691\",\n\"9.210034549\",\n\"321\",\n\" ATS DELLA CITTA' METROPOLITANA DI MILANO\"],\n [{\n            'v': 207,\n            'f': \"207\",\n        },\n\"030161-00\",\n\"45.60526271\",\n\"10.52178742\",\n\"326\",\n\" ATS DI BRESCIA\"],\n [{\n            'v': 208,\n            'f': \"208\",\n        },\n\"030350-00\",\n\"45.69242145\",\n\"9.841738884\",\n\"325\",\n\" ATS DI BERGAMO\"],\n [{\n            'v': 209,\n            'f': \"209\",\n        },\n\"030149-00\",\n\"45.83662536\",\n\"9.663229089\",\n\"325\",\n\" ATS DI BERGAMO\"],\n [{\n            'v': 210,\n            'f': \"210\",\n        },\n\"030106-00\",\n\"45.5823624\",\n\"9.294368903\",\n\"324\",\n\" ATS DELLA BRIANZA\"],\n [{\n            'v': 211,\n            'f': \"211\",\n        },\n\"030116-00\",\n\"45.57188801\",\n\"9.156227622\",\n\"321\",\n\" ATS DELLA CITTA' METROPOLITANA DI MILANO\"]],\n        columns: [[\"number\", \"index\"], [\"string\", \"COD_STRUTTURA\"], [\"string\", \"COORDINATA_X\"], [\"string\", \"COORDINATA_Y\"], [\"string\", \"COD_ATS\"], [\"string\", \"DESCR_ATS\"]],\n        columnOptions: [{\"width\": \"1px\", \"className\": \"index_column\"}],\n        rowsPerPage: 25,\n        helpUrl: \"https://colab.research.google.com/notebooks/data_table.ipynb\",\n        suppressOutputScrolling: true,\n        minimumWidth: undefined,\n      });\n    ",
            "text/html": [
              "<div>\n",
              "<style scoped>\n",
              "    .dataframe tbody tr th:only-of-type {\n",
              "        vertical-align: middle;\n",
              "    }\n",
              "\n",
              "    .dataframe tbody tr th {\n",
              "        vertical-align: top;\n",
              "    }\n",
              "\n",
              "    .dataframe thead th {\n",
              "        text-align: right;\n",
              "    }\n",
              "</style>\n",
              "<table border=\"1\" class=\"dataframe\">\n",
              "  <thead>\n",
              "    <tr style=\"text-align: right;\">\n",
              "      <th></th>\n",
              "      <th>COD_STRUTTURA</th>\n",
              "      <th>COORDINATA_X</th>\n",
              "      <th>COORDINATA_Y</th>\n",
              "      <th>COD_ATS</th>\n",
              "      <th>DESCR_ATS</th>\n",
              "    </tr>\n",
              "  </thead>\n",
              "  <tbody>\n",
              "    <tr>\n",
              "      <th>0</th>\n",
              "      <td>030085-00</td>\n",
              "      <td>45.52331438</td>\n",
              "      <td>9.328467624</td>\n",
              "      <td>321</td>\n",
              "      <td>ATS DELLA CITTA' METROPOLITANA DI MILANO</td>\n",
              "    </tr>\n",
              "    <tr>\n",
              "      <th>1</th>\n",
              "      <td>030033-00</td>\n",
              "      <td>45.85685986</td>\n",
              "      <td>9.390429409</td>\n",
              "      <td>324</td>\n",
              "      <td>ATS DELLA BRIANZA</td>\n",
              "    </tr>\n",
              "    <tr>\n",
              "      <th>2</th>\n",
              "      <td>030057-00</td>\n",
              "      <td>45.4666791</td>\n",
              "      <td>9.219506903</td>\n",
              "      <td>321</td>\n",
              "      <td>ATS DELLA CITTA' METROPOLITANA DI MILANO</td>\n",
              "    </tr>\n",
              "    <tr>\n",
              "      <th>3</th>\n",
              "      <td>030015-00</td>\n",
              "      <td>45.5994841</td>\n",
              "      <td>8.87237785</td>\n",
              "      <td>322</td>\n",
              "      <td>ATS DELL'INSUBRIA</td>\n",
              "    </tr>\n",
              "    <tr>\n",
              "      <th>4</th>\n",
              "      <td>030904-00</td>\n",
              "      <td>46.33431031</td>\n",
              "      <td>10.32968894</td>\n",
              "      <td>323</td>\n",
              "      <td>ATS DELLA MONTAGNA</td>\n",
              "    </tr>\n",
              "    <tr>\n",
              "      <th>...</th>\n",
              "      <td>...</td>\n",
              "      <td>...</td>\n",
              "      <td>...</td>\n",
              "      <td>...</td>\n",
              "      <td>...</td>\n",
              "    </tr>\n",
              "    <tr>\n",
              "      <th>207</th>\n",
              "      <td>030161-00</td>\n",
              "      <td>45.60526271</td>\n",
              "      <td>10.52178742</td>\n",
              "      <td>326</td>\n",
              "      <td>ATS DI BRESCIA</td>\n",
              "    </tr>\n",
              "    <tr>\n",
              "      <th>208</th>\n",
              "      <td>030350-00</td>\n",
              "      <td>45.69242145</td>\n",
              "      <td>9.841738884</td>\n",
              "      <td>325</td>\n",
              "      <td>ATS DI BERGAMO</td>\n",
              "    </tr>\n",
              "    <tr>\n",
              "      <th>209</th>\n",
              "      <td>030149-00</td>\n",
              "      <td>45.83662536</td>\n",
              "      <td>9.663229089</td>\n",
              "      <td>325</td>\n",
              "      <td>ATS DI BERGAMO</td>\n",
              "    </tr>\n",
              "    <tr>\n",
              "      <th>210</th>\n",
              "      <td>030106-00</td>\n",
              "      <td>45.5823624</td>\n",
              "      <td>9.294368903</td>\n",
              "      <td>324</td>\n",
              "      <td>ATS DELLA BRIANZA</td>\n",
              "    </tr>\n",
              "    <tr>\n",
              "      <th>211</th>\n",
              "      <td>030116-00</td>\n",
              "      <td>45.57188801</td>\n",
              "      <td>9.156227622</td>\n",
              "      <td>321</td>\n",
              "      <td>ATS DELLA CITTA' METROPOLITANA DI MILANO</td>\n",
              "    </tr>\n",
              "  </tbody>\n",
              "</table>\n",
              "<p>212 rows × 5 columns</p>\n",
              "</div>"
            ],
            "text/plain": [
              "    COD_STRUTTURA  ...                                  DESCR_ATS\n",
              "0       030085-00  ...   ATS DELLA CITTA' METROPOLITANA DI MILANO\n",
              "1       030033-00  ...                          ATS DELLA BRIANZA\n",
              "2       030057-00  ...   ATS DELLA CITTA' METROPOLITANA DI MILANO\n",
              "3       030015-00  ...                          ATS DELL'INSUBRIA\n",
              "4       030904-00  ...                         ATS DELLA MONTAGNA\n",
              "..            ...  ...                                        ...\n",
              "207     030161-00  ...                             ATS DI BRESCIA\n",
              "208     030350-00  ...                             ATS DI BERGAMO\n",
              "209     030149-00  ...                             ATS DI BERGAMO\n",
              "210     030106-00  ...                          ATS DELLA BRIANZA\n",
              "211     030116-00  ...   ATS DELLA CITTA' METROPOLITANA DI MILANO\n",
              "\n",
              "[212 rows x 5 columns]"
            ]
          },
          "metadata": {},
          "execution_count": 177
        }
      ]
    },
    {
      "cell_type": "markdown",
      "metadata": {
        "id": "_-GGt0xuw2jA"
      },
      "source": [
        "### Data validation"
      ]
    },
    {
      "cell_type": "code",
      "metadata": {
        "id": "oXDMlpjiw5db"
      },
      "source": [
        "stats = tfdv.generate_statistics_from_dataframe(df_georef_strutture)\n",
        "schema = tfdv.infer_schema(stats)"
      ],
      "execution_count": null,
      "outputs": []
    },
    {
      "cell_type": "code",
      "metadata": {
        "colab": {
          "base_uri": "https://localhost:8080/",
          "height": 302
        },
        "id": "zIvLDgYzxEw9",
        "outputId": "09a990d8-f81f-4c08-c1c2-52a24c14fc76"
      },
      "source": [
        "tfdv.display_schema(schema)"
      ],
      "execution_count": null,
      "outputs": [
        {
          "output_type": "display_data",
          "data": {
            "application/vnd.google.colaboratory.module+javascript": "\n      import \"https://ssl.gstatic.com/colaboratory/data_table/a6224c040fa35dcf/data_table.js\";\n\n      window.createDataTable({\n        data: [[\"'codice_struttura'\",\n\"BYTES\",\n\"required\",\n\"\",\n\"-\"],\n [\"'coordinata_geografica_x'\",\n\"BYTES\",\n\"required\",\n\"\",\n\"-\"],\n [\"'coordinata_geografica_y'\",\n\"BYTES\",\n\"required\",\n\"\",\n\"-\"],\n [\"'cod_ats'\",\n\"BYTES\",\n\"required\",\n\"\",\n\"-\"],\n [\"'descr_ats'\",\n\"STRING\",\n\"required\",\n\"\",\n\"'descr_ats'\"]],\n        columns: [[\"string\", \"Feature name\"], [\"string\", \"Type\"], [\"string\", \"Presence\"], [\"string\", \"Valency\"], [\"string\", \"Domain\"]],\n        columnOptions: [{\"width\": \"1px\", \"className\": \"index_column\"}],\n        rowsPerPage: 25,\n        helpUrl: \"https://colab.research.google.com/notebooks/data_table.ipynb\",\n        suppressOutputScrolling: true,\n        minimumWidth: undefined,\n      });\n    ",
            "text/html": [
              "<div>\n",
              "<style scoped>\n",
              "    .dataframe tbody tr th:only-of-type {\n",
              "        vertical-align: middle;\n",
              "    }\n",
              "\n",
              "    .dataframe tbody tr th {\n",
              "        vertical-align: top;\n",
              "    }\n",
              "\n",
              "    .dataframe thead th {\n",
              "        text-align: right;\n",
              "    }\n",
              "</style>\n",
              "<table border=\"1\" class=\"dataframe\">\n",
              "  <thead>\n",
              "    <tr style=\"text-align: right;\">\n",
              "      <th></th>\n",
              "      <th>Type</th>\n",
              "      <th>Presence</th>\n",
              "      <th>Valency</th>\n",
              "      <th>Domain</th>\n",
              "    </tr>\n",
              "    <tr>\n",
              "      <th>Feature name</th>\n",
              "      <th></th>\n",
              "      <th></th>\n",
              "      <th></th>\n",
              "      <th></th>\n",
              "    </tr>\n",
              "  </thead>\n",
              "  <tbody>\n",
              "    <tr>\n",
              "      <th>'codice_struttura'</th>\n",
              "      <td>BYTES</td>\n",
              "      <td>required</td>\n",
              "      <td></td>\n",
              "      <td>-</td>\n",
              "    </tr>\n",
              "    <tr>\n",
              "      <th>'coordinata_geografica_x'</th>\n",
              "      <td>BYTES</td>\n",
              "      <td>required</td>\n",
              "      <td></td>\n",
              "      <td>-</td>\n",
              "    </tr>\n",
              "    <tr>\n",
              "      <th>'coordinata_geografica_y'</th>\n",
              "      <td>BYTES</td>\n",
              "      <td>required</td>\n",
              "      <td></td>\n",
              "      <td>-</td>\n",
              "    </tr>\n",
              "    <tr>\n",
              "      <th>'cod_ats'</th>\n",
              "      <td>BYTES</td>\n",
              "      <td>required</td>\n",
              "      <td></td>\n",
              "      <td>-</td>\n",
              "    </tr>\n",
              "    <tr>\n",
              "      <th>'descr_ats'</th>\n",
              "      <td>STRING</td>\n",
              "      <td>required</td>\n",
              "      <td></td>\n",
              "      <td>'descr_ats'</td>\n",
              "    </tr>\n",
              "  </tbody>\n",
              "</table>\n",
              "</div>"
            ],
            "text/plain": [
              "                             Type  Presence Valency       Domain\n",
              "Feature name                                                    \n",
              "'codice_struttura'          BYTES  required                    -\n",
              "'coordinata_geografica_x'   BYTES  required                    -\n",
              "'coordinata_geografica_y'   BYTES  required                    -\n",
              "'cod_ats'                   BYTES  required                    -\n",
              "'descr_ats'                STRING  required          'descr_ats'"
            ]
          },
          "metadata": {}
        },
        {
          "output_type": "display_data",
          "data": {
            "application/vnd.google.colaboratory.module+javascript": "\n      import \"https://ssl.gstatic.com/colaboratory/data_table/a6224c040fa35dcf/data_table.js\";\n\n      window.createDataTable({\n        data: [[\"'descr_ats'\",\n\"' ATS DELL\\\\'INSUBRIA', ' ATS DELLA BRIANZA', ' ATS DELLA CITTA\\\\' METROPOLITANA DI MILANO', ' ATS DELLA MONTAGNA', ' ATS DELLA VAL PADANA', ' ATS DI BERGAMO', ' ATS DI BRESCIA', ' ATS DI PAVIA'\"]],\n        columns: [[\"string\", \"Domain\"], [\"string\", \"Values\"]],\n        columnOptions: [{\"width\": \"1px\", \"className\": \"index_column\"}],\n        rowsPerPage: 25,\n        helpUrl: \"https://colab.research.google.com/notebooks/data_table.ipynb\",\n        suppressOutputScrolling: true,\n        minimumWidth: undefined,\n      });\n    ",
            "text/html": [
              "<div>\n",
              "<style scoped>\n",
              "    .dataframe tbody tr th:only-of-type {\n",
              "        vertical-align: middle;\n",
              "    }\n",
              "\n",
              "    .dataframe tbody tr th {\n",
              "        vertical-align: top;\n",
              "    }\n",
              "\n",
              "    .dataframe thead th {\n",
              "        text-align: right;\n",
              "    }\n",
              "</style>\n",
              "<table border=\"1\" class=\"dataframe\">\n",
              "  <thead>\n",
              "    <tr style=\"text-align: right;\">\n",
              "      <th></th>\n",
              "      <th>Values</th>\n",
              "    </tr>\n",
              "    <tr>\n",
              "      <th>Domain</th>\n",
              "      <th></th>\n",
              "    </tr>\n",
              "  </thead>\n",
              "  <tbody>\n",
              "    <tr>\n",
              "      <th>'descr_ats'</th>\n",
              "      <td>' ATS DELL\\'INSUBRIA', ' ATS DELLA BRIANZA', ' ATS DELLA CITTA\\' METROPOLITANA DI MILANO', ' ATS DELLA MONTAGNA', ' ATS DELLA VAL PADANA', ' ATS DI BERGAMO', ' ATS DI BRESCIA', ' ATS DI PAVIA'</td>\n",
              "    </tr>\n",
              "  </tbody>\n",
              "</table>\n",
              "</div>"
            ],
            "text/plain": [
              "                                                                                                                                                                                                       Values\n",
              "Domain                                                                                                                                                                                                       \n",
              "'descr_ats'  ' ATS DELL\\'INSUBRIA', ' ATS DELLA BRIANZA', ' ATS DELLA CITTA\\' METROPOLITANA DI MILANO', ' ATS DELLA MONTAGNA', ' ATS DELLA VAL PADANA', ' ATS DI BERGAMO', ' ATS DI BRESCIA', ' ATS DI PAVIA'"
            ]
          },
          "metadata": {}
        }
      ]
    },
    {
      "cell_type": "markdown",
      "metadata": {
        "id": "db_tiWz433EX"
      },
      "source": [
        "## Anagrafica Ospedali - Source: CSV in locale"
      ]
    },
    {
      "cell_type": "markdown",
      "metadata": {
        "id": "jiWuhZLv_Ak6"
      },
      "source": [
        "### Data ingestion"
      ]
    },
    {
      "cell_type": "code",
      "metadata": {
        "colab": {
          "base_uri": "https://localhost:8080/",
          "height": 500
        },
        "id": "1XF8zSp833Ky",
        "outputId": "433cd412-e2c0-474e-f6b5-d252ef2d6a18"
      },
      "source": [
        "df_ospedali = pd.read_csv('/content/ospedali.csv')\n",
        "df_ospedali.head()"
      ],
      "execution_count": 178,
      "outputs": [
        {
          "output_type": "execute_result",
          "data": {
            "application/vnd.google.colaboratory.module+javascript": "\n      import \"https://ssl.gstatic.com/colaboratory/data_table/a6224c040fa35dcf/data_table.js\";\n\n      window.createDataTable({\n        data: [[{\n            'v': 0,\n            'f': \"0\",\n        },\n{\n            'v': 325,\n            'f': \"325\",\n        },\n{\n            'v': 720,\n            'f': \"720\",\n        },\n\"ASST DI BERGAMO EST\",\n{\n            'v': 30140,\n            'f': \"30140\",\n        },\n{\n            'v': 0,\n            'f': \"0\",\n        },\n\"OSPEDALE BOLOGNINI - SERIATE\",\n{\n            'v': 12,\n            'f': \"12\",\n        },\n\"OSPEDALE A GESTIONE DIRETTA PRESIDIO DELLA AO\",\n\"01/01/1984 12:00:00 AM\",\n{\n            'v': NaN,\n            'f': \"NaN\",\n        },\n\"VIA PADERNO, 21\",\n{\n            'v': 24068,\n            'f': \"24068\",\n        },\n\"SERIATE\",\n\"035 3063111\",\n\"0353063220\",\n\"DEA-PS\",\nNaN],\n [{\n            'v': 1,\n            'f': \"1\",\n        },\n{\n            'v': 321,\n            'f': \"321\",\n        },\n{\n            'v': 708,\n            'f': \"708\",\n        },\n\"ASST MELEGNANO E DELLA MARTESANA\",\n{\n            'v': 30085,\n            'f': \"30085\",\n        },\n{\n            'v': 2,\n            'f': \"2\",\n        },\n\"OSPEDALE CROTTA OLTROCCHI-VAPRIO D'ADDA\",\n{\n            'v': 12,\n            'f': \"12\",\n        },\n\"OSPEDALE A GESTIONE DIRETTA PRESIDIO DELLA AO\",\n\"01/01/2015 12:00:00 AM\",\n{\n            'v': NaN,\n            'f': \"NaN\",\n        },\n\"VIA DON MOLETTA 22\",\n{\n            'v': 20069,\n            'f': \"20069\",\n        },\n\"VAPRIO D'ADDA\",\n\"02909351\",\n\"0290935493\",\n\"PPI\",\nNaN],\n [{\n            'v': 2,\n            'f': \"2\",\n        },\n{\n            'v': 325,\n            'f': \"325\",\n        },\n{\n            'v': 325,\n            'f': \"325\",\n        },\n\"ATS DI BERGAMO\",\n{\n            'v': 30360,\n            'f': \"30360\",\n        },\n{\n            'v': 0,\n            'f': \"0\",\n        },\n\"FERB-ONLUS C.TRO ALZHEIMER-GAZZANIGA\",\n{\n            'v': 51,\n            'f': \"51\",\n        },\n\"CASA DI CURA ACCREDITATA A CONTRATTO\",\n\"05/01/2005 12:00:00 AM\",\n{\n            'v': NaN,\n            'f': \"NaN\",\n        },\n\"VIA MANZONI, 130\",\n{\n            'v': 24025,\n            'f': \"24025\",\n        },\n\"GAZZANIGA\",\n\"035 306511\",\nNaN,\n\"Senza livello emergenza\",\nNaN],\n [{\n            'v': 3,\n            'f': \"3\",\n        },\n{\n            'v': 322,\n            'f': \"322\",\n        },\n{\n            'v': 711,\n            'f': \"711\",\n        },\n\"ASST DELLA VALLE OLONA\",\n{\n            'v': 30008,\n            'f': \"30008\",\n        },\n{\n            'v': 0,\n            'f': \"0\",\n        },\n\"OSP. GENERALE PROVINCIALE - SARONNO\",\n{\n            'v': 12,\n            'f': \"12\",\n        },\n\"OSPEDALE A GESTIONE DIRETTA PRESIDIO DELLA AO\",\n\"01/01/1984 12:00:00 AM\",\n{\n            'v': NaN,\n            'f': \"NaN\",\n        },\n\"PIAZZALE BORELLA 1\",\n{\n            'v': 21047,\n            'f': \"21047\",\n        },\n\"SARONNO\",\n\"02  96.131\",\nNaN,\n\"DEA-PS\",\n\"X\"],\n [{\n            'v': 4,\n            'f': \"4\",\n        },\n{\n            'v': 325,\n            'f': \"325\",\n        },\n{\n            'v': 720,\n            'f': \"720\",\n        },\n\"ASST DI BERGAMO EST\",\n{\n            'v': 30382,\n            'f': \"30382\",\n        },\n{\n            'v': 0,\n            'f': \"0\",\n        },\n\"OSPEDALE M. O. ANTONIO LOCATELLI-PIARIO\",\n{\n            'v': 12,\n            'f': \"12\",\n        },\n\"OSPEDALE A GESTIONE DIRETTA PRESIDIO DELLA AO\",\n\"01/01/2009 12:00:00 AM\",\n{\n            'v': NaN,\n            'f': \"NaN\",\n        },\n\"VIA GROPPINI,22\",\n{\n            'v': 24020,\n            'f': \"24020\",\n        },\n\"PIARIO\",\n\"0353066211\",\n\"0353066251\",\n\"PS\",\nNaN]],\n        columns: [[\"number\", \"index\"], [\"number\", \"ATS\"], [\"number\", \"COD_ENTE\"], [\"string\", \"DENOM_ENTE\"], [\"number\", \"COD_STRUTTURA\"], [\"number\", \"COD_SUB\"], [\"string\", \"DENOM_STRUTTURA\"], [\"number\", \"COD_TIPO_STR\"], [\"string\", \"DESCR_TIPO_STR\"], [\"string\", \"DATA_APERTURA\"], [\"number\", \"DATA_CHIUSURA\"], [\"string\", \"INDIRIZZO\"], [\"number\", \"CAP\"], [\"string\", \"LOCALITA\"], [\"string\", \"TELEFONO\"], [\"string\", \"FAX\"], [\"string\", \"LIV_EMERG\"], [\"string\", \"PS_PEDIATRICO\"]],\n        columnOptions: [{\"width\": \"1px\", \"className\": \"index_column\"}],\n        rowsPerPage: 25,\n        helpUrl: \"https://colab.research.google.com/notebooks/data_table.ipynb\",\n        suppressOutputScrolling: true,\n        minimumWidth: undefined,\n      });\n    ",
            "text/html": [
              "<div>\n",
              "<style scoped>\n",
              "    .dataframe tbody tr th:only-of-type {\n",
              "        vertical-align: middle;\n",
              "    }\n",
              "\n",
              "    .dataframe tbody tr th {\n",
              "        vertical-align: top;\n",
              "    }\n",
              "\n",
              "    .dataframe thead th {\n",
              "        text-align: right;\n",
              "    }\n",
              "</style>\n",
              "<table border=\"1\" class=\"dataframe\">\n",
              "  <thead>\n",
              "    <tr style=\"text-align: right;\">\n",
              "      <th></th>\n",
              "      <th>ATS</th>\n",
              "      <th>COD_ENTE</th>\n",
              "      <th>DENOM_ENTE</th>\n",
              "      <th>COD_STRUTTURA</th>\n",
              "      <th>COD_SUB</th>\n",
              "      <th>DENOM_STRUTTURA</th>\n",
              "      <th>COD_TIPO_STR</th>\n",
              "      <th>DESCR_TIPO_STR</th>\n",
              "      <th>DATA_APERTURA</th>\n",
              "      <th>DATA_CHIUSURA</th>\n",
              "      <th>INDIRIZZO</th>\n",
              "      <th>CAP</th>\n",
              "      <th>LOCALITA</th>\n",
              "      <th>TELEFONO</th>\n",
              "      <th>FAX</th>\n",
              "      <th>LIV_EMERG</th>\n",
              "      <th>PS_PEDIATRICO</th>\n",
              "    </tr>\n",
              "  </thead>\n",
              "  <tbody>\n",
              "    <tr>\n",
              "      <th>0</th>\n",
              "      <td>325</td>\n",
              "      <td>720</td>\n",
              "      <td>ASST DI BERGAMO EST</td>\n",
              "      <td>30140</td>\n",
              "      <td>0</td>\n",
              "      <td>OSPEDALE BOLOGNINI - SERIATE</td>\n",
              "      <td>12</td>\n",
              "      <td>OSPEDALE A GESTIONE DIRETTA PRESIDIO DELLA AO</td>\n",
              "      <td>01/01/1984 12:00:00 AM</td>\n",
              "      <td>NaN</td>\n",
              "      <td>VIA PADERNO, 21</td>\n",
              "      <td>24068</td>\n",
              "      <td>SERIATE</td>\n",
              "      <td>035 3063111</td>\n",
              "      <td>0353063220</td>\n",
              "      <td>DEA-PS</td>\n",
              "      <td>NaN</td>\n",
              "    </tr>\n",
              "    <tr>\n",
              "      <th>1</th>\n",
              "      <td>321</td>\n",
              "      <td>708</td>\n",
              "      <td>ASST MELEGNANO E DELLA MARTESANA</td>\n",
              "      <td>30085</td>\n",
              "      <td>2</td>\n",
              "      <td>OSPEDALE CROTTA OLTROCCHI-VAPRIO D'ADDA</td>\n",
              "      <td>12</td>\n",
              "      <td>OSPEDALE A GESTIONE DIRETTA PRESIDIO DELLA AO</td>\n",
              "      <td>01/01/2015 12:00:00 AM</td>\n",
              "      <td>NaN</td>\n",
              "      <td>VIA DON MOLETTA 22</td>\n",
              "      <td>20069</td>\n",
              "      <td>VAPRIO D'ADDA</td>\n",
              "      <td>02909351</td>\n",
              "      <td>0290935493</td>\n",
              "      <td>PPI</td>\n",
              "      <td>NaN</td>\n",
              "    </tr>\n",
              "    <tr>\n",
              "      <th>2</th>\n",
              "      <td>325</td>\n",
              "      <td>325</td>\n",
              "      <td>ATS DI BERGAMO</td>\n",
              "      <td>30360</td>\n",
              "      <td>0</td>\n",
              "      <td>FERB-ONLUS C.TRO ALZHEIMER-GAZZANIGA</td>\n",
              "      <td>51</td>\n",
              "      <td>CASA DI CURA ACCREDITATA A CONTRATTO</td>\n",
              "      <td>05/01/2005 12:00:00 AM</td>\n",
              "      <td>NaN</td>\n",
              "      <td>VIA MANZONI, 130</td>\n",
              "      <td>24025</td>\n",
              "      <td>GAZZANIGA</td>\n",
              "      <td>035 306511</td>\n",
              "      <td>NaN</td>\n",
              "      <td>Senza livello emergenza</td>\n",
              "      <td>NaN</td>\n",
              "    </tr>\n",
              "    <tr>\n",
              "      <th>3</th>\n",
              "      <td>322</td>\n",
              "      <td>711</td>\n",
              "      <td>ASST DELLA VALLE OLONA</td>\n",
              "      <td>30008</td>\n",
              "      <td>0</td>\n",
              "      <td>OSP. GENERALE PROVINCIALE - SARONNO</td>\n",
              "      <td>12</td>\n",
              "      <td>OSPEDALE A GESTIONE DIRETTA PRESIDIO DELLA AO</td>\n",
              "      <td>01/01/1984 12:00:00 AM</td>\n",
              "      <td>NaN</td>\n",
              "      <td>PIAZZALE BORELLA 1</td>\n",
              "      <td>21047</td>\n",
              "      <td>SARONNO</td>\n",
              "      <td>02  96.131</td>\n",
              "      <td>NaN</td>\n",
              "      <td>DEA-PS</td>\n",
              "      <td>X</td>\n",
              "    </tr>\n",
              "    <tr>\n",
              "      <th>4</th>\n",
              "      <td>325</td>\n",
              "      <td>720</td>\n",
              "      <td>ASST DI BERGAMO EST</td>\n",
              "      <td>30382</td>\n",
              "      <td>0</td>\n",
              "      <td>OSPEDALE M. O. ANTONIO LOCATELLI-PIARIO</td>\n",
              "      <td>12</td>\n",
              "      <td>OSPEDALE A GESTIONE DIRETTA PRESIDIO DELLA AO</td>\n",
              "      <td>01/01/2009 12:00:00 AM</td>\n",
              "      <td>NaN</td>\n",
              "      <td>VIA GROPPINI,22</td>\n",
              "      <td>24020</td>\n",
              "      <td>PIARIO</td>\n",
              "      <td>0353066211</td>\n",
              "      <td>0353066251</td>\n",
              "      <td>PS</td>\n",
              "      <td>NaN</td>\n",
              "    </tr>\n",
              "  </tbody>\n",
              "</table>\n",
              "</div>"
            ],
            "text/plain": [
              "   ATS  COD_ENTE  ...                LIV_EMERG  PS_PEDIATRICO\n",
              "0  325       720  ...                   DEA-PS            NaN\n",
              "1  321       708  ...                      PPI            NaN\n",
              "2  325       325  ...  Senza livello emergenza            NaN\n",
              "3  322       711  ...                   DEA-PS              X\n",
              "4  325       720  ...                       PS            NaN\n",
              "\n",
              "[5 rows x 17 columns]"
            ]
          },
          "metadata": {},
          "execution_count": 178
        }
      ]
    },
    {
      "cell_type": "code",
      "metadata": {
        "colab": {
          "base_uri": "https://localhost:8080/"
        },
        "id": "eTW7_zT0_Hq7",
        "outputId": "d587f76e-6a2e-41ee-dd44-06c9ce092029"
      },
      "source": [
        "df_ospedali.info()"
      ],
      "execution_count": 147,
      "outputs": [
        {
          "output_type": "stream",
          "name": "stdout",
          "text": [
            "<class 'pandas.core.frame.DataFrame'>\n",
            "RangeIndex: 238 entries, 0 to 237\n",
            "Data columns (total 17 columns):\n",
            " #   Column           Non-Null Count  Dtype \n",
            "---  ------           --------------  ----- \n",
            " 0   ATS              238 non-null    int64 \n",
            " 1   COD_ENTE         238 non-null    int64 \n",
            " 2   DENOM_ENTE       238 non-null    object\n",
            " 3   COD_STRUTTURA    238 non-null    int64 \n",
            " 4   COD_SUB          238 non-null    int64 \n",
            " 5   DENOM_STRUTTURA  238 non-null    object\n",
            " 6   COD_TIPO_STR     238 non-null    int64 \n",
            " 7   DESCR_TIPO_STR   238 non-null    object\n",
            " 8   DATA_APERTURA    238 non-null    object\n",
            " 9   DATA_CHIUSURA    1 non-null      object\n",
            " 10  INDIRIZZO        238 non-null    object\n",
            " 11  CAP              238 non-null    int64 \n",
            " 12  LOCALITA         238 non-null    object\n",
            " 13  TELEFONO         238 non-null    object\n",
            " 14  FAX              207 non-null    object\n",
            " 15  LIV_EMERG        238 non-null    object\n",
            " 16  PS_PEDIATRICO    41 non-null     object\n",
            "dtypes: int64(6), object(11)\n",
            "memory usage: 31.7+ KB\n"
          ]
        }
      ]
    },
    {
      "cell_type": "markdown",
      "metadata": {
        "id": "uWsULPNe8LB7"
      },
      "source": [
        "### Transformations to perform on the data"
      ]
    },
    {
      "cell_type": "markdown",
      "metadata": {
        "id": "AkXiuxbr_XRu"
      },
      "source": [
        "\n",
        "*   Eliminazione colonna ATS\n",
        "*   Modificare COD_STRUTTURA: 30140 --> 030140-00\n",
        "*   Modificare DATA_APERTURA: 05/01/2005 12:00:00 AM --> 2005-01-05\n",
        "*   Modificare DATA_CHIUSURA: 05/01/2005 12:00:00 AM --> 2005-01-05\n",
        "*   Modificare DATA_CHIUSURA: tutti i valori null sono sostituiti con 2999-12-31\n",
        "*   Aggiuta DESCRIZIONE_LIVELLO_DI_EMERGENZA. \n",
        "\n",
        "      Valori possibili:PPI(PuntodiPrimoIntervento),PS(ProntoSoccorso),DEA      (Dipartimento Emergenza Accettazione),EAS(Emergenza Alta Specialità)\n",
        "*   Settare X con 1 in PS_PEDIATRICO"
      ]
    },
    {
      "cell_type": "code",
      "metadata": {
        "id": "prFPNVcs9-ko"
      },
      "source": [
        "#------------------------------------------------------------------------------------------------------------------------------------------\n",
        "def drop_columns(df):\n",
        "  df.drop(columns = ['ATS','COD_SUB'],inplace=True)\n",
        "  return df\n",
        "#------------------------------------------------------------------------------------------------------------------------------------------\n",
        "def transf_cod_struttura(df):\n",
        "  df['COD_SUB'] = df['COD_SUB'].astype(str)\n",
        "  df['COD_SUB'] = df['COD_SUB'].apply(lambda x: x.zfill(2))\n",
        "  df['COD_STRUTTURA'] = df['COD_STRUTTURA'].astype(str)\n",
        "  df['COD_STRUTTURA'] = df['COD_STRUTTURA'].apply(lambda x: x.zfill(6))\n",
        "  df['COD_STRUTTURA'] = df['COD_STRUTTURA'] + '-' + df['COD_SUB']\n",
        "  return df\n",
        "#------------------------------------------------------------------------------------------------------------------------------------------\n",
        "def transf_ps_pediatrico(df):\n",
        "  conditions = [\n",
        "                (df['PS_PEDIATRICO'] == 'X'),\n",
        "                (df['PS_PEDIATRICO'] == 'Nan')\n",
        "                ]\n",
        "  values = [1,0]\n",
        "  df['PS_PEDIATRICO'] = np.select(conditions, values)\n",
        "  return df\n",
        "#------------------------------------------------------------------------------------------------------------------------------------------\n",
        "def transf_data_apertura_chiusura(df):\n",
        "  df['DATA_APERTURA'] = pd.to_datetime(df['DATA_APERTURA']).dt.date\n",
        "  df['DATA_CHIUSURA'] = pd.to_datetime(df['DATA_CHIUSURA']).dt.date\n",
        "  df.fillna({'DATA_CHIUSURA':'2999-12-31'}, inplace=True)\n",
        "  return df\n",
        "#------------------------------------------------------------------------------------------------------------------------------------------\n",
        "def add_descr_liv_emergenza(df):\n",
        "   df['LIV_EMERG'].replace('Senza livello emergenza','SLE',inplace = True)\n",
        "   df['DESCR_LIV_EMERG'] = df['LIV_EMERG']\n",
        "   df['DESCR_LIV_EMERG'].replace({'DEA-PS': 'Dipartimento Emergenza Accettazione-Pronto Soccorso',\n",
        "                                  'DEA-PS-PPI': 'Dipartimento Emergenza Accettazione-Pronto Soccorso-Punto di Primo Intervento',\n",
        "                                  'EAS-PS': 'Emergenza Alta Specialità-Pronto Soccorso',\n",
        "                                  'EAS-PS-PPI': 'Emergenza Alta Specialità-Pronto Soccorso-Punto di Primo Intervento',\n",
        "                                  'PS-PPI': 'Pronto Soccorso-Punto di Primo Intervento',\n",
        "                                  'PS': 'Pronto Soccorso',\n",
        "                                  'PPI': 'Punto di Primo Intervento',\n",
        "                                  'EAS': 'Emergenza Alta Specialità',\n",
        "                                  'SLE': 'Senza Livello Emergenza'}, inplace=True)\n",
        "   return df\n",
        "#------------------------------------------------------------------------------------------------------------------------------------------"
      ],
      "execution_count": 179,
      "outputs": []
    },
    {
      "cell_type": "code",
      "metadata": {
        "id": "sUYs1ru42xGD"
      },
      "source": [
        "transf_cod_struttura(df_ospedali)\n",
        "transf_ps_pediatrico(df_ospedali)\n",
        "transf_data_apertura_chiusura(df_ospedali)\n",
        "add_descr_liv_emergenza(df_ospedali)\n",
        "drop_columns(df_ospedali)"
      ],
      "execution_count": null,
      "outputs": []
    },
    {
      "cell_type": "code",
      "metadata": {
        "id": "DTrzmOqV14Ag"
      },
      "source": [
        "stats = tfdv.generate_statistics_from_dataframe(df_ospedali)\n",
        "schema = tfdv.infer_schema(stats)"
      ],
      "execution_count": null,
      "outputs": []
    },
    {
      "cell_type": "code",
      "metadata": {
        "colab": {
          "base_uri": "https://localhost:8080/",
          "height": 1027
        },
        "id": "gght8L6F2G57",
        "outputId": "84ea4a97-a7e0-4348-b70e-bd990eed4f28"
      },
      "source": [
        "tfdv.display_schema(schema)"
      ],
      "execution_count": 17,
      "outputs": [
        {
          "output_type": "display_data",
          "data": {
            "application/vnd.google.colaboratory.module+javascript": "\n      import \"https://ssl.gstatic.com/colaboratory/data_table/a6224c040fa35dcf/data_table.js\";\n\n      window.createDataTable({\n        data: [[\"'ATS'\",\n\"INT\",\n\"required\",\n\"\",\n\"-\"],\n [\"'COD_ENTE'\",\n\"INT\",\n\"required\",\n\"\",\n\"-\"],\n [\"'DENOM_ENTE'\",\n\"STRING\",\n\"required\",\n\"\",\n\"'DENOM_ENTE'\"],\n [\"'COD_STRUTTURA'\",\n\"INT\",\n\"required\",\n\"\",\n\"-\"],\n [\"'COD_SUB'\",\n\"INT\",\n\"required\",\n\"\",\n\"-\"],\n [\"'DENOM_STRUTTURA'\",\n\"BYTES\",\n\"required\",\n\"\",\n\"-\"],\n [\"'COD_TIPO_STR'\",\n\"INT\",\n\"required\",\n\"\",\n\"-\"],\n [\"'DESCR_TIPO_STR'\",\n\"STRING\",\n\"required\",\n\"\",\n\"'DESCR_TIPO_STR'\"],\n [\"'DATA_APERTURA'\",\n\"STRING\",\n\"required\",\n\"\",\n\"'DATA_APERTURA'\"],\n [\"'DATA_CHIUSURA'\",\n\"STRING\",\n\"optional\",\n\"single\",\n\"'DATA_CHIUSURA'\"],\n [\"'INDIRIZZO'\",\n\"BYTES\",\n\"required\",\n\"\",\n\"-\"],\n [\"'CAP'\",\n\"INT\",\n\"required\",\n\"\",\n\"-\"],\n [\"'LOCALITA'\",\n\"BYTES\",\n\"required\",\n\"\",\n\"-\"],\n [\"'TELEFONO'\",\n\"BYTES\",\n\"required\",\n\"\",\n\"-\"],\n [\"'FAX'\",\n\"BYTES\",\n\"optional\",\n\"single\",\n\"-\"],\n [\"'LIV_EMERG'\",\n\"STRING\",\n\"required\",\n\"\",\n\"'LIV_EMERG'\"],\n [\"'PS_PEDIATRICO'\",\n\"STRING\",\n\"optional\",\n\"single\",\n\"'PS_PEDIATRICO'\"]],\n        columns: [[\"string\", \"Feature name\"], [\"string\", \"Type\"], [\"string\", \"Presence\"], [\"string\", \"Valency\"], [\"string\", \"Domain\"]],\n        columnOptions: [{\"width\": \"1px\", \"className\": \"index_column\"}],\n        rowsPerPage: 25,\n        helpUrl: \"https://colab.research.google.com/notebooks/data_table.ipynb\",\n        suppressOutputScrolling: true,\n        minimumWidth: undefined,\n      });\n    ",
            "text/html": [
              "<div>\n",
              "<style scoped>\n",
              "    .dataframe tbody tr th:only-of-type {\n",
              "        vertical-align: middle;\n",
              "    }\n",
              "\n",
              "    .dataframe tbody tr th {\n",
              "        vertical-align: top;\n",
              "    }\n",
              "\n",
              "    .dataframe thead th {\n",
              "        text-align: right;\n",
              "    }\n",
              "</style>\n",
              "<table border=\"1\" class=\"dataframe\">\n",
              "  <thead>\n",
              "    <tr style=\"text-align: right;\">\n",
              "      <th></th>\n",
              "      <th>Type</th>\n",
              "      <th>Presence</th>\n",
              "      <th>Valency</th>\n",
              "      <th>Domain</th>\n",
              "    </tr>\n",
              "    <tr>\n",
              "      <th>Feature name</th>\n",
              "      <th></th>\n",
              "      <th></th>\n",
              "      <th></th>\n",
              "      <th></th>\n",
              "    </tr>\n",
              "  </thead>\n",
              "  <tbody>\n",
              "    <tr>\n",
              "      <th>'ATS'</th>\n",
              "      <td>INT</td>\n",
              "      <td>required</td>\n",
              "      <td></td>\n",
              "      <td>-</td>\n",
              "    </tr>\n",
              "    <tr>\n",
              "      <th>'COD_ENTE'</th>\n",
              "      <td>INT</td>\n",
              "      <td>required</td>\n",
              "      <td></td>\n",
              "      <td>-</td>\n",
              "    </tr>\n",
              "    <tr>\n",
              "      <th>'DENOM_ENTE'</th>\n",
              "      <td>STRING</td>\n",
              "      <td>required</td>\n",
              "      <td></td>\n",
              "      <td>'DENOM_ENTE'</td>\n",
              "    </tr>\n",
              "    <tr>\n",
              "      <th>'COD_STRUTTURA'</th>\n",
              "      <td>INT</td>\n",
              "      <td>required</td>\n",
              "      <td></td>\n",
              "      <td>-</td>\n",
              "    </tr>\n",
              "    <tr>\n",
              "      <th>'COD_SUB'</th>\n",
              "      <td>INT</td>\n",
              "      <td>required</td>\n",
              "      <td></td>\n",
              "      <td>-</td>\n",
              "    </tr>\n",
              "    <tr>\n",
              "      <th>'DENOM_STRUTTURA'</th>\n",
              "      <td>BYTES</td>\n",
              "      <td>required</td>\n",
              "      <td></td>\n",
              "      <td>-</td>\n",
              "    </tr>\n",
              "    <tr>\n",
              "      <th>'COD_TIPO_STR'</th>\n",
              "      <td>INT</td>\n",
              "      <td>required</td>\n",
              "      <td></td>\n",
              "      <td>-</td>\n",
              "    </tr>\n",
              "    <tr>\n",
              "      <th>'DESCR_TIPO_STR'</th>\n",
              "      <td>STRING</td>\n",
              "      <td>required</td>\n",
              "      <td></td>\n",
              "      <td>'DESCR_TIPO_STR'</td>\n",
              "    </tr>\n",
              "    <tr>\n",
              "      <th>'DATA_APERTURA'</th>\n",
              "      <td>STRING</td>\n",
              "      <td>required</td>\n",
              "      <td></td>\n",
              "      <td>'DATA_APERTURA'</td>\n",
              "    </tr>\n",
              "    <tr>\n",
              "      <th>'DATA_CHIUSURA'</th>\n",
              "      <td>STRING</td>\n",
              "      <td>optional</td>\n",
              "      <td>single</td>\n",
              "      <td>'DATA_CHIUSURA'</td>\n",
              "    </tr>\n",
              "    <tr>\n",
              "      <th>'INDIRIZZO'</th>\n",
              "      <td>BYTES</td>\n",
              "      <td>required</td>\n",
              "      <td></td>\n",
              "      <td>-</td>\n",
              "    </tr>\n",
              "    <tr>\n",
              "      <th>'CAP'</th>\n",
              "      <td>INT</td>\n",
              "      <td>required</td>\n",
              "      <td></td>\n",
              "      <td>-</td>\n",
              "    </tr>\n",
              "    <tr>\n",
              "      <th>'LOCALITA'</th>\n",
              "      <td>BYTES</td>\n",
              "      <td>required</td>\n",
              "      <td></td>\n",
              "      <td>-</td>\n",
              "    </tr>\n",
              "    <tr>\n",
              "      <th>'TELEFONO'</th>\n",
              "      <td>BYTES</td>\n",
              "      <td>required</td>\n",
              "      <td></td>\n",
              "      <td>-</td>\n",
              "    </tr>\n",
              "    <tr>\n",
              "      <th>'FAX'</th>\n",
              "      <td>BYTES</td>\n",
              "      <td>optional</td>\n",
              "      <td>single</td>\n",
              "      <td>-</td>\n",
              "    </tr>\n",
              "    <tr>\n",
              "      <th>'LIV_EMERG'</th>\n",
              "      <td>STRING</td>\n",
              "      <td>required</td>\n",
              "      <td></td>\n",
              "      <td>'LIV_EMERG'</td>\n",
              "    </tr>\n",
              "    <tr>\n",
              "      <th>'PS_PEDIATRICO'</th>\n",
              "      <td>STRING</td>\n",
              "      <td>optional</td>\n",
              "      <td>single</td>\n",
              "      <td>'PS_PEDIATRICO'</td>\n",
              "    </tr>\n",
              "  </tbody>\n",
              "</table>\n",
              "</div>"
            ],
            "text/plain": [
              "                     Type  Presence Valency            Domain\n",
              "Feature name                                                 \n",
              "'ATS'                 INT  required                         -\n",
              "'COD_ENTE'            INT  required                         -\n",
              "'DENOM_ENTE'       STRING  required              'DENOM_ENTE'\n",
              "'COD_STRUTTURA'       INT  required                         -\n",
              "'COD_SUB'             INT  required                         -\n",
              "'DENOM_STRUTTURA'   BYTES  required                         -\n",
              "'COD_TIPO_STR'        INT  required                         -\n",
              "'DESCR_TIPO_STR'   STRING  required          'DESCR_TIPO_STR'\n",
              "'DATA_APERTURA'    STRING  required           'DATA_APERTURA'\n",
              "'DATA_CHIUSURA'    STRING  optional  single   'DATA_CHIUSURA'\n",
              "'INDIRIZZO'         BYTES  required                         -\n",
              "'CAP'                 INT  required                         -\n",
              "'LOCALITA'          BYTES  required                         -\n",
              "'TELEFONO'          BYTES  required                         -\n",
              "'FAX'               BYTES  optional  single                 -\n",
              "'LIV_EMERG'        STRING  required               'LIV_EMERG'\n",
              "'PS_PEDIATRICO'    STRING  optional  single   'PS_PEDIATRICO'"
            ]
          },
          "metadata": {}
        },
        {
          "output_type": "display_data",
          "data": {
            "application/vnd.google.colaboratory.module+javascript": "\n      import \"https://ssl.gstatic.com/colaboratory/data_table/a6224c040fa35dcf/data_table.js\";\n\n      window.createDataTable({\n        data: [[\"'DENOM_ENTE'\",\n\"'ASST CENTRO SPEC. ORT. TRAUMATOLOGICO G.PINI/CTO', 'ASST DEGLI SPEDALI CIVILI DI BRESCIA', 'ASST DEI SETTE LAGHI', 'ASST DEL GARDA', 'ASST DELLA BRIANZA', 'ASST DELLA FRANCIACORTA', 'ASST DELLA VALCAMONICA', 'ASST DELLA VALLE OLONA', 'ASST DELLA VALTELLINA E DELL\\\\'ALTO LARIO', 'ASST DI BERGAMO EST', 'ASST DI BERGAMO OVEST', 'ASST DI CREMA', 'ASST DI CREMONA', 'ASST DI LECCO', 'ASST DI LODI', 'ASST DI MANTOVA', 'ASST DI MONZA', 'ASST DI PAVIA', 'ASST FATEBENEFRATELLI SACCO', 'ASST GRANDE OSPEDALE METROPOLITANO NIGUARDA', 'ASST LARIANA', 'ASST MELEGNANO E DELLA MARTESANA', 'ASST NORD MILANO', 'ASST OVEST MILANESE', 'ASST PAPA GIOVANNI XXIII', 'ASST RHODENSE', 'ASST SANTI PAOLO E CARLO', 'ATS DELL\\\\'INSUBRIA', 'ATS DELLA BRIANZA', 'ATS DELLA CITTA\\\\' METROPOLITANA DI MILANO', 'ATS DELLA MONTAGNA', 'ATS DELLA VAL PADANA', 'ATS DI BERGAMO', 'ATS DI BRESCIA', 'ATS DI PAVIA', 'CASA DI CURA MULTIMEDICA  S.P.A. SPA-SESTO S.G.', 'FOND. MONZINO - CENTRO CARDIOLOGICO- MI', 'FONDAZ. IRCCS CA\\\\' GRANDA-OSP. MAG. POLICLINICO,', 'INRCA CENTRO PER LE BRONC. - CASATENOVO', 'IST.AUXOLOGICO ITALIANO', 'IST.POLICL.S.DONATO SPA-S.DONATO M.', 'IST.SCIENT. E. MEDEA - BOSISIO PARINI', 'ISTITUTI CL SCIENTIFICI MAUGERI SPA SB - MONTESCANO', 'ISTITUTI CL.  SCIENTIFICI MAUGERI SPA SB DI PAVIA', 'ISTITUTI CL. SCIENTIFICI MAUGERI SPA SB - LISSONE', 'ISTITUTI CL. SCIENTIFICI MAUGERI SPA SB - LUMEZZANE', 'ISTITUTI CL. SCIENTIFICI MAUGERI SPA SB - MILANO', 'ISTITUTI CL. SCIENTIFICI MAUGERI SPA SB - PAVIA', 'ISTITUTI CL. SCIENTIFICI MAUGERI SPA SB - TRADATE', 'ISTITUTI CL. SCIENTIFICI MAUGERI SPA SB CASTEL GOFFREDO', 'ISTITUTO CLINICO \\\"HUMANITAS\\\"-ROZZANO', 'ISTITUTO EUROPEO DI ONCOLOGIA', 'ISTITUTO MONDINO - PAVIA', 'ISTITUTO NAZIONALE DEI TUMORI- MI', 'ISTITUTO NEUROLOGICO BESTA - MI', 'ISTITUTO ORTOPEDICO GALEAZZI SPA', 'OSP.LE SACRO CUORE F.B.F. - BRESCIA', 'POLICLINICO S. MATTEO - PV', 'PRO JOVENTUDE DON C. GNOCCHI - MI', 'S. RAFFAELE- MI', 'SAN RAFFAELE TURRO'\"],\n [\"'DESCR_TIPO_STR'\",\n\"'AZIENDA OSPEDALIERA', 'CASA DI CURA ACCREDITATA A CONTRATTO', 'CASA DI CURA ACCREDITATA NON A CONTRATTO', 'ISTITUTO DI RICOVERO E CURA A CARATTERE SCIENTIFICO - FONDAZIONE', 'ISTITUTO DI RICOVERO E CURA A CARATTERE SCIENTIFICO - PRIVATO', 'ISTITUTO DI RICOVERO E CURA A CARATTERE SCIENTIFICO - PUBBLICO', 'OSPEDALE A GESTIONE DIRETTA PRESIDIO DELLA AO', 'OSPEDALE CLASSIFICATO'\"],\n [\"'DATA_APERTURA'\",\n\"'01/01/1934 12:00:00 AM', '01/01/1938 12:00:00 AM', '01/01/1958 12:00:00 AM', '01/01/1969 12:00:00 AM', '01/01/1983 12:00:00 AM', '01/01/1984 12:00:00 AM', '01/01/1988 12:00:00 AM', '01/01/1995 12:00:00 AM', '01/01/1996 12:00:00 AM', '01/01/1997 12:00:00 AM', '01/01/2005 12:00:00 AM', '01/01/2007 12:00:00 AM', '01/01/2008 12:00:00 AM', '01/01/2009 12:00:00 AM', '01/01/2010 12:00:00 AM', '01/01/2014 12:00:00 AM', '01/01/2015 12:00:00 AM', '01/01/2016 12:00:00 AM', '01/01/2018 12:00:00 AM', '01/01/2020 12:00:00 AM', '01/02/1953 12:00:00 AM', '02/01/1974 12:00:00 AM', '02/01/1994 12:00:00 AM', '02/01/2005 12:00:00 AM', '02/01/2006 12:00:00 AM', '03/01/1956 12:00:00 AM', '03/01/1968 12:00:00 AM', '04/01/1966 12:00:00 AM', '04/01/1967 12:00:00 AM', '04/01/1970 12:00:00 AM', '04/01/1981 12:00:00 AM', '04/01/1997 12:00:00 AM', '04/01/2009 12:00:00 AM', '05/01/1967 12:00:00 AM', '05/01/1992 12:00:00 AM', '05/01/2004 12:00:00 AM', '05/01/2005 12:00:00 AM', '05/01/2016 12:00:00 AM', '06/01/1966 12:00:00 AM', '06/01/1968 12:00:00 AM', '06/01/1994 12:00:00 AM', '06/01/1998 12:00:00 AM', '06/01/2003 12:00:00 AM', '06/01/2004 12:00:00 AM', '07/01/1961 12:00:00 AM', '07/01/1996 12:00:00 AM', '07/01/2004 12:00:00 AM', '07/01/2005 12:00:00 AM', '08/01/1986 12:00:00 AM', '08/01/2006 12:00:00 AM', '09/01/1974 12:00:00 AM', '09/01/2002 12:00:00 AM', '09/01/2006 12:00:00 AM', '09/23/2020 12:00:00 AM', '10/01/1931 12:00:00 AM', '10/01/1956 12:00:00 AM', '10/01/1997 12:00:00 AM', '10/01/2002 12:00:00 AM', '10/01/2005 12:00:00 AM', '10/01/2006 12:00:00 AM', '10/01/2007 12:00:00 AM', '11/01/1933 12:00:00 AM', '11/01/1977 12:00:00 AM', '11/01/2004 12:00:00 AM', '11/16/2009 12:00:00 AM', '12/01/1945 12:00:00 AM', '12/01/1951 12:00:00 AM', '12/01/1992 12:00:00 AM', '12/01/1996 12:00:00 AM', '12/01/2005 12:00:00 AM', '12/01/2010 12:00:00 AM'\"],\n [\"'DATA_CHIUSURA'\",\n\"'12/31/2020 12:00:00 AM'\"],\n [\"'LIV_EMERG'\",\n\"'DEA-PS', 'DEA-PS-PPI', 'EAS-PS', 'EAS-PS-PPI', 'PPI', 'PS', 'PS-PPI', 'Senza livello emergenza'\"],\n [\"'PS_PEDIATRICO'\",\n\"'X'\"]],\n        columns: [[\"string\", \"Domain\"], [\"string\", \"Values\"]],\n        columnOptions: [{\"width\": \"1px\", \"className\": \"index_column\"}],\n        rowsPerPage: 25,\n        helpUrl: \"https://colab.research.google.com/notebooks/data_table.ipynb\",\n        suppressOutputScrolling: true,\n        minimumWidth: undefined,\n      });\n    ",
            "text/html": [
              "<div>\n",
              "<style scoped>\n",
              "    .dataframe tbody tr th:only-of-type {\n",
              "        vertical-align: middle;\n",
              "    }\n",
              "\n",
              "    .dataframe tbody tr th {\n",
              "        vertical-align: top;\n",
              "    }\n",
              "\n",
              "    .dataframe thead th {\n",
              "        text-align: right;\n",
              "    }\n",
              "</style>\n",
              "<table border=\"1\" class=\"dataframe\">\n",
              "  <thead>\n",
              "    <tr style=\"text-align: right;\">\n",
              "      <th></th>\n",
              "      <th>Values</th>\n",
              "    </tr>\n",
              "    <tr>\n",
              "      <th>Domain</th>\n",
              "      <th></th>\n",
              "    </tr>\n",
              "  </thead>\n",
              "  <tbody>\n",
              "    <tr>\n",
              "      <th>'DENOM_ENTE'</th>\n",
              "      <td>'ASST CENTRO SPEC. ORT. TRAUMATOLOGICO G.PINI/CTO', 'ASST DEGLI SPEDALI CIVILI DI BRESCIA', 'ASST DEI SETTE LAGHI', 'ASST DEL GARDA', 'ASST DELLA BRIANZA', 'ASST DELLA FRANCIACORTA', 'ASST DELLA VALCAMONICA', 'ASST DELLA VALLE OLONA', 'ASST DELLA VALTELLINA E DELL\\'ALTO LARIO', 'ASST DI BERGAMO EST', 'ASST DI BERGAMO OVEST', 'ASST DI CREMA', 'ASST DI CREMONA', 'ASST DI LECCO', 'ASST DI LODI', 'ASST DI MANTOVA', 'ASST DI MONZA', 'ASST DI PAVIA', 'ASST FATEBENEFRATELLI SACCO', 'ASST GRANDE OSPEDALE METROPOLITANO NIGUARDA', 'ASST LARIANA', 'ASST MELEGNANO E DELLA MARTESANA', 'ASST NORD MILANO', 'ASST OVEST MILANESE', 'ASST PAPA GIOVANNI XXIII', 'ASST RHODENSE', 'ASST SANTI PAOLO E CARLO', 'ATS DELL\\'INSUBRIA', 'ATS DELLA BRIANZA', 'ATS DELLA CITTA\\' METROPOLITANA DI MILANO', 'ATS DELLA MONTAGNA', 'ATS DELLA VAL PADANA', 'ATS DI BERGAMO', 'ATS DI BRESCIA', 'ATS DI PAVIA', 'CASA DI CURA MULTIMEDICA  S.P.A. SPA-SESTO S.G.', 'FOND. MONZINO - CENTRO CARDIOLOGICO- MI', 'FONDAZ. IRCCS CA\\' GRANDA-OSP. MAG. POLICLINICO,', 'INRCA CENTRO PER LE BRONC. - CASATENOVO', 'IST.AUXOLOGICO ITALIANO', 'IST.POLICL.S.DONATO SPA-S.DONATO M.', 'IST.SCIENT. E. MEDEA - BOSISIO PARINI', 'ISTITUTI CL SCIENTIFICI MAUGERI SPA SB - MONTESCANO', 'ISTITUTI CL.  SCIENTIFICI MAUGERI SPA SB DI PAVIA', 'ISTITUTI CL. SCIENTIFICI MAUGERI SPA SB - LISSONE', 'ISTITUTI CL. SCIENTIFICI MAUGERI SPA SB - LUMEZZANE', 'ISTITUTI CL. SCIENTIFICI MAUGERI SPA SB - MILANO', 'ISTITUTI CL. SCIENTIFICI MAUGERI SPA SB - PAVIA', 'ISTITUTI CL. SCIENTIFICI MAUGERI SPA SB - TRADATE', 'ISTITUTI CL. SCIENTIFICI MAUGERI SPA SB CASTEL GOFFREDO', 'ISTITUTO CLINICO \"HUMANITAS\"-ROZZANO', 'ISTITUTO EUROPEO DI ONCOLOGIA', 'ISTITUTO MONDINO - PAVIA', 'ISTITUTO NAZIONALE DEI TUMORI- MI', 'ISTITUTO NEUROLOGICO BESTA - MI', 'ISTITUTO ORTOPEDICO GALEAZZI SPA', 'OSP.LE SACRO CUORE F.B.F. - BRESCIA', 'POLICLINICO S. MATTEO - PV', 'PRO JOVENTUDE DON C. GNOCCHI - MI', 'S. RAFFAELE- MI', 'SAN RAFFAELE TURRO'</td>\n",
              "    </tr>\n",
              "    <tr>\n",
              "      <th>'DESCR_TIPO_STR'</th>\n",
              "      <td>'AZIENDA OSPEDALIERA', 'CASA DI CURA ACCREDITATA A CONTRATTO', 'CASA DI CURA ACCREDITATA NON A CONTRATTO', 'ISTITUTO DI RICOVERO E CURA A CARATTERE SCIENTIFICO - FONDAZIONE', 'ISTITUTO DI RICOVERO E CURA A CARATTERE SCIENTIFICO - PRIVATO', 'ISTITUTO DI RICOVERO E CURA A CARATTERE SCIENTIFICO - PUBBLICO', 'OSPEDALE A GESTIONE DIRETTA PRESIDIO DELLA AO', 'OSPEDALE CLASSIFICATO'</td>\n",
              "    </tr>\n",
              "    <tr>\n",
              "      <th>'DATA_APERTURA'</th>\n",
              "      <td>'01/01/1934 12:00:00 AM', '01/01/1938 12:00:00 AM', '01/01/1958 12:00:00 AM', '01/01/1969 12:00:00 AM', '01/01/1983 12:00:00 AM', '01/01/1984 12:00:00 AM', '01/01/1988 12:00:00 AM', '01/01/1995 12:00:00 AM', '01/01/1996 12:00:00 AM', '01/01/1997 12:00:00 AM', '01/01/2005 12:00:00 AM', '01/01/2007 12:00:00 AM', '01/01/2008 12:00:00 AM', '01/01/2009 12:00:00 AM', '01/01/2010 12:00:00 AM', '01/01/2014 12:00:00 AM', '01/01/2015 12:00:00 AM', '01/01/2016 12:00:00 AM', '01/01/2018 12:00:00 AM', '01/01/2020 12:00:00 AM', '01/02/1953 12:00:00 AM', '02/01/1974 12:00:00 AM', '02/01/1994 12:00:00 AM', '02/01/2005 12:00:00 AM', '02/01/2006 12:00:00 AM', '03/01/1956 12:00:00 AM', '03/01/1968 12:00:00 AM', '04/01/1966 12:00:00 AM', '04/01/1967 12:00:00 AM', '04/01/1970 12:00:00 AM', '04/01/1981 12:00:00 AM', '04/01/1997 12:00:00 AM', '04/01/2009 12:00:00 AM', '05/01/1967 12:00:00 AM', '05/01/1992 12:00:00 AM', '05/01/2004 12:00:00 AM', '05/01/2005 12:00:00 AM', '05/01/2016 12:00:00 AM', '06/01/1966 12:00:00 AM', '06/01/1968 12:00:00 AM', '06/01/1994 12:00:00 AM', '06/01/1998 12:00:00 AM', '06/01/2003 12:00:00 AM', '06/01/2004 12:00:00 AM', '07/01/1961 12:00:00 AM', '07/01/1996 12:00:00 AM', '07/01/2004 12:00:00 AM', '07/01/2005 12:00:00 AM', '08/01/1986 12:00:00 AM', '08/01/2006 12:00:00 AM', '09/01/1974 12:00:00 AM', '09/01/2002 12:00:00 AM', '09/01/2006 12:00:00 AM', '09/23/2020 12:00:00 AM', '10/01/1931 12:00:00 AM', '10/01/1956 12:00:00 AM', '10/01/1997 12:00:00 AM', '10/01/2002 12:00:00 AM', '10/01/2005 12:00:00 AM', '10/01/2006 12:00:00 AM', '10/01/2007 12:00:00 AM', '11/01/1933 12:00:00 AM', '11/01/1977 12:00:00 AM', '11/01/2004 12:00:00 AM', '11/16/2009 12:00:00 AM', '12/01/1945 12:00:00 AM', '12/01/1951 12:00:00 AM', '12/01/1992 12:00:00 AM', '12/01/1996 12:00:00 AM', '12/01/2005 12:00:00 AM', '12/01/2010 12:00:00 AM'</td>\n",
              "    </tr>\n",
              "    <tr>\n",
              "      <th>'DATA_CHIUSURA'</th>\n",
              "      <td>'12/31/2020 12:00:00 AM'</td>\n",
              "    </tr>\n",
              "    <tr>\n",
              "      <th>'LIV_EMERG'</th>\n",
              "      <td>'DEA-PS', 'DEA-PS-PPI', 'EAS-PS', 'EAS-PS-PPI', 'PPI', 'PS', 'PS-PPI', 'Senza livello emergenza'</td>\n",
              "    </tr>\n",
              "    <tr>\n",
              "      <th>'PS_PEDIATRICO'</th>\n",
              "      <td>'X'</td>\n",
              "    </tr>\n",
              "  </tbody>\n",
              "</table>\n",
              "</div>"
            ],
            "text/plain": [
              "                                                                                                                                                                                                                                                                                                                                                                                                                                                                                                                                                                                                                                                                                                                                                                                                                                                                                                                                                                                                                                                                                                                                                                                                                                                                                                                                                                                                                                                                                                                                                                                                                                                                                                                                                                                                                                                                                                                                                                                                                                                      Values\n",
              "Domain                                                                                                                                                                                                                                                                                                                                                                                                                                                                                                                                                                                                                                                                                                                                                                                                                                                                                                                                                                                                                                                                                                                                                                                                                                                                                                                                                                                                                                                                                                                                                                                                                                                                                                                                                                                                                                                                                                                                                                                                                                                      \n",
              "'DENOM_ENTE'      'ASST CENTRO SPEC. ORT. TRAUMATOLOGICO G.PINI/CTO', 'ASST DEGLI SPEDALI CIVILI DI BRESCIA', 'ASST DEI SETTE LAGHI', 'ASST DEL GARDA', 'ASST DELLA BRIANZA', 'ASST DELLA FRANCIACORTA', 'ASST DELLA VALCAMONICA', 'ASST DELLA VALLE OLONA', 'ASST DELLA VALTELLINA E DELL\\'ALTO LARIO', 'ASST DI BERGAMO EST', 'ASST DI BERGAMO OVEST', 'ASST DI CREMA', 'ASST DI CREMONA', 'ASST DI LECCO', 'ASST DI LODI', 'ASST DI MANTOVA', 'ASST DI MONZA', 'ASST DI PAVIA', 'ASST FATEBENEFRATELLI SACCO', 'ASST GRANDE OSPEDALE METROPOLITANO NIGUARDA', 'ASST LARIANA', 'ASST MELEGNANO E DELLA MARTESANA', 'ASST NORD MILANO', 'ASST OVEST MILANESE', 'ASST PAPA GIOVANNI XXIII', 'ASST RHODENSE', 'ASST SANTI PAOLO E CARLO', 'ATS DELL\\'INSUBRIA', 'ATS DELLA BRIANZA', 'ATS DELLA CITTA\\' METROPOLITANA DI MILANO', 'ATS DELLA MONTAGNA', 'ATS DELLA VAL PADANA', 'ATS DI BERGAMO', 'ATS DI BRESCIA', 'ATS DI PAVIA', 'CASA DI CURA MULTIMEDICA  S.P.A. SPA-SESTO S.G.', 'FOND. MONZINO - CENTRO CARDIOLOGICO- MI', 'FONDAZ. IRCCS CA\\' GRANDA-OSP. MAG. POLICLINICO,', 'INRCA CENTRO PER LE BRONC. - CASATENOVO', 'IST.AUXOLOGICO ITALIANO', 'IST.POLICL.S.DONATO SPA-S.DONATO M.', 'IST.SCIENT. E. MEDEA - BOSISIO PARINI', 'ISTITUTI CL SCIENTIFICI MAUGERI SPA SB - MONTESCANO', 'ISTITUTI CL.  SCIENTIFICI MAUGERI SPA SB DI PAVIA', 'ISTITUTI CL. SCIENTIFICI MAUGERI SPA SB - LISSONE', 'ISTITUTI CL. SCIENTIFICI MAUGERI SPA SB - LUMEZZANE', 'ISTITUTI CL. SCIENTIFICI MAUGERI SPA SB - MILANO', 'ISTITUTI CL. SCIENTIFICI MAUGERI SPA SB - PAVIA', 'ISTITUTI CL. SCIENTIFICI MAUGERI SPA SB - TRADATE', 'ISTITUTI CL. SCIENTIFICI MAUGERI SPA SB CASTEL GOFFREDO', 'ISTITUTO CLINICO \"HUMANITAS\"-ROZZANO', 'ISTITUTO EUROPEO DI ONCOLOGIA', 'ISTITUTO MONDINO - PAVIA', 'ISTITUTO NAZIONALE DEI TUMORI- MI', 'ISTITUTO NEUROLOGICO BESTA - MI', 'ISTITUTO ORTOPEDICO GALEAZZI SPA', 'OSP.LE SACRO CUORE F.B.F. - BRESCIA', 'POLICLINICO S. MATTEO - PV', 'PRO JOVENTUDE DON C. GNOCCHI - MI', 'S. RAFFAELE- MI', 'SAN RAFFAELE TURRO'\n",
              "'DESCR_TIPO_STR'                                                                                                                                                                                                                                                                                                                                                                                                                                                                                                                                                                                                                                                                                                                                                                                                                                                                                                                                                                                                                                                                                                                                                                                                                                                                                                                                                                                                                                                                                                                                                                                                                                                  'AZIENDA OSPEDALIERA', 'CASA DI CURA ACCREDITATA A CONTRATTO', 'CASA DI CURA ACCREDITATA NON A CONTRATTO', 'ISTITUTO DI RICOVERO E CURA A CARATTERE SCIENTIFICO - FONDAZIONE', 'ISTITUTO DI RICOVERO E CURA A CARATTERE SCIENTIFICO - PRIVATO', 'ISTITUTO DI RICOVERO E CURA A CARATTERE SCIENTIFICO - PUBBLICO', 'OSPEDALE A GESTIONE DIRETTA PRESIDIO DELLA AO', 'OSPEDALE CLASSIFICATO'\n",
              "'DATA_APERTURA'                                                                                                                         '01/01/1934 12:00:00 AM', '01/01/1938 12:00:00 AM', '01/01/1958 12:00:00 AM', '01/01/1969 12:00:00 AM', '01/01/1983 12:00:00 AM', '01/01/1984 12:00:00 AM', '01/01/1988 12:00:00 AM', '01/01/1995 12:00:00 AM', '01/01/1996 12:00:00 AM', '01/01/1997 12:00:00 AM', '01/01/2005 12:00:00 AM', '01/01/2007 12:00:00 AM', '01/01/2008 12:00:00 AM', '01/01/2009 12:00:00 AM', '01/01/2010 12:00:00 AM', '01/01/2014 12:00:00 AM', '01/01/2015 12:00:00 AM', '01/01/2016 12:00:00 AM', '01/01/2018 12:00:00 AM', '01/01/2020 12:00:00 AM', '01/02/1953 12:00:00 AM', '02/01/1974 12:00:00 AM', '02/01/1994 12:00:00 AM', '02/01/2005 12:00:00 AM', '02/01/2006 12:00:00 AM', '03/01/1956 12:00:00 AM', '03/01/1968 12:00:00 AM', '04/01/1966 12:00:00 AM', '04/01/1967 12:00:00 AM', '04/01/1970 12:00:00 AM', '04/01/1981 12:00:00 AM', '04/01/1997 12:00:00 AM', '04/01/2009 12:00:00 AM', '05/01/1967 12:00:00 AM', '05/01/1992 12:00:00 AM', '05/01/2004 12:00:00 AM', '05/01/2005 12:00:00 AM', '05/01/2016 12:00:00 AM', '06/01/1966 12:00:00 AM', '06/01/1968 12:00:00 AM', '06/01/1994 12:00:00 AM', '06/01/1998 12:00:00 AM', '06/01/2003 12:00:00 AM', '06/01/2004 12:00:00 AM', '07/01/1961 12:00:00 AM', '07/01/1996 12:00:00 AM', '07/01/2004 12:00:00 AM', '07/01/2005 12:00:00 AM', '08/01/1986 12:00:00 AM', '08/01/2006 12:00:00 AM', '09/01/1974 12:00:00 AM', '09/01/2002 12:00:00 AM', '09/01/2006 12:00:00 AM', '09/23/2020 12:00:00 AM', '10/01/1931 12:00:00 AM', '10/01/1956 12:00:00 AM', '10/01/1997 12:00:00 AM', '10/01/2002 12:00:00 AM', '10/01/2005 12:00:00 AM', '10/01/2006 12:00:00 AM', '10/01/2007 12:00:00 AM', '11/01/1933 12:00:00 AM', '11/01/1977 12:00:00 AM', '11/01/2004 12:00:00 AM', '11/16/2009 12:00:00 AM', '12/01/1945 12:00:00 AM', '12/01/1951 12:00:00 AM', '12/01/1992 12:00:00 AM', '12/01/1996 12:00:00 AM', '12/01/2005 12:00:00 AM', '12/01/2010 12:00:00 AM'\n",
              "'DATA_CHIUSURA'                                                                                                                                                                                                                                                                                                                                                                                                                                                                                                                                                                                                                                                                                                                                                                                                                                                                                                                                                                                                                                                                                                                                                                                                                                                                                                                                                                                                                                                                                                                                                                                                                                                                                                                                                                                                                                                                                                                                                                                                                     '12/31/2020 12:00:00 AM'\n",
              "'LIV_EMERG'                                                                                                                                                                                                                                                                                                                                                                                                                                                                                                                                                                                                                                                                                                                                                                                                                                                                                                                                                                                                                                                                                                                                                                                                                                                                                                                                                                                                                                                                                                                                                                                                                                                                                                                                                                                                                                                                                                                                                 'DEA-PS', 'DEA-PS-PPI', 'EAS-PS', 'EAS-PS-PPI', 'PPI', 'PS', 'PS-PPI', 'Senza livello emergenza'\n",
              "'PS_PEDIATRICO'                                                                                                                                                                                                                                                                                                                                                                                                                                                                                                                                                                                                                                                                                                                                                                                                                                                                                                                                                                                                                                                                                                                                                                                                                                                                                                                                                                                                                                                                                                                                                                                                                                                                                                                                                                                                                                                                                                                                                                                                                                          'X'"
            ]
          },
          "metadata": {}
        }
      ]
    },
    {
      "cell_type": "markdown",
      "metadata": {
        "id": "33kYoiZ965jS"
      },
      "source": [
        "Create the domain table for hospital"
      ]
    },
    {
      "cell_type": "code",
      "metadata": {
        "id": "a-RfEG8t6_dw"
      },
      "source": [
        "df_final_hospit = pd.merge(left = df_ospedali,right = df_georef_strutture,on=['COD_STRUTTURA'],how='inner')"
      ],
      "execution_count": 182,
      "outputs": []
    },
    {
      "cell_type": "code",
      "metadata": {
        "id": "IYM6tSHPG8J8"
      },
      "source": [
        "#reorganize columns orders\n",
        "df_final_hospit = df_final_hospit[['COD_STRUTTURA',\n",
        "'DENOM_STRUTTURA',\n",
        "'COD_ATS',\n",
        "'DESCR_ATS',\n",
        "'COD_ENTE',\n",
        "'DENOM_ENTE',\n",
        "'COD_TIPO_STR',\n",
        "'DESCR_TIPO_STR',\n",
        "'DATA_APERTURA',\n",
        "'DATA_CHIUSURA',\n",
        "'INDIRIZZO',\n",
        "'CAP',\n",
        "'LOCALITA',\n",
        "'COORDINATA_X',\n",
        "'COORDINATA_Y',\n",
        "'FAX',\n",
        "'LIV_EMERG',\n",
        "'DESCR_LIV_EMERG',\n",
        "'PS_PEDIATRICO'\n",
        "]]\n",
        "#\n",
        "df_final_hospit.set_index('COD_STRUTTURA',inplace=True)\n",
        "# show final dataframe\n",
        "df_final_hospit.head()"
      ],
      "execution_count": null,
      "outputs": []
    },
    {
      "cell_type": "markdown",
      "metadata": {
        "id": "Ak2Hly8hVNij"
      },
      "source": [
        "### Loading"
      ]
    },
    {
      "cell_type": "code",
      "metadata": {
        "id": "ZJR24oSm_R_3"
      },
      "source": [
        "#Write data into the table in AZURE SQL Server database\n",
        "cxn= establish_db_connection()\n",
        "df_final_hospit.to_sql('ANG_HOSPITAL',cxn,if_exists = 'append')\n",
        "cxn.dispose()"
      ],
      "execution_count": 191,
      "outputs": []
    },
    {
      "cell_type": "markdown",
      "metadata": {
        "id": "_U2S55v5TTy7"
      },
      "source": [
        "## Dataset condizioni di salute per provincia -Web Scraping with Selenium"
      ]
    },
    {
      "cell_type": "markdown",
      "metadata": {
        "id": "Iz2rroNN-h_r"
      },
      "source": [
        "### Data ingestion"
      ]
    },
    {
      "cell_type": "code",
      "metadata": {
        "id": "lp0LCAsVlMPQ"
      },
      "source": [
        "chrome_options = webdriver.ChromeOptions()\n",
        "chrome_options.add_argument('--headless')\n",
        "chrome_options.add_argument('--no-sandbox')\n",
        "chrome_options.add_argument('--disable-dev-shm-usage')"
      ],
      "execution_count": 235,
      "outputs": []
    },
    {
      "cell_type": "code",
      "metadata": {
        "id": "9xRhhUk6lMSO"
      },
      "source": [
        "linkweb = 'https://www.dati.lombardia.it/Sanit-/Dataset-condizioni-di-salute-per-provincia-e-gener/92eu-vwkf'\n",
        "scrWidth = 1920\n",
        "scrHeight = 1080\n",
        "delay = 10"
      ],
      "execution_count": 236,
      "outputs": []
    },
    {
      "cell_type": "code",
      "metadata": {
        "id": "8zE6JXjPZ064"
      },
      "source": [
        "linkweb = 'https://www.dati.lombardia.it/Sanit-/Dataset-condizioni-di-salute-per-provincia-e-gener/92eu-vwkf'"
      ],
      "execution_count": null,
      "outputs": []
    },
    {
      "cell_type": "code",
      "metadata": {
        "id": "4_gpmcUwlMU3"
      },
      "source": [
        "def webpage_shot():\n",
        "    wd.save_screenshot('screenshot.png')\n",
        "    %pylab inline\n",
        "    img=mpimg.imread('/content/screenshot.png')\n",
        "    imgplot = plt.imshow(img)\n",
        "    print(wd.title)\n",
        "    return plt.show()"
      ],
      "execution_count": 239,
      "outputs": []
    },
    {
      "cell_type": "code",
      "metadata": {
        "id": "ML-Hs9MJlMXa"
      },
      "source": [
        "wd = webdriver.Chrome('chromedriver',chrome_options=chrome_options)\n",
        "wd.set_window_size(scrWidth, scrHeight)\n",
        "wd.get(linkweb)"
      ],
      "execution_count": 429,
      "outputs": []
    },
    {
      "cell_type": "code",
      "metadata": {
        "colab": {
          "base_uri": "https://localhost:8080/",
          "height": 276
        },
        "id": "L1a77A0ZlMZ1",
        "outputId": "26a3512b-8519-4d4d-fb00-329b64d713d0"
      },
      "source": [
        "webpage_shot()"
      ],
      "execution_count": 240,
      "outputs": [
        {
          "output_type": "stream",
          "name": "stdout",
          "text": [
            "Populating the interactive namespace from numpy and matplotlib\n",
            "Dataset condizioni di salute per provincia e genere | Open Data Regione Lombardia\n"
          ]
        },
        {
          "output_type": "display_data",
          "data": {
            "image/png": "[encoded data removed]",
            "text/plain": [
              "<Figure size 432x288 with 1 Axes>"
            ]
          },
          "metadata": {
            "needs_background": "light"
          }
        }
      ]
    },
    {
      "cell_type": "code",
      "metadata": {
        "id": "p4-m4NVMlMcW"
      },
      "source": [
        "def extract_table_values(row):\n",
        "  anno = \"\"\n",
        "  provincia = \"\"\n",
        "  genere = \"\"\n",
        "  coordinata_x = \"\"\n",
        "  coordinata_y = \"\"\n",
        "  speranza_vita_nascita = \"\"\n",
        "  tasso_mortalita = \"\"\n",
        "  tasso_mortalita_infantile = \"\"\n",
        "  posizione = \"\"\n",
        "  date_loading = dt.date.today()\n",
        "  \n",
        "  try:\n",
        "    anno = row.find_element_by_css_selector('td:nth-child(1)').text\n",
        "    provincia = row.find_element_by_css_selector('td:nth-child(2)').text\n",
        "    genere = row.find_element_by_css_selector('td:nth-child(3)').text\n",
        "    coordinata_x = row.find_element_by_css_selector('td:nth-child(4)').text\n",
        "    coordinata_y = row.find_element_by_css_selector('td:nth-child(5)').text\n",
        "    speranza_vita_nascita = row.find_element_by_css_selector('td:nth-child(6)').text\n",
        "    tasso_mortalita = row.find_element_by_css_selector('td:nth-child(7)').text\n",
        "    tasso_mortalita_infantile = row.find_element_by_css_selector('td:nth-child(8)').text\n",
        "    posizione = row.find_element_by_css_selector('td:nth-child(9)').text\n",
        "  except:\n",
        "    pass\n",
        "  return {\n",
        "          'date_loading': date_loading,\n",
        "          'anno': anno,\n",
        "          'provincia': provincia,\n",
        "          'genere': genere,\n",
        "          'coordinata_x': coordinata_x,\n",
        "          'coordinata_y': coordinata_y,\n",
        "          'speranza_vita_nascita': speranza_vita_nascita,\n",
        "          'tasso_mortalita': tasso_mortalita,\n",
        "          'tasso_mortalita_infantile': tasso_mortalita_infantile,\n",
        "          'posizione':posizione\n",
        "          }"
      ],
      "execution_count": 430,
      "outputs": []
    },
    {
      "cell_type": "code",
      "metadata": {
        "colab": {
          "base_uri": "https://localhost:8080/"
        },
        "id": "jyhJ1SXulMes",
        "outputId": "afd5891c-416d-41bc-c8b2-7a11ec606ef0"
      },
      "source": [
        "rows_to_scrape = wd.find_element_by_css_selector('div > div > dl > div:nth-child(1) > dd')\n",
        "num_rows = int(rows_to_scrape.text)\n",
        "print('Total rows to scrape: ' + str(num_rows)) "
      ],
      "execution_count": 431,
      "outputs": [
        {
          "output_type": "stream",
          "name": "stdout",
          "text": [
            "Total rows to scrape: 210\n"
          ]
        }
      ]
    },
    {
      "cell_type": "code",
      "metadata": {
        "colab": {
          "base_uri": "https://localhost:8080/",
          "height": 49,
          "referenced_widgets": [
            "2c539f2dd4e24777ac23a1372d275a1b",
            "d405e0f4d43f4105acad820086031bb1",
            "1f3436aee0bb42c6a3706379d20ec230",
            "5b8e40174d1a441aa86219a5474e5bf3",
            "da9dad72361b415cb206a16454caa38b",
            "0f9a0373301e4a5fac3e82ad01af92d7",
            "34c6d5197a3e4a19b5dd45a758a88456",
            "e0b530df49cf4ba2a8d12edb0f8117e1",
            "3c6b71d5e82342e99131c9f830f9c2e1",
            "b78aeec6fc76443591e510f4d415ba81",
            "6bd2a695817546089b85f6a3e03020d3"
          ]
        },
        "id": "xdujoB7FltJt",
        "outputId": "66805b29-28c4-4271-b33e-500ae0e25db6"
      },
      "source": [
        "dataset_condizioni_salute_prov = []\n",
        "\n",
        "num_pages = math.ceil(num_rows/13)\n",
        "\n",
        "cnt = 0\n",
        "\n",
        "for num in tqdm(range(1,num_pages+1)):\n",
        "  table_socr = wd.find_element_by_css_selector(\"div.socrata-visualization-chart-container > div > table > tbody\")\n",
        "  t_cond_salute = table_socr.find_elements_by_tag_name(\"tr\")\n",
        "  for s in t_cond_salute:\n",
        "    if cnt < num_rows:\n",
        "      dataset_condizioni_salute_prov.append(extract_table_values(s))\n",
        "      cnt = cnt +1\n",
        "  next_button = wd.find_element_by_class_name('pager-button-next')\n",
        "  if next_button.is_enabled():\n",
        "    WebDriverWait(wd, delay).until(EC.element_to_be_clickable((By.CLASS_NAME, \"pager-button-next\")))\n",
        "    next_button.click()\n",
        "    time.sleep(delay)"
      ],
      "execution_count": 432,
      "outputs": [
        {
          "output_type": "display_data",
          "data": {
            "application/vnd.jupyter.widget-view+json": {
              "model_id": "2c539f2dd4e24777ac23a1372d275a1b",
              "version_minor": 0,
              "version_major": 2
            },
            "text/plain": [
              "  0%|          | 0/17 [00:00<?, ?it/s]"
            ]
          },
          "metadata": {}
        }
      ]
    },
    {
      "cell_type": "code",
      "metadata": {
        "colab": {
          "base_uri": "https://localhost:8080/",
          "height": 623
        },
        "id": "fZdZPaIBlu4d",
        "outputId": "5c43665d-bd5a-4e32-af1d-2ab9c2930cc9"
      },
      "source": [
        "df_condizioni_salute_prov = pd.DataFrame(dataset_condizioni_salute_prov)\n",
        "df_condizioni_salute_prov"
      ],
      "execution_count": 443,
      "outputs": [
        {
          "output_type": "execute_result",
          "data": {
            "application/vnd.google.colaboratory.module+javascript": "\n      import \"https://ssl.gstatic.com/colaboratory/data_table/a6224c040fa35dcf/data_table.js\";\n\n      window.createDataTable({\n        data: [[{\n            'v': 0,\n            'f': \"0\",\n        },\n\"2021-11-14\",\n\"2012\",\n\"BERGAMO\",\n\"F\",\n\"9,63853045\",\n\"45,68012929\",\n\"84,5\",\n\"8,381804761882657\",\n\"3,73\",\n\"(45.68012929\\u00b0, 9.63853045\\u00b0)\"],\n [{\n            'v': 1,\n            'f': \"1\",\n        },\n\"2021-11-14\",\n\"2012\",\n\"BRESCIA\",\n\"F\",\n\"10,18167955\",\n\"45,51939749\",\n\"85\",\n\"8,654399715669228\",\n\"4,1\",\n\"(45.51939749\\u00b0, 10.18167955\\u00b0)\"],\n [{\n            'v': 2,\n            'f': \"2\",\n        },\n\"2021-11-14\",\n\"2012\",\n\"COMO\",\n\"F\",\n\"9,039360974\",\n\"45,80216962\",\n\"85,7\",\n\"9,290944196983311\",\n\"3,85\",\n\"(45.80216962\\u00b0, 9.039360974\\u00b0)\"],\n [{\n            'v': 3,\n            'f': \"3\",\n        },\n\"2021-11-14\",\n\"2012\",\n\"CREMONA\",\n\"F\",\n\"10,0131151\",\n\"45,13644491\",\n\"84\",\n\"10,691872186630041\",\n\"1,84\",\n\"(45.13644491\\u00b0, 10.0131151\\u00b0)\"],\n [{\n            'v': 4,\n            'f': \"4\",\n        },\n\"2021-11-14\",\n\"2012\",\n\"ITALIA\",\n\"F\",\n\"\",\n\"\",\n\"84,4\",\n\"10,24902789486484\",\n\"3,15\",\n\"\"],\n [{\n            'v': 5,\n            'f': \"5\",\n        },\n\"2021-11-14\",\n\"2012\",\n\"LECCO\",\n\"F\",\n\"9,388156645\",\n\"45,85028614\",\n\"85,5\",\n\"8,774368209231215\",\n\"1,27\",\n\"(45.85028614\\u00b0, 9.388156645\\u00b0)\"],\n [{\n            'v': 6,\n            'f': \"6\",\n        },\n\"2021-11-14\",\n\"2012\",\n\"LODI\",\n\"F\",\n\"9,510140481\",\n\"45,31535435\",\n\"83,7\",\n\"9,635212486800302\",\n\"0,9\",\n\"(45.31535435\\u00b0, 9.510140481\\u00b0)\"],\n [{\n            'v': 7,\n            'f': \"7\",\n        },\n\"2021-11-14\",\n\"2012\",\n\"MANTOVA\",\n\"F\",\n\"10,77086348\",\n\"45,14135331\",\n\"84,6\",\n\"10,535935602598931\",\n\"2,07\",\n\"(45.14135331\\u00b0, 10.77086348\\u00b0)\"],\n [{\n            'v': 8,\n            'f': \"8\",\n        },\n\"2021-11-14\",\n\"2012\",\n\"MILANO\",\n\"F\",\n\"9,18951\",\n\"45,46427\",\n\"85,2\",\n\"9,622471039098583\",\n\"1,88\",\n\"(45.46427\\u00b0, 9.18951\\u00b0)\"],\n [{\n            'v': 9,\n            'f': \"9\",\n        },\n\"2021-11-14\",\n\"2012\",\n\"MONZA E DELLA BRIANZA\",\n\"F\",\n\"9,258430902\",\n\"45,5823624\",\n\"85,4\",\n\"8,200159541838513\",\n\"1,9\",\n\"(45.5823624\\u00b0, 9.258430902\\u00b0)\"],\n [{\n            'v': 10,\n            'f': \"10\",\n        },\n\"2021-11-14\",\n\"2012\",\n\"PAVIA\",\n\"F\",\n\"9,14034225\",\n\"45,18407925\",\n\"83,9\",\n\"11,87409760323419\",\n\"1,76\",\n\"(45.18407925\\u00b0, 9.14034225\\u00b0)\"],\n [{\n            'v': 11,\n            'f': \"11\",\n        },\n\"2021-11-14\",\n\"2012\",\n\"REGIONE LOMBARDIA\",\n\"F\",\n\"\",\n\"\",\n\"84,9\",\n\"9,378875832890206\",\n\"2,51\",\n\"\"],\n [{\n            'v': 12,\n            'f': \"12\",\n        },\n\"2021-11-14\",\n\"2012\",\n\"SONDRIO\",\n\"F\",\n\"9,879429303\",\n\"46,1707552\",\n\"84,6\",\n\"9,953962921488117\",\n\"\",\n\"(46.1707552\\u00b0, 9.879429303\\u00b0)\"],\n [{\n            'v': 13,\n            'f': \"13\",\n        },\n\"2021-11-14\",\n\"2012\",\n\"VARESE\",\n\"F\",\n\"8,80650544\",\n\"45,80041256\",\n\"85,1\",\n\"9,484262280775205\",\n\"2,71\",\n\"(45.80041256\\u00b0, 8.80650544\\u00b0)\"],\n [{\n            'v': 14,\n            'f': \"14\",\n        },\n\"2021-11-14\",\n\"2012\",\n\"BERGAMO\",\n\"M\",\n\"9,63853045\",\n\"45,68012929\",\n\"79,7\",\n\"9,060956265168405\",\n\"2,64\",\n\"(45.68012929\\u00b0, 9.63853045\\u00b0)\"],\n [{\n            'v': 15,\n            'f': \"15\",\n        },\n\"2021-11-14\",\n\"2012\",\n\"BRESCIA\",\n\"M\",\n\"10,18167955\",\n\"45,51939749\",\n\"79,7\",\n\"9,20773893054169\",\n\"3,13\",\n\"(45.51939749\\u00b0, 10.18167955\\u00b0)\"],\n [{\n            'v': 16,\n            'f': \"16\",\n        },\n\"2021-11-14\",\n\"2012\",\n\"COMO\",\n\"M\",\n\"9,039360974\",\n\"45,80216962\",\n\"80,1\",\n\"9,276370259976817\",\n\"2,99\",\n\"(45.80216962\\u00b0, 9.039360974\\u00b0)\"],\n [{\n            'v': 17,\n            'f': \"17\",\n        },\n\"2021-11-14\",\n\"2012\",\n\"CREMONA\",\n\"M\",\n\"10,0131151\",\n\"45,13644491\",\n\"79,2\",\n\"12,210244640001742\",\n\"4,01\",\n\"(45.13644491\\u00b0, 10.0131151\\u00b0)\"],\n [{\n            'v': 18,\n            'f': \"18\",\n        },\n\"2021-11-14\",\n\"2012\",\n\"ITALIA\",\n\"M\",\n\"\",\n\"\",\n\"79,6\",\n\"10,335543988099031\",\n\"2,85\",\n\"\"],\n [{\n            'v': 19,\n            'f': \"19\",\n        },\n\"2021-11-14\",\n\"2012\",\n\"LECCO\",\n\"M\",\n\"9,388156645\",\n\"45,85028614\",\n\"80,8\",\n\"9,354226573687091\",\n\"1,95\",\n\"(45.85028614\\u00b0, 9.388156645\\u00b0)\"],\n [{\n            'v': 20,\n            'f': \"20\",\n        },\n\"2021-11-14\",\n\"2012\",\n\"LODI\",\n\"M\",\n\"9,510140481\",\n\"45,31535435\",\n\"78,7\",\n\"9,982168455648404\",\n\"3,92\",\n\"(45.31535435\\u00b0, 9.510140481\\u00b0)\"],\n [{\n            'v': 21,\n            'f': \"21\",\n        },\n\"2021-11-14\",\n\"2012\",\n\"MANTOVA\",\n\"M\",\n\"10,77086348\",\n\"45,14135331\",\n\"79,6\",\n\"11,487002739647773\",\n\"2,29\",\n\"(45.14135331\\u00b0, 10.77086348\\u00b0)\"],\n [{\n            'v': 22,\n            'f': \"22\",\n        },\n\"2021-11-14\",\n\"2012\",\n\"MILANO\",\n\"M\",\n\"9,18951\",\n\"45,46427\",\n\"80,4\",\n\"9,802879411059862\",\n\"1,78\",\n\"(45.46427\\u00b0, 9.18951\\u00b0)\"],\n [{\n            'v': 23,\n            'f': \"23\",\n        },\n\"2021-11-14\",\n\"2012\",\n\"MONZA E DELLA BRIANZA\",\n\"M\",\n\"9,258430902\",\n\"45,5823624\",\n\"80,9\",\n\"8,670253296081647\",\n\"1,53\",\n\"(45.5823624\\u00b0, 9.258430902\\u00b0)\"],\n [{\n            'v': 24,\n            'f': \"24\",\n        },\n\"2021-11-14\",\n\"2012\",\n\"PAVIA\",\n\"M\",\n\"9,14034225\",\n\"45,18407925\",\n\"78,8\",\n\"12,742337414647752\",\n\"0,88\",\n\"(45.18407925\\u00b0, 9.14034225\\u00b0)\"],\n [{\n            'v': 25,\n            'f': \"25\",\n        },\n\"2021-11-14\",\n\"2012\",\n\"REGIONE LOMBARDIA\",\n\"M\",\n\"\",\n\"\",\n\"79,9\",\n\"9,844881092005494\",\n\"2,3\",\n\"\"],\n [{\n            'v': 26,\n            'f': \"26\",\n        },\n\"2021-11-14\",\n\"2012\",\n\"SONDRIO\",\n\"M\",\n\"9,879429303\",\n\"46,1707552\",\n\"78,7\",\n\"10,202482532031365\",\n\"1,31\",\n\"(46.1707552\\u00b0, 9.879429303\\u00b0)\"],\n [{\n            'v': 27,\n            'f': \"27\",\n        },\n\"2021-11-14\",\n\"2012\",\n\"VARESE\",\n\"M\",\n\"8,80650544\",\n\"45,80041256\",\n\"80,3\",\n\"9,918221872733554\",\n\"2,84\",\n\"(45.80041256\\u00b0, 8.80650544\\u00b0)\"],\n [{\n            'v': 28,\n            'f': \"28\",\n        },\n\"2021-11-14\",\n\"2012\",\n\"BERGAMO\",\n\"ALL\",\n\"9,63853045\",\n\"45,68012929\",\n\"82,1\",\n\"8,725547375641462\",\n\"3,2\",\n\"(45.68012929\\u00b0, 9.63853045\\u00b0)\"],\n [{\n            'v': 29,\n            'f': \"29\",\n        },\n\"2021-11-14\",\n\"2012\",\n\"BRESCIA\",\n\"ALL\",\n\"10,18167955\",\n\"45,51939749\",\n\"82,3\",\n\"8,93586081495469\",\n\"3,62\",\n\"(45.51939749\\u00b0, 10.18167955\\u00b0)\"],\n [{\n            'v': 30,\n            'f': \"30\",\n        },\n\"2021-11-14\",\n\"2012\",\n\"COMO\",\n\"ALL\",\n\"9,039360974\",\n\"45,80216962\",\n\"82,8\",\n\"9,283481118868073\",\n\"3,43\",\n\"(45.80216962\\u00b0, 9.039360974\\u00b0)\"],\n [{\n            'v': 31,\n            'f': \"31\",\n        },\n\"2021-11-14\",\n\"2012\",\n\"CREMONA\",\n\"ALL\",\n\"10,0131151\",\n\"45,13644491\",\n\"81,5\",\n\"11,468001495705408\",\n\"2,88\",\n\"(45.13644491\\u00b0, 10.0131151\\u00b0)\"],\n [{\n            'v': 32,\n            'f': \"32\",\n        },\n\"2021-11-14\",\n\"2012\",\n\"ITALIA\",\n\"ALL\",\n\"\",\n\"\",\n\"81,9\",\n\"10,293683458387953\",\n\"3\",\n\"\"],\n [{\n            'v': 33,\n            'f': \"33\",\n        },\n\"2021-11-14\",\n\"2012\",\n\"LECCO\",\n\"ALL\",\n\"9,388156645\",\n\"45,85028614\",\n\"83,1\",\n\"9,069723312657882\",\n\"1,61\",\n\"(45.85028614\\u00b0, 9.388156645\\u00b0)\"],\n [{\n            'v': 34,\n            'f': \"34\",\n        },\n\"2021-11-14\",\n\"2012\",\n\"LODI\",\n\"ALL\",\n\"9,510140481\",\n\"45,31535435\",\n\"81,1\",\n\"9,811839619807902\",\n\"2,34\",\n\"(45.31535435\\u00b0, 9.510140481\\u00b0)\"],\n [{\n            'v': 35,\n            'f': \"35\",\n        },\n\"2021-11-14\",\n\"2012\",\n\"MANTOVA\",\n\"ALL\",\n\"10,77086348\",\n\"45,14135331\",\n\"82,1\",\n\"11,023499064088579\",\n\"2,17\",\n\"(45.14135331\\u00b0, 10.77086348\\u00b0)\"],\n [{\n            'v': 36,\n            'f': \"36\",\n        },\n\"2021-11-14\",\n\"2012\",\n\"MILANO\",\n\"ALL\",\n\"9,18951\",\n\"45,46427\",\n\"82,7\",\n\"9,71634847801973\",\n\"1,83\",\n\"(45.46427\\u00b0, 9.18951\\u00b0)\"],\n [{\n            'v': 37,\n            'f': \"37\",\n        },\n\"2021-11-14\",\n\"2012\",\n\"MONZA E DELLA BRIANZA\",\n\"ALL\",\n\"9,258430902\",\n\"45,5823624\",\n\"83,1\",\n\"8,44094942644831\",\n\"1,72\",\n\"(45.5823624\\u00b0, 9.258430902\\u00b0)\"],\n [{\n            'v': 38,\n            'f': \"38\",\n        },\n\"2021-11-14\",\n\"2012\",\n\"PAVIA\",\n\"ALL\",\n\"9,14034225\",\n\"45,18407925\",\n\"81,3\",\n\"12,3228875548136\",\n\"1,32\",\n\"(45.18407925\\u00b0, 9.14034225\\u00b0)\"],\n [{\n            'v': 39,\n            'f': \"39\",\n        },\n\"2021-11-14\",\n\"2012\",\n\"REGIONE LOMBARDIA\",\n\"ALL\",\n\"\",\n\"\",\n\"82,3\",\n\"9,618368553083737\",\n\"2,41\",\n\"\"],\n [{\n            'v': 40,\n            'f': \"40\",\n        },\n\"2021-11-14\",\n\"2012\",\n\"SONDRIO\",\n\"ALL\",\n\"9,879429303\",\n\"46,1707552\",\n\"81,6\",\n\"10,081051878176236\",\n\"0,63\",\n\"(46.1707552\\u00b0, 9.879429303\\u00b0)\"],\n [{\n            'v': 41,\n            'f': \"41\",\n        },\n\"2021-11-14\",\n\"2012\",\n\"VARESE\",\n\"ALL\",\n\"8,80650544\",\n\"45,80041256\",\n\"82,6\",\n\"9,70774938311291\",\n\"2,77\",\n\"(45.80041256\\u00b0, 8.80650544\\u00b0)\"],\n [{\n            'v': 42,\n            'f': \"42\",\n        },\n\"2021-11-14\",\n\"2013\",\n\"BERGAMO\",\n\"F\",\n\"9,63853045\",\n\"45,68012929\",\n\"84,5\",\n\"8,03985771398454\",\n\"3,29\",\n\"(45.68012929\\u00b0, 9.63853045\\u00b0)\"],\n [{\n            'v': 43,\n            'f': \"43\",\n        },\n\"2021-11-14\",\n\"2013\",\n\"BRESCIA\",\n\"F\",\n\"10,18167955\",\n\"45,51939749\",\n\"85,2\",\n\"8,348678382348417\",\n\"3,69\",\n\"(45.51939749\\u00b0, 10.18167955\\u00b0)\"],\n [{\n            'v': 44,\n            'f': \"44\",\n        },\n\"2021-11-14\",\n\"2013\",\n\"COMO\",\n\"F\",\n\"9,039360974\",\n\"45,80216962\",\n\"85,1\",\n\"8,84238297755395\",\n\"1,47\",\n\"(45.80216962\\u00b0, 9.039360974\\u00b0)\"],\n [{\n            'v': 45,\n            'f': \"45\",\n        },\n\"2021-11-14\",\n\"2013\",\n\"CREMONA\",\n\"F\",\n\"10,0131151\",\n\"45,13644491\",\n\"84,4\",\n\"9,939303684649923\",\n\"0,66\",\n\"(45.13644491\\u00b0, 10.0131151\\u00b0)\"],\n [{\n            'v': 46,\n            'f': \"46\",\n        },\n\"2021-11-14\",\n\"2013\",\n\"ITALIA\",\n\"F\",\n\"\",\n\"\",\n\"84,6\",\n\"9,948031629953533\",\n\"3,37\",\n\"\"],\n [{\n            'v': 47,\n            'f': \"47\",\n        },\n\"2021-11-14\",\n\"2013\",\n\"LECCO\",\n\"F\",\n\"9,388156645\",\n\"45,85028614\",\n\"85,1\",\n\"8,940510526536707\",\n\"3,43\",\n\"(45.85028614\\u00b0, 9.388156645\\u00b0)\"],\n [{\n            'v': 48,\n            'f': \"48\",\n        },\n\"2021-11-14\",\n\"2013\",\n\"LODI\",\n\"F\",\n\"9,510140481\",\n\"45,31535435\",\n\"84,1\",\n\"8,859922039838358\",\n\"0,94\",\n\"(45.31535435\\u00b0, 9.510140481\\u00b0)\"],\n [{\n            'v': 49,\n            'f': \"49\",\n        },\n\"2021-11-14\",\n\"2013\",\n\"MANTOVA\",\n\"F\",\n\"10,77086348\",\n\"45,14135331\",\n\"84,8\",\n\"10,051048223224463\",\n\"2,12\",\n\"(45.14135331\\u00b0, 10.77086348\\u00b0)\"],\n [{\n            'v': 50,\n            'f': \"50\",\n        },\n\"2021-11-14\",\n\"2013\",\n\"MILANO\",\n\"F\",\n\"9,18951\",\n\"45,46427\",\n\"85,6\",\n\"9,107691980647317\",\n\"3,23\",\n\"(45.46427\\u00b0, 9.18951\\u00b0)\"],\n [{\n            'v': 51,\n            'f': \"51\",\n        },\n\"2021-11-14\",\n\"2013\",\n\"MONZA E DELLA BRIANZA\",\n\"F\",\n\"9,258430902\",\n\"45,5823624\",\n\"85,6\",\n\"8,102514000843216\",\n\"1,51\",\n\"(45.5823624\\u00b0, 9.258430902\\u00b0)\"],\n [{\n            'v': 52,\n            'f': \"52\",\n        },\n\"2021-11-14\",\n\"2013\",\n\"PAVIA\",\n\"F\",\n\"9,14034225\",\n\"45,18407925\",\n\"84\",\n\"11,345347989797158\",\n\"4,43\",\n\"(45.18407925\\u00b0, 9.14034225\\u00b0)\"],\n [{\n            'v': 53,\n            'f': \"53\",\n        },\n\"2021-11-14\",\n\"2013\",\n\"REGIONE LOMBARDIA\",\n\"F\",\n\"\",\n\"\",\n\"85,1\",\n\"8,997448390253526\",\n\"2,74\",\n\"\"],\n [{\n            'v': 54,\n            'f': \"54\",\n        },\n\"2021-11-14\",\n\"2013\",\n\"SONDRIO\",\n\"F\",\n\"9,879429303\",\n\"46,1707552\",\n\"85\",\n\"9,619982560265534\",\n\"2,54\",\n\"(46.1707552\\u00b0, 9.879429303\\u00b0)\"],\n [{\n            'v': 55,\n            'f': \"55\",\n        },\n\"2021-11-14\",\n\"2013\",\n\"VARESE\",\n\"F\",\n\"8,80650544\",\n\"45,80041256\",\n\"85,2\",\n\"9,341181824015681\",\n\"1,24\",\n\"(45.80041256\\u00b0, 8.80650544\\u00b0)\"],\n [{\n            'v': 56,\n            'f': \"56\",\n        },\n\"2021-11-14\",\n\"2013\",\n\"BERGAMO\",\n\"M\",\n\"9,63853045\",\n\"45,68012929\",\n\"80,1\",\n\"8,845508342554895\",\n\"2,05\",\n\"(45.68012929\\u00b0, 9.63853045\\u00b0)\"],\n [{\n            'v': 57,\n            'f': \"57\",\n        },\n\"2021-11-14\",\n\"2013\",\n\"BRESCIA\",\n\"M\",\n\"10,18167955\",\n\"45,51939749\",\n\"80\",\n\"8,919149416936499\",\n\"2,48\",\n\"(45.51939749\\u00b0, 10.18167955\\u00b0)\"],\n [{\n            'v': 58,\n            'f': \"58\",\n        },\n\"2021-11-14\",\n\"2013\",\n\"COMO\",\n\"M\",\n\"9,039360974\",\n\"45,80216962\",\n\"80,4\",\n\"9,659868859564156\",\n\"1,19\",\n\"(45.80216962\\u00b0, 9.039360974\\u00b0)\"],\n [{\n            'v': 59,\n            'f': \"59\",\n        },\n\"2021-11-14\",\n\"2013\",\n\"CREMONA\",\n\"M\",\n\"10,0131151\",\n\"45,13644491\",\n\"79,7\",\n\"11,618809911180533\",\n\"4,29\",\n\"(45.13644491\\u00b0, 10.0131151\\u00b0)\"],\n [{\n            'v': 60,\n            'f': \"60\",\n        },\n\"2021-11-14\",\n\"2013\",\n\"ITALIA\",\n\"M\",\n\"\",\n\"\",\n\"79,8\",\n\"9,997466088929361\",\n\"2,53\",\n\"\"],\n [{\n            'v': 61,\n            'f': \"61\",\n        },\n\"2021-11-14\",\n\"2013\",\n\"LECCO\",\n\"M\",\n\"9,388156645\",\n\"45,85028614\",\n\"80,2\",\n\"9,551606735300158\",\n\"3,33\",\n\"(45.85028614\\u00b0, 9.388156645\\u00b0)\"],\n [{\n            'v': 62,\n            'f': \"62\",\n        },\n\"2021-11-14\",\n\"2013\",\n\"LODI\",\n\"M\",\n\"9,510140481\",\n\"45,31535435\",\n\"79,4\",\n\"9,274319133474062\",\n\"2,02\",\n\"(45.31535435\\u00b0, 9.510140481\\u00b0)\"],\n [{\n            'v': 63,\n            'f': \"63\",\n        },\n\"2021-11-14\",\n\"2013\",\n\"MANTOVA\",\n\"M\",\n\"10,77086348\",\n\"45,14135331\",\n\"80,2\",\n\"10,989686529122196\",\n\"3,41\",\n\"(45.14135331\\u00b0, 10.77086348\\u00b0)\"],\n [{\n            'v': 64,\n            'f': \"64\",\n        },\n\"2021-11-14\",\n\"2013\",\n\"MILANO\",\n\"M\",\n\"9,18951\",\n\"45,46427\",\n\"80,7\",\n\"9,11059948077853\",\n\"1,91\",\n\"(45.46427\\u00b0, 9.18951\\u00b0)\"],\n [{\n            'v': 65,\n            'f': \"65\",\n        },\n\"2021-11-14\",\n\"2013\",\n\"MONZA E DELLA BRIANZA\",\n\"M\",\n\"9,258430902\",\n\"45,5823624\",\n\"81\",\n\"8,275339374521314\",\n\"1,89\",\n\"(45.5823624\\u00b0, 9.258430902\\u00b0)\"],\n [{\n            'v': 66,\n            'f': \"66\",\n        },\n\"2021-11-14\",\n\"2013\",\n\"PAVIA\",\n\"M\",\n\"9,14034225\",\n\"45,18407925\",\n\"79\",\n\"12,68131119837856\",\n\"1,9\",\n\"(45.18407925\\u00b0, 9.14034225\\u00b0)\"],\n [{\n            'v': 67,\n            'f': \"67\",\n        },\n\"2021-11-14\",\n\"2013\",\n\"REGIONE LOMBARDIA\",\n\"M\",\n\"\",\n\"\",\n\"80,3\",\n\"9,45786651279745\",\n\"2,2\",\n\"\"],\n [{\n            'v': 68,\n            'f': \"68\",\n        },\n\"2021-11-14\",\n\"2013\",\n\"SONDRIO\",\n\"M\",\n\"9,879429303\",\n\"46,1707552\",\n\"78,9\",\n\"9,578853335916396\",\n\"1,42\",\n\"(46.1707552\\u00b0, 9.879429303\\u00b0)\"],\n [{\n            'v': 69,\n            'f': \"69\",\n        },\n\"2021-11-14\",\n\"2013\",\n\"VARESE\",\n\"M\",\n\"8,80650544\",\n\"45,80041256\",\n\"80,3\",\n\"9,61127534993149\",\n\"2,57\",\n\"(45.80041256\\u00b0, 8.80650544\\u00b0)\"],\n [{\n            'v': 70,\n            'f': \"70\",\n        },\n\"2021-11-14\",\n\"2013\",\n\"BERGAMO\",\n\"ALL\",\n\"9,63853045\",\n\"45,68012929\",\n\"82,3\",\n\"8,446956465650967\",\n\"2,71\",\n\"(45.68012929\\u00b0, 9.63853045\\u00b0)\"],\n [{\n            'v': 71,\n            'f': \"71\",\n        },\n\"2021-11-14\",\n\"2013\",\n\"BRESCIA\",\n\"ALL\",\n\"10,18167955\",\n\"45,51939749\",\n\"82,5\",\n\"8,638418927852586\",\n\"3,1\",\n\"(45.51939749\\u00b0, 10.18167955\\u00b0)\"],\n [{\n            'v': 72,\n            'f': \"72\",\n        },\n\"2021-11-14\",\n\"2013\",\n\"COMO\",\n\"ALL\",\n\"9,039360974\",\n\"45,80216962\",\n\"82,7\",\n\"9,260362926986504\",\n\"1,33\",\n\"(45.80216962\\u00b0, 9.039360974\\u00b0)\"],\n [{\n            'v': 73,\n            'f': \"73\",\n        },\n\"2021-11-14\",\n\"2013\",\n\"CREMONA\",\n\"ALL\",\n\"10,0131151\",\n\"45,13644491\",\n\"82\",\n\"10,796280974041133\",\n\"2,41\",\n\"(45.13644491\\u00b0, 10.0131151\\u00b0)\"],\n [{\n            'v': 74,\n            'f': \"74\",\n        },\n\"2021-11-14\",\n\"2013\",\n\"ITALIA\",\n\"ALL\",\n\"\",\n\"\",\n\"82,2\",\n\"9,973512029906392\",\n\"2,96\",\n\"\"],\n [{\n            'v': 75,\n            'f': \"75\",\n        },\n\"2021-11-14\",\n\"2013\",\n\"LECCO\",\n\"ALL\",\n\"9,388156645\",\n\"45,85028614\",\n\"82,6\",\n\"9,251530021097139\",\n\"3,38\",\n\"(45.85028614\\u00b0, 9.388156645\\u00b0)\"],\n [{\n            'v': 76,\n            'f': \"76\",\n        },\n\"2021-11-14\",\n\"2013\",\n\"LODI\",\n\"ALL\",\n\"9,510140481\",\n\"45,31535435\",\n\"81,7\",\n\"9,07052409426662\",\n\"1,46\",\n\"(45.31535435\\u00b0, 9.510140481\\u00b0)\"],\n [{\n            'v': 77,\n            'f': \"77\",\n        },\n\"2021-11-14\",\n\"2013\",\n\"MANTOVA\",\n\"ALL\",\n\"10,77086348\",\n\"45,14135331\",\n\"82,5\",\n\"10,531384833547495\",\n\"2,74\",\n\"(45.14135331\\u00b0, 10.77086348\\u00b0)\"],\n [{\n            'v': 78,\n            'f': \"78\",\n        },\n\"2021-11-14\",\n\"2013\",\n\"MILANO\",\n\"ALL\",\n\"9,18951\",\n\"45,46427\",\n\"83,1\",\n\"9,109199213023032\",\n\"2,59\",\n\"(45.46427\\u00b0, 9.18951\\u00b0)\"],\n [{\n            'v': 79,\n            'f': \"79\",\n        },\n\"2021-11-14\",\n\"2013\",\n\"MONZA E DELLA BRIANZA\",\n\"ALL\",\n\"9,258430902\",\n\"45,5823624\",\n\"83,3\",\n\"8,190884853691678\",\n\"1,69\",\n\"(45.5823624\\u00b0, 9.258430902\\u00b0)\"],\n [{\n            'v': 80,\n            'f': \"80\",\n        },\n\"2021-11-14\",\n\"2013\",\n\"PAVIA\",\n\"ALL\",\n\"9,14034225\",\n\"45,18407925\",\n\"81,4\",\n\"12,034249628870434\",\n\"3,21\",\n\"(45.18407925\\u00b0, 9.14034225\\u00b0)\"],\n [{\n            'v': 81,\n            'f': \"81\",\n        },\n\"2021-11-14\",\n\"2013\",\n\"REGIONE LOMBARDIA\",\n\"ALL\",\n\"\",\n\"\",\n\"82,6\",\n\"9,23354513438489\",\n\"2,48\",\n\"\"],\n [{\n            'v': 82,\n            'f': \"82\",\n        },\n\"2021-11-14\",\n\"2013\",\n\"SONDRIO\",\n\"ALL\",\n\"9,879429303\",\n\"46,1707552\",\n\"81,9\",\n\"9,598961441879526\",\n\"2,01\",\n\"(46.1707552\\u00b0, 9.879429303\\u00b0)\"],\n [{\n            'v': 83,\n            'f': \"83\",\n        },\n\"2021-11-14\",\n\"2013\",\n\"VARESE\",\n\"ALL\",\n\"8,80650544\",\n\"45,80041256\",\n\"82,7\",\n\"9,48011764592565\",\n\"1,9\",\n\"(45.80041256\\u00b0, 8.80650544\\u00b0)\"],\n [{\n            'v': 84,\n            'f': \"84\",\n        },\n\"2021-11-14\",\n\"2014\",\n\"BERGAMO\",\n\"F\",\n\"9,63853045\",\n\"45,68012929\",\n\"85\",\n\"8,018340130698943\",\n\"3,14\",\n\"(45.68012929\\u00b0, 9.63853045\\u00b0)\"],\n [{\n            'v': 85,\n            'f': \"85\",\n        },\n\"2021-11-14\",\n\"2014\",\n\"BRESCIA\",\n\"F\",\n\"10,18167955\",\n\"45,51939749\",\n\"85,7\",\n\"8,3457281780422\",\n\"5,26\",\n\"(45.51939749\\u00b0, 10.18167955\\u00b0)\"],\n [{\n            'v': 86,\n            'f': \"86\",\n        },\n\"2021-11-14\",\n\"2014\",\n\"COMO\",\n\"F\",\n\"9,039360974\",\n\"45,80216962\",\n\"85,8\",\n\"8,77388906980749\",\n\"2,75\",\n\"(45.80216962\\u00b0, 9.039360974\\u00b0)\"],\n [{\n            'v': 87,\n            'f': \"87\",\n        },\n\"2021-11-14\",\n\"2014\",\n\"CREMONA\",\n\"F\",\n\"10,0131151\",\n\"45,13644491\",\n\"84,6\",\n\"10,266587360427126\",\n\"4,64\",\n\"(45.13644491\\u00b0, 10.0131151\\u00b0)\"],\n [{\n            'v': 88,\n            'f': \"88\",\n        },\n\"2021-11-14\",\n\"2014\",\n\"ITALIA\",\n\"F\",\n\"\",\n\"\",\n\"85\",\n\"9,805012884888207\",\n\"3\",\n\"\"],\n [{\n            'v': 89,\n            'f': \"89\",\n        },\n\"2021-11-14\",\n\"2014\",\n\"LECCO\",\n\"F\",\n\"9,388156645\",\n\"45,85028614\",\n\"85,8\",\n\"8,487492902184634\",\n\"2,08\",\n\"(45.85028614\\u00b0, 9.388156645\\u00b0)\"],\n [{\n            'v': 90,\n            'f': \"90\",\n        },\n\"2021-11-14\",\n\"2014\",\n\"LODI\",\n\"F\",\n\"9,510140481\",\n\"45,31535435\",\n\"84,6\",\n\"8,82149752891786\",\n\"0,97\",\n\"(45.31535435\\u00b0, 9.510140481\\u00b0)\"],\n [{\n            'v': 91,\n            'f': \"91\",\n        },\n\"2021-11-14\",\n\"2014\",\n\"MANTOVA\",\n\"F\",\n\"10,77086348\",\n\"45,14135331\",\n\"85\",\n\"9,819023371937408\",\n\"1,1\",\n\"(45.14135331\\u00b0, 10.77086348\\u00b0)\"],\n [{\n            'v': 92,\n            'f': \"92\",\n        },\n\"2021-11-14\",\n\"2014\",\n\"MILANO\",\n\"F\",\n\"9,18951\",\n\"45,46427\",\n\"86,1\",\n\"8,648590357078358\",\n\"2,61\",\n\"(45.46427\\u00b0, 9.18951\\u00b0)\"],\n [{\n            'v': 93,\n            'f': \"93\",\n        },\n\"2021-11-14\",\n\"2014\",\n\"MONZA E DELLA BRIANZA\",\n\"F\",\n\"9,258430902\",\n\"45,5823624\",\n\"85,6\",\n\"8,29737017160524\",\n\"3,33\",\n\"(45.5823624\\u00b0, 9.258430902\\u00b0)\"],\n [{\n            'v': 94,\n            'f': \"94\",\n        },\n\"2021-11-14\",\n\"2014\",\n\"PAVIA\",\n\"F\",\n\"9,14034225\",\n\"45,18407925\",\n\"84,5\",\n\"11,004157543481444\",\n\"1,37\",\n\"(45.18407925\\u00b0, 9.14034225\\u00b0)\"],\n [{\n            'v': 95,\n            'f': \"95\",\n        },\n\"2021-11-14\",\n\"2014\",\n\"REGIONE LOMBARDIA\",\n\"F\",\n\"\",\n\"\",\n\"85,5\",\n\"8,81482798385251\",\n\"2,95\",\n\"\"],\n [{\n            'v': 96,\n            'f': \"96\",\n        },\n\"2021-11-14\",\n\"2014\",\n\"SONDRIO\",\n\"F\",\n\"9,879429303\",\n\"46,1707552\",\n\"85\",\n\"10,479251866686862\",\n\"\",\n\"(46.1707552\\u00b0, 9.879429303\\u00b0)\"],\n [{\n            'v': 97,\n            'f': \"97\",\n        },\n\"2021-11-14\",\n\"2014\",\n\"VARESE\",\n\"F\",\n\"8,80650544\",\n\"45,80041256\",\n\"85,8\",\n\"8,992893161374528\",\n\"2,81\",\n\"(45.80041256\\u00b0, 8.80650544\\u00b0)\"],\n [{\n            'v': 98,\n            'f': \"98\",\n        },\n\"2021-11-14\",\n\"2014\",\n\"BERGAMO\",\n\"M\",\n\"9,63853045\",\n\"45,68012929\",\n\"80,6\",\n\"8,662775627675835\",\n\"3,47\",\n\"(45.68012929\\u00b0, 9.63853045\\u00b0)\"],\n [{\n            'v': 99,\n            'f': \"99\",\n        },\n\"2021-11-14\",\n\"2014\",\n\"BRESCIA\",\n\"M\",\n\"10,18167955\",\n\"45,51939749\",\n\"80,4\",\n\"8,672518499060333\",\n\"3,08\",\n\"(45.51939749\\u00b0, 10.18167955\\u00b0)\"],\n [{\n            'v': 100,\n            'f': \"100\",\n        },\n\"2021-11-14\",\n\"2014\",\n\"COMO\",\n\"M\",\n\"9,039360974\",\n\"45,80216962\",\n\"80,9\",\n\"9,16364206585408\",\n\"3,23\",\n\"(45.80216962\\u00b0, 9.039360974\\u00b0)\"],\n [{\n            'v': 101,\n            'f': \"101\",\n        },\n\"2021-11-14\",\n\"2014\",\n\"CREMONA\",\n\"M\",\n\"10,0131151\",\n\"45,13644491\",\n\"79,8\",\n\"11,181329402072583\",\n\"5,66\",\n\"(45.13644491\\u00b0, 10.0131151\\u00b0)\"],\n [{\n            'v': 102,\n            'f': \"102\",\n        },\n\"2021-11-14\",\n\"2014\",\n\"ITALIA\",\n\"M\",\n\"\",\n\"\",\n\"80,3\",\n\"9,879325715825662\",\n\"2,54\",\n\"\"],\n [{\n            'v': 103,\n            'f': \"103\",\n        },\n\"2021-11-14\",\n\"2014\",\n\"LECCO\",\n\"M\",\n\"9,388156645\",\n\"45,85028614\",\n\"81,2\",\n\"9,490410009958003\",\n\"2,93\",\n\"(45.85028614\\u00b0, 9.388156645\\u00b0)\"],\n [{\n            'v': 104,\n            'f': \"104\",\n        },\n\"2021-11-14\",\n\"2014\",\n\"LODI\",\n\"M\",\n\"9,510140481\",\n\"45,31535435\",\n\"80,3\",\n\"9,465483624369757\",\n\"2\",\n\"(45.31535435\\u00b0, 9.510140481\\u00b0)\"],\n [{\n            'v': 105,\n            'f': \"105\",\n        },\n\"2021-11-14\",\n\"2014\",\n\"MANTOVA\",\n\"M\",\n\"10,77086348\",\n\"45,14135331\",\n\"80,5\",\n\"11,048187347845863\",\n\"2,97\",\n\"(45.14135331\\u00b0, 10.77086348\\u00b0)\"],\n [{\n            'v': 106,\n            'f': \"106\",\n        },\n\"2021-11-14\",\n\"2014\",\n\"MILANO\",\n\"M\",\n\"9,18951\",\n\"45,46427\",\n\"81,4\",\n\"8,884293820364727\",\n\"2,26\",\n\"(45.46427\\u00b0, 9.18951\\u00b0)\"],\n [{\n            'v': 107,\n            'f': \"107\",\n        },\n\"2021-11-14\",\n\"2014\",\n\"MONZA E DELLA BRIANZA\",\n\"M\",\n\"9,258430902\",\n\"45,5823624\",\n\"81,4\",\n\"8,62198901852345\",\n\"2,44\",\n\"(45.5823624\\u00b0, 9.258430902\\u00b0)\"],\n [{\n            'v': 108,\n            'f': \"108\",\n        },\n\"2021-11-14\",\n\"2014\",\n\"PAVIA\",\n\"M\",\n\"9,14034225\",\n\"45,18407925\",\n\"79,6\",\n\"12,21918720616734\",\n\"2,02\",\n\"(45.18407925\\u00b0, 9.14034225\\u00b0)\"],\n [{\n            'v': 109,\n            'f': \"109\",\n        },\n\"2021-11-14\",\n\"2014\",\n\"REGIONE LOMBARDIA\",\n\"M\",\n\"\",\n\"\",\n\"80,8\",\n\"9,28772924914151\",\n\"2,75\",\n\"\"],\n [{\n            'v': 110,\n            'f': \"110\",\n        },\n\"2021-11-14\",\n\"2014\",\n\"SONDRIO\",\n\"M\",\n\"9,879429303\",\n\"46,1707552\",\n\"78,7\",\n\"10,1014980489402\",\n\"1,4\",\n\"(46.1707552\\u00b0, 9.879429303\\u00b0)\"],\n [{\n            'v': 111,\n            'f': \"111\",\n        },\n\"2021-11-14\",\n\"2014\",\n\"VARESE\",\n\"M\",\n\"8,80650544\",\n\"45,80041256\",\n\"81,1\",\n\"9,415827035874454\",\n\"2,76\",\n\"(45.80041256\\u00b0, 8.80650544\\u00b0)\"],\n [{\n            'v': 112,\n            'f': \"112\",\n        },\n\"2021-11-14\",\n\"2014\",\n\"BERGAMO\",\n\"ALL\",\n\"9,63853045\",\n\"45,68012929\",\n\"82,8\",\n\"8,343658377453533\",\n\"3,3\",\n\"(45.68012929\\u00b0, 9.63853045\\u00b0)\"],\n [{\n            'v': 113,\n            'f': \"113\",\n        },\n\"2021-11-14\",\n\"2014\",\n\"BRESCIA\",\n\"ALL\",\n\"10,18167955\",\n\"45,51939749\",\n\"83\",\n\"8,511608105178027\",\n\"4,19\",\n\"(45.51939749\\u00b0, 10.18167955\\u00b0)\"],\n [{\n            'v': 114,\n            'f': \"114\",\n        },\n\"2021-11-14\",\n\"2014\",\n\"COMO\",\n\"ALL\",\n\"9,039360974\",\n\"45,80216962\",\n\"83,3\",\n\"8,972941858573556\",\n\"2,99\",\n\"(45.80216962\\u00b0, 9.039360974\\u00b0)\"],\n [{\n            'v': 115,\n            'f': \"115\",\n        },\n\"2021-11-14\",\n\"2014\",\n\"CREMONA\",\n\"ALL\",\n\"10,0131151\",\n\"45,13644491\",\n\"82,2\",\n\"10,732973080520786\",\n\"5,13\",\n\"(45.13644491\\u00b0, 10.0131151\\u00b0)\"],\n [{\n            'v': 116,\n            'f': \"116\",\n        },\n\"2021-11-14\",\n\"2014\",\n\"ITALIA\",\n\"ALL\",\n\"\",\n\"\",\n\"82,6\",\n\"9,843271347480815\",\n\"2,78\",\n\"\"],\n [{\n            'v': 117,\n            'f': \"117\",\n        },\n\"2021-11-14\",\n\"2014\",\n\"LECCO\",\n\"ALL\",\n\"9,388156645\",\n\"45,85028614\",\n\"83,4\",\n\"8,997672762511655\",\n\"2,49\",\n\"(45.85028614\\u00b0, 9.388156645\\u00b0)\"],\n [{\n            'v': 118,\n            'f': \"118\",\n        },\n\"2021-11-14\",\n\"2014\",\n\"LODI\",\n\"ALL\",\n\"9,510140481\",\n\"45,31535435\",\n\"82,4\",\n\"9,148428676704647\",\n\"1,48\",\n\"(45.31535435\\u00b0, 9.510140481\\u00b0)\"],\n [{\n            'v': 119,\n            'f': \"119\",\n        },\n\"2021-11-14\",\n\"2014\",\n\"MANTOVA\",\n\"ALL\",\n\"10,77086348\",\n\"45,14135331\",\n\"82,7\",\n\"10,44736201699624\",\n\"2\",\n\"(45.14135331\\u00b0, 10.77086348\\u00b0)\"],\n [{\n            'v': 120,\n            'f': \"120\",\n        },\n\"2021-11-14\",\n\"2014\",\n\"MILANO\",\n\"ALL\",\n\"9,18951\",\n\"45,46427\",\n\"83,7\",\n\"8,77043090347489\",\n\"2,44\",\n\"(45.46427\\u00b0, 9.18951\\u00b0)\"],\n [{\n            'v': 121,\n            'f': \"121\",\n        },\n\"2021-11-14\",\n\"2014\",\n\"MONZA E DELLA BRIANZA\",\n\"ALL\",\n\"9,258430902\",\n\"45,5823624\",\n\"83,4\",\n\"8,463208087348551\",\n\"2,9\",\n\"(45.5823624\\u00b0, 9.258430902\\u00b0)\"],\n [{\n            'v': 122,\n            'f': \"122\",\n        },\n\"2021-11-14\",\n\"2014\",\n\"PAVIA\",\n\"ALL\",\n\"9,14034225\",\n\"45,18407925\",\n\"82\",\n\"11,62939087441935\",\n\"1,68\",\n\"(45.18407925\\u00b0, 9.14034225\\u00b0)\"],\n [{\n            'v': 123,\n            'f': \"123\",\n        },\n\"2021-11-14\",\n\"2014\",\n\"REGIONE LOMBARDIA\",\n\"ALL\",\n\"\",\n\"\",\n\"83,1\",\n\"9,056962921327841\",\n\"2,85\",\n\"\"],\n [{\n            'v': 124,\n            'f': \"124\",\n        },\n\"2021-11-14\",\n\"2014\",\n\"SONDRIO\",\n\"ALL\",\n\"9,879429303\",\n\"46,1707552\",\n\"81,8\",\n\"10,28620332120933\",\n\"0,66\",\n\"(46.1707552\\u00b0, 9.879429303\\u00b0)\"],\n [{\n            'v': 125,\n            'f': \"125\",\n        },\n\"2021-11-14\",\n\"2014\",\n\"VARESE\",\n\"ALL\",\n\"8,80650544\",\n\"45,80041256\",\n\"83,4\",\n\"9,210276955018779\",\n\"2,78\",\n\"(45.80041256\\u00b0, 8.80650544\\u00b0)\"],\n [{\n            'v': 126,\n            'f': \"126\",\n        },\n\"2021-11-14\",\n\"2015\",\n\"BERGAMO\",\n\"F\",\n\"9,63853045\",\n\"45,68012929\",\n\"84,5\",\n\"8,669548620443043\",\n\"3,27\",\n\"(45.68012929\\u00b0, 9.63853045\\u00b0)\"],\n [{\n            'v': 127,\n            'f': \"127\",\n        },\n\"2021-11-14\",\n\"2015\",\n\"BRESCIA\",\n\"F\",\n\"10,18167955\",\n\"45,51939749\",\n\"85,3\",\n\"8,847715960357219\",\n\"2,67\",\n\"(45.51939749\\u00b0, 10.18167955\\u00b0)\"],\n [{\n            'v': 128,\n            'f': \"128\",\n        },\n\"2021-11-14\",\n\"2015\",\n\"COMO\",\n\"F\",\n\"9,039360974\",\n\"45,80216962\",\n\"85,4\",\n\"9,447654610373682\",\n\"2,7\",\n\"(45.80216962\\u00b0, 9.039360974\\u00b0)\"],\n [{\n            'v': 129,\n            'f': \"129\",\n        },\n\"2021-11-14\",\n\"2015\",\n\"CREMONA\",\n\"F\",\n\"10,0131151\",\n\"45,13644491\",\n\"84,2\",\n\"10,561660044449338\",\n\"5,46\",\n\"(45.13644491\\u00b0, 10.0131151\\u00b0)\"],\n [{\n            'v': 130,\n            'f': \"130\",\n        },\n\"2021-11-14\",\n\"2015\",\n\"ITALIA\",\n\"F\",\n\"\",\n\"\",\n\"84,6\",\n\"10,446910169527547\",\n\"3,1\",\n\"\"],\n [{\n            'v': 131,\n            'f': \"131\",\n        },\n\"2021-11-14\",\n\"2015\",\n\"LECCO\",\n\"F\",\n\"9,388156645\",\n\"45,85028614\",\n\"85,2\",\n\"9,554254516719947\",\n\"4,84\",\n\"(45.85028614\\u00b0, 9.388156645\\u00b0)\"],\n [{\n            'v': 132,\n            'f': \"132\",\n        },\n\"2021-11-14\",\n\"2015\",\n\"LODI\",\n\"F\",\n\"9,510140481\",\n\"45,31535435\",\n\"84,4\",\n\"10,082278116853514\",\n\"2,02\",\n\"(45.31535435\\u00b0, 9.510140481\\u00b0)\"],\n [{\n            'v': 133,\n            'f': \"133\",\n        },\n\"2021-11-14\",\n\"2015\",\n\"MANTOVA\",\n\"F\",\n\"10,77086348\",\n\"45,14135331\",\n\"84,9\",\n\"10,549190043461081\",\n\"5,25\",\n\"(45.14135331\\u00b0, 10.77086348\\u00b0)\"],\n [{\n            'v': 134,\n            'f': \"134\",\n        },\n\"2021-11-14\",\n\"2015\",\n\"MILANO\",\n\"F\",\n\"9,18951\",\n\"45,46427\",\n\"85,5\",\n\"9,397622957991256\",\n\"2,47\",\n\"(45.46427\\u00b0, 9.18951\\u00b0)\"],\n [{\n            'v': 135,\n            'f': \"135\",\n        },\n\"2021-11-14\",\n\"2015\",\n\"MONZA E DELLA BRIANZA\",\n\"F\",\n\"9,258430902\",\n\"45,5823624\",\n\"85,3\",\n\"8,697131837174567\",\n\"1,85\",\n\"(45.5823624\\u00b0, 9.258430902\\u00b0)\"],\n [{\n            'v': 136,\n            'f': \"136\",\n        },\n\"2021-11-14\",\n\"2015\",\n\"PAVIA\",\n\"F\",\n\"9,14034225\",\n\"45,18407925\",\n\"84,2\",\n\"12,337477104164789\",\n\"2,29\",\n\"(45.18407925\\u00b0, 9.14034225\\u00b0)\"],\n [{\n            'v': 137,\n            'f': \"137\",\n        },\n\"2021-11-14\",\n\"2015\",\n\"REGIONE LOMBARDIA\",\n\"F\",\n\"\",\n\"\",\n\"85,1\",\n\"9,519706786069595\",\n\"2,74\",\n\"\"],\n [{\n            'v': 138,\n            'f': \"138\",\n        },\n\"2021-11-14\",\n\"2015\",\n\"SONDRIO\",\n\"F\",\n\"9,879429303\",\n\"46,1707552\",\n\"85,3\",\n\"10,254911000416044\",\n\"4,16\",\n\"(46.1707552\\u00b0, 9.879429303\\u00b0)\"],\n [{\n            'v': 139,\n            'f': \"139\",\n        },\n\"2021-11-14\",\n\"2015\",\n\"VARESE\",\n\"F\",\n\"8,80650544\",\n\"45,80041256\",\n\"85,2\",\n\"9,900269345563078\",\n\"1,3\",\n\"(45.80041256\\u00b0, 8.80650544\\u00b0)\"],\n [{\n            'v': 140,\n            'f': \"140\",\n        },\n\"2021-11-14\",\n\"2015\",\n\"BERGAMO\",\n\"M\",\n\"9,63853045\",\n\"45,68012929\",\n\"80,4\",\n\"9,764934132250007\",\n\"2,81\",\n\"(45.68012929\\u00b0, 9.63853045\\u00b0)\"],\n [{\n            'v': 141,\n            'f': \"141\",\n        },\n\"2021-11-14\",\n\"2015\",\n\"BRESCIA\",\n\"M\",\n\"10,18167955\",\n\"45,51939749\",\n\"80,4\",\n\"9,663956804121545\",\n\"1,85\",\n\"(45.51939749\\u00b0, 10.18167955\\u00b0)\"],\n [{\n            'v': 142,\n            'f': \"142\",\n        },\n\"2021-11-14\",\n\"2015\",\n\"COMO\",\n\"M\",\n\"9,039360974\",\n\"45,80216962\",\n\"80,8\",\n\"10,370019672345254\",\n\"1,64\",\n\"(45.80216962\\u00b0, 9.039360974\\u00b0)\"],\n [{\n            'v': 143,\n            'f': \"143\",\n        },\n\"2021-11-14\",\n\"2015\",\n\"CREMONA\",\n\"M\",\n\"10,0131151\",\n\"45,13644491\",\n\"80\",\n\"12,578035184797645\",\n\"3,9\",\n\"(45.13644491\\u00b0, 10.0131151\\u00b0)\"],\n [{\n            'v': 144,\n            'f': \"144\",\n        },\n\"2021-11-14\",\n\"2015\",\n\"ITALIA\",\n\"M\",\n\"\",\n\"\",\n\"80,1\",\n\"10,866858575614595\",\n\"2,68\",\n\"\"],\n [{\n            'v': 145,\n            'f': \"145\",\n        },\n\"2021-11-14\",\n\"2015\",\n\"LECCO\",\n\"M\",\n\"9,388156645\",\n\"45,85028614\",\n\"80,7\",\n\"10,54389962161239\",\n\"1,45\",\n\"(45.85028614\\u00b0, 9.388156645\\u00b0)\"],\n [{\n            'v': 146,\n            'f': \"146\",\n        },\n\"2021-11-14\",\n\"2015\",\n\"LODI\",\n\"M\",\n\"9,510140481\",\n\"45,31535435\",\n\"79,6\",\n\"10,427036490336754\",\n\"2,01\",\n\"(45.31535435\\u00b0, 9.510140481\\u00b0)\"],\n [{\n            'v': 147,\n            'f': \"147\",\n        },\n\"2021-11-14\",\n\"2015\",\n\"MANTOVA\",\n\"M\",\n\"10,77086348\",\n\"45,14135331\",\n\"80,4\",\n\"11,95760914038129\",\n\"1,93\",\n\"(45.14135331\\u00b0, 10.77086348\\u00b0)\"],\n [{\n            'v': 148,\n            'f': \"148\",\n        },\n\"2021-11-14\",\n\"2015\",\n\"MILANO\",\n\"M\",\n\"9,18951\",\n\"45,46427\",\n\"81\",\n\"9,957209212338137\",\n\"2,75\",\n\"(45.46427\\u00b0, 9.18951\\u00b0)\"],\n [{\n            'v': 149,\n            'f': \"149\",\n        },\n\"2021-11-14\",\n\"2015\",\n\"MONZA E DELLA BRIANZA\",\n\"M\",\n\"9,258430902\",\n\"45,5823624\",\n\"81,4\",\n\"9,362522996414425\",\n\"2,47\",\n\"(45.5823624\\u00b0, 9.258430902\\u00b0)\"],\n [{\n            'v': 150,\n            'f': \"150\",\n        },\n\"2021-11-14\",\n\"2015\",\n\"PAVIA\",\n\"M\",\n\"9,14034225\",\n\"45,18407925\",\n\"79,2\",\n\"13,448031216743527\",\n\"1,97\",\n\"(45.18407925\\u00b0, 9.14034225\\u00b0)\"],\n [{\n            'v': 151,\n            'f': \"151\",\n        },\n\"2021-11-14\",\n\"2015\",\n\"REGIONE LOMBARDIA\",\n\"M\",\n\"\",\n\"\",\n\"80,6\",\n\"10,343845231472704\",\n\"2,33\",\n\"\"],\n [{\n            'v': 152,\n            'f': \"152\",\n        },\n\"2021-11-14\",\n\"2015\",\n\"SONDRIO\",\n\"M\",\n\"9,879429303\",\n\"46,1707552\",\n\"79,4\",\n\"10,509218423939934\",\n\"2,76\",\n\"(46.1707552\\u00b0, 9.879429303\\u00b0)\"],\n [{\n            'v': 153,\n            'f': \"153\",\n        },\n\"2021-11-14\",\n\"2015\",\n\"VARESE\",\n\"M\",\n\"8,80650544\",\n\"45,80041256\",\n\"80,8\",\n\"10,648239739510522\",\n\"1,4\",\n\"(45.80041256\\u00b0, 8.80650544\\u00b0)\"],\n [{\n            'v': 154,\n            'f': \"154\",\n        },\n\"2021-11-14\",\n\"2015\",\n\"BERGAMO\",\n\"ALL\",\n\"9,63853045\",\n\"45,68012929\",\n\"82,4\",\n\"9,222646540537834\",\n\"3,05\",\n\"(45.68012929\\u00b0, 9.63853045\\u00b0)\"],\n [{\n            'v': 155,\n            'f': \"155\",\n        },\n\"2021-11-14\",\n\"2015\",\n\"BRESCIA\",\n\"ALL\",\n\"10,18167955\",\n\"45,51939749\",\n\"82,8\",\n\"9,262283220424628\",\n\"2,27\",\n\"(45.51939749\\u00b0, 10.18167955\\u00b0)\"],\n [{\n            'v': 156,\n            'f': \"156\",\n        },\n\"2021-11-14\",\n\"2015\",\n\"COMO\",\n\"ALL\",\n\"9,039360974\",\n\"45,80216962\",\n\"83\",\n\"9,918645102075011\",\n\"2,18\",\n\"(45.80216962\\u00b0, 9.039360974\\u00b0)\"],\n [{\n            'v': 157,\n            'f': \"157\",\n        },\n\"2021-11-14\",\n\"2015\",\n\"CREMONA\",\n\"ALL\",\n\"10,0131151\",\n\"45,13644491\",\n\"82\",\n\"11,589160921482327\",\n\"4,73\",\n\"(45.13644491\\u00b0, 10.0131151\\u00b0)\"],\n [{\n            'v': 158,\n            'f': \"158\",\n        },\n\"2021-11-14\",\n\"2015\",\n\"ITALIA\",\n\"ALL\",\n\"\",\n\"\",\n\"82,3\",\n\"10,663013328795477\",\n\"2,9\",\n\"\"],\n [{\n            'v': 159,\n            'f': \"159\",\n        },\n\"2021-11-14\",\n\"2015\",\n\"LECCO\",\n\"ALL\",\n\"9,388156645\",\n\"45,85028614\",\n\"82,9\",\n\"10,057321138181472\",\n\"3,18\",\n\"(45.85028614\\u00b0, 9.388156645\\u00b0)\"],\n [{\n            'v': 160,\n            'f': \"160\",\n        },\n\"2021-11-14\",\n\"2015\",\n\"LODI\",\n\"ALL\",\n\"9,510140481\",\n\"45,31535435\",\n\"81,9\",\n\"10,257326428302203\",\n\"2,02\",\n\"(45.31535435\\u00b0, 9.510140481\\u00b0)\"],\n [{\n            'v': 161,\n            'f': \"161\",\n        },\n\"2021-11-14\",\n\"2015\",\n\"MANTOVA\",\n\"ALL\",\n\"10,77086348\",\n\"45,14135331\",\n\"82,6\",\n\"11,268599289430735\",\n\"3,68\",\n\"(45.14135331\\u00b0, 10.77086348\\u00b0)\"],\n [{\n            'v': 162,\n            'f': \"162\",\n        },\n\"2021-11-14\",\n\"2015\",\n\"MILANO\",\n\"ALL\",\n\"9,18951\",\n\"45,46427\",\n\"83,2\",\n\"9,686614312384023\",\n\"2,61\",\n\"(45.46427\\u00b0, 9.18951\\u00b0)\"],\n [{\n            'v': 163,\n            'f': \"163\",\n        },\n\"2021-11-14\",\n\"2015\",\n\"MONZA E DELLA BRIANZA\",\n\"ALL\",\n\"9,258430902\",\n\"45,5823624\",\n\"83,3\",\n\"9,037155769016307\",\n\"2,16\",\n\"(45.5823624\\u00b0, 9.258430902\\u00b0)\"],\n [{\n            'v': 164,\n            'f': \"164\",\n        },\n\"2021-11-14\",\n\"2015\",\n\"PAVIA\",\n\"ALL\",\n\"9,14034225\",\n\"45,18407925\",\n\"81,7\",\n\"12,908426404826344\",\n\"2,13\",\n\"(45.18407925\\u00b0, 9.14034225\\u00b0)\"],\n [{\n            'v': 165,\n            'f': \"165\",\n        },\n\"2021-11-14\",\n\"2015\",\n\"REGIONE LOMBARDIA\",\n\"ALL\",\n\"\",\n\"\",\n\"82,8\",\n\"9,94155004226683\",\n\"2,54\",\n\"\"],\n [{\n            'v': 166,\n            'f': \"166\",\n        },\n\"2021-11-14\",\n\"2015\",\n\"SONDRIO\",\n\"ALL\",\n\"9,879429303\",\n\"46,1707552\",\n\"82,3\",\n\"10,38488391909796\",\n\"3,46\",\n\"(46.1707552\\u00b0, 9.879429303\\u00b0)\"],\n [{\n            'v': 167,\n            'f': \"167\",\n        },\n\"2021-11-14\",\n\"2015\",\n\"VARESE\",\n\"ALL\",\n\"8,80650544\",\n\"45,80041256\",\n\"82,9\",\n\"10,284644817460192\",\n\"1,35\",\n\"(45.80041256\\u00b0, 8.80650544\\u00b0)\"],\n [{\n            'v': 168,\n            'f': \"168\",\n        },\n\"2021-11-14\",\n\"2016\",\n\"BERGAMO\",\n\"F\",\n\"9,63853045\",\n\"45,68012929\",\n\"85,3\",\n\"8,49889303192729\",\n\"\",\n\"(45.68012929\\u00b0, 9.63853045\\u00b0)\"],\n [{\n            'v': 169,\n            'f': \"169\",\n        },\n\"2021-11-14\",\n\"2016\",\n\"BRESCIA\",\n\"F\",\n\"10,18167955\",\n\"45,51939749\",\n\"86\",\n\"8,582620796164766\",\n\"\",\n\"(45.51939749\\u00b0, 10.18167955\\u00b0)\"],\n [{\n            'v': 170,\n            'f': \"170\",\n        },\n\"2021-11-14\",\n\"2016\",\n\"COMO\",\n\"F\",\n\"9,039360974\",\n\"45,80216962\",\n\"85,6\",\n\"9,346987767193605\",\n\"\",\n\"(45.80216962\\u00b0, 9.039360974\\u00b0)\"],\n [{\n            'v': 171,\n            'f': \"171\",\n        },\n\"2021-11-14\",\n\"2016\",\n\"CREMONA\",\n\"F\",\n\"10,0131151\",\n\"45,13644491\",\n\"84,7\",\n\"11,100727777305808\",\n\"\",\n\"(45.13644491\\u00b0, 10.0131151\\u00b0)\"],\n [{\n            'v': 172,\n            'f': \"172\",\n        },\n\"2021-11-14\",\n\"2016\",\n\"ITALIA\",\n\"F\",\n\"\",\n\"\",\n\"85\",\n\"10,042942129937659\",\n\"\",\n\"\"],\n [{\n            'v': 173,\n            'f': \"173\",\n        },\n\"2021-11-14\",\n\"2016\",\n\"LECCO\",\n\"F\",\n\"9,388156645\",\n\"45,85028614\",\n\"85,7\",\n\"9,177169693774859\",\n\"\",\n\"(45.85028614\\u00b0, 9.388156645\\u00b0)\"],\n [{\n            'v': 174,\n            'f': \"174\",\n        },\n\"2021-11-14\",\n\"2016\",\n\"LODI\",\n\"F\",\n\"9,510140481\",\n\"45,31535435\",\n\"84,8\",\n\"9,059671620113711\",\n\"\",\n\"(45.31535435\\u00b0, 9.510140481\\u00b0)\"],\n [{\n            'v': 175,\n            'f': \"175\",\n        },\n\"2021-11-14\",\n\"2016\",\n\"MANTOVA\",\n\"F\",\n\"10,77086348\",\n\"45,14135331\",\n\"85,4\",\n\"10,075952998671873\",\n\"\",\n\"(45.14135331\\u00b0, 10.77086348\\u00b0)\"],\n [{\n            'v': 176,\n            'f': \"176\",\n        },\n\"2021-11-14\",\n\"2016\",\n\"MILANO\",\n\"F\",\n\"9,18951\",\n\"45,46427\",\n\"85,8\",\n\"9,074977410631313\",\n\"\",\n\"(45.46427\\u00b0, 9.18951\\u00b0)\"],\n [{\n            'v': 177,\n            'f': \"177\",\n        },\n\"2021-11-14\",\n\"2016\",\n\"MONZA E DELLA BRIANZA\",\n\"F\",\n\"9,258430902\",\n\"45,5823624\",\n\"85,9\",\n\"8,276742988512249\",\n\"\",\n\"(45.5823624\\u00b0, 9.258430902\\u00b0)\"],\n [{\n            'v': 178,\n            'f': \"178\",\n        },\n\"2021-11-14\",\n\"2016\",\n\"PAVIA\",\n\"F\",\n\"9,14034225\",\n\"45,18407925\",\n\"84,4\",\n\"11,507561924457697\",\n\"\",\n\"(45.18407925\\u00b0, 9.14034225\\u00b0)\"],\n [{\n            'v': 179,\n            'f': \"179\",\n        },\n\"2021-11-14\",\n\"2016\",\n\"REGIONE LOMBARDIA\",\n\"F\",\n\"\",\n\"\",\n\"85,5\",\n\"9,20344188973905\",\n\"\",\n\"\"],\n [{\n            'v': 180,\n            'f': \"180\",\n        },\n\"2021-11-14\",\n\"2016\",\n\"SONDRIO\",\n\"F\",\n\"9,879429303\",\n\"46,1707552\",\n\"85,1\",\n\"10,181351813518134\",\n\"\",\n\"(46.1707552\\u00b0, 9.879429303\\u00b0)\"],\n [{\n            'v': 181,\n            'f': \"181\",\n        },\n\"2021-11-14\",\n\"2016\",\n\"VARESE\",\n\"F\",\n\"8,80650544\",\n\"45,80041256\",\n\"85,6\",\n\"9,508712661261066\",\n\"\",\n\"(45.80041256\\u00b0, 8.80650544\\u00b0)\"],\n [{\n            'v': 182,\n            'f': \"182\",\n        },\n\"2021-11-14\",\n\"2016\",\n\"BERGAMO\",\n\"M\",\n\"9,63853045\",\n\"45,68012929\",\n\"80,8\",\n\"8,850308331882097\",\n\"\",\n\"(45.68012929\\u00b0, 9.63853045\\u00b0)\"],\n [{\n            'v': 183,\n            'f': \"183\",\n        },\n\"2021-11-14\",\n\"2016\",\n\"BRESCIA\",\n\"M\",\n\"10,18167955\",\n\"45,51939749\",\n\"80,8\",\n\"8,906388651054517\",\n\"\",\n\"(45.51939749\\u00b0, 10.18167955\\u00b0)\"],\n [{\n            'v': 184,\n            'f': \"184\",\n        },\n\"2021-11-14\",\n\"2016\",\n\"COMO\",\n\"M\",\n\"9,039360974\",\n\"45,80216962\",\n\"81,1\",\n\"9,662214341808587\",\n\"\",\n\"(45.80216962\\u00b0, 9.039360974\\u00b0)\"],\n [{\n            'v': 185,\n            'f': \"185\",\n        },\n\"2021-11-14\",\n\"2016\",\n\"CREMONA\",\n\"M\",\n\"10,0131151\",\n\"45,13644491\",\n\"79,7\",\n\"11,917033449503958\",\n\"\",\n\"(45.13644491\\u00b0, 10.0131151\\u00b0)\"],\n [{\n            'v': 186,\n            'f': \"186\",\n        },\n\"2021-11-14\",\n\"2016\",\n\"ITALIA\",\n\"M\",\n\"\",\n\"\",\n\"80,6\",\n\"10,247665330391671\",\n\"\",\n\"\"],\n [{\n            'v': 187,\n            'f': \"187\",\n        },\n\"2021-11-14\",\n\"2016\",\n\"LECCO\",\n\"M\",\n\"9,388156645\",\n\"45,85028614\",\n\"81,3\",\n\"9,55835412918577\",\n\"\",\n\"(45.85028614\\u00b0, 9.388156645\\u00b0)\"],\n [{\n            'v': 188,\n            'f': \"188\",\n        },\n\"2021-11-14\",\n\"2016\",\n\"LODI\",\n\"M\",\n\"9,510140481\",\n\"45,31535435\",\n\"80,6\",\n\"9,737457870897108\",\n\"\",\n\"(45.31535435\\u00b0, 9.510140481\\u00b0)\"],\n [{\n            'v': 189,\n            'f': \"189\",\n        },\n\"2021-11-14\",\n\"2016\",\n\"MANTOVA\",\n\"M\",\n\"10,77086348\",\n\"45,14135331\",\n\"80,9\",\n\"11,074465331747197\",\n\"\",\n\"(45.14135331\\u00b0, 10.77086348\\u00b0)\"],\n [{\n            'v': 190,\n            'f': \"190\",\n        },\n\"2021-11-14\",\n\"2016\",\n\"MILANO\",\n\"M\",\n\"9,18951\",\n\"45,46427\",\n\"81,5\",\n\"9,330567648725896\",\n\"\",\n\"(45.46427\\u00b0, 9.18951\\u00b0)\"],\n [{\n            'v': 191,\n            'f': \"191\",\n        },\n\"2021-11-14\",\n\"2016\",\n\"MONZA E DELLA BRIANZA\",\n\"M\",\n\"9,258430902\",\n\"45,5823624\",\n\"82\",\n\"8,604387718720242\",\n\"\",\n\"(45.5823624\\u00b0, 9.258430902\\u00b0)\"],\n [{\n            'v': 192,\n            'f': \"192\",\n        },\n\"2021-11-14\",\n\"2016\",\n\"PAVIA\",\n\"M\",\n\"9,14034225\",\n\"45,18407925\",\n\"79,7\",\n\"12,818552044246056\",\n\"\",\n\"(45.18407925\\u00b0, 9.14034225\\u00b0)\"],\n [{\n            'v': 193,\n            'f': \"193\",\n        },\n\"2021-11-14\",\n\"2016\",\n\"REGIONE LOMBARDIA\",\n\"M\",\n\"\",\n\"\",\n\"81\",\n\"9,62113417229056\",\n\"\",\n\"\"],\n [{\n            'v': 194,\n            'f': \"194\",\n        },\n\"2021-11-14\",\n\"2016\",\n\"SONDRIO\",\n\"M\",\n\"9,879429303\",\n\"46,1707552\",\n\"79,5\",\n\"10,627221871577845\",\n\"\",\n\"(46.1707552\\u00b0, 9.879429303\\u00b0)\"],\n [{\n            'v': 195,\n            'f': \"195\",\n        },\n\"2021-11-14\",\n\"2016\",\n\"VARESE\",\n\"M\",\n\"8,80650544\",\n\"45,80041256\",\n\"81,2\",\n\"9,814008359838226\",\n\"\",\n\"(45.80041256\\u00b0, 8.80650544\\u00b0)\"],\n [{\n            'v': 196,\n            'f': \"196\",\n        },\n\"2021-11-14\",\n\"2016\",\n\"BERGAMO\",\n\"ALL\",\n\"9,63853045\",\n\"45,68012929\",\n\"83\",\n\"8,67628303815067\",\n\"\",\n\"(45.68012929\\u00b0, 9.63853045\\u00b0)\"],\n [{\n            'v': 197,\n            'f': \"197\",\n        },\n\"2021-11-14\",\n\"2016\",\n\"BRESCIA\",\n\"ALL\",\n\"10,18167955\",\n\"45,51939749\",\n\"83,4\",\n\"8,747090668252874\",\n\"\",\n\"(45.51939749\\u00b0, 10.18167955\\u00b0)\"],\n [{\n            'v': 198,\n            'f': \"198\",\n        },\n\"2021-11-14\",\n\"2016\",\n\"COMO\",\n\"ALL\",\n\"9,039360974\",\n\"45,80216962\",\n\"83,3\",\n\"9,50790269401689\",\n\"\",\n\"(45.80216962\\u00b0, 9.039360974\\u00b0)\"],\n [{\n            'v': 199,\n            'f': \"199\",\n        },\n\"2021-11-14\",\n\"2016\",\n\"CREMONA\",\n\"ALL\",\n\"10,0131151\",\n\"45,13644491\",\n\"82,1\",\n\"11,51657608997655\",\n\"\",\n\"(45.13644491\\u00b0, 10.0131151\\u00b0)\"],\n [{\n            'v': 200,\n            'f': \"200\",\n        },\n\"2021-11-14\",\n\"2016\",\n\"ITALIA\",\n\"ALL\",\n\"\",\n\"\",\n\"82,8\",\n\"10,148216903161664\",\n\"\",\n\"\"],\n [{\n            'v': 201,\n            'f': \"201\",\n        },\n\"2021-11-14\",\n\"2016\",\n\"LECCO\",\n\"ALL\",\n\"9,388156645\",\n\"45,85028614\",\n\"83,5\",\n\"9,370781085112279\",\n\"\",\n\"(45.85028614\\u00b0, 9.388156645\\u00b0)\"],\n [{\n            'v': 202,\n            'f': \"202\",\n        },\n\"2021-11-14\",\n\"2016\",\n\"LODI\",\n\"ALL\",\n\"9,510140481\",\n\"45,31535435\",\n\"82,6\",\n\"9,403794215162472\",\n\"\",\n\"(45.31535435\\u00b0, 9.510140481\\u00b0)\"],\n [{\n            'v': 203,\n            'f': \"203\",\n        },\n\"2021-11-14\",\n\"2016\",\n\"MANTOVA\",\n\"ALL\",\n\"10,77086348\",\n\"45,14135331\",\n\"83,1\",\n\"10,58538204531193\",\n\"\",\n\"(45.14135331\\u00b0, 10.77086348\\u00b0)\"],\n [{\n            'v': 204,\n            'f': \"204\",\n        },\n\"2021-11-14\",\n\"2016\",\n\"MILANO\",\n\"ALL\",\n\"9,18951\",\n\"45,46427\",\n\"83,6\",\n\"9,206888127829012\",\n\"\",\n\"(45.46427\\u00b0, 9.18951\\u00b0)\"],\n [{\n            'v': 205,\n            'f': \"205\",\n        },\n\"2021-11-14\",\n\"2016\",\n\"MONZA E DELLA BRIANZA\",\n\"ALL\",\n\"9,258430902\",\n\"45,5823624\",\n\"83,9\",\n\"8,444120384913555\",\n\"\",\n\"(45.5823624\\u00b0, 9.258430902\\u00b0)\"],\n [{\n            'v': 206,\n            'f': \"206\",\n        },\n\"2021-11-14\",\n\"2016\",\n\"PAVIA\",\n\"ALL\",\n\"9,14034225\",\n\"45,18407925\",\n\"82\",\n\"12,180679470076527\",\n\"\",\n\"(45.18407925\\u00b0, 9.14034225\\u00b0)\"],\n [{\n            'v': 207,\n            'f': \"207\",\n        },\n\"2021-11-14\",\n\"2016\",\n\"REGIONE LOMBARDIA\",\n\"ALL\",\n\"\",\n\"\",\n\"83,2\",\n\"9,41714436364172\",\n\"\",\n\"\"],\n [{\n            'v': 208,\n            'f': \"208\",\n        },\n\"2021-11-14\",\n\"2016\",\n\"SONDRIO\",\n\"ALL\",\n\"9,879429303\",\n\"46,1707552\",\n\"82,2\",\n\"10,40895059603634\",\n\"\",\n\"(46.1707552\\u00b0, 9.879429303\\u00b0)\"],\n [{\n            'v': 209,\n            'f': \"209\",\n        },\n\"2021-11-14\",\n\"2016\",\n\"VARESE\",\n\"ALL\",\n\"8,80650544\",\n\"45,80041256\",\n\"83,4\",\n\"9,665569932134284\",\n\"\",\n\"(45.80041256\\u00b0, 8.80650544\\u00b0)\"]],\n        columns: [[\"number\", \"index\"], [\"string\", \"date_loading\"], [\"string\", \"anno\"], [\"string\", \"provincia\"], [\"string\", \"genere\"], [\"string\", \"coordinata_x\"], [\"string\", \"coordinata_y\"], [\"string\", \"speranza_vita_nascita\"], [\"string\", \"tasso_mortalita\"], [\"string\", \"tasso_mortalita_infantile\"], [\"string\", \"posizione\"]],\n        columnOptions: [{\"width\": \"1px\", \"className\": \"index_column\"}],\n        rowsPerPage: 25,\n        helpUrl: \"https://colab.research.google.com/notebooks/data_table.ipynb\",\n        suppressOutputScrolling: true,\n        minimumWidth: undefined,\n      });\n    ",
            "text/html": [
              "<div>\n",
              "<style scoped>\n",
              "    .dataframe tbody tr th:only-of-type {\n",
              "        vertical-align: middle;\n",
              "    }\n",
              "\n",
              "    .dataframe tbody tr th {\n",
              "        vertical-align: top;\n",
              "    }\n",
              "\n",
              "    .dataframe thead th {\n",
              "        text-align: right;\n",
              "    }\n",
              "</style>\n",
              "<table border=\"1\" class=\"dataframe\">\n",
              "  <thead>\n",
              "    <tr style=\"text-align: right;\">\n",
              "      <th></th>\n",
              "      <th>date_loading</th>\n",
              "      <th>anno</th>\n",
              "      <th>provincia</th>\n",
              "      <th>genere</th>\n",
              "      <th>coordinata_x</th>\n",
              "      <th>coordinata_y</th>\n",
              "      <th>speranza_vita_nascita</th>\n",
              "      <th>tasso_mortalita</th>\n",
              "      <th>tasso_mortalita_infantile</th>\n",
              "      <th>posizione</th>\n",
              "    </tr>\n",
              "  </thead>\n",
              "  <tbody>\n",
              "    <tr>\n",
              "      <th>0</th>\n",
              "      <td>2021-11-14</td>\n",
              "      <td>2012</td>\n",
              "      <td>BERGAMO</td>\n",
              "      <td>F</td>\n",
              "      <td>9,63853045</td>\n",
              "      <td>45,68012929</td>\n",
              "      <td>84,5</td>\n",
              "      <td>8,381804761882657</td>\n",
              "      <td>3,73</td>\n",
              "      <td>(45.68012929°, 9.63853045°)</td>\n",
              "    </tr>\n",
              "    <tr>\n",
              "      <th>1</th>\n",
              "      <td>2021-11-14</td>\n",
              "      <td>2012</td>\n",
              "      <td>BRESCIA</td>\n",
              "      <td>F</td>\n",
              "      <td>10,18167955</td>\n",
              "      <td>45,51939749</td>\n",
              "      <td>85</td>\n",
              "      <td>8,654399715669228</td>\n",
              "      <td>4,1</td>\n",
              "      <td>(45.51939749°, 10.18167955°)</td>\n",
              "    </tr>\n",
              "    <tr>\n",
              "      <th>2</th>\n",
              "      <td>2021-11-14</td>\n",
              "      <td>2012</td>\n",
              "      <td>COMO</td>\n",
              "      <td>F</td>\n",
              "      <td>9,039360974</td>\n",
              "      <td>45,80216962</td>\n",
              "      <td>85,7</td>\n",
              "      <td>9,290944196983311</td>\n",
              "      <td>3,85</td>\n",
              "      <td>(45.80216962°, 9.039360974°)</td>\n",
              "    </tr>\n",
              "    <tr>\n",
              "      <th>3</th>\n",
              "      <td>2021-11-14</td>\n",
              "      <td>2012</td>\n",
              "      <td>CREMONA</td>\n",
              "      <td>F</td>\n",
              "      <td>10,0131151</td>\n",
              "      <td>45,13644491</td>\n",
              "      <td>84</td>\n",
              "      <td>10,691872186630041</td>\n",
              "      <td>1,84</td>\n",
              "      <td>(45.13644491°, 10.0131151°)</td>\n",
              "    </tr>\n",
              "    <tr>\n",
              "      <th>4</th>\n",
              "      <td>2021-11-14</td>\n",
              "      <td>2012</td>\n",
              "      <td>ITALIA</td>\n",
              "      <td>F</td>\n",
              "      <td></td>\n",
              "      <td></td>\n",
              "      <td>84,4</td>\n",
              "      <td>10,24902789486484</td>\n",
              "      <td>3,15</td>\n",
              "      <td></td>\n",
              "    </tr>\n",
              "    <tr>\n",
              "      <th>...</th>\n",
              "      <td>...</td>\n",
              "      <td>...</td>\n",
              "      <td>...</td>\n",
              "      <td>...</td>\n",
              "      <td>...</td>\n",
              "      <td>...</td>\n",
              "      <td>...</td>\n",
              "      <td>...</td>\n",
              "      <td>...</td>\n",
              "      <td>...</td>\n",
              "    </tr>\n",
              "    <tr>\n",
              "      <th>205</th>\n",
              "      <td>2021-11-14</td>\n",
              "      <td>2016</td>\n",
              "      <td>MONZA E DELLA BRIANZA</td>\n",
              "      <td>ALL</td>\n",
              "      <td>9,258430902</td>\n",
              "      <td>45,5823624</td>\n",
              "      <td>83,9</td>\n",
              "      <td>8,444120384913555</td>\n",
              "      <td></td>\n",
              "      <td>(45.5823624°, 9.258430902°)</td>\n",
              "    </tr>\n",
              "    <tr>\n",
              "      <th>206</th>\n",
              "      <td>2021-11-14</td>\n",
              "      <td>2016</td>\n",
              "      <td>PAVIA</td>\n",
              "      <td>ALL</td>\n",
              "      <td>9,14034225</td>\n",
              "      <td>45,18407925</td>\n",
              "      <td>82</td>\n",
              "      <td>12,180679470076527</td>\n",
              "      <td></td>\n",
              "      <td>(45.18407925°, 9.14034225°)</td>\n",
              "    </tr>\n",
              "    <tr>\n",
              "      <th>207</th>\n",
              "      <td>2021-11-14</td>\n",
              "      <td>2016</td>\n",
              "      <td>REGIONE LOMBARDIA</td>\n",
              "      <td>ALL</td>\n",
              "      <td></td>\n",
              "      <td></td>\n",
              "      <td>83,2</td>\n",
              "      <td>9,41714436364172</td>\n",
              "      <td></td>\n",
              "      <td></td>\n",
              "    </tr>\n",
              "    <tr>\n",
              "      <th>208</th>\n",
              "      <td>2021-11-14</td>\n",
              "      <td>2016</td>\n",
              "      <td>SONDRIO</td>\n",
              "      <td>ALL</td>\n",
              "      <td>9,879429303</td>\n",
              "      <td>46,1707552</td>\n",
              "      <td>82,2</td>\n",
              "      <td>10,40895059603634</td>\n",
              "      <td></td>\n",
              "      <td>(46.1707552°, 9.879429303°)</td>\n",
              "    </tr>\n",
              "    <tr>\n",
              "      <th>209</th>\n",
              "      <td>2021-11-14</td>\n",
              "      <td>2016</td>\n",
              "      <td>VARESE</td>\n",
              "      <td>ALL</td>\n",
              "      <td>8,80650544</td>\n",
              "      <td>45,80041256</td>\n",
              "      <td>83,4</td>\n",
              "      <td>9,665569932134284</td>\n",
              "      <td></td>\n",
              "      <td>(45.80041256°, 8.80650544°)</td>\n",
              "    </tr>\n",
              "  </tbody>\n",
              "</table>\n",
              "<p>210 rows × 10 columns</p>\n",
              "</div>"
            ],
            "text/plain": [
              "    date_loading  anno  ... tasso_mortalita_infantile                     posizione\n",
              "0     2021-11-14  2012  ...                      3,73   (45.68012929°, 9.63853045°)\n",
              "1     2021-11-14  2012  ...                       4,1  (45.51939749°, 10.18167955°)\n",
              "2     2021-11-14  2012  ...                      3,85  (45.80216962°, 9.039360974°)\n",
              "3     2021-11-14  2012  ...                      1,84   (45.13644491°, 10.0131151°)\n",
              "4     2021-11-14  2012  ...                      3,15                              \n",
              "..           ...   ...  ...                       ...                           ...\n",
              "205   2021-11-14  2016  ...                             (45.5823624°, 9.258430902°)\n",
              "206   2021-11-14  2016  ...                             (45.18407925°, 9.14034225°)\n",
              "207   2021-11-14  2016  ...                                                        \n",
              "208   2021-11-14  2016  ...                             (46.1707552°, 9.879429303°)\n",
              "209   2021-11-14  2016  ...                             (45.80041256°, 8.80650544°)\n",
              "\n",
              "[210 rows x 10 columns]"
            ]
          },
          "metadata": {},
          "execution_count": 443
        }
      ]
    },
    {
      "cell_type": "code",
      "metadata": {
        "colab": {
          "base_uri": "https://localhost:8080/"
        },
        "id": "fr3fOx2hKoQ9",
        "outputId": "a9d568d3-de30-4de0-8ba3-68cfeaa9cfb2"
      },
      "source": [
        "df_condizioni_salute_prov.info()"
      ],
      "execution_count": 434,
      "outputs": [
        {
          "output_type": "stream",
          "name": "stdout",
          "text": [
            "<class 'pandas.core.frame.DataFrame'>\n",
            "RangeIndex: 210 entries, 0 to 209\n",
            "Data columns (total 10 columns):\n",
            " #   Column                     Non-Null Count  Dtype \n",
            "---  ------                     --------------  ----- \n",
            " 0   date_loading               210 non-null    object\n",
            " 1   anno                       210 non-null    object\n",
            " 2   provincia                  210 non-null    object\n",
            " 3   genere                     210 non-null    object\n",
            " 4   coordinata_x               210 non-null    object\n",
            " 5   coordinata_y               210 non-null    object\n",
            " 6   speranza_vita_nascita      210 non-null    object\n",
            " 7   tasso_mortalita            210 non-null    object\n",
            " 8   tasso_mortalita_infantile  210 non-null    object\n",
            " 9   posizione                  210 non-null    object\n",
            "dtypes: object(10)\n",
            "memory usage: 16.5+ KB\n"
          ]
        }
      ]
    },
    {
      "cell_type": "code",
      "metadata": {
        "id": "HXlOVB5glwka"
      },
      "source": [
        "wd.close()"
      ],
      "execution_count": 308,
      "outputs": []
    },
    {
      "cell_type": "markdown",
      "metadata": {
        "id": "i8lnlguZAT23"
      },
      "source": [
        "### Transformations to perform on the data"
      ]
    },
    {
      "cell_type": "code",
      "metadata": {
        "id": "ytDhXd_eATXz"
      },
      "source": [
        "def rename_columns(df):\n",
        "  df.rename(columns={'date_loading':'DATE_LOADING',\n",
        "                     'anno': 'ANNO',\n",
        "                     'provincia':'PROVINCIA',\n",
        "                     'genere':'GENERE',\n",
        "                     'speranza_vita_nascita': 'SPERANZA_VITA_NASCITA',\n",
        "                     'tasso_mortalita': 'TASSO_MORTALITA',\n",
        "                     'tasso_mortalita_infantile': 'TASSO_MORTALITA_INFANTILE'},inplace=True)\n",
        "  return df\n",
        "#------------------------------------------------------------------------------------------------------------------------------------------ \n",
        "def drop_columns(df):\n",
        "  df.drop(columns = ['coordinata_x',\n",
        "                     'coordinata_y',\n",
        "                     'posizione'\n",
        "                     ],inplace=True)\n",
        "  return df\n",
        "#------------------------------------------------------------------------------------------------------------------------------------------ \n",
        "def convert_to_float(df):\n",
        "    df['TASSO_MORTALITA'] = df['TASSO_MORTALITA'].apply(lambda x: x.replace(',','.'))\n",
        "    df['TASSO_MORTALITA'] = df['TASSO_MORTALITA'].astype(float,errors='ignore')\n",
        "    df['TASSO_MORTALITA_INFANTILE'] = df['TASSO_MORTALITA_INFANTILE'].apply(lambda x: x.replace(',','.'))\n",
        "    df['TASSO_MORTALITA_INFANTILE'] = df['TASSO_MORTALITA_INFANTILE'].astype(float,errors='ignore')\n",
        "    df['SPERANZA_VITA_NASCITA'] = df['SPERANZA_VITA_NASCITA'].apply(lambda x: x.replace(',','.'))\n",
        "    df['SPERANZA_VITA_NASCITA'] = df['SPERANZA_VITA_NASCITA'].astype(float,errors='ignore')\n",
        "    return df\n",
        "#------------------------------------------------------------------------------------------------------------------------------------------ \n",
        "def round_tasso_mortalita(df):\n",
        "  df['TASSO_MORTALITA'] = df['TASSO_MORTALITA'].apply(lambda x: np.round(x,decimals=2))\n",
        "  return df"
      ],
      "execution_count": 444,
      "outputs": []
    },
    {
      "cell_type": "code",
      "metadata": {
        "colab": {
          "base_uri": "https://localhost:8080/",
          "height": 623
        },
        "id": "-h2Hnf1gBQ8r",
        "outputId": "00dfead6-1b75-4076-c5b8-af9ad461d836"
      },
      "source": [
        "rename_columns(df_condizioni_salute_prov)\n",
        "drop_columns(df_condizioni_salute_prov)\n",
        "convert_to_float(df_condizioni_salute_prov)\n",
        "round_tasso_mortalita(df_condizioni_salute_prov)"
      ],
      "execution_count": 445,
      "outputs": [
        {
          "output_type": "execute_result",
          "data": {
            "application/vnd.google.colaboratory.module+javascript": "\n      import \"https://ssl.gstatic.com/colaboratory/data_table/a6224c040fa35dcf/data_table.js\";\n\n      window.createDataTable({\n        data: [[{\n            'v': 0,\n            'f': \"0\",\n        },\n\"2021-11-14\",\n\"2012\",\n\"BERGAMO\",\n\"F\",\n{\n            'v': 84.5,\n            'f': \"84.5\",\n        },\n{\n            'v': 8.38,\n            'f': \"8.38\",\n        },\n\"3.73\"],\n [{\n            'v': 1,\n            'f': \"1\",\n        },\n\"2021-11-14\",\n\"2012\",\n\"BRESCIA\",\n\"F\",\n{\n            'v': 85.0,\n            'f': \"85.0\",\n        },\n{\n            'v': 8.65,\n            'f': \"8.65\",\n        },\n\"4.1\"],\n [{\n            'v': 2,\n            'f': \"2\",\n        },\n\"2021-11-14\",\n\"2012\",\n\"COMO\",\n\"F\",\n{\n            'v': 85.7,\n            'f': \"85.7\",\n        },\n{\n            'v': 9.29,\n            'f': \"9.29\",\n        },\n\"3.85\"],\n [{\n            'v': 3,\n            'f': \"3\",\n        },\n\"2021-11-14\",\n\"2012\",\n\"CREMONA\",\n\"F\",\n{\n            'v': 84.0,\n            'f': \"84.0\",\n        },\n{\n            'v': 10.69,\n            'f': \"10.69\",\n        },\n\"1.84\"],\n [{\n            'v': 4,\n            'f': \"4\",\n        },\n\"2021-11-14\",\n\"2012\",\n\"ITALIA\",\n\"F\",\n{\n            'v': 84.4,\n            'f': \"84.4\",\n        },\n{\n            'v': 10.25,\n            'f': \"10.25\",\n        },\n\"3.15\"],\n [{\n            'v': 5,\n            'f': \"5\",\n        },\n\"2021-11-14\",\n\"2012\",\n\"LECCO\",\n\"F\",\n{\n            'v': 85.5,\n            'f': \"85.5\",\n        },\n{\n            'v': 8.77,\n            'f': \"8.77\",\n        },\n\"1.27\"],\n [{\n            'v': 6,\n            'f': \"6\",\n        },\n\"2021-11-14\",\n\"2012\",\n\"LODI\",\n\"F\",\n{\n            'v': 83.7,\n            'f': \"83.7\",\n        },\n{\n            'v': 9.64,\n            'f': \"9.64\",\n        },\n\"0.9\"],\n [{\n            'v': 7,\n            'f': \"7\",\n        },\n\"2021-11-14\",\n\"2012\",\n\"MANTOVA\",\n\"F\",\n{\n            'v': 84.6,\n            'f': \"84.6\",\n        },\n{\n            'v': 10.54,\n            'f': \"10.54\",\n        },\n\"2.07\"],\n [{\n            'v': 8,\n            'f': \"8\",\n        },\n\"2021-11-14\",\n\"2012\",\n\"MILANO\",\n\"F\",\n{\n            'v': 85.2,\n            'f': \"85.2\",\n        },\n{\n            'v': 9.62,\n            'f': \"9.62\",\n        },\n\"1.88\"],\n [{\n            'v': 9,\n            'f': \"9\",\n        },\n\"2021-11-14\",\n\"2012\",\n\"MONZA E DELLA BRIANZA\",\n\"F\",\n{\n            'v': 85.4,\n            'f': \"85.4\",\n        },\n{\n            'v': 8.2,\n            'f': \"8.2\",\n        },\n\"1.9\"],\n [{\n            'v': 10,\n            'f': \"10\",\n        },\n\"2021-11-14\",\n\"2012\",\n\"PAVIA\",\n\"F\",\n{\n            'v': 83.9,\n            'f': \"83.9\",\n        },\n{\n            'v': 11.87,\n            'f': \"11.87\",\n        },\n\"1.76\"],\n [{\n            'v': 11,\n            'f': \"11\",\n        },\n\"2021-11-14\",\n\"2012\",\n\"REGIONE LOMBARDIA\",\n\"F\",\n{\n            'v': 84.9,\n            'f': \"84.9\",\n        },\n{\n            'v': 9.38,\n            'f': \"9.38\",\n        },\n\"2.51\"],\n [{\n            'v': 12,\n            'f': \"12\",\n        },\n\"2021-11-14\",\n\"2012\",\n\"SONDRIO\",\n\"F\",\n{\n            'v': 84.6,\n            'f': \"84.6\",\n        },\n{\n            'v': 9.95,\n            'f': \"9.95\",\n        },\n\"\"],\n [{\n            'v': 13,\n            'f': \"13\",\n        },\n\"2021-11-14\",\n\"2012\",\n\"VARESE\",\n\"F\",\n{\n            'v': 85.1,\n            'f': \"85.1\",\n        },\n{\n            'v': 9.48,\n            'f': \"9.48\",\n        },\n\"2.71\"],\n [{\n            'v': 14,\n            'f': \"14\",\n        },\n\"2021-11-14\",\n\"2012\",\n\"BERGAMO\",\n\"M\",\n{\n            'v': 79.7,\n            'f': \"79.7\",\n        },\n{\n            'v': 9.06,\n            'f': \"9.06\",\n        },\n\"2.64\"],\n [{\n            'v': 15,\n            'f': \"15\",\n        },\n\"2021-11-14\",\n\"2012\",\n\"BRESCIA\",\n\"M\",\n{\n            'v': 79.7,\n            'f': \"79.7\",\n        },\n{\n            'v': 9.21,\n            'f': \"9.21\",\n        },\n\"3.13\"],\n [{\n            'v': 16,\n            'f': \"16\",\n        },\n\"2021-11-14\",\n\"2012\",\n\"COMO\",\n\"M\",\n{\n            'v': 80.1,\n            'f': \"80.1\",\n        },\n{\n            'v': 9.28,\n            'f': \"9.28\",\n        },\n\"2.99\"],\n [{\n            'v': 17,\n            'f': \"17\",\n        },\n\"2021-11-14\",\n\"2012\",\n\"CREMONA\",\n\"M\",\n{\n            'v': 79.2,\n            'f': \"79.2\",\n        },\n{\n            'v': 12.21,\n            'f': \"12.21\",\n        },\n\"4.01\"],\n [{\n            'v': 18,\n            'f': \"18\",\n        },\n\"2021-11-14\",\n\"2012\",\n\"ITALIA\",\n\"M\",\n{\n            'v': 79.6,\n            'f': \"79.6\",\n        },\n{\n            'v': 10.34,\n            'f': \"10.34\",\n        },\n\"2.85\"],\n [{\n            'v': 19,\n            'f': \"19\",\n        },\n\"2021-11-14\",\n\"2012\",\n\"LECCO\",\n\"M\",\n{\n            'v': 80.8,\n            'f': \"80.8\",\n        },\n{\n            'v': 9.35,\n            'f': \"9.35\",\n        },\n\"1.95\"],\n [{\n            'v': 20,\n            'f': \"20\",\n        },\n\"2021-11-14\",\n\"2012\",\n\"LODI\",\n\"M\",\n{\n            'v': 78.7,\n            'f': \"78.7\",\n        },\n{\n            'v': 9.98,\n            'f': \"9.98\",\n        },\n\"3.92\"],\n [{\n            'v': 21,\n            'f': \"21\",\n        },\n\"2021-11-14\",\n\"2012\",\n\"MANTOVA\",\n\"M\",\n{\n            'v': 79.6,\n            'f': \"79.6\",\n        },\n{\n            'v': 11.49,\n            'f': \"11.49\",\n        },\n\"2.29\"],\n [{\n            'v': 22,\n            'f': \"22\",\n        },\n\"2021-11-14\",\n\"2012\",\n\"MILANO\",\n\"M\",\n{\n            'v': 80.4,\n            'f': \"80.4\",\n        },\n{\n            'v': 9.8,\n            'f': \"9.8\",\n        },\n\"1.78\"],\n [{\n            'v': 23,\n            'f': \"23\",\n        },\n\"2021-11-14\",\n\"2012\",\n\"MONZA E DELLA BRIANZA\",\n\"M\",\n{\n            'v': 80.9,\n            'f': \"80.9\",\n        },\n{\n            'v': 8.67,\n            'f': \"8.67\",\n        },\n\"1.53\"],\n [{\n            'v': 24,\n            'f': \"24\",\n        },\n\"2021-11-14\",\n\"2012\",\n\"PAVIA\",\n\"M\",\n{\n            'v': 78.8,\n            'f': \"78.8\",\n        },\n{\n            'v': 12.74,\n            'f': \"12.74\",\n        },\n\"0.88\"],\n [{\n            'v': 25,\n            'f': \"25\",\n        },\n\"2021-11-14\",\n\"2012\",\n\"REGIONE LOMBARDIA\",\n\"M\",\n{\n            'v': 79.9,\n            'f': \"79.9\",\n        },\n{\n            'v': 9.84,\n            'f': \"9.84\",\n        },\n\"2.3\"],\n [{\n            'v': 26,\n            'f': \"26\",\n        },\n\"2021-11-14\",\n\"2012\",\n\"SONDRIO\",\n\"M\",\n{\n            'v': 78.7,\n            'f': \"78.7\",\n        },\n{\n            'v': 10.2,\n            'f': \"10.2\",\n        },\n\"1.31\"],\n [{\n            'v': 27,\n            'f': \"27\",\n        },\n\"2021-11-14\",\n\"2012\",\n\"VARESE\",\n\"M\",\n{\n            'v': 80.3,\n            'f': \"80.3\",\n        },\n{\n            'v': 9.92,\n            'f': \"9.92\",\n        },\n\"2.84\"],\n [{\n            'v': 28,\n            'f': \"28\",\n        },\n\"2021-11-14\",\n\"2012\",\n\"BERGAMO\",\n\"ALL\",\n{\n            'v': 82.1,\n            'f': \"82.1\",\n        },\n{\n            'v': 8.73,\n            'f': \"8.73\",\n        },\n\"3.2\"],\n [{\n            'v': 29,\n            'f': \"29\",\n        },\n\"2021-11-14\",\n\"2012\",\n\"BRESCIA\",\n\"ALL\",\n{\n            'v': 82.3,\n            'f': \"82.3\",\n        },\n{\n            'v': 8.94,\n            'f': \"8.94\",\n        },\n\"3.62\"],\n [{\n            'v': 30,\n            'f': \"30\",\n        },\n\"2021-11-14\",\n\"2012\",\n\"COMO\",\n\"ALL\",\n{\n            'v': 82.8,\n            'f': \"82.8\",\n        },\n{\n            'v': 9.28,\n            'f': \"9.28\",\n        },\n\"3.43\"],\n [{\n            'v': 31,\n            'f': \"31\",\n        },\n\"2021-11-14\",\n\"2012\",\n\"CREMONA\",\n\"ALL\",\n{\n            'v': 81.5,\n            'f': \"81.5\",\n        },\n{\n            'v': 11.47,\n            'f': \"11.47\",\n        },\n\"2.88\"],\n [{\n            'v': 32,\n            'f': \"32\",\n        },\n\"2021-11-14\",\n\"2012\",\n\"ITALIA\",\n\"ALL\",\n{\n            'v': 81.9,\n            'f': \"81.9\",\n        },\n{\n            'v': 10.29,\n            'f': \"10.29\",\n        },\n\"3\"],\n [{\n            'v': 33,\n            'f': \"33\",\n        },\n\"2021-11-14\",\n\"2012\",\n\"LECCO\",\n\"ALL\",\n{\n            'v': 83.1,\n            'f': \"83.1\",\n        },\n{\n            'v': 9.07,\n            'f': \"9.07\",\n        },\n\"1.61\"],\n [{\n            'v': 34,\n            'f': \"34\",\n        },\n\"2021-11-14\",\n\"2012\",\n\"LODI\",\n\"ALL\",\n{\n            'v': 81.1,\n            'f': \"81.1\",\n        },\n{\n            'v': 9.81,\n            'f': \"9.81\",\n        },\n\"2.34\"],\n [{\n            'v': 35,\n            'f': \"35\",\n        },\n\"2021-11-14\",\n\"2012\",\n\"MANTOVA\",\n\"ALL\",\n{\n            'v': 82.1,\n            'f': \"82.1\",\n        },\n{\n            'v': 11.02,\n            'f': \"11.02\",\n        },\n\"2.17\"],\n [{\n            'v': 36,\n            'f': \"36\",\n        },\n\"2021-11-14\",\n\"2012\",\n\"MILANO\",\n\"ALL\",\n{\n            'v': 82.7,\n            'f': \"82.7\",\n        },\n{\n            'v': 9.72,\n            'f': \"9.72\",\n        },\n\"1.83\"],\n [{\n            'v': 37,\n            'f': \"37\",\n        },\n\"2021-11-14\",\n\"2012\",\n\"MONZA E DELLA BRIANZA\",\n\"ALL\",\n{\n            'v': 83.1,\n            'f': \"83.1\",\n        },\n{\n            'v': 8.44,\n            'f': \"8.44\",\n        },\n\"1.72\"],\n [{\n            'v': 38,\n            'f': \"38\",\n        },\n\"2021-11-14\",\n\"2012\",\n\"PAVIA\",\n\"ALL\",\n{\n            'v': 81.3,\n            'f': \"81.3\",\n        },\n{\n            'v': 12.32,\n            'f': \"12.32\",\n        },\n\"1.32\"],\n [{\n            'v': 39,\n            'f': \"39\",\n        },\n\"2021-11-14\",\n\"2012\",\n\"REGIONE LOMBARDIA\",\n\"ALL\",\n{\n            'v': 82.3,\n            'f': \"82.3\",\n        },\n{\n            'v': 9.62,\n            'f': \"9.62\",\n        },\n\"2.41\"],\n [{\n            'v': 40,\n            'f': \"40\",\n        },\n\"2021-11-14\",\n\"2012\",\n\"SONDRIO\",\n\"ALL\",\n{\n            'v': 81.6,\n            'f': \"81.6\",\n        },\n{\n            'v': 10.08,\n            'f': \"10.08\",\n        },\n\"0.63\"],\n [{\n            'v': 41,\n            'f': \"41\",\n        },\n\"2021-11-14\",\n\"2012\",\n\"VARESE\",\n\"ALL\",\n{\n            'v': 82.6,\n            'f': \"82.6\",\n        },\n{\n            'v': 9.71,\n            'f': \"9.71\",\n        },\n\"2.77\"],\n [{\n            'v': 42,\n            'f': \"42\",\n        },\n\"2021-11-14\",\n\"2013\",\n\"BERGAMO\",\n\"F\",\n{\n            'v': 84.5,\n            'f': \"84.5\",\n        },\n{\n            'v': 8.04,\n            'f': \"8.04\",\n        },\n\"3.29\"],\n [{\n            'v': 43,\n            'f': \"43\",\n        },\n\"2021-11-14\",\n\"2013\",\n\"BRESCIA\",\n\"F\",\n{\n            'v': 85.2,\n            'f': \"85.2\",\n        },\n{\n            'v': 8.35,\n            'f': \"8.35\",\n        },\n\"3.69\"],\n [{\n            'v': 44,\n            'f': \"44\",\n        },\n\"2021-11-14\",\n\"2013\",\n\"COMO\",\n\"F\",\n{\n            'v': 85.1,\n            'f': \"85.1\",\n        },\n{\n            'v': 8.84,\n            'f': \"8.84\",\n        },\n\"1.47\"],\n [{\n            'v': 45,\n            'f': \"45\",\n        },\n\"2021-11-14\",\n\"2013\",\n\"CREMONA\",\n\"F\",\n{\n            'v': 84.4,\n            'f': \"84.4\",\n        },\n{\n            'v': 9.94,\n            'f': \"9.94\",\n        },\n\"0.66\"],\n [{\n            'v': 46,\n            'f': \"46\",\n        },\n\"2021-11-14\",\n\"2013\",\n\"ITALIA\",\n\"F\",\n{\n            'v': 84.6,\n            'f': \"84.6\",\n        },\n{\n            'v': 9.95,\n            'f': \"9.95\",\n        },\n\"3.37\"],\n [{\n            'v': 47,\n            'f': \"47\",\n        },\n\"2021-11-14\",\n\"2013\",\n\"LECCO\",\n\"F\",\n{\n            'v': 85.1,\n            'f': \"85.1\",\n        },\n{\n            'v': 8.94,\n            'f': \"8.94\",\n        },\n\"3.43\"],\n [{\n            'v': 48,\n            'f': \"48\",\n        },\n\"2021-11-14\",\n\"2013\",\n\"LODI\",\n\"F\",\n{\n            'v': 84.1,\n            'f': \"84.1\",\n        },\n{\n            'v': 8.86,\n            'f': \"8.86\",\n        },\n\"0.94\"],\n [{\n            'v': 49,\n            'f': \"49\",\n        },\n\"2021-11-14\",\n\"2013\",\n\"MANTOVA\",\n\"F\",\n{\n            'v': 84.8,\n            'f': \"84.8\",\n        },\n{\n            'v': 10.05,\n            'f': \"10.05\",\n        },\n\"2.12\"],\n [{\n            'v': 50,\n            'f': \"50\",\n        },\n\"2021-11-14\",\n\"2013\",\n\"MILANO\",\n\"F\",\n{\n            'v': 85.6,\n            'f': \"85.6\",\n        },\n{\n            'v': 9.11,\n            'f': \"9.11\",\n        },\n\"3.23\"],\n [{\n            'v': 51,\n            'f': \"51\",\n        },\n\"2021-11-14\",\n\"2013\",\n\"MONZA E DELLA BRIANZA\",\n\"F\",\n{\n            'v': 85.6,\n            'f': \"85.6\",\n        },\n{\n            'v': 8.1,\n            'f': \"8.1\",\n        },\n\"1.51\"],\n [{\n            'v': 52,\n            'f': \"52\",\n        },\n\"2021-11-14\",\n\"2013\",\n\"PAVIA\",\n\"F\",\n{\n            'v': 84.0,\n            'f': \"84.0\",\n        },\n{\n            'v': 11.35,\n            'f': \"11.35\",\n        },\n\"4.43\"],\n [{\n            'v': 53,\n            'f': \"53\",\n        },\n\"2021-11-14\",\n\"2013\",\n\"REGIONE LOMBARDIA\",\n\"F\",\n{\n            'v': 85.1,\n            'f': \"85.1\",\n        },\n{\n            'v': 9.0,\n            'f': \"9.0\",\n        },\n\"2.74\"],\n [{\n            'v': 54,\n            'f': \"54\",\n        },\n\"2021-11-14\",\n\"2013\",\n\"SONDRIO\",\n\"F\",\n{\n            'v': 85.0,\n            'f': \"85.0\",\n        },\n{\n            'v': 9.62,\n            'f': \"9.62\",\n        },\n\"2.54\"],\n [{\n            'v': 55,\n            'f': \"55\",\n        },\n\"2021-11-14\",\n\"2013\",\n\"VARESE\",\n\"F\",\n{\n            'v': 85.2,\n            'f': \"85.2\",\n        },\n{\n            'v': 9.34,\n            'f': \"9.34\",\n        },\n\"1.24\"],\n [{\n            'v': 56,\n            'f': \"56\",\n        },\n\"2021-11-14\",\n\"2013\",\n\"BERGAMO\",\n\"M\",\n{\n            'v': 80.1,\n            'f': \"80.1\",\n        },\n{\n            'v': 8.85,\n            'f': \"8.85\",\n        },\n\"2.05\"],\n [{\n            'v': 57,\n            'f': \"57\",\n        },\n\"2021-11-14\",\n\"2013\",\n\"BRESCIA\",\n\"M\",\n{\n            'v': 80.0,\n            'f': \"80.0\",\n        },\n{\n            'v': 8.92,\n            'f': \"8.92\",\n        },\n\"2.48\"],\n [{\n            'v': 58,\n            'f': \"58\",\n        },\n\"2021-11-14\",\n\"2013\",\n\"COMO\",\n\"M\",\n{\n            'v': 80.4,\n            'f': \"80.4\",\n        },\n{\n            'v': 9.66,\n            'f': \"9.66\",\n        },\n\"1.19\"],\n [{\n            'v': 59,\n            'f': \"59\",\n        },\n\"2021-11-14\",\n\"2013\",\n\"CREMONA\",\n\"M\",\n{\n            'v': 79.7,\n            'f': \"79.7\",\n        },\n{\n            'v': 11.62,\n            'f': \"11.62\",\n        },\n\"4.29\"],\n [{\n            'v': 60,\n            'f': \"60\",\n        },\n\"2021-11-14\",\n\"2013\",\n\"ITALIA\",\n\"M\",\n{\n            'v': 79.8,\n            'f': \"79.8\",\n        },\n{\n            'v': 10.0,\n            'f': \"10.0\",\n        },\n\"2.53\"],\n [{\n            'v': 61,\n            'f': \"61\",\n        },\n\"2021-11-14\",\n\"2013\",\n\"LECCO\",\n\"M\",\n{\n            'v': 80.2,\n            'f': \"80.2\",\n        },\n{\n            'v': 9.55,\n            'f': \"9.55\",\n        },\n\"3.33\"],\n [{\n            'v': 62,\n            'f': \"62\",\n        },\n\"2021-11-14\",\n\"2013\",\n\"LODI\",\n\"M\",\n{\n            'v': 79.4,\n            'f': \"79.4\",\n        },\n{\n            'v': 9.27,\n            'f': \"9.27\",\n        },\n\"2.02\"],\n [{\n            'v': 63,\n            'f': \"63\",\n        },\n\"2021-11-14\",\n\"2013\",\n\"MANTOVA\",\n\"M\",\n{\n            'v': 80.2,\n            'f': \"80.2\",\n        },\n{\n            'v': 10.99,\n            'f': \"10.99\",\n        },\n\"3.41\"],\n [{\n            'v': 64,\n            'f': \"64\",\n        },\n\"2021-11-14\",\n\"2013\",\n\"MILANO\",\n\"M\",\n{\n            'v': 80.7,\n            'f': \"80.7\",\n        },\n{\n            'v': 9.11,\n            'f': \"9.11\",\n        },\n\"1.91\"],\n [{\n            'v': 65,\n            'f': \"65\",\n        },\n\"2021-11-14\",\n\"2013\",\n\"MONZA E DELLA BRIANZA\",\n\"M\",\n{\n            'v': 81.0,\n            'f': \"81.0\",\n        },\n{\n            'v': 8.28,\n            'f': \"8.28\",\n        },\n\"1.89\"],\n [{\n            'v': 66,\n            'f': \"66\",\n        },\n\"2021-11-14\",\n\"2013\",\n\"PAVIA\",\n\"M\",\n{\n            'v': 79.0,\n            'f': \"79.0\",\n        },\n{\n            'v': 12.68,\n            'f': \"12.68\",\n        },\n\"1.9\"],\n [{\n            'v': 67,\n            'f': \"67\",\n        },\n\"2021-11-14\",\n\"2013\",\n\"REGIONE LOMBARDIA\",\n\"M\",\n{\n            'v': 80.3,\n            'f': \"80.3\",\n        },\n{\n            'v': 9.46,\n            'f': \"9.46\",\n        },\n\"2.2\"],\n [{\n            'v': 68,\n            'f': \"68\",\n        },\n\"2021-11-14\",\n\"2013\",\n\"SONDRIO\",\n\"M\",\n{\n            'v': 78.9,\n            'f': \"78.9\",\n        },\n{\n            'v': 9.58,\n            'f': \"9.58\",\n        },\n\"1.42\"],\n [{\n            'v': 69,\n            'f': \"69\",\n        },\n\"2021-11-14\",\n\"2013\",\n\"VARESE\",\n\"M\",\n{\n            'v': 80.3,\n            'f': \"80.3\",\n        },\n{\n            'v': 9.61,\n            'f': \"9.61\",\n        },\n\"2.57\"],\n [{\n            'v': 70,\n            'f': \"70\",\n        },\n\"2021-11-14\",\n\"2013\",\n\"BERGAMO\",\n\"ALL\",\n{\n            'v': 82.3,\n            'f': \"82.3\",\n        },\n{\n            'v': 8.45,\n            'f': \"8.45\",\n        },\n\"2.71\"],\n [{\n            'v': 71,\n            'f': \"71\",\n        },\n\"2021-11-14\",\n\"2013\",\n\"BRESCIA\",\n\"ALL\",\n{\n            'v': 82.5,\n            'f': \"82.5\",\n        },\n{\n            'v': 8.64,\n            'f': \"8.64\",\n        },\n\"3.1\"],\n [{\n            'v': 72,\n            'f': \"72\",\n        },\n\"2021-11-14\",\n\"2013\",\n\"COMO\",\n\"ALL\",\n{\n            'v': 82.7,\n            'f': \"82.7\",\n        },\n{\n            'v': 9.26,\n            'f': \"9.26\",\n        },\n\"1.33\"],\n [{\n            'v': 73,\n            'f': \"73\",\n        },\n\"2021-11-14\",\n\"2013\",\n\"CREMONA\",\n\"ALL\",\n{\n            'v': 82.0,\n            'f': \"82.0\",\n        },\n{\n            'v': 10.8,\n            'f': \"10.8\",\n        },\n\"2.41\"],\n [{\n            'v': 74,\n            'f': \"74\",\n        },\n\"2021-11-14\",\n\"2013\",\n\"ITALIA\",\n\"ALL\",\n{\n            'v': 82.2,\n            'f': \"82.2\",\n        },\n{\n            'v': 9.97,\n            'f': \"9.97\",\n        },\n\"2.96\"],\n [{\n            'v': 75,\n            'f': \"75\",\n        },\n\"2021-11-14\",\n\"2013\",\n\"LECCO\",\n\"ALL\",\n{\n            'v': 82.6,\n            'f': \"82.6\",\n        },\n{\n            'v': 9.25,\n            'f': \"9.25\",\n        },\n\"3.38\"],\n [{\n            'v': 76,\n            'f': \"76\",\n        },\n\"2021-11-14\",\n\"2013\",\n\"LODI\",\n\"ALL\",\n{\n            'v': 81.7,\n            'f': \"81.7\",\n        },\n{\n            'v': 9.07,\n            'f': \"9.07\",\n        },\n\"1.46\"],\n [{\n            'v': 77,\n            'f': \"77\",\n        },\n\"2021-11-14\",\n\"2013\",\n\"MANTOVA\",\n\"ALL\",\n{\n            'v': 82.5,\n            'f': \"82.5\",\n        },\n{\n            'v': 10.53,\n            'f': \"10.53\",\n        },\n\"2.74\"],\n [{\n            'v': 78,\n            'f': \"78\",\n        },\n\"2021-11-14\",\n\"2013\",\n\"MILANO\",\n\"ALL\",\n{\n            'v': 83.1,\n            'f': \"83.1\",\n        },\n{\n            'v': 9.11,\n            'f': \"9.11\",\n        },\n\"2.59\"],\n [{\n            'v': 79,\n            'f': \"79\",\n        },\n\"2021-11-14\",\n\"2013\",\n\"MONZA E DELLA BRIANZA\",\n\"ALL\",\n{\n            'v': 83.3,\n            'f': \"83.3\",\n        },\n{\n            'v': 8.19,\n            'f': \"8.19\",\n        },\n\"1.69\"],\n [{\n            'v': 80,\n            'f': \"80\",\n        },\n\"2021-11-14\",\n\"2013\",\n\"PAVIA\",\n\"ALL\",\n{\n            'v': 81.4,\n            'f': \"81.4\",\n        },\n{\n            'v': 12.03,\n            'f': \"12.03\",\n        },\n\"3.21\"],\n [{\n            'v': 81,\n            'f': \"81\",\n        },\n\"2021-11-14\",\n\"2013\",\n\"REGIONE LOMBARDIA\",\n\"ALL\",\n{\n            'v': 82.6,\n            'f': \"82.6\",\n        },\n{\n            'v': 9.23,\n            'f': \"9.23\",\n        },\n\"2.48\"],\n [{\n            'v': 82,\n            'f': \"82\",\n        },\n\"2021-11-14\",\n\"2013\",\n\"SONDRIO\",\n\"ALL\",\n{\n            'v': 81.9,\n            'f': \"81.9\",\n        },\n{\n            'v': 9.6,\n            'f': \"9.6\",\n        },\n\"2.01\"],\n [{\n            'v': 83,\n            'f': \"83\",\n        },\n\"2021-11-14\",\n\"2013\",\n\"VARESE\",\n\"ALL\",\n{\n            'v': 82.7,\n            'f': \"82.7\",\n        },\n{\n            'v': 9.48,\n            'f': \"9.48\",\n        },\n\"1.9\"],\n [{\n            'v': 84,\n            'f': \"84\",\n        },\n\"2021-11-14\",\n\"2014\",\n\"BERGAMO\",\n\"F\",\n{\n            'v': 85.0,\n            'f': \"85.0\",\n        },\n{\n            'v': 8.02,\n            'f': \"8.02\",\n        },\n\"3.14\"],\n [{\n            'v': 85,\n            'f': \"85\",\n        },\n\"2021-11-14\",\n\"2014\",\n\"BRESCIA\",\n\"F\",\n{\n            'v': 85.7,\n            'f': \"85.7\",\n        },\n{\n            'v': 8.35,\n            'f': \"8.35\",\n        },\n\"5.26\"],\n [{\n            'v': 86,\n            'f': \"86\",\n        },\n\"2021-11-14\",\n\"2014\",\n\"COMO\",\n\"F\",\n{\n            'v': 85.8,\n            'f': \"85.8\",\n        },\n{\n            'v': 8.77,\n            'f': \"8.77\",\n        },\n\"2.75\"],\n [{\n            'v': 87,\n            'f': \"87\",\n        },\n\"2021-11-14\",\n\"2014\",\n\"CREMONA\",\n\"F\",\n{\n            'v': 84.6,\n            'f': \"84.6\",\n        },\n{\n            'v': 10.27,\n            'f': \"10.27\",\n        },\n\"4.64\"],\n [{\n            'v': 88,\n            'f': \"88\",\n        },\n\"2021-11-14\",\n\"2014\",\n\"ITALIA\",\n\"F\",\n{\n            'v': 85.0,\n            'f': \"85.0\",\n        },\n{\n            'v': 9.81,\n            'f': \"9.81\",\n        },\n\"3\"],\n [{\n            'v': 89,\n            'f': \"89\",\n        },\n\"2021-11-14\",\n\"2014\",\n\"LECCO\",\n\"F\",\n{\n            'v': 85.8,\n            'f': \"85.8\",\n        },\n{\n            'v': 8.49,\n            'f': \"8.49\",\n        },\n\"2.08\"],\n [{\n            'v': 90,\n            'f': \"90\",\n        },\n\"2021-11-14\",\n\"2014\",\n\"LODI\",\n\"F\",\n{\n            'v': 84.6,\n            'f': \"84.6\",\n        },\n{\n            'v': 8.82,\n            'f': \"8.82\",\n        },\n\"0.97\"],\n [{\n            'v': 91,\n            'f': \"91\",\n        },\n\"2021-11-14\",\n\"2014\",\n\"MANTOVA\",\n\"F\",\n{\n            'v': 85.0,\n            'f': \"85.0\",\n        },\n{\n            'v': 9.82,\n            'f': \"9.82\",\n        },\n\"1.1\"],\n [{\n            'v': 92,\n            'f': \"92\",\n        },\n\"2021-11-14\",\n\"2014\",\n\"MILANO\",\n\"F\",\n{\n            'v': 86.1,\n            'f': \"86.1\",\n        },\n{\n            'v': 8.65,\n            'f': \"8.65\",\n        },\n\"2.61\"],\n [{\n            'v': 93,\n            'f': \"93\",\n        },\n\"2021-11-14\",\n\"2014\",\n\"MONZA E DELLA BRIANZA\",\n\"F\",\n{\n            'v': 85.6,\n            'f': \"85.6\",\n        },\n{\n            'v': 8.3,\n            'f': \"8.3\",\n        },\n\"3.33\"],\n [{\n            'v': 94,\n            'f': \"94\",\n        },\n\"2021-11-14\",\n\"2014\",\n\"PAVIA\",\n\"F\",\n{\n            'v': 84.5,\n            'f': \"84.5\",\n        },\n{\n            'v': 11.0,\n            'f': \"11.0\",\n        },\n\"1.37\"],\n [{\n            'v': 95,\n            'f': \"95\",\n        },\n\"2021-11-14\",\n\"2014\",\n\"REGIONE LOMBARDIA\",\n\"F\",\n{\n            'v': 85.5,\n            'f': \"85.5\",\n        },\n{\n            'v': 8.81,\n            'f': \"8.81\",\n        },\n\"2.95\"],\n [{\n            'v': 96,\n            'f': \"96\",\n        },\n\"2021-11-14\",\n\"2014\",\n\"SONDRIO\",\n\"F\",\n{\n            'v': 85.0,\n            'f': \"85.0\",\n        },\n{\n            'v': 10.48,\n            'f': \"10.48\",\n        },\n\"\"],\n [{\n            'v': 97,\n            'f': \"97\",\n        },\n\"2021-11-14\",\n\"2014\",\n\"VARESE\",\n\"F\",\n{\n            'v': 85.8,\n            'f': \"85.8\",\n        },\n{\n            'v': 8.99,\n            'f': \"8.99\",\n        },\n\"2.81\"],\n [{\n            'v': 98,\n            'f': \"98\",\n        },\n\"2021-11-14\",\n\"2014\",\n\"BERGAMO\",\n\"M\",\n{\n            'v': 80.6,\n            'f': \"80.6\",\n        },\n{\n            'v': 8.66,\n            'f': \"8.66\",\n        },\n\"3.47\"],\n [{\n            'v': 99,\n            'f': \"99\",\n        },\n\"2021-11-14\",\n\"2014\",\n\"BRESCIA\",\n\"M\",\n{\n            'v': 80.4,\n            'f': \"80.4\",\n        },\n{\n            'v': 8.67,\n            'f': \"8.67\",\n        },\n\"3.08\"],\n [{\n            'v': 100,\n            'f': \"100\",\n        },\n\"2021-11-14\",\n\"2014\",\n\"COMO\",\n\"M\",\n{\n            'v': 80.9,\n            'f': \"80.9\",\n        },\n{\n            'v': 9.16,\n            'f': \"9.16\",\n        },\n\"3.23\"],\n [{\n            'v': 101,\n            'f': \"101\",\n        },\n\"2021-11-14\",\n\"2014\",\n\"CREMONA\",\n\"M\",\n{\n            'v': 79.8,\n            'f': \"79.8\",\n        },\n{\n            'v': 11.18,\n            'f': \"11.18\",\n        },\n\"5.66\"],\n [{\n            'v': 102,\n            'f': \"102\",\n        },\n\"2021-11-14\",\n\"2014\",\n\"ITALIA\",\n\"M\",\n{\n            'v': 80.3,\n            'f': \"80.3\",\n        },\n{\n            'v': 9.88,\n            'f': \"9.88\",\n        },\n\"2.54\"],\n [{\n            'v': 103,\n            'f': \"103\",\n        },\n\"2021-11-14\",\n\"2014\",\n\"LECCO\",\n\"M\",\n{\n            'v': 81.2,\n            'f': \"81.2\",\n        },\n{\n            'v': 9.49,\n            'f': \"9.49\",\n        },\n\"2.93\"],\n [{\n            'v': 104,\n            'f': \"104\",\n        },\n\"2021-11-14\",\n\"2014\",\n\"LODI\",\n\"M\",\n{\n            'v': 80.3,\n            'f': \"80.3\",\n        },\n{\n            'v': 9.47,\n            'f': \"9.47\",\n        },\n\"2\"],\n [{\n            'v': 105,\n            'f': \"105\",\n        },\n\"2021-11-14\",\n\"2014\",\n\"MANTOVA\",\n\"M\",\n{\n            'v': 80.5,\n            'f': \"80.5\",\n        },\n{\n            'v': 11.05,\n            'f': \"11.05\",\n        },\n\"2.97\"],\n [{\n            'v': 106,\n            'f': \"106\",\n        },\n\"2021-11-14\",\n\"2014\",\n\"MILANO\",\n\"M\",\n{\n            'v': 81.4,\n            'f': \"81.4\",\n        },\n{\n            'v': 8.88,\n            'f': \"8.88\",\n        },\n\"2.26\"],\n [{\n            'v': 107,\n            'f': \"107\",\n        },\n\"2021-11-14\",\n\"2014\",\n\"MONZA E DELLA BRIANZA\",\n\"M\",\n{\n            'v': 81.4,\n            'f': \"81.4\",\n        },\n{\n            'v': 8.62,\n            'f': \"8.62\",\n        },\n\"2.44\"],\n [{\n            'v': 108,\n            'f': \"108\",\n        },\n\"2021-11-14\",\n\"2014\",\n\"PAVIA\",\n\"M\",\n{\n            'v': 79.6,\n            'f': \"79.6\",\n        },\n{\n            'v': 12.22,\n            'f': \"12.22\",\n        },\n\"2.02\"],\n [{\n            'v': 109,\n            'f': \"109\",\n        },\n\"2021-11-14\",\n\"2014\",\n\"REGIONE LOMBARDIA\",\n\"M\",\n{\n            'v': 80.8,\n            'f': \"80.8\",\n        },\n{\n            'v': 9.29,\n            'f': \"9.29\",\n        },\n\"2.75\"],\n [{\n            'v': 110,\n            'f': \"110\",\n        },\n\"2021-11-14\",\n\"2014\",\n\"SONDRIO\",\n\"M\",\n{\n            'v': 78.7,\n            'f': \"78.7\",\n        },\n{\n            'v': 10.1,\n            'f': \"10.1\",\n        },\n\"1.4\"],\n [{\n            'v': 111,\n            'f': \"111\",\n        },\n\"2021-11-14\",\n\"2014\",\n\"VARESE\",\n\"M\",\n{\n            'v': 81.1,\n            'f': \"81.1\",\n        },\n{\n            'v': 9.42,\n            'f': \"9.42\",\n        },\n\"2.76\"],\n [{\n            'v': 112,\n            'f': \"112\",\n        },\n\"2021-11-14\",\n\"2014\",\n\"BERGAMO\",\n\"ALL\",\n{\n            'v': 82.8,\n            'f': \"82.8\",\n        },\n{\n            'v': 8.34,\n            'f': \"8.34\",\n        },\n\"3.3\"],\n [{\n            'v': 113,\n            'f': \"113\",\n        },\n\"2021-11-14\",\n\"2014\",\n\"BRESCIA\",\n\"ALL\",\n{\n            'v': 83.0,\n            'f': \"83.0\",\n        },\n{\n            'v': 8.51,\n            'f': \"8.51\",\n        },\n\"4.19\"],\n [{\n            'v': 114,\n            'f': \"114\",\n        },\n\"2021-11-14\",\n\"2014\",\n\"COMO\",\n\"ALL\",\n{\n            'v': 83.3,\n            'f': \"83.3\",\n        },\n{\n            'v': 8.97,\n            'f': \"8.97\",\n        },\n\"2.99\"],\n [{\n            'v': 115,\n            'f': \"115\",\n        },\n\"2021-11-14\",\n\"2014\",\n\"CREMONA\",\n\"ALL\",\n{\n            'v': 82.2,\n            'f': \"82.2\",\n        },\n{\n            'v': 10.73,\n            'f': \"10.73\",\n        },\n\"5.13\"],\n [{\n            'v': 116,\n            'f': \"116\",\n        },\n\"2021-11-14\",\n\"2014\",\n\"ITALIA\",\n\"ALL\",\n{\n            'v': 82.6,\n            'f': \"82.6\",\n        },\n{\n            'v': 9.84,\n            'f': \"9.84\",\n        },\n\"2.78\"],\n [{\n            'v': 117,\n            'f': \"117\",\n        },\n\"2021-11-14\",\n\"2014\",\n\"LECCO\",\n\"ALL\",\n{\n            'v': 83.4,\n            'f': \"83.4\",\n        },\n{\n            'v': 9.0,\n            'f': \"9.0\",\n        },\n\"2.49\"],\n [{\n            'v': 118,\n            'f': \"118\",\n        },\n\"2021-11-14\",\n\"2014\",\n\"LODI\",\n\"ALL\",\n{\n            'v': 82.4,\n            'f': \"82.4\",\n        },\n{\n            'v': 9.15,\n            'f': \"9.15\",\n        },\n\"1.48\"],\n [{\n            'v': 119,\n            'f': \"119\",\n        },\n\"2021-11-14\",\n\"2014\",\n\"MANTOVA\",\n\"ALL\",\n{\n            'v': 82.7,\n            'f': \"82.7\",\n        },\n{\n            'v': 10.45,\n            'f': \"10.45\",\n        },\n\"2\"],\n [{\n            'v': 120,\n            'f': \"120\",\n        },\n\"2021-11-14\",\n\"2014\",\n\"MILANO\",\n\"ALL\",\n{\n            'v': 83.7,\n            'f': \"83.7\",\n        },\n{\n            'v': 8.77,\n            'f': \"8.77\",\n        },\n\"2.44\"],\n [{\n            'v': 121,\n            'f': \"121\",\n        },\n\"2021-11-14\",\n\"2014\",\n\"MONZA E DELLA BRIANZA\",\n\"ALL\",\n{\n            'v': 83.4,\n            'f': \"83.4\",\n        },\n{\n            'v': 8.46,\n            'f': \"8.46\",\n        },\n\"2.9\"],\n [{\n            'v': 122,\n            'f': \"122\",\n        },\n\"2021-11-14\",\n\"2014\",\n\"PAVIA\",\n\"ALL\",\n{\n            'v': 82.0,\n            'f': \"82.0\",\n        },\n{\n            'v': 11.63,\n            'f': \"11.63\",\n        },\n\"1.68\"],\n [{\n            'v': 123,\n            'f': \"123\",\n        },\n\"2021-11-14\",\n\"2014\",\n\"REGIONE LOMBARDIA\",\n\"ALL\",\n{\n            'v': 83.1,\n            'f': \"83.1\",\n        },\n{\n            'v': 9.06,\n            'f': \"9.06\",\n        },\n\"2.85\"],\n [{\n            'v': 124,\n            'f': \"124\",\n        },\n\"2021-11-14\",\n\"2014\",\n\"SONDRIO\",\n\"ALL\",\n{\n            'v': 81.8,\n            'f': \"81.8\",\n        },\n{\n            'v': 10.29,\n            'f': \"10.29\",\n        },\n\"0.66\"],\n [{\n            'v': 125,\n            'f': \"125\",\n        },\n\"2021-11-14\",\n\"2014\",\n\"VARESE\",\n\"ALL\",\n{\n            'v': 83.4,\n            'f': \"83.4\",\n        },\n{\n            'v': 9.21,\n            'f': \"9.21\",\n        },\n\"2.78\"],\n [{\n            'v': 126,\n            'f': \"126\",\n        },\n\"2021-11-14\",\n\"2015\",\n\"BERGAMO\",\n\"F\",\n{\n            'v': 84.5,\n            'f': \"84.5\",\n        },\n{\n            'v': 8.67,\n            'f': \"8.67\",\n        },\n\"3.27\"],\n [{\n            'v': 127,\n            'f': \"127\",\n        },\n\"2021-11-14\",\n\"2015\",\n\"BRESCIA\",\n\"F\",\n{\n            'v': 85.3,\n            'f': \"85.3\",\n        },\n{\n            'v': 8.85,\n            'f': \"8.85\",\n        },\n\"2.67\"],\n [{\n            'v': 128,\n            'f': \"128\",\n        },\n\"2021-11-14\",\n\"2015\",\n\"COMO\",\n\"F\",\n{\n            'v': 85.4,\n            'f': \"85.4\",\n        },\n{\n            'v': 9.45,\n            'f': \"9.45\",\n        },\n\"2.7\"],\n [{\n            'v': 129,\n            'f': \"129\",\n        },\n\"2021-11-14\",\n\"2015\",\n\"CREMONA\",\n\"F\",\n{\n            'v': 84.2,\n            'f': \"84.2\",\n        },\n{\n            'v': 10.56,\n            'f': \"10.56\",\n        },\n\"5.46\"],\n [{\n            'v': 130,\n            'f': \"130\",\n        },\n\"2021-11-14\",\n\"2015\",\n\"ITALIA\",\n\"F\",\n{\n            'v': 84.6,\n            'f': \"84.6\",\n        },\n{\n            'v': 10.45,\n            'f': \"10.45\",\n        },\n\"3.1\"],\n [{\n            'v': 131,\n            'f': \"131\",\n        },\n\"2021-11-14\",\n\"2015\",\n\"LECCO\",\n\"F\",\n{\n            'v': 85.2,\n            'f': \"85.2\",\n        },\n{\n            'v': 9.55,\n            'f': \"9.55\",\n        },\n\"4.84\"],\n [{\n            'v': 132,\n            'f': \"132\",\n        },\n\"2021-11-14\",\n\"2015\",\n\"LODI\",\n\"F\",\n{\n            'v': 84.4,\n            'f': \"84.4\",\n        },\n{\n            'v': 10.08,\n            'f': \"10.08\",\n        },\n\"2.02\"],\n [{\n            'v': 133,\n            'f': \"133\",\n        },\n\"2021-11-14\",\n\"2015\",\n\"MANTOVA\",\n\"F\",\n{\n            'v': 84.9,\n            'f': \"84.9\",\n        },\n{\n            'v': 10.55,\n            'f': \"10.55\",\n        },\n\"5.25\"],\n [{\n            'v': 134,\n            'f': \"134\",\n        },\n\"2021-11-14\",\n\"2015\",\n\"MILANO\",\n\"F\",\n{\n            'v': 85.5,\n            'f': \"85.5\",\n        },\n{\n            'v': 9.4,\n            'f': \"9.4\",\n        },\n\"2.47\"],\n [{\n            'v': 135,\n            'f': \"135\",\n        },\n\"2021-11-14\",\n\"2015\",\n\"MONZA E DELLA BRIANZA\",\n\"F\",\n{\n            'v': 85.3,\n            'f': \"85.3\",\n        },\n{\n            'v': 8.7,\n            'f': \"8.7\",\n        },\n\"1.85\"],\n [{\n            'v': 136,\n            'f': \"136\",\n        },\n\"2021-11-14\",\n\"2015\",\n\"PAVIA\",\n\"F\",\n{\n            'v': 84.2,\n            'f': \"84.2\",\n        },\n{\n            'v': 12.34,\n            'f': \"12.34\",\n        },\n\"2.29\"],\n [{\n            'v': 137,\n            'f': \"137\",\n        },\n\"2021-11-14\",\n\"2015\",\n\"REGIONE LOMBARDIA\",\n\"F\",\n{\n            'v': 85.1,\n            'f': \"85.1\",\n        },\n{\n            'v': 9.52,\n            'f': \"9.52\",\n        },\n\"2.74\"],\n [{\n            'v': 138,\n            'f': \"138\",\n        },\n\"2021-11-14\",\n\"2015\",\n\"SONDRIO\",\n\"F\",\n{\n            'v': 85.3,\n            'f': \"85.3\",\n        },\n{\n            'v': 10.25,\n            'f': \"10.25\",\n        },\n\"4.16\"],\n [{\n            'v': 139,\n            'f': \"139\",\n        },\n\"2021-11-14\",\n\"2015\",\n\"VARESE\",\n\"F\",\n{\n            'v': 85.2,\n            'f': \"85.2\",\n        },\n{\n            'v': 9.9,\n            'f': \"9.9\",\n        },\n\"1.3\"],\n [{\n            'v': 140,\n            'f': \"140\",\n        },\n\"2021-11-14\",\n\"2015\",\n\"BERGAMO\",\n\"M\",\n{\n            'v': 80.4,\n            'f': \"80.4\",\n        },\n{\n            'v': 9.76,\n            'f': \"9.76\",\n        },\n\"2.81\"],\n [{\n            'v': 141,\n            'f': \"141\",\n        },\n\"2021-11-14\",\n\"2015\",\n\"BRESCIA\",\n\"M\",\n{\n            'v': 80.4,\n            'f': \"80.4\",\n        },\n{\n            'v': 9.66,\n            'f': \"9.66\",\n        },\n\"1.85\"],\n [{\n            'v': 142,\n            'f': \"142\",\n        },\n\"2021-11-14\",\n\"2015\",\n\"COMO\",\n\"M\",\n{\n            'v': 80.8,\n            'f': \"80.8\",\n        },\n{\n            'v': 10.37,\n            'f': \"10.37\",\n        },\n\"1.64\"],\n [{\n            'v': 143,\n            'f': \"143\",\n        },\n\"2021-11-14\",\n\"2015\",\n\"CREMONA\",\n\"M\",\n{\n            'v': 80.0,\n            'f': \"80.0\",\n        },\n{\n            'v': 12.58,\n            'f': \"12.58\",\n        },\n\"3.9\"],\n [{\n            'v': 144,\n            'f': \"144\",\n        },\n\"2021-11-14\",\n\"2015\",\n\"ITALIA\",\n\"M\",\n{\n            'v': 80.1,\n            'f': \"80.1\",\n        },\n{\n            'v': 10.87,\n            'f': \"10.87\",\n        },\n\"2.68\"],\n [{\n            'v': 145,\n            'f': \"145\",\n        },\n\"2021-11-14\",\n\"2015\",\n\"LECCO\",\n\"M\",\n{\n            'v': 80.7,\n            'f': \"80.7\",\n        },\n{\n            'v': 10.54,\n            'f': \"10.54\",\n        },\n\"1.45\"],\n [{\n            'v': 146,\n            'f': \"146\",\n        },\n\"2021-11-14\",\n\"2015\",\n\"LODI\",\n\"M\",\n{\n            'v': 79.6,\n            'f': \"79.6\",\n        },\n{\n            'v': 10.43,\n            'f': \"10.43\",\n        },\n\"2.01\"],\n [{\n            'v': 147,\n            'f': \"147\",\n        },\n\"2021-11-14\",\n\"2015\",\n\"MANTOVA\",\n\"M\",\n{\n            'v': 80.4,\n            'f': \"80.4\",\n        },\n{\n            'v': 11.96,\n            'f': \"11.96\",\n        },\n\"1.93\"],\n [{\n            'v': 148,\n            'f': \"148\",\n        },\n\"2021-11-14\",\n\"2015\",\n\"MILANO\",\n\"M\",\n{\n            'v': 81.0,\n            'f': \"81.0\",\n        },\n{\n            'v': 9.96,\n            'f': \"9.96\",\n        },\n\"2.75\"],\n [{\n            'v': 149,\n            'f': \"149\",\n        },\n\"2021-11-14\",\n\"2015\",\n\"MONZA E DELLA BRIANZA\",\n\"M\",\n{\n            'v': 81.4,\n            'f': \"81.4\",\n        },\n{\n            'v': 9.36,\n            'f': \"9.36\",\n        },\n\"2.47\"],\n [{\n            'v': 150,\n            'f': \"150\",\n        },\n\"2021-11-14\",\n\"2015\",\n\"PAVIA\",\n\"M\",\n{\n            'v': 79.2,\n            'f': \"79.2\",\n        },\n{\n            'v': 13.45,\n            'f': \"13.45\",\n        },\n\"1.97\"],\n [{\n            'v': 151,\n            'f': \"151\",\n        },\n\"2021-11-14\",\n\"2015\",\n\"REGIONE LOMBARDIA\",\n\"M\",\n{\n            'v': 80.6,\n            'f': \"80.6\",\n        },\n{\n            'v': 10.34,\n            'f': \"10.34\",\n        },\n\"2.33\"],\n [{\n            'v': 152,\n            'f': \"152\",\n        },\n\"2021-11-14\",\n\"2015\",\n\"SONDRIO\",\n\"M\",\n{\n            'v': 79.4,\n            'f': \"79.4\",\n        },\n{\n            'v': 10.51,\n            'f': \"10.51\",\n        },\n\"2.76\"],\n [{\n            'v': 153,\n            'f': \"153\",\n        },\n\"2021-11-14\",\n\"2015\",\n\"VARESE\",\n\"M\",\n{\n            'v': 80.8,\n            'f': \"80.8\",\n        },\n{\n            'v': 10.65,\n            'f': \"10.65\",\n        },\n\"1.4\"],\n [{\n            'v': 154,\n            'f': \"154\",\n        },\n\"2021-11-14\",\n\"2015\",\n\"BERGAMO\",\n\"ALL\",\n{\n            'v': 82.4,\n            'f': \"82.4\",\n        },\n{\n            'v': 9.22,\n            'f': \"9.22\",\n        },\n\"3.05\"],\n [{\n            'v': 155,\n            'f': \"155\",\n        },\n\"2021-11-14\",\n\"2015\",\n\"BRESCIA\",\n\"ALL\",\n{\n            'v': 82.8,\n            'f': \"82.8\",\n        },\n{\n            'v': 9.26,\n            'f': \"9.26\",\n        },\n\"2.27\"],\n [{\n            'v': 156,\n            'f': \"156\",\n        },\n\"2021-11-14\",\n\"2015\",\n\"COMO\",\n\"ALL\",\n{\n            'v': 83.0,\n            'f': \"83.0\",\n        },\n{\n            'v': 9.92,\n            'f': \"9.92\",\n        },\n\"2.18\"],\n [{\n            'v': 157,\n            'f': \"157\",\n        },\n\"2021-11-14\",\n\"2015\",\n\"CREMONA\",\n\"ALL\",\n{\n            'v': 82.0,\n            'f': \"82.0\",\n        },\n{\n            'v': 11.59,\n            'f': \"11.59\",\n        },\n\"4.73\"],\n [{\n            'v': 158,\n            'f': \"158\",\n        },\n\"2021-11-14\",\n\"2015\",\n\"ITALIA\",\n\"ALL\",\n{\n            'v': 82.3,\n            'f': \"82.3\",\n        },\n{\n            'v': 10.66,\n            'f': \"10.66\",\n        },\n\"2.9\"],\n [{\n            'v': 159,\n            'f': \"159\",\n        },\n\"2021-11-14\",\n\"2015\",\n\"LECCO\",\n\"ALL\",\n{\n            'v': 82.9,\n            'f': \"82.9\",\n        },\n{\n            'v': 10.06,\n            'f': \"10.06\",\n        },\n\"3.18\"],\n [{\n            'v': 160,\n            'f': \"160\",\n        },\n\"2021-11-14\",\n\"2015\",\n\"LODI\",\n\"ALL\",\n{\n            'v': 81.9,\n            'f': \"81.9\",\n        },\n{\n            'v': 10.26,\n            'f': \"10.26\",\n        },\n\"2.02\"],\n [{\n            'v': 161,\n            'f': \"161\",\n        },\n\"2021-11-14\",\n\"2015\",\n\"MANTOVA\",\n\"ALL\",\n{\n            'v': 82.6,\n            'f': \"82.6\",\n        },\n{\n            'v': 11.27,\n            'f': \"11.27\",\n        },\n\"3.68\"],\n [{\n            'v': 162,\n            'f': \"162\",\n        },\n\"2021-11-14\",\n\"2015\",\n\"MILANO\",\n\"ALL\",\n{\n            'v': 83.2,\n            'f': \"83.2\",\n        },\n{\n            'v': 9.69,\n            'f': \"9.69\",\n        },\n\"2.61\"],\n [{\n            'v': 163,\n            'f': \"163\",\n        },\n\"2021-11-14\",\n\"2015\",\n\"MONZA E DELLA BRIANZA\",\n\"ALL\",\n{\n            'v': 83.3,\n            'f': \"83.3\",\n        },\n{\n            'v': 9.04,\n            'f': \"9.04\",\n        },\n\"2.16\"],\n [{\n            'v': 164,\n            'f': \"164\",\n        },\n\"2021-11-14\",\n\"2015\",\n\"PAVIA\",\n\"ALL\",\n{\n            'v': 81.7,\n            'f': \"81.7\",\n        },\n{\n            'v': 12.91,\n            'f': \"12.91\",\n        },\n\"2.13\"],\n [{\n            'v': 165,\n            'f': \"165\",\n        },\n\"2021-11-14\",\n\"2015\",\n\"REGIONE LOMBARDIA\",\n\"ALL\",\n{\n            'v': 82.8,\n            'f': \"82.8\",\n        },\n{\n            'v': 9.94,\n            'f': \"9.94\",\n        },\n\"2.54\"],\n [{\n            'v': 166,\n            'f': \"166\",\n        },\n\"2021-11-14\",\n\"2015\",\n\"SONDRIO\",\n\"ALL\",\n{\n            'v': 82.3,\n            'f': \"82.3\",\n        },\n{\n            'v': 10.38,\n            'f': \"10.38\",\n        },\n\"3.46\"],\n [{\n            'v': 167,\n            'f': \"167\",\n        },\n\"2021-11-14\",\n\"2015\",\n\"VARESE\",\n\"ALL\",\n{\n            'v': 82.9,\n            'f': \"82.9\",\n        },\n{\n            'v': 10.28,\n            'f': \"10.28\",\n        },\n\"1.35\"],\n [{\n            'v': 168,\n            'f': \"168\",\n        },\n\"2021-11-14\",\n\"2016\",\n\"BERGAMO\",\n\"F\",\n{\n            'v': 85.3,\n            'f': \"85.3\",\n        },\n{\n            'v': 8.5,\n            'f': \"8.5\",\n        },\n\"\"],\n [{\n            'v': 169,\n            'f': \"169\",\n        },\n\"2021-11-14\",\n\"2016\",\n\"BRESCIA\",\n\"F\",\n{\n            'v': 86.0,\n            'f': \"86.0\",\n        },\n{\n            'v': 8.58,\n            'f': \"8.58\",\n        },\n\"\"],\n [{\n            'v': 170,\n            'f': \"170\",\n        },\n\"2021-11-14\",\n\"2016\",\n\"COMO\",\n\"F\",\n{\n            'v': 85.6,\n            'f': \"85.6\",\n        },\n{\n            'v': 9.35,\n            'f': \"9.35\",\n        },\n\"\"],\n [{\n            'v': 171,\n            'f': \"171\",\n        },\n\"2021-11-14\",\n\"2016\",\n\"CREMONA\",\n\"F\",\n{\n            'v': 84.7,\n            'f': \"84.7\",\n        },\n{\n            'v': 11.1,\n            'f': \"11.1\",\n        },\n\"\"],\n [{\n            'v': 172,\n            'f': \"172\",\n        },\n\"2021-11-14\",\n\"2016\",\n\"ITALIA\",\n\"F\",\n{\n            'v': 85.0,\n            'f': \"85.0\",\n        },\n{\n            'v': 10.04,\n            'f': \"10.04\",\n        },\n\"\"],\n [{\n            'v': 173,\n            'f': \"173\",\n        },\n\"2021-11-14\",\n\"2016\",\n\"LECCO\",\n\"F\",\n{\n            'v': 85.7,\n            'f': \"85.7\",\n        },\n{\n            'v': 9.18,\n            'f': \"9.18\",\n        },\n\"\"],\n [{\n            'v': 174,\n            'f': \"174\",\n        },\n\"2021-11-14\",\n\"2016\",\n\"LODI\",\n\"F\",\n{\n            'v': 84.8,\n            'f': \"84.8\",\n        },\n{\n            'v': 9.06,\n            'f': \"9.06\",\n        },\n\"\"],\n [{\n            'v': 175,\n            'f': \"175\",\n        },\n\"2021-11-14\",\n\"2016\",\n\"MANTOVA\",\n\"F\",\n{\n            'v': 85.4,\n            'f': \"85.4\",\n        },\n{\n            'v': 10.08,\n            'f': \"10.08\",\n        },\n\"\"],\n [{\n            'v': 176,\n            'f': \"176\",\n        },\n\"2021-11-14\",\n\"2016\",\n\"MILANO\",\n\"F\",\n{\n            'v': 85.8,\n            'f': \"85.8\",\n        },\n{\n            'v': 9.07,\n            'f': \"9.07\",\n        },\n\"\"],\n [{\n            'v': 177,\n            'f': \"177\",\n        },\n\"2021-11-14\",\n\"2016\",\n\"MONZA E DELLA BRIANZA\",\n\"F\",\n{\n            'v': 85.9,\n            'f': \"85.9\",\n        },\n{\n            'v': 8.28,\n            'f': \"8.28\",\n        },\n\"\"],\n [{\n            'v': 178,\n            'f': \"178\",\n        },\n\"2021-11-14\",\n\"2016\",\n\"PAVIA\",\n\"F\",\n{\n            'v': 84.4,\n            'f': \"84.4\",\n        },\n{\n            'v': 11.51,\n            'f': \"11.51\",\n        },\n\"\"],\n [{\n            'v': 179,\n            'f': \"179\",\n        },\n\"2021-11-14\",\n\"2016\",\n\"REGIONE LOMBARDIA\",\n\"F\",\n{\n            'v': 85.5,\n            'f': \"85.5\",\n        },\n{\n            'v': 9.2,\n            'f': \"9.2\",\n        },\n\"\"],\n [{\n            'v': 180,\n            'f': \"180\",\n        },\n\"2021-11-14\",\n\"2016\",\n\"SONDRIO\",\n\"F\",\n{\n            'v': 85.1,\n            'f': \"85.1\",\n        },\n{\n            'v': 10.18,\n            'f': \"10.18\",\n        },\n\"\"],\n [{\n            'v': 181,\n            'f': \"181\",\n        },\n\"2021-11-14\",\n\"2016\",\n\"VARESE\",\n\"F\",\n{\n            'v': 85.6,\n            'f': \"85.6\",\n        },\n{\n            'v': 9.51,\n            'f': \"9.51\",\n        },\n\"\"],\n [{\n            'v': 182,\n            'f': \"182\",\n        },\n\"2021-11-14\",\n\"2016\",\n\"BERGAMO\",\n\"M\",\n{\n            'v': 80.8,\n            'f': \"80.8\",\n        },\n{\n            'v': 8.85,\n            'f': \"8.85\",\n        },\n\"\"],\n [{\n            'v': 183,\n            'f': \"183\",\n        },\n\"2021-11-14\",\n\"2016\",\n\"BRESCIA\",\n\"M\",\n{\n            'v': 80.8,\n            'f': \"80.8\",\n        },\n{\n            'v': 8.91,\n            'f': \"8.91\",\n        },\n\"\"],\n [{\n            'v': 184,\n            'f': \"184\",\n        },\n\"2021-11-14\",\n\"2016\",\n\"COMO\",\n\"M\",\n{\n            'v': 81.1,\n            'f': \"81.1\",\n        },\n{\n            'v': 9.66,\n            'f': \"9.66\",\n        },\n\"\"],\n [{\n            'v': 185,\n            'f': \"185\",\n        },\n\"2021-11-14\",\n\"2016\",\n\"CREMONA\",\n\"M\",\n{\n            'v': 79.7,\n            'f': \"79.7\",\n        },\n{\n            'v': 11.92,\n            'f': \"11.92\",\n        },\n\"\"],\n [{\n            'v': 186,\n            'f': \"186\",\n        },\n\"2021-11-14\",\n\"2016\",\n\"ITALIA\",\n\"M\",\n{\n            'v': 80.6,\n            'f': \"80.6\",\n        },\n{\n            'v': 10.25,\n            'f': \"10.25\",\n        },\n\"\"],\n [{\n            'v': 187,\n            'f': \"187\",\n        },\n\"2021-11-14\",\n\"2016\",\n\"LECCO\",\n\"M\",\n{\n            'v': 81.3,\n            'f': \"81.3\",\n        },\n{\n            'v': 9.56,\n            'f': \"9.56\",\n        },\n\"\"],\n [{\n            'v': 188,\n            'f': \"188\",\n        },\n\"2021-11-14\",\n\"2016\",\n\"LODI\",\n\"M\",\n{\n            'v': 80.6,\n            'f': \"80.6\",\n        },\n{\n            'v': 9.74,\n            'f': \"9.74\",\n        },\n\"\"],\n [{\n            'v': 189,\n            'f': \"189\",\n        },\n\"2021-11-14\",\n\"2016\",\n\"MANTOVA\",\n\"M\",\n{\n            'v': 80.9,\n            'f': \"80.9\",\n        },\n{\n            'v': 11.07,\n            'f': \"11.07\",\n        },\n\"\"],\n [{\n            'v': 190,\n            'f': \"190\",\n        },\n\"2021-11-14\",\n\"2016\",\n\"MILANO\",\n\"M\",\n{\n            'v': 81.5,\n            'f': \"81.5\",\n        },\n{\n            'v': 9.33,\n            'f': \"9.33\",\n        },\n\"\"],\n [{\n            'v': 191,\n            'f': \"191\",\n        },\n\"2021-11-14\",\n\"2016\",\n\"MONZA E DELLA BRIANZA\",\n\"M\",\n{\n            'v': 82.0,\n            'f': \"82.0\",\n        },\n{\n            'v': 8.6,\n            'f': \"8.6\",\n        },\n\"\"],\n [{\n            'v': 192,\n            'f': \"192\",\n        },\n\"2021-11-14\",\n\"2016\",\n\"PAVIA\",\n\"M\",\n{\n            'v': 79.7,\n            'f': \"79.7\",\n        },\n{\n            'v': 12.82,\n            'f': \"12.82\",\n        },\n\"\"],\n [{\n            'v': 193,\n            'f': \"193\",\n        },\n\"2021-11-14\",\n\"2016\",\n\"REGIONE LOMBARDIA\",\n\"M\",\n{\n            'v': 81.0,\n            'f': \"81.0\",\n        },\n{\n            'v': 9.62,\n            'f': \"9.62\",\n        },\n\"\"],\n [{\n            'v': 194,\n            'f': \"194\",\n        },\n\"2021-11-14\",\n\"2016\",\n\"SONDRIO\",\n\"M\",\n{\n            'v': 79.5,\n            'f': \"79.5\",\n        },\n{\n            'v': 10.63,\n            'f': \"10.63\",\n        },\n\"\"],\n [{\n            'v': 195,\n            'f': \"195\",\n        },\n\"2021-11-14\",\n\"2016\",\n\"VARESE\",\n\"M\",\n{\n            'v': 81.2,\n            'f': \"81.2\",\n        },\n{\n            'v': 9.81,\n            'f': \"9.81\",\n        },\n\"\"],\n [{\n            'v': 196,\n            'f': \"196\",\n        },\n\"2021-11-14\",\n\"2016\",\n\"BERGAMO\",\n\"ALL\",\n{\n            'v': 83.0,\n            'f': \"83.0\",\n        },\n{\n            'v': 8.68,\n            'f': \"8.68\",\n        },\n\"\"],\n [{\n            'v': 197,\n            'f': \"197\",\n        },\n\"2021-11-14\",\n\"2016\",\n\"BRESCIA\",\n\"ALL\",\n{\n            'v': 83.4,\n            'f': \"83.4\",\n        },\n{\n            'v': 8.75,\n            'f': \"8.75\",\n        },\n\"\"],\n [{\n            'v': 198,\n            'f': \"198\",\n        },\n\"2021-11-14\",\n\"2016\",\n\"COMO\",\n\"ALL\",\n{\n            'v': 83.3,\n            'f': \"83.3\",\n        },\n{\n            'v': 9.51,\n            'f': \"9.51\",\n        },\n\"\"],\n [{\n            'v': 199,\n            'f': \"199\",\n        },\n\"2021-11-14\",\n\"2016\",\n\"CREMONA\",\n\"ALL\",\n{\n            'v': 82.1,\n            'f': \"82.1\",\n        },\n{\n            'v': 11.52,\n            'f': \"11.52\",\n        },\n\"\"],\n [{\n            'v': 200,\n            'f': \"200\",\n        },\n\"2021-11-14\",\n\"2016\",\n\"ITALIA\",\n\"ALL\",\n{\n            'v': 82.8,\n            'f': \"82.8\",\n        },\n{\n            'v': 10.15,\n            'f': \"10.15\",\n        },\n\"\"],\n [{\n            'v': 201,\n            'f': \"201\",\n        },\n\"2021-11-14\",\n\"2016\",\n\"LECCO\",\n\"ALL\",\n{\n            'v': 83.5,\n            'f': \"83.5\",\n        },\n{\n            'v': 9.37,\n            'f': \"9.37\",\n        },\n\"\"],\n [{\n            'v': 202,\n            'f': \"202\",\n        },\n\"2021-11-14\",\n\"2016\",\n\"LODI\",\n\"ALL\",\n{\n            'v': 82.6,\n            'f': \"82.6\",\n        },\n{\n            'v': 9.4,\n            'f': \"9.4\",\n        },\n\"\"],\n [{\n            'v': 203,\n            'f': \"203\",\n        },\n\"2021-11-14\",\n\"2016\",\n\"MANTOVA\",\n\"ALL\",\n{\n            'v': 83.1,\n            'f': \"83.1\",\n        },\n{\n            'v': 10.59,\n            'f': \"10.59\",\n        },\n\"\"],\n [{\n            'v': 204,\n            'f': \"204\",\n        },\n\"2021-11-14\",\n\"2016\",\n\"MILANO\",\n\"ALL\",\n{\n            'v': 83.6,\n            'f': \"83.6\",\n        },\n{\n            'v': 9.21,\n            'f': \"9.21\",\n        },\n\"\"],\n [{\n            'v': 205,\n            'f': \"205\",\n        },\n\"2021-11-14\",\n\"2016\",\n\"MONZA E DELLA BRIANZA\",\n\"ALL\",\n{\n            'v': 83.9,\n            'f': \"83.9\",\n        },\n{\n            'v': 8.44,\n            'f': \"8.44\",\n        },\n\"\"],\n [{\n            'v': 206,\n            'f': \"206\",\n        },\n\"2021-11-14\",\n\"2016\",\n\"PAVIA\",\n\"ALL\",\n{\n            'v': 82.0,\n            'f': \"82.0\",\n        },\n{\n            'v': 12.18,\n            'f': \"12.18\",\n        },\n\"\"],\n [{\n            'v': 207,\n            'f': \"207\",\n        },\n\"2021-11-14\",\n\"2016\",\n\"REGIONE LOMBARDIA\",\n\"ALL\",\n{\n            'v': 83.2,\n            'f': \"83.2\",\n        },\n{\n            'v': 9.42,\n            'f': \"9.42\",\n        },\n\"\"],\n [{\n            'v': 208,\n            'f': \"208\",\n        },\n\"2021-11-14\",\n\"2016\",\n\"SONDRIO\",\n\"ALL\",\n{\n            'v': 82.2,\n            'f': \"82.2\",\n        },\n{\n            'v': 10.41,\n            'f': \"10.41\",\n        },\n\"\"],\n [{\n            'v': 209,\n            'f': \"209\",\n        },\n\"2021-11-14\",\n\"2016\",\n\"VARESE\",\n\"ALL\",\n{\n            'v': 83.4,\n            'f': \"83.4\",\n        },\n{\n            'v': 9.67,\n            'f': \"9.67\",\n        },\n\"\"]],\n        columns: [[\"number\", \"index\"], [\"string\", \"DATE_LOADING\"], [\"string\", \"ANNO\"], [\"string\", \"PROVINCIA\"], [\"string\", \"GENERE\"], [\"number\", \"SPERANZA_VITA_NASCITA\"], [\"number\", \"TASSO_MORTALITA\"], [\"string\", \"TASSO_MORTALITA_INFANTILE\"]],\n        columnOptions: [{\"width\": \"1px\", \"className\": \"index_column\"}],\n        rowsPerPage: 25,\n        helpUrl: \"https://colab.research.google.com/notebooks/data_table.ipynb\",\n        suppressOutputScrolling: true,\n        minimumWidth: undefined,\n      });\n    ",
            "text/html": [
              "<div>\n",
              "<style scoped>\n",
              "    .dataframe tbody tr th:only-of-type {\n",
              "        vertical-align: middle;\n",
              "    }\n",
              "\n",
              "    .dataframe tbody tr th {\n",
              "        vertical-align: top;\n",
              "    }\n",
              "\n",
              "    .dataframe thead th {\n",
              "        text-align: right;\n",
              "    }\n",
              "</style>\n",
              "<table border=\"1\" class=\"dataframe\">\n",
              "  <thead>\n",
              "    <tr style=\"text-align: right;\">\n",
              "      <th></th>\n",
              "      <th>DATE_LOADING</th>\n",
              "      <th>ANNO</th>\n",
              "      <th>PROVINCIA</th>\n",
              "      <th>GENERE</th>\n",
              "      <th>SPERANZA_VITA_NASCITA</th>\n",
              "      <th>TASSO_MORTALITA</th>\n",
              "      <th>TASSO_MORTALITA_INFANTILE</th>\n",
              "    </tr>\n",
              "  </thead>\n",
              "  <tbody>\n",
              "    <tr>\n",
              "      <th>0</th>\n",
              "      <td>2021-11-14</td>\n",
              "      <td>2012</td>\n",
              "      <td>BERGAMO</td>\n",
              "      <td>F</td>\n",
              "      <td>84.5</td>\n",
              "      <td>8.38</td>\n",
              "      <td>3.73</td>\n",
              "    </tr>\n",
              "    <tr>\n",
              "      <th>1</th>\n",
              "      <td>2021-11-14</td>\n",
              "      <td>2012</td>\n",
              "      <td>BRESCIA</td>\n",
              "      <td>F</td>\n",
              "      <td>85.0</td>\n",
              "      <td>8.65</td>\n",
              "      <td>4.1</td>\n",
              "    </tr>\n",
              "    <tr>\n",
              "      <th>2</th>\n",
              "      <td>2021-11-14</td>\n",
              "      <td>2012</td>\n",
              "      <td>COMO</td>\n",
              "      <td>F</td>\n",
              "      <td>85.7</td>\n",
              "      <td>9.29</td>\n",
              "      <td>3.85</td>\n",
              "    </tr>\n",
              "    <tr>\n",
              "      <th>3</th>\n",
              "      <td>2021-11-14</td>\n",
              "      <td>2012</td>\n",
              "      <td>CREMONA</td>\n",
              "      <td>F</td>\n",
              "      <td>84.0</td>\n",
              "      <td>10.69</td>\n",
              "      <td>1.84</td>\n",
              "    </tr>\n",
              "    <tr>\n",
              "      <th>4</th>\n",
              "      <td>2021-11-14</td>\n",
              "      <td>2012</td>\n",
              "      <td>ITALIA</td>\n",
              "      <td>F</td>\n",
              "      <td>84.4</td>\n",
              "      <td>10.25</td>\n",
              "      <td>3.15</td>\n",
              "    </tr>\n",
              "    <tr>\n",
              "      <th>...</th>\n",
              "      <td>...</td>\n",
              "      <td>...</td>\n",
              "      <td>...</td>\n",
              "      <td>...</td>\n",
              "      <td>...</td>\n",
              "      <td>...</td>\n",
              "      <td>...</td>\n",
              "    </tr>\n",
              "    <tr>\n",
              "      <th>205</th>\n",
              "      <td>2021-11-14</td>\n",
              "      <td>2016</td>\n",
              "      <td>MONZA E DELLA BRIANZA</td>\n",
              "      <td>ALL</td>\n",
              "      <td>83.9</td>\n",
              "      <td>8.44</td>\n",
              "      <td></td>\n",
              "    </tr>\n",
              "    <tr>\n",
              "      <th>206</th>\n",
              "      <td>2021-11-14</td>\n",
              "      <td>2016</td>\n",
              "      <td>PAVIA</td>\n",
              "      <td>ALL</td>\n",
              "      <td>82.0</td>\n",
              "      <td>12.18</td>\n",
              "      <td></td>\n",
              "    </tr>\n",
              "    <tr>\n",
              "      <th>207</th>\n",
              "      <td>2021-11-14</td>\n",
              "      <td>2016</td>\n",
              "      <td>REGIONE LOMBARDIA</td>\n",
              "      <td>ALL</td>\n",
              "      <td>83.2</td>\n",
              "      <td>9.42</td>\n",
              "      <td></td>\n",
              "    </tr>\n",
              "    <tr>\n",
              "      <th>208</th>\n",
              "      <td>2021-11-14</td>\n",
              "      <td>2016</td>\n",
              "      <td>SONDRIO</td>\n",
              "      <td>ALL</td>\n",
              "      <td>82.2</td>\n",
              "      <td>10.41</td>\n",
              "      <td></td>\n",
              "    </tr>\n",
              "    <tr>\n",
              "      <th>209</th>\n",
              "      <td>2021-11-14</td>\n",
              "      <td>2016</td>\n",
              "      <td>VARESE</td>\n",
              "      <td>ALL</td>\n",
              "      <td>83.4</td>\n",
              "      <td>9.67</td>\n",
              "      <td></td>\n",
              "    </tr>\n",
              "  </tbody>\n",
              "</table>\n",
              "<p>210 rows × 7 columns</p>\n",
              "</div>"
            ],
            "text/plain": [
              "    DATE_LOADING  ANNO  ... TASSO_MORTALITA TASSO_MORTALITA_INFANTILE\n",
              "0     2021-11-14  2012  ...            8.38                      3.73\n",
              "1     2021-11-14  2012  ...            8.65                       4.1\n",
              "2     2021-11-14  2012  ...            9.29                      3.85\n",
              "3     2021-11-14  2012  ...           10.69                      1.84\n",
              "4     2021-11-14  2012  ...           10.25                      3.15\n",
              "..           ...   ...  ...             ...                       ...\n",
              "205   2021-11-14  2016  ...            8.44                          \n",
              "206   2021-11-14  2016  ...           12.18                          \n",
              "207   2021-11-14  2016  ...            9.42                          \n",
              "208   2021-11-14  2016  ...           10.41                          \n",
              "209   2021-11-14  2016  ...            9.67                          \n",
              "\n",
              "[210 rows x 7 columns]"
            ]
          },
          "metadata": {},
          "execution_count": 445
        }
      ]
    },
    {
      "cell_type": "markdown",
      "metadata": {
        "id": "dT2RXYGiDynp"
      },
      "source": [
        "### Loading"
      ]
    },
    {
      "cell_type": "code",
      "metadata": {
        "colab": {
          "base_uri": "https://localhost:8080/"
        },
        "id": "_pUCa0OjDyGh",
        "outputId": "29d63c9e-6955-4158-8eb0-775c113f82d2"
      },
      "source": [
        "#Write data into the table in AZURE SQL Server database\n",
        "%time\n",
        "cxn= establish_db_connection()\n",
        "df_condizioni_salute_prov.to_sql('WRH_PROVINCE_HEALTH',con=cxn,if_exists = 'append',index=False)\n",
        "cxn.dispose()"
      ],
      "execution_count": 447,
      "outputs": [
        {
          "output_type": "stream",
          "name": "stdout",
          "text": [
            "CPU times: user 2 µs, sys: 1 µs, total: 3 µs\n",
            "Wall time: 6.91 µs\n",
            "2021-11-14 22:13:21,415 INFO sqlalchemy.engine.Engine SELECT CAST(SERVERPROPERTY('ProductVersion') AS VARCHAR)\n"
          ]
        },
        {
          "output_type": "stream",
          "name": "stderr",
          "text": [
            "INFO:sqlalchemy.engine.Engine:SELECT CAST(SERVERPROPERTY('ProductVersion') AS VARCHAR)\n"
          ]
        },
        {
          "output_type": "stream",
          "name": "stdout",
          "text": [
            "2021-11-14 22:13:21,423 INFO sqlalchemy.engine.Engine [raw sql] ()\n"
          ]
        },
        {
          "output_type": "stream",
          "name": "stderr",
          "text": [
            "INFO:sqlalchemy.engine.Engine:[raw sql] ()\n"
          ]
        },
        {
          "output_type": "stream",
          "name": "stdout",
          "text": [
            "2021-11-14 22:13:21,603 INFO sqlalchemy.engine.Engine SELECT schema_name()\n"
          ]
        },
        {
          "output_type": "stream",
          "name": "stderr",
          "text": [
            "INFO:sqlalchemy.engine.Engine:SELECT schema_name()\n"
          ]
        },
        {
          "output_type": "stream",
          "name": "stdout",
          "text": [
            "2021-11-14 22:13:21,607 INFO sqlalchemy.engine.Engine [generated in 0.00452s] ()\n"
          ]
        },
        {
          "output_type": "stream",
          "name": "stderr",
          "text": [
            "INFO:sqlalchemy.engine.Engine:[generated in 0.00452s] ()\n"
          ]
        },
        {
          "output_type": "stream",
          "name": "stdout",
          "text": [
            "2021-11-14 22:13:21,958 INFO sqlalchemy.engine.Engine SELECT CAST('test max support' AS NVARCHAR(max))\n"
          ]
        },
        {
          "output_type": "stream",
          "name": "stderr",
          "text": [
            "INFO:sqlalchemy.engine.Engine:SELECT CAST('test max support' AS NVARCHAR(max))\n"
          ]
        },
        {
          "output_type": "stream",
          "name": "stdout",
          "text": [
            "2021-11-14 22:13:21,961 INFO sqlalchemy.engine.Engine [generated in 0.00339s] ()\n"
          ]
        },
        {
          "output_type": "stream",
          "name": "stderr",
          "text": [
            "INFO:sqlalchemy.engine.Engine:[generated in 0.00339s] ()\n"
          ]
        },
        {
          "output_type": "stream",
          "name": "stdout",
          "text": [
            "2021-11-14 22:13:22,315 INFO sqlalchemy.engine.Engine SELECT [INFORMATION_SCHEMA].[TABLES].[TABLE_NAME] \n",
            "FROM [INFORMATION_SCHEMA].[TABLES] \n",
            "WHERE [INFORMATION_SCHEMA].[TABLES].[TABLE_TYPE] = CAST(? AS NVARCHAR(max)) AND [INFORMATION_SCHEMA].[TABLES].[TABLE_NAME] = CAST(? AS NVARCHAR(max)) AND [INFORMATION_SCHEMA].[TABLES].[TABLE_SCHEMA] = CAST(? AS NVARCHAR(max))\n"
          ]
        },
        {
          "output_type": "stream",
          "name": "stderr",
          "text": [
            "INFO:sqlalchemy.engine.Engine:SELECT [INFORMATION_SCHEMA].[TABLES].[TABLE_NAME] \n",
            "FROM [INFORMATION_SCHEMA].[TABLES] \n",
            "WHERE [INFORMATION_SCHEMA].[TABLES].[TABLE_TYPE] = CAST(? AS NVARCHAR(max)) AND [INFORMATION_SCHEMA].[TABLES].[TABLE_NAME] = CAST(? AS NVARCHAR(max)) AND [INFORMATION_SCHEMA].[TABLES].[TABLE_SCHEMA] = CAST(? AS NVARCHAR(max))\n"
          ]
        },
        {
          "output_type": "stream",
          "name": "stdout",
          "text": [
            "2021-11-14 22:13:22,322 INFO sqlalchemy.engine.Engine [generated in 0.00711s] ('BASE TABLE', 'WRH_PROVINCE_HEALTH', 'dbo')\n"
          ]
        },
        {
          "output_type": "stream",
          "name": "stderr",
          "text": [
            "INFO:sqlalchemy.engine.Engine:[generated in 0.00711s] ('BASE TABLE', 'WRH_PROVINCE_HEALTH', 'dbo')\n"
          ]
        },
        {
          "output_type": "stream",
          "name": "stdout",
          "text": [
            "2021-11-14 22:13:22,846 INFO sqlalchemy.engine.Engine BEGIN (implicit)\n"
          ]
        },
        {
          "output_type": "stream",
          "name": "stderr",
          "text": [
            "INFO:sqlalchemy.engine.Engine:BEGIN (implicit)\n"
          ]
        },
        {
          "output_type": "stream",
          "name": "stdout",
          "text": [
            "2021-11-14 22:13:22,857 INFO sqlalchemy.engine.Engine INSERT INTO [WRH_PROVINCE_HEALTH] ([DATE_LOADING], [ANNO], [PROVINCIA], [GENERE], [SPERANZA_VITA_NASCITA], [TASSO_MORTALITA], [TASSO_MORTALITA_INFANTILE]) VALUES (?, ?, ?, ?, ?, ?, ?)\n"
          ]
        },
        {
          "output_type": "stream",
          "name": "stderr",
          "text": [
            "INFO:sqlalchemy.engine.Engine:INSERT INTO [WRH_PROVINCE_HEALTH] ([DATE_LOADING], [ANNO], [PROVINCIA], [GENERE], [SPERANZA_VITA_NASCITA], [TASSO_MORTALITA], [TASSO_MORTALITA_INFANTILE]) VALUES (?, ?, ?, ?, ?, ?, ?)\n"
          ]
        },
        {
          "output_type": "stream",
          "name": "stdout",
          "text": [
            "2021-11-14 22:13:22,860 INFO sqlalchemy.engine.Engine [generated in 0.00595s] ((datetime.datetime(2021, 11, 14, 0, 0), '2012', 'BERGAMO', 'F', 84.5, 8.38, '3.73'), (datetime.datetime(2021, 11, 14, 0, 0), '2012', 'BRESCIA', 'F', 85.0, 8.65, '4.1'), (datetime.datetime(2021, 11, 14, 0, 0), '2012', 'COMO', 'F', 85.7, 9.29, '3.85'), (datetime.datetime(2021, 11, 14, 0, 0), '2012', 'CREMONA', 'F', 84.0, 10.69, '1.84'), (datetime.datetime(2021, 11, 14, 0, 0), '2012', 'ITALIA', 'F', 84.4, 10.25, '3.15'), (datetime.datetime(2021, 11, 14, 0, 0), '2012', 'LECCO', 'F', 85.5, 8.77, '1.27'), (datetime.datetime(2021, 11, 14, 0, 0), '2012', 'LODI', 'F', 83.7, 9.64, '0.9'), (datetime.datetime(2021, 11, 14, 0, 0), '2012', 'MANTOVA', 'F', 84.6, 10.54, '2.07')  ... displaying 10 of 210 total bound parameter sets ...  (datetime.datetime(2021, 11, 14, 0, 0), '2016', 'SONDRIO', 'ALL', 82.2, 10.41, ''), (datetime.datetime(2021, 11, 14, 0, 0), '2016', 'VARESE', 'ALL', 83.4, 9.67, ''))\n"
          ]
        },
        {
          "output_type": "stream",
          "name": "stderr",
          "text": [
            "INFO:sqlalchemy.engine.Engine:[generated in 0.00595s] ((datetime.datetime(2021, 11, 14, 0, 0), '2012', 'BERGAMO', 'F', 84.5, 8.38, '3.73'), (datetime.datetime(2021, 11, 14, 0, 0), '2012', 'BRESCIA', 'F', 85.0, 8.65, '4.1'), (datetime.datetime(2021, 11, 14, 0, 0), '2012', 'COMO', 'F', 85.7, 9.29, '3.85'), (datetime.datetime(2021, 11, 14, 0, 0), '2012', 'CREMONA', 'F', 84.0, 10.69, '1.84'), (datetime.datetime(2021, 11, 14, 0, 0), '2012', 'ITALIA', 'F', 84.4, 10.25, '3.15'), (datetime.datetime(2021, 11, 14, 0, 0), '2012', 'LECCO', 'F', 85.5, 8.77, '1.27'), (datetime.datetime(2021, 11, 14, 0, 0), '2012', 'LODI', 'F', 83.7, 9.64, '0.9'), (datetime.datetime(2021, 11, 14, 0, 0), '2012', 'MANTOVA', 'F', 84.6, 10.54, '2.07')  ... displaying 10 of 210 total bound parameter sets ...  (datetime.datetime(2021, 11, 14, 0, 0), '2016', 'SONDRIO', 'ALL', 82.2, 10.41, ''), (datetime.datetime(2021, 11, 14, 0, 0), '2016', 'VARESE', 'ALL', 83.4, 9.67, ''))\n"
          ]
        },
        {
          "output_type": "stream",
          "name": "stdout",
          "text": [
            "2021-11-14 22:13:59,507 INFO sqlalchemy.engine.Engine COMMIT\n"
          ]
        },
        {
          "output_type": "stream",
          "name": "stderr",
          "text": [
            "INFO:sqlalchemy.engine.Engine:COMMIT\n"
          ]
        },
        {
          "output_type": "stream",
          "name": "stdout",
          "text": [
            "2021-11-14 22:13:59,693 INFO sqlalchemy.engine.Engine SELECT [INFORMATION_SCHEMA].[TABLES].[TABLE_NAME] \n",
            "FROM [INFORMATION_SCHEMA].[TABLES] \n",
            "WHERE [INFORMATION_SCHEMA].[TABLES].[TABLE_SCHEMA] = CAST(? AS NVARCHAR(max)) AND [INFORMATION_SCHEMA].[TABLES].[TABLE_TYPE] = CAST(? AS NVARCHAR(max)) ORDER BY [INFORMATION_SCHEMA].[TABLES].[TABLE_NAME]\n"
          ]
        },
        {
          "output_type": "stream",
          "name": "stderr",
          "text": [
            "INFO:sqlalchemy.engine.Engine:SELECT [INFORMATION_SCHEMA].[TABLES].[TABLE_NAME] \n",
            "FROM [INFORMATION_SCHEMA].[TABLES] \n",
            "WHERE [INFORMATION_SCHEMA].[TABLES].[TABLE_SCHEMA] = CAST(? AS NVARCHAR(max)) AND [INFORMATION_SCHEMA].[TABLES].[TABLE_TYPE] = CAST(? AS NVARCHAR(max)) ORDER BY [INFORMATION_SCHEMA].[TABLES].[TABLE_NAME]\n"
          ]
        },
        {
          "output_type": "stream",
          "name": "stdout",
          "text": [
            "2021-11-14 22:13:59,696 INFO sqlalchemy.engine.Engine [generated in 0.00327s] ('dbo', 'BASE TABLE')\n"
          ]
        },
        {
          "output_type": "stream",
          "name": "stderr",
          "text": [
            "INFO:sqlalchemy.engine.Engine:[generated in 0.00327s] ('dbo', 'BASE TABLE')\n"
          ]
        }
      ]
    },
    {
      "cell_type": "markdown",
      "metadata": {
        "id": "I24G1yU1-fnd"
      },
      "source": [
        "## Dataset assistenza ospedaliera - Source: API Socrata"
      ]
    },
    {
      "cell_type": "code",
      "metadata": {
        "id": "ruAWrZWb-0cY"
      },
      "source": [
        "data_url = 'dati.lombardia.it'                        # The Host Name for the API endpoint (the https:// part will be added automatically)\n",
        "data_set = '3rtw-8p48'                                # The data set at the API endpoint\n",
        "app_token = os.getenv('qEei2HKE5SldzRBJyNJqp9Wjw')    # The app token\n",
        "limit_rows = 100000"
      ],
      "execution_count": 218,
      "outputs": []
    },
    {
      "cell_type": "code",
      "metadata": {
        "id": "8O5mwftM-jCn",
        "colab": {
          "base_uri": "https://localhost:8080/"
        },
        "outputId": "0f98747e-5324-4dd5-dd0b-15e4a4b97d7b"
      },
      "source": [
        "client = Socrata(data_url,app_token)\n",
        "# Set the timeout to 60 seconds    \n",
        "client.timeout = 60\n",
        "# The SoDaPy library converts this CSV object to a Python list of dictionaries\n",
        "results = client.get(data_set,limit=limit_rows)\n",
        "# Convert the list of dictionaries to a Pandas data frame\n",
        "df_ats_assistance = pd.DataFrame.from_records(results)"
      ],
      "execution_count": 231,
      "outputs": [
        {
          "output_type": "stream",
          "name": "stderr",
          "text": [
            "WARNING:root:Requests made without an app_token will be subject to strict throttling limits.\n"
          ]
        }
      ]
    },
    {
      "cell_type": "code",
      "metadata": {
        "colab": {
          "base_uri": "https://localhost:8080/",
          "height": 452
        },
        "id": "VLO2VnHBSpeZ",
        "outputId": "e2188e21-9f6c-4aa8-f1fc-94f92532e496"
      },
      "source": [
        "df_ats_assistance.head()"
      ],
      "execution_count": 232,
      "outputs": [
        {
          "output_type": "execute_result",
          "data": {
            "application/vnd.google.colaboratory.module+javascript": "\n      import \"https://ssl.gstatic.com/colaboratory/data_table/a6224c040fa35dcf/data_table.js\";\n\n      window.createDataTable({\n        data: [[{\n            'v': 0,\n            'f': \"0\",\n        },\n\"2014\",\n\"324\",\n\"ATS DELLA BRIANZA\",\n\"9.298423314\",\n\"45.69919245\",\n\"{'type': 'Point', 'coordinates': [9.298423314, 45.69919245]}\",\n\"128\",\n\"ASMA\",\n\"0.0\",\n\"0.36892458483520535\",\n\"10\",\n\"10\",\n\"5\"],\n [{\n            'v': 1,\n            'f': \"1\",\n        },\n\"2013\",\n\"323\",\n\"ATS DELLA MONTAGNA\",\n\"10.32968894\",\n\"46.33431031\",\n\"{'type': 'Point', 'coordinates': [10.32968894, 46.33431031]}\",\n\"4\",\n\"MICOSI\",\n\"0.0\",\n\"0.035604716438104166\",\n\"3\",\n\"3\",\n\"7\"],\n [{\n            'v': 2,\n            'f': \"2\",\n        },\n\"2015\",\n\"325\",\n\"ATS DI BERGAMO\",\n\"9.63853045\",\n\"45.68701679\",\n\"{'type': 'Point', 'coordinates': [9.63853045, 45.68701679]}\",\n\"88\",\n\"GLAUCOMA\",\n\"0.0\",\n\"0.11092543375902847\",\n\"5\",\n\"5\",\n\"1\"],\n [{\n            'v': 3,\n            'f': \"3\",\n        },\n\"2015\",\n\"326\",\n\"ATS DI BRESCIA\",\n\"10.25368782\",\n\"45.65171815\",\n\"{'type': 'Point', 'coordinates': [10.25368782, 45.65171815]}\",\n\"39\",\n\"LEUCEMIE\",\n\"0.0\",\n\"0.17010908459834068\",\n\"6\",\n\"6\",\n\"2\"],\n [{\n            'v': 4,\n            'f': \"4\",\n        },\n\"2012\",\n\"325\",\n\"ATS DI BERGAMO\",\n\"9.63853045\",\n\"45.68701679\",\n\"{'type': 'Point', 'coordinates': [9.63853045, 45.68701679]}\",\n\"123\",\n\"INFLUENZA\",\n\"0.0\",\n\"0.0174810698414743\",\n\"5\",\n\"5\",\n\"1\"]],\n        columns: [[\"number\", \"index\"], [\"string\", \"anno\"], [\"string\", \"codice_ats_residenza\"], [\"string\", \"descrizione_ats_residenza\"], [\"string\", \"coordinata_geografica_x\"], [\"string\", \"coordinata_geografica_y\"], [\"string\", \"posizione_ats\"], [\"string\", \"codice_acc_di_diagnosi\"], [\"string\", \"descrizione_acc_di_diagnosi\"], [\"string\", \"tasso_ricoveri_stessa_ats\"], [\"string\", \"tasso_ricoveri_altra_ats\"], [\"string\", \":@computed_region_ttgh_9sm5\"], [\"string\", \":@computed_region_6hky_swhk\"], [\"string\", \":@computed_region_af5v_nc64\"]],\n        columnOptions: [{\"width\": \"1px\", \"className\": \"index_column\"}],\n        rowsPerPage: 25,\n        helpUrl: \"https://colab.research.google.com/notebooks/data_table.ipynb\",\n        suppressOutputScrolling: true,\n        minimumWidth: undefined,\n      });\n    ",
            "text/html": [
              "<div>\n",
              "<style scoped>\n",
              "    .dataframe tbody tr th:only-of-type {\n",
              "        vertical-align: middle;\n",
              "    }\n",
              "\n",
              "    .dataframe tbody tr th {\n",
              "        vertical-align: top;\n",
              "    }\n",
              "\n",
              "    .dataframe thead th {\n",
              "        text-align: right;\n",
              "    }\n",
              "</style>\n",
              "<table border=\"1\" class=\"dataframe\">\n",
              "  <thead>\n",
              "    <tr style=\"text-align: right;\">\n",
              "      <th></th>\n",
              "      <th>anno</th>\n",
              "      <th>codice_ats_residenza</th>\n",
              "      <th>descrizione_ats_residenza</th>\n",
              "      <th>coordinata_geografica_x</th>\n",
              "      <th>coordinata_geografica_y</th>\n",
              "      <th>posizione_ats</th>\n",
              "      <th>codice_acc_di_diagnosi</th>\n",
              "      <th>descrizione_acc_di_diagnosi</th>\n",
              "      <th>tasso_ricoveri_stessa_ats</th>\n",
              "      <th>tasso_ricoveri_altra_ats</th>\n",
              "      <th>:@computed_region_ttgh_9sm5</th>\n",
              "      <th>:@computed_region_6hky_swhk</th>\n",
              "      <th>:@computed_region_af5v_nc64</th>\n",
              "    </tr>\n",
              "  </thead>\n",
              "  <tbody>\n",
              "    <tr>\n",
              "      <th>0</th>\n",
              "      <td>2014</td>\n",
              "      <td>324</td>\n",
              "      <td>ATS DELLA BRIANZA</td>\n",
              "      <td>9.298423314</td>\n",
              "      <td>45.69919245</td>\n",
              "      <td>{'type': 'Point', 'coordinates': [9.298423314, 45.69919245]}</td>\n",
              "      <td>128</td>\n",
              "      <td>ASMA</td>\n",
              "      <td>0.0</td>\n",
              "      <td>0.36892458483520535</td>\n",
              "      <td>10</td>\n",
              "      <td>10</td>\n",
              "      <td>5</td>\n",
              "    </tr>\n",
              "    <tr>\n",
              "      <th>1</th>\n",
              "      <td>2013</td>\n",
              "      <td>323</td>\n",
              "      <td>ATS DELLA MONTAGNA</td>\n",
              "      <td>10.32968894</td>\n",
              "      <td>46.33431031</td>\n",
              "      <td>{'type': 'Point', 'coordinates': [10.32968894, 46.33431031]}</td>\n",
              "      <td>4</td>\n",
              "      <td>MICOSI</td>\n",
              "      <td>0.0</td>\n",
              "      <td>0.035604716438104166</td>\n",
              "      <td>3</td>\n",
              "      <td>3</td>\n",
              "      <td>7</td>\n",
              "    </tr>\n",
              "    <tr>\n",
              "      <th>2</th>\n",
              "      <td>2015</td>\n",
              "      <td>325</td>\n",
              "      <td>ATS DI BERGAMO</td>\n",
              "      <td>9.63853045</td>\n",
              "      <td>45.68701679</td>\n",
              "      <td>{'type': 'Point', 'coordinates': [9.63853045, 45.68701679]}</td>\n",
              "      <td>88</td>\n",
              "      <td>GLAUCOMA</td>\n",
              "      <td>0.0</td>\n",
              "      <td>0.11092543375902847</td>\n",
              "      <td>5</td>\n",
              "      <td>5</td>\n",
              "      <td>1</td>\n",
              "    </tr>\n",
              "    <tr>\n",
              "      <th>3</th>\n",
              "      <td>2015</td>\n",
              "      <td>326</td>\n",
              "      <td>ATS DI BRESCIA</td>\n",
              "      <td>10.25368782</td>\n",
              "      <td>45.65171815</td>\n",
              "      <td>{'type': 'Point', 'coordinates': [10.25368782, 45.65171815]}</td>\n",
              "      <td>39</td>\n",
              "      <td>LEUCEMIE</td>\n",
              "      <td>0.0</td>\n",
              "      <td>0.17010908459834068</td>\n",
              "      <td>6</td>\n",
              "      <td>6</td>\n",
              "      <td>2</td>\n",
              "    </tr>\n",
              "    <tr>\n",
              "      <th>4</th>\n",
              "      <td>2012</td>\n",
              "      <td>325</td>\n",
              "      <td>ATS DI BERGAMO</td>\n",
              "      <td>9.63853045</td>\n",
              "      <td>45.68701679</td>\n",
              "      <td>{'type': 'Point', 'coordinates': [9.63853045, 45.68701679]}</td>\n",
              "      <td>123</td>\n",
              "      <td>INFLUENZA</td>\n",
              "      <td>0.0</td>\n",
              "      <td>0.0174810698414743</td>\n",
              "      <td>5</td>\n",
              "      <td>5</td>\n",
              "      <td>1</td>\n",
              "    </tr>\n",
              "  </tbody>\n",
              "</table>\n",
              "</div>"
            ],
            "text/plain": [
              "   anno  ... :@computed_region_af5v_nc64\n",
              "0  2014  ...                           5\n",
              "1  2013  ...                           7\n",
              "2  2015  ...                           1\n",
              "3  2015  ...                           2\n",
              "4  2012  ...                           1\n",
              "\n",
              "[5 rows x 13 columns]"
            ]
          },
          "metadata": {},
          "execution_count": 232
        }
      ]
    },
    {
      "cell_type": "code",
      "metadata": {
        "colab": {
          "base_uri": "https://localhost:8080/"
        },
        "id": "-GfBXw4FiN1i",
        "outputId": "5596f6f3-4917-4669-91c9-f9cdc22b0af7"
      },
      "source": [
        "df_ats_assistance.info()"
      ],
      "execution_count": 226,
      "outputs": [
        {
          "output_type": "stream",
          "name": "stdout",
          "text": [
            "<class 'pandas.core.frame.DataFrame'>\n",
            "RangeIndex: 16737 entries, 0 to 16736\n",
            "Data columns (total 13 columns):\n",
            " #   Column                       Non-Null Count  Dtype \n",
            "---  ------                       --------------  ----- \n",
            " 0   anno                         16737 non-null  object\n",
            " 1   codice_ats_residenza         16737 non-null  object\n",
            " 2   descrizione_ats_residenza    16737 non-null  object\n",
            " 3   coordinata_geografica_x      16737 non-null  object\n",
            " 4   coordinata_geografica_y      16737 non-null  object\n",
            " 5   posizione_ats                16737 non-null  object\n",
            " 6   codice_acc_di_diagnosi       16737 non-null  object\n",
            " 7   descrizione_acc_di_diagnosi  16737 non-null  object\n",
            " 8   tasso_ricoveri_stessa_ats    16737 non-null  object\n",
            " 9   tasso_ricoveri_altra_ats     16737 non-null  object\n",
            " 10  :@computed_region_ttgh_9sm5  16737 non-null  object\n",
            " 11  :@computed_region_6hky_swhk  16737 non-null  object\n",
            " 12  :@computed_region_af5v_nc64  16737 non-null  object\n",
            "dtypes: object(13)\n",
            "memory usage: 1.7+ MB\n"
          ]
        }
      ]
    },
    {
      "cell_type": "markdown",
      "metadata": {
        "id": "E7i8WAZmf_1a"
      },
      "source": [
        "### Transformations to perform on the data"
      ]
    },
    {
      "cell_type": "code",
      "metadata": {
        "id": "zB8AT7sqhM8b"
      },
      "source": [
        "def rename_columns(df):\n",
        "  df.rename(columns={'anno':'ANNO',\n",
        "                     'codice_ats_residenza': 'COD_ATS',\n",
        "                     'coordinata_geografica_x':'COORDINATA_X',\n",
        "                     'coordinata_geografica_y':'COORDINATA_Y',\n",
        "                     'codice_acc_di_diagnosi': 'COD_ACC_DIAGNOSI',\n",
        "                     'tasso_ricoveri_stessa_ats': 'TASSO_RICOVERI_STESSA_ATS',\n",
        "                     'tasso_ricoveri_altra_ats': 'TASSO_RICOVERI_ALTRA_ATS'},inplace=True)\n",
        "  return df\n",
        "#------------------------------------------------------------------------------------------------------------------------------------------ \n",
        "def drop_columns(df):\n",
        "  df.drop(columns = ['descrizione_ats_residenza',\n",
        "                     'posizione_ats',\n",
        "                     ':@computed_region_ttgh_9sm5',\n",
        "                     ':@computed_region_6hky_swhk',\n",
        "                     ':@computed_region_af5v_nc64'\n",
        "                     ],inplace=True)\n",
        "  return df"
      ],
      "execution_count": 233,
      "outputs": []
    },
    {
      "cell_type": "code",
      "metadata": {
        "colab": {
          "base_uri": "https://localhost:8080/",
          "height": 483
        },
        "id": "utIRVnR5gAkh",
        "outputId": "63bc70d2-75c0-4446-ee1c-be77ba3fd7a9"
      },
      "source": [
        "rename_columns(df_ats_assistance)\n",
        "drop_columns(df_ats_assistance)"
      ],
      "execution_count": 234,
      "outputs": [
        {
          "output_type": "execute_result",
          "data": {
            "text/html": [
              "<div>\n",
              "<style scoped>\n",
              "    .dataframe tbody tr th:only-of-type {\n",
              "        vertical-align: middle;\n",
              "    }\n",
              "\n",
              "    .dataframe tbody tr th {\n",
              "        vertical-align: top;\n",
              "    }\n",
              "\n",
              "    .dataframe thead th {\n",
              "        text-align: right;\n",
              "    }\n",
              "</style>\n",
              "<table border=\"1\" class=\"dataframe\">\n",
              "  <thead>\n",
              "    <tr style=\"text-align: right;\">\n",
              "      <th></th>\n",
              "      <th></th>\n",
              "      <th></th>\n",
              "      <th>COORDINATA_X</th>\n",
              "      <th>COORDINATA_Y</th>\n",
              "      <th>descrizione_acc_di_diagnosi</th>\n",
              "      <th>TASSO_RICOVERI_STESSA_ATS</th>\n",
              "      <th>TASSO_RICOVERI_ALTRA_ATS</th>\n",
              "    </tr>\n",
              "    <tr>\n",
              "      <th>ANNO</th>\n",
              "      <th>COD_ATS</th>\n",
              "      <th>COD_ACC_DIAGNOSI</th>\n",
              "      <th></th>\n",
              "      <th></th>\n",
              "      <th></th>\n",
              "      <th></th>\n",
              "      <th></th>\n",
              "    </tr>\n",
              "  </thead>\n",
              "  <tbody>\n",
              "    <tr>\n",
              "      <th>2014</th>\n",
              "      <th>324</th>\n",
              "      <th>128</th>\n",
              "      <td>9.298423314</td>\n",
              "      <td>45.69919245</td>\n",
              "      <td>ASMA</td>\n",
              "      <td>0.0</td>\n",
              "      <td>0.36892458483520535</td>\n",
              "    </tr>\n",
              "    <tr>\n",
              "      <th>2013</th>\n",
              "      <th>323</th>\n",
              "      <th>4</th>\n",
              "      <td>10.32968894</td>\n",
              "      <td>46.33431031</td>\n",
              "      <td>MICOSI</td>\n",
              "      <td>0.0</td>\n",
              "      <td>0.035604716438104166</td>\n",
              "    </tr>\n",
              "    <tr>\n",
              "      <th rowspan=\"2\" valign=\"top\">2015</th>\n",
              "      <th>325</th>\n",
              "      <th>88</th>\n",
              "      <td>9.63853045</td>\n",
              "      <td>45.68701679</td>\n",
              "      <td>GLAUCOMA</td>\n",
              "      <td>0.0</td>\n",
              "      <td>0.11092543375902847</td>\n",
              "    </tr>\n",
              "    <tr>\n",
              "      <th>326</th>\n",
              "      <th>39</th>\n",
              "      <td>10.25368782</td>\n",
              "      <td>45.65171815</td>\n",
              "      <td>LEUCEMIE</td>\n",
              "      <td>0.0</td>\n",
              "      <td>0.17010908459834068</td>\n",
              "    </tr>\n",
              "    <tr>\n",
              "      <th>2012</th>\n",
              "      <th>325</th>\n",
              "      <th>123</th>\n",
              "      <td>9.63853045</td>\n",
              "      <td>45.68701679</td>\n",
              "      <td>INFLUENZA</td>\n",
              "      <td>0.0</td>\n",
              "      <td>0.0174810698414743</td>\n",
              "    </tr>\n",
              "    <tr>\n",
              "      <th>...</th>\n",
              "      <th>...</th>\n",
              "      <th>...</th>\n",
              "      <td>...</td>\n",
              "      <td>...</td>\n",
              "      <td>...</td>\n",
              "      <td>...</td>\n",
              "      <td>...</td>\n",
              "    </tr>\n",
              "    <tr>\n",
              "      <th rowspan=\"3\" valign=\"top\">2017</th>\n",
              "      <th>321</th>\n",
              "      <th>130</th>\n",
              "      <td>9.198811423</td>\n",
              "      <td>45.44410928</td>\n",
              "      <td>PLEURITE, PNEUMOTORACE, COLLASSO POLMONARE</td>\n",
              "      <td>0.41159795436686863</td>\n",
              "      <td>0.0345173760180813</td>\n",
              "    </tr>\n",
              "    <tr>\n",
              "      <th rowspan=\"2\" valign=\"top\">323</th>\n",
              "      <th>16</th>\n",
              "      <td>10.32968894</td>\n",
              "      <td>46.33431031</td>\n",
              "      <td>TUMORI MALIGNI DEL FEGATO E DEI DOTTI BILIARI INTRAEPATICI</td>\n",
              "      <td>0.18719080090921247</td>\n",
              "      <td>0.3416974937231656</td>\n",
              "    </tr>\n",
              "    <tr>\n",
              "      <th>56</th>\n",
              "      <td>10.32968894</td>\n",
              "      <td>46.33431031</td>\n",
              "      <td>FIBROSI CISTICA</td>\n",
              "      <td>0.0</td>\n",
              "      <td>0.026741542987030353</td>\n",
              "    </tr>\n",
              "    <tr>\n",
              "      <th>2016</th>\n",
              "      <th>326</th>\n",
              "      <th>9</th>\n",
              "      <td>10.25368782</td>\n",
              "      <td>45.65171815</td>\n",
              "      <td>MALATTIE SESSUALMENTE TRASMESSE (ESCLUSO HIV O EPATITE)</td>\n",
              "      <td>0.003438177697057006</td>\n",
              "      <td>0.0</td>\n",
              "    </tr>\n",
              "    <tr>\n",
              "      <th>2017</th>\n",
              "      <th>328</th>\n",
              "      <th>154</th>\n",
              "      <td>9.14034225</td>\n",
              "      <td>45.20086141</td>\n",
              "      <td>GASTROENTERITE NON INFETTIVA</td>\n",
              "      <td>0.19917734275496984</td>\n",
              "      <td>0.010963890426879074</td>\n",
              "    </tr>\n",
              "  </tbody>\n",
              "</table>\n",
              "<p>16737 rows × 5 columns</p>\n",
              "</div>"
            ],
            "text/plain": [
              "                              COORDINATA_X  ... TASSO_RICOVERI_ALTRA_ATS\n",
              "ANNO COD_ATS COD_ACC_DIAGNOSI               ...                         \n",
              "2014 324     128               9.298423314  ...      0.36892458483520535\n",
              "2013 323     4                 10.32968894  ...     0.035604716438104166\n",
              "2015 325     88                 9.63853045  ...      0.11092543375902847\n",
              "     326     39                10.25368782  ...      0.17010908459834068\n",
              "2012 325     123                9.63853045  ...       0.0174810698414743\n",
              "...                                    ...  ...                      ...\n",
              "2017 321     130               9.198811423  ...       0.0345173760180813\n",
              "     323     16                10.32968894  ...       0.3416974937231656\n",
              "             56                10.32968894  ...     0.026741542987030353\n",
              "2016 326     9                 10.25368782  ...                      0.0\n",
              "2017 328     154                9.14034225  ...     0.010963890426879074\n",
              "\n",
              "[16737 rows x 5 columns]"
            ]
          },
          "metadata": {},
          "execution_count": 234
        }
      ]
    },
    {
      "cell_type": "markdown",
      "metadata": {
        "id": "8a9n-CzSf6jv"
      },
      "source": [
        "### Loading"
      ]
    },
    {
      "cell_type": "code",
      "metadata": {
        "id": "W7tP6yeTwd6k"
      },
      "source": [
        ""
      ],
      "execution_count": null,
      "outputs": []
    },
    {
      "cell_type": "markdown",
      "metadata": {
        "id": "dS7YqHalO8Ku"
      },
      "source": [
        "## Performance degli Ospedali - Source: Azure SQL Database"
      ]
    },
    {
      "cell_type": "markdown",
      "metadata": {
        "id": "KZZfw-3MY6bq"
      },
      "source": [
        "### Data ingestion"
      ]
    },
    {
      "cell_type": "code",
      "metadata": {
        "id": "f5s37RNK_1Dx"
      },
      "source": [
        "def establish_db_connection():\n",
        "  server = \"airadav-work.database.windows.net\"\n",
        "  database = \"hospitalization-lombardy\"\n",
        "  username = \"admindav\"\n",
        "  password = \"Password01\"\n",
        "\n",
        "  driver = '{ODBC Driver 17 for SQL Server}'\n",
        "\n",
        "  odbc_str = 'DRIVER='+driver+';SERVER='+server+';PORT=1433;UID='+username+';DATABASE='+ database + ';PWD='+ password\n",
        "  connect_str = 'mssql+pyodbc:///?odbc_connect=' + urllib.parse.quote(odbc_str)\n",
        "  engine = create_engine(connect_str,echo = True)\n",
        "  return engine"
      ],
      "execution_count": 212,
      "outputs": []
    },
    {
      "cell_type": "code",
      "metadata": {
        "id": "P-5oRoRTGQDI",
        "colab": {
          "base_uri": "https://localhost:8080/"
        },
        "outputId": "1a87f1bf-2e01-468d-e0ad-b5b6dcd231b5"
      },
      "source": [
        "%time\n",
        "cxn= establish_db_connection()\n",
        "df_performance_hospital = pd.read_sql_query(\"SELECT * FROM dbo.EXT_PERFORMANCE_HOSPITAL\",con=cxn)\n",
        "cxn.dispose()"
      ],
      "execution_count": 214,
      "outputs": [
        {
          "output_type": "stream",
          "name": "stdout",
          "text": [
            "CPU times: user 3 µs, sys: 0 ns, total: 3 µs\n",
            "Wall time: 11.7 µs\n",
            "2021-11-14 17:19:00,061 INFO sqlalchemy.engine.Engine SELECT CAST(SERVERPROPERTY('ProductVersion') AS VARCHAR)\n",
            "2021-11-14 17:19:00,064 INFO sqlalchemy.engine.Engine [raw sql] ()\n",
            "2021-11-14 17:19:00,244 INFO sqlalchemy.engine.Engine SELECT schema_name()\n",
            "2021-11-14 17:19:00,246 INFO sqlalchemy.engine.Engine [generated in 0.00181s] ()\n",
            "2021-11-14 17:19:00,605 INFO sqlalchemy.engine.Engine SELECT CAST('test max support' AS NVARCHAR(max))\n",
            "2021-11-14 17:19:00,607 INFO sqlalchemy.engine.Engine [generated in 0.00182s] ()\n",
            "2021-11-14 17:19:00,962 INFO sqlalchemy.engine.Engine SELECT * FROM dbo.EXT_PERFORMANCE_HOSPITAL\n",
            "2021-11-14 17:19:00,964 INFO sqlalchemy.engine.Engine [raw sql] ()\n"
          ]
        }
      ]
    },
    {
      "cell_type": "code",
      "metadata": {
        "colab": {
          "base_uri": "https://localhost:8080/",
          "height": 292
        },
        "id": "lhlfrBSUQ4hm",
        "outputId": "d6244e7e-76fb-46c4-ee4a-e635e364f3b9"
      },
      "source": [
        "df_performance_hospital.head()"
      ],
      "execution_count": 197,
      "outputs": [
        {
          "output_type": "execute_result",
          "data": {
            "application/vnd.google.colaboratory.module+javascript": "\n      import \"https://ssl.gstatic.com/colaboratory/data_table/a6224c040fa35dcf/data_table.js\";\n\n      window.createDataTable({\n        data: [[{\n            'v': 0,\n            'f': \"0\",\n        },\n{\n            'v': 2010,\n            'f': \"2010\",\n        },\n\"030004-00\",\n\"OSPEDALE DI CIRCOLO - BUSTO ARSIZIO\",\n{\n            'v': 23103,\n            'f': \"23103\",\n        },\n{\n            'v': 38,\n            'f': \"38\",\n        },\n{\n            'v': 8348,\n            'f': \"8348\",\n        },\n{\n            'v': 22,\n            'f': \"22\",\n        },\n{\n            'v': 862,\n            'f': \"862\",\n        },\n{\n            'v': 49.0,\n            'f': \"49.0\",\n        },\n{\n            'v': 3706,\n            'f': \"3706\",\n        }],\n [{\n            'v': 1,\n            'f': \"1\",\n        },\n{\n            'v': 2010,\n            'f': \"2010\",\n        },\n\"030006-00\",\n\"OSP. S. ANTONIO ABATE - GALLARATE\",\n{\n            'v': 18719,\n            'f': \"18719\",\n        },\n{\n            'v': 83,\n            'f': \"83\",\n        },\n{\n            'v': 7416,\n            'f': \"7416\",\n        },\n{\n            'v': 55,\n            'f': \"55\",\n        },\n{\n            'v': 566,\n            'f': \"566\",\n        },\n{\n            'v': 30.0,\n            'f': \"30.0\",\n        },\n{\n            'v': 2662,\n            'f': \"2662\",\n        }],\n [{\n            'v': 2,\n            'f': \"2\",\n        },\n{\n            'v': 2010,\n            'f': \"2010\",\n        },\n\"030008-00\",\n\"OSP. GENERALE PROVINCIALE - SARONNO\",\n{\n            'v': 15559,\n            'f': \"15559\",\n        },\n{\n            'v': 71,\n            'f': \"71\",\n        },\n{\n            'v': 7006,\n            'f': \"7006\",\n        },\n{\n            'v': 24,\n            'f': \"24\",\n        },\n{\n            'v': 645,\n            'f': \"645\",\n        },\n{\n            'v': 50.0,\n            'f': \"50.0\",\n        },\n{\n            'v': 2501,\n            'f': \"2501\",\n        }],\n [{\n            'v': 3,\n            'f': \"3\",\n        },\n{\n            'v': 2010,\n            'f': \"2010\",\n        },\n\"030009-00\",\n\"OSP. CIRCOLO A.BELLINI - SOMMA LOMBARDO\",\n{\n            'v': 2858,\n            'f': \"2858\",\n        },\n{\n            'v': 14,\n            'f': \"14\",\n        },\n{\n            'v': 1012,\n            'f': \"1012\",\n        },\n{\n            'v': 4,\n            'f': \"4\",\n        },\n{\n            'v': 35,\n            'f': \"35\",\n        },\n{\n            'v': 0.0,\n            'f': \"0.0\",\n        },\n{\n            'v': 2,\n            'f': \"2\",\n        }],\n [{\n            'v': 4,\n            'f': \"4\",\n        },\n{\n            'v': 2010,\n            'f': \"2010\",\n        },\n\"030010-00\",\n\"OSPEDALE DI CIRCOLO GALMARINI - TRADATE\",\n{\n            'v': 10640,\n            'f': \"10640\",\n        },\n{\n            'v': 22,\n            'f': \"22\",\n        },\n{\n            'v': 4124,\n            'f': \"4124\",\n        },\n{\n            'v': 18,\n            'f': \"18\",\n        },\n{\n            'v': 326,\n            'f': \"326\",\n        },\n{\n            'v': 11.0,\n            'f': \"11.0\",\n        },\n{\n            'v': 2049,\n            'f': \"2049\",\n        }]],\n        columns: [[\"number\", \"index\"], [\"number\", \"PERIODO\"], [\"string\", \"CODICE_STRUTTURA\"], [\"string\", \"DENOMINAZIONE_STRUTTURA\"], [\"number\", \"NUM_TOTALE_RICOVERI\"], [\"number\", \"NUM_DIMISSIONI_VOLONTARIE\"], [\"number\", \"NUM_TOTALE_DIMISSIONI\"], [\"number\", \"NUM_TRASFERIMENTI_FRA_STRUTTURE\"], [\"number\", \"NUM_RICOVERI_RIPETUTI\"], [\"number\", \"NUM_RITORNI_IN_SALA_OPERATORIA\"], [\"number\", \"NUM_DI_RICOVERI_DI_TIPO_CHIRURGICO\"]],\n        columnOptions: [{\"width\": \"1px\", \"className\": \"index_column\"}],\n        rowsPerPage: 25,\n        helpUrl: \"https://colab.research.google.com/notebooks/data_table.ipynb\",\n        suppressOutputScrolling: true,\n        minimumWidth: undefined,\n      });\n    ",
            "text/html": [
              "<div>\n",
              "<style scoped>\n",
              "    .dataframe tbody tr th:only-of-type {\n",
              "        vertical-align: middle;\n",
              "    }\n",
              "\n",
              "    .dataframe tbody tr th {\n",
              "        vertical-align: top;\n",
              "    }\n",
              "\n",
              "    .dataframe thead th {\n",
              "        text-align: right;\n",
              "    }\n",
              "</style>\n",
              "<table border=\"1\" class=\"dataframe\">\n",
              "  <thead>\n",
              "    <tr style=\"text-align: right;\">\n",
              "      <th></th>\n",
              "      <th>PERIODO</th>\n",
              "      <th>CODICE_STRUTTURA</th>\n",
              "      <th>DENOMINAZIONE_STRUTTURA</th>\n",
              "      <th>NUM_TOTALE_RICOVERI</th>\n",
              "      <th>NUM_DIMISSIONI_VOLONTARIE</th>\n",
              "      <th>NUM_TOTALE_DIMISSIONI</th>\n",
              "      <th>NUM_TRASFERIMENTI_FRA_STRUTTURE</th>\n",
              "      <th>NUM_RICOVERI_RIPETUTI</th>\n",
              "      <th>NUM_RITORNI_IN_SALA_OPERATORIA</th>\n",
              "      <th>NUM_DI_RICOVERI_DI_TIPO_CHIRURGICO</th>\n",
              "    </tr>\n",
              "  </thead>\n",
              "  <tbody>\n",
              "    <tr>\n",
              "      <th>0</th>\n",
              "      <td>2010</td>\n",
              "      <td>030004-00</td>\n",
              "      <td>OSPEDALE DI CIRCOLO - BUSTO ARSIZIO</td>\n",
              "      <td>23103</td>\n",
              "      <td>38</td>\n",
              "      <td>8348</td>\n",
              "      <td>22</td>\n",
              "      <td>862</td>\n",
              "      <td>49.0</td>\n",
              "      <td>3706</td>\n",
              "    </tr>\n",
              "    <tr>\n",
              "      <th>1</th>\n",
              "      <td>2010</td>\n",
              "      <td>030006-00</td>\n",
              "      <td>OSP. S. ANTONIO ABATE - GALLARATE</td>\n",
              "      <td>18719</td>\n",
              "      <td>83</td>\n",
              "      <td>7416</td>\n",
              "      <td>55</td>\n",
              "      <td>566</td>\n",
              "      <td>30.0</td>\n",
              "      <td>2662</td>\n",
              "    </tr>\n",
              "    <tr>\n",
              "      <th>2</th>\n",
              "      <td>2010</td>\n",
              "      <td>030008-00</td>\n",
              "      <td>OSP. GENERALE PROVINCIALE - SARONNO</td>\n",
              "      <td>15559</td>\n",
              "      <td>71</td>\n",
              "      <td>7006</td>\n",
              "      <td>24</td>\n",
              "      <td>645</td>\n",
              "      <td>50.0</td>\n",
              "      <td>2501</td>\n",
              "    </tr>\n",
              "    <tr>\n",
              "      <th>3</th>\n",
              "      <td>2010</td>\n",
              "      <td>030009-00</td>\n",
              "      <td>OSP. CIRCOLO A.BELLINI - SOMMA LOMBARDO</td>\n",
              "      <td>2858</td>\n",
              "      <td>14</td>\n",
              "      <td>1012</td>\n",
              "      <td>4</td>\n",
              "      <td>35</td>\n",
              "      <td>0.0</td>\n",
              "      <td>2</td>\n",
              "    </tr>\n",
              "    <tr>\n",
              "      <th>4</th>\n",
              "      <td>2010</td>\n",
              "      <td>030010-00</td>\n",
              "      <td>OSPEDALE DI CIRCOLO GALMARINI - TRADATE</td>\n",
              "      <td>10640</td>\n",
              "      <td>22</td>\n",
              "      <td>4124</td>\n",
              "      <td>18</td>\n",
              "      <td>326</td>\n",
              "      <td>11.0</td>\n",
              "      <td>2049</td>\n",
              "    </tr>\n",
              "  </tbody>\n",
              "</table>\n",
              "</div>"
            ],
            "text/plain": [
              "   PERIODO  ... NUM_DI_RICOVERI_DI_TIPO_CHIRURGICO\n",
              "0     2010  ...                               3706\n",
              "1     2010  ...                               2662\n",
              "2     2010  ...                               2501\n",
              "3     2010  ...                                  2\n",
              "4     2010  ...                               2049\n",
              "\n",
              "[5 rows x 10 columns]"
            ]
          },
          "metadata": {},
          "execution_count": 197
        }
      ]
    },
    {
      "cell_type": "markdown",
      "metadata": {
        "id": "uHeSAtQnvH3L"
      },
      "source": [
        "[Modello di valutazione performance ospdealiera](http://www.archiviodocumenti.info/download/Manuale%20Modello%20Valutazione.pdf)\n",
        "\n",
        "\n",
        "Possiamo fare una valutazione KPI Ospedale vs AVG del totale\n",
        "\n",
        "##### Valutazione performance EX POST\n",
        "---\n",
        "\n",
        "KPI: NUM_RITORNI_IN_SALA_OPERATORIA/NUM_TOTALE_RICOVERI_DI_TIPO_CHIRURGICO\n",
        "Questo indicatore può evidenziare problemi in termini di efficacia degli interventi chirurgici erogati dalla struttura.\n",
        "\n",
        "---\n",
        "\n",
        "KPI: NUM_TOTALE_RICOVERI_RIPETUTI/ NUM_TOTALE_RICOVERI\n",
        "\n",
        "Questo indicatore può evidenziare o la tendenza a frammentare i processi di erogazione delle cure o problemi in termini di efficacia delle stesse.\n",
        "\n",
        "---\n",
        "\n",
        "KPI: NUM_TOTALE_DIMISSIONI_VOLONTARIE/ NUM_TOTALI_DIMISSIONI\n",
        "\n",
        "L’esperienza clinica quotidiana ci suggerisce che per la stragrande maggioranza i casi di dimissioni volontarie sono dovute a scelte di proseguire le cure presso altre strutture o di affidarsi a un clinico diverso dal primo con cui si viene a contatto. \n"
      ]
    },
    {
      "cell_type": "markdown",
      "metadata": {
        "id": "nzVKwD0cY43S"
      },
      "source": [
        "### Transformations to perform on the data"
      ]
    },
    {
      "cell_type": "code",
      "metadata": {
        "id": "rHgTDdP2Y481"
      },
      "source": [
        "def rename_columns(df):\n",
        "  df.rename(columns={'PERIODO': 'ANNO','CODICE_STRUTTURA':'COD_STRUTTURA'},inplace=True)\n",
        "  return df\n",
        "#------------------------------------------------------------------------------------------------------------------------------------------ \n",
        "def drop_columns(df):\n",
        "  df.drop(columns = ['DENOMINAZIONE_STRUTTURA'],inplace=True)\n",
        "  return df\n",
        "#------------------------------------------------------------------------------------------------------------------------------------------ \n",
        "def set_index_on_ds(df):\n",
        "  df.set_index(['ANNO','COD_STRUTTURA'],inplace=True)\n",
        "  return df"
      ],
      "execution_count": 207,
      "outputs": []
    },
    {
      "cell_type": "code",
      "metadata": {
        "colab": {
          "base_uri": "https://localhost:8080/",
          "height": 469
        },
        "id": "X3ICdGw4bN2g",
        "outputId": "275492ba-2f08-434e-cb69-2948404a3e14"
      },
      "source": [
        "rename_columns(df_performance_hospital)\n",
        "drop_columns(df_performance_hospital)\n",
        "set_index_on_ds(df_performance_hospital)"
      ],
      "execution_count": 216,
      "outputs": [
        {
          "output_type": "execute_result",
          "data": {
            "text/html": [
              "<div>\n",
              "<style scoped>\n",
              "    .dataframe tbody tr th:only-of-type {\n",
              "        vertical-align: middle;\n",
              "    }\n",
              "\n",
              "    .dataframe tbody tr th {\n",
              "        vertical-align: top;\n",
              "    }\n",
              "\n",
              "    .dataframe thead th {\n",
              "        text-align: right;\n",
              "    }\n",
              "</style>\n",
              "<table border=\"1\" class=\"dataframe\">\n",
              "  <thead>\n",
              "    <tr style=\"text-align: right;\">\n",
              "      <th></th>\n",
              "      <th></th>\n",
              "      <th>NUM_TOTALE_RICOVERI</th>\n",
              "      <th>NUM_DIMISSIONI_VOLONTARIE</th>\n",
              "      <th>NUM_TOTALE_DIMISSIONI</th>\n",
              "      <th>NUM_TRASFERIMENTI_FRA_STRUTTURE</th>\n",
              "      <th>NUM_RICOVERI_RIPETUTI</th>\n",
              "      <th>NUM_RITORNI_IN_SALA_OPERATORIA</th>\n",
              "      <th>NUM_DI_RICOVERI_DI_TIPO_CHIRURGICO</th>\n",
              "    </tr>\n",
              "    <tr>\n",
              "      <th>ANNO</th>\n",
              "      <th>COD_STRUTTURA</th>\n",
              "      <th></th>\n",
              "      <th></th>\n",
              "      <th></th>\n",
              "      <th></th>\n",
              "      <th></th>\n",
              "      <th></th>\n",
              "      <th></th>\n",
              "    </tr>\n",
              "  </thead>\n",
              "  <tbody>\n",
              "    <tr>\n",
              "      <th rowspan=\"5\" valign=\"top\">2010</th>\n",
              "      <th>030004-00</th>\n",
              "      <td>23103</td>\n",
              "      <td>38</td>\n",
              "      <td>8348</td>\n",
              "      <td>22</td>\n",
              "      <td>862</td>\n",
              "      <td>49.0</td>\n",
              "      <td>3706</td>\n",
              "    </tr>\n",
              "    <tr>\n",
              "      <th>030006-00</th>\n",
              "      <td>18719</td>\n",
              "      <td>83</td>\n",
              "      <td>7416</td>\n",
              "      <td>55</td>\n",
              "      <td>566</td>\n",
              "      <td>30.0</td>\n",
              "      <td>2662</td>\n",
              "    </tr>\n",
              "    <tr>\n",
              "      <th>030008-00</th>\n",
              "      <td>15559</td>\n",
              "      <td>71</td>\n",
              "      <td>7006</td>\n",
              "      <td>24</td>\n",
              "      <td>645</td>\n",
              "      <td>50.0</td>\n",
              "      <td>2501</td>\n",
              "    </tr>\n",
              "    <tr>\n",
              "      <th>030009-00</th>\n",
              "      <td>2858</td>\n",
              "      <td>14</td>\n",
              "      <td>1012</td>\n",
              "      <td>4</td>\n",
              "      <td>35</td>\n",
              "      <td>0.0</td>\n",
              "      <td>2</td>\n",
              "    </tr>\n",
              "    <tr>\n",
              "      <th>030010-00</th>\n",
              "      <td>10640</td>\n",
              "      <td>22</td>\n",
              "      <td>4124</td>\n",
              "      <td>18</td>\n",
              "      <td>326</td>\n",
              "      <td>11.0</td>\n",
              "      <td>2049</td>\n",
              "    </tr>\n",
              "    <tr>\n",
              "      <th>...</th>\n",
              "      <th>...</th>\n",
              "      <td>...</td>\n",
              "      <td>...</td>\n",
              "      <td>...</td>\n",
              "      <td>...</td>\n",
              "      <td>...</td>\n",
              "      <td>...</td>\n",
              "      <td>...</td>\n",
              "    </tr>\n",
              "    <tr>\n",
              "      <th rowspan=\"5\" valign=\"top\">2019</th>\n",
              "      <th>030131-00</th>\n",
              "      <td>12602</td>\n",
              "      <td>49</td>\n",
              "      <td>6049</td>\n",
              "      <td>19</td>\n",
              "      <td>561</td>\n",
              "      <td>67.0</td>\n",
              "      <td>2988</td>\n",
              "    </tr>\n",
              "    <tr>\n",
              "      <th>030367-00</th>\n",
              "      <td>13446</td>\n",
              "      <td>9</td>\n",
              "      <td>2493</td>\n",
              "      <td>24</td>\n",
              "      <td>189</td>\n",
              "      <td>10.0</td>\n",
              "      <td>1196</td>\n",
              "    </tr>\n",
              "    <tr>\n",
              "      <th>030949-00</th>\n",
              "      <td>2436</td>\n",
              "      <td>0</td>\n",
              "      <td>270</td>\n",
              "      <td>4</td>\n",
              "      <td>24</td>\n",
              "      <td>NaN</td>\n",
              "      <td>0</td>\n",
              "    </tr>\n",
              "    <tr>\n",
              "      <th>030035-00</th>\n",
              "      <td>3202</td>\n",
              "      <td>0</td>\n",
              "      <td>1516</td>\n",
              "      <td>0</td>\n",
              "      <td>26</td>\n",
              "      <td>2.0</td>\n",
              "      <td>1474</td>\n",
              "    </tr>\n",
              "    <tr>\n",
              "      <th>030383-00</th>\n",
              "      <td>4374</td>\n",
              "      <td>23</td>\n",
              "      <td>2151</td>\n",
              "      <td>15</td>\n",
              "      <td>148</td>\n",
              "      <td>7.0</td>\n",
              "      <td>574</td>\n",
              "    </tr>\n",
              "  </tbody>\n",
              "</table>\n",
              "<p>1377 rows × 7 columns</p>\n",
              "</div>"
            ],
            "text/plain": [
              "                    NUM_TOTALE_RICOVERI  ...  NUM_DI_RICOVERI_DI_TIPO_CHIRURGICO\n",
              "ANNO COD_STRUTTURA                       ...                                    \n",
              "2010 030004-00                    23103  ...                                3706\n",
              "     030006-00                    18719  ...                                2662\n",
              "     030008-00                    15559  ...                                2501\n",
              "     030009-00                     2858  ...                                   2\n",
              "     030010-00                    10640  ...                                2049\n",
              "...                                 ...  ...                                 ...\n",
              "2019 030131-00                    12602  ...                                2988\n",
              "     030367-00                    13446  ...                                1196\n",
              "     030949-00                     2436  ...                                   0\n",
              "     030035-00                     3202  ...                                1474\n",
              "     030383-00                     4374  ...                                 574\n",
              "\n",
              "[1377 rows x 7 columns]"
            ]
          },
          "metadata": {},
          "execution_count": 216
        }
      ]
    },
    {
      "cell_type": "markdown",
      "metadata": {
        "id": "JITkg1jVasBW"
      },
      "source": [
        "### Loading"
      ]
    },
    {
      "cell_type": "code",
      "metadata": {
        "colab": {
          "base_uri": "https://localhost:8080/"
        },
        "id": "nhGQRIptaqgk",
        "outputId": "a976b7a5-aa98-4e53-8920-099dfe63bf64"
      },
      "source": [
        "#Write data into the table in AZURE SQL Server database\n",
        "%time\n",
        "cxn= establish_db_connection()\n",
        "df_performance_hospital.to_sql('WRH_PERFORMANCE_HOSPITAL',cxn,if_exists = 'append')\n",
        "cxn.dispose()"
      ],
      "execution_count": 217,
      "outputs": [
        {
          "output_type": "stream",
          "name": "stdout",
          "text": [
            "CPU times: user 2 µs, sys: 1e+03 ns, total: 3 µs\n",
            "Wall time: 6.44 µs\n",
            "2021-11-14 17:20:12,915 INFO sqlalchemy.engine.Engine SELECT CAST(SERVERPROPERTY('ProductVersion') AS VARCHAR)\n",
            "2021-11-14 17:20:12,918 INFO sqlalchemy.engine.Engine [raw sql] ()\n",
            "2021-11-14 17:20:13,098 INFO sqlalchemy.engine.Engine SELECT schema_name()\n",
            "2021-11-14 17:20:13,100 INFO sqlalchemy.engine.Engine [generated in 0.00151s] ()\n",
            "2021-11-14 17:20:13,453 INFO sqlalchemy.engine.Engine SELECT CAST('test max support' AS NVARCHAR(max))\n",
            "2021-11-14 17:20:13,455 INFO sqlalchemy.engine.Engine [generated in 0.00183s] ()\n",
            "2021-11-14 17:20:13,812 INFO sqlalchemy.engine.Engine SELECT [INFORMATION_SCHEMA].[TABLES].[TABLE_NAME] \n",
            "FROM [INFORMATION_SCHEMA].[TABLES] \n",
            "WHERE [INFORMATION_SCHEMA].[TABLES].[TABLE_TYPE] = CAST(? AS NVARCHAR(max)) AND [INFORMATION_SCHEMA].[TABLES].[TABLE_NAME] = CAST(? AS NVARCHAR(max)) AND [INFORMATION_SCHEMA].[TABLES].[TABLE_SCHEMA] = CAST(? AS NVARCHAR(max))\n",
            "2021-11-14 17:20:13,814 INFO sqlalchemy.engine.Engine [generated in 0.00183s] ('BASE TABLE', 'WRH_PERFORMANCE_HOSPITAL', 'dbo')\n",
            "2021-11-14 17:20:14,345 INFO sqlalchemy.engine.Engine BEGIN (implicit)\n",
            "2021-11-14 17:20:14,374 INFO sqlalchemy.engine.Engine INSERT INTO [WRH_PERFORMANCE_HOSPITAL] ([ANNO], [COD_STRUTTURA], [NUM_TOTALE_RICOVERI], [NUM_DIMISSIONI_VOLONTARIE], [NUM_TOTALE_DIMISSIONI], [NUM_TRASFERIMENTI_FRA_STRUTTURE], [NUM_RICOVERI_RIPETUTI], [NUM_RITORNI_IN_SALA_OPERATORIA], [NUM_DI_RICOVERI_DI_TIPO_CHIRURGICO]) VALUES (?, ?, ?, ?, ?, ?, ?, ?, ?)\n",
            "2021-11-14 17:20:14,375 INFO sqlalchemy.engine.Engine [generated in 0.02184s] ((2010, '030004-00', 23103, 38, 8348, 22, 862, 49.0, 3706), (2010, '030006-00', 18719, 83, 7416, 55, 566, 30.0, 2662), (2010, '030008-00', 15559, 71, 7006, 24, 645, 50.0, 2501), (2010, '030009-00', 2858, 14, 1012, 4, 35, 0.0, 2), (2010, '030010-00', 10640, 22, 4124, 18, 326, 11.0, 2049), (2010, '030012-00', 4612, 20, 2232, 15, 134, 4.0, 709), (2010, '030015-00', 6960, 5, 3232, 15, 183, 15.0, 2083), (2010, '030017-00', 7790, 19, 4295, 21, 308, 37.0, 2727)  ... displaying 10 of 1377 total bound parameter sets ...  (2019, '030035-00', 3202, 0, 1516, 0, 26, 2.0, 1474), (2019, '030383-00', 4374, 23, 2151, 15, 148, 7.0, 574))\n",
            "2021-11-14 17:24:16,879 INFO sqlalchemy.engine.Engine COMMIT\n",
            "2021-11-14 17:24:17,066 INFO sqlalchemy.engine.Engine SELECT [INFORMATION_SCHEMA].[TABLES].[TABLE_NAME] \n",
            "FROM [INFORMATION_SCHEMA].[TABLES] \n",
            "WHERE [INFORMATION_SCHEMA].[TABLES].[TABLE_SCHEMA] = CAST(? AS NVARCHAR(max)) AND [INFORMATION_SCHEMA].[TABLES].[TABLE_TYPE] = CAST(? AS NVARCHAR(max)) ORDER BY [INFORMATION_SCHEMA].[TABLES].[TABLE_NAME]\n",
            "2021-11-14 17:24:17,068 INFO sqlalchemy.engine.Engine [generated in 0.00227s] ('dbo', 'BASE TABLE')\n"
          ]
        }
      ]
    }
  ]
}